{
  "cells": [
    {
      "cell_type": "markdown",
      "metadata": {
        "id": "view-in-github",
        "colab_type": "text"
      },
      "source": [
        "<a href=\"https://colab.research.google.com/github/carolina-garay/AyVD_Grupo32/blob/SebastianOrmaechea-patch-1/Pr%C3%A1ctico2_Grupo32_Ejercicio1_SGO_v1.ipynb\" target=\"_parent\"><img src=\"https://colab.research.google.com/assets/colab-badge.svg\" alt=\"Open In Colab\"/></a>"
      ]
    },
    {
      "cell_type": "markdown",
      "id": "e0ff301b-5595-4a0b-a2b8-3d5609a0485d",
      "metadata": {
        "id": "e0ff301b-5595-4a0b-a2b8-3d5609a0485d"
      },
      "source": [
        "**Diplomatura en Ciencia de Datos, Aprendizaje Automático y sus Aplicaciones**\n",
        "\n",
        "**Exploración y Curación de Datos**\n",
        "\n",
        "*Edición 2022*\n",
        "\n",
        "----\n",
        "\n",
        "# Trabajo práctico entregable - parte 1\n",
        "\n",
        "En esta notebook se cargan dos conjuntos de datos. El primero es de la [la compentencia Kaggle](https://www.kaggle.com/dansbecker/melbourne-housing-snapshot) sobre estimación de precios de ventas de propiedades en Melbourne, Australia. El segundo es un conjunto de datos reducido producido por [DanB](https://www.kaggle.com/dansbecker) de Airbnb. Hay una copia en el servidor de la Universidad Nacional de Córdoba para facilitar su acceso remoto."
      ]
    },
    {
      "cell_type": "code",
      "execution_count": null,
      "id": "f5ac98f7-51f3-4f91-ac49-60ef5fe249be",
      "metadata": {
        "id": "f5ac98f7-51f3-4f91-ac49-60ef5fe249be",
        "colab": {
          "base_uri": "https://localhost:8080/",
          "height": 35
        },
        "outputId": "f52bda62-a24a-4d35-ac26-997707f35048"
      },
      "outputs": [
        {
          "output_type": "execute_result",
          "data": {
            "text/plain": [
              "'5.5.0'"
            ],
            "application/vnd.google.colaboratory.intrinsic+json": {
              "type": "string"
            }
          },
          "metadata": {},
          "execution_count": 19
        }
      ],
      "source": [
        "import matplotlib.pyplot as plt\n",
        "import numpy\n",
        "import pandas\n",
        "\n",
        "import seaborn\n",
        "seaborn.set_context('talk')\n",
        "\n",
        "#from decouple import config\n",
        "from sqlalchemy import create_engine, text\n",
        "import plotly\n",
        "plotly.__version__"
      ]
    },
    {
      "cell_type": "code",
      "source": [
        "# Formateamos las salidas de Python para que se muestren con 2 decimales\n",
        "pandas.options.display.float_format = '{:.2f}'.format"
      ],
      "metadata": {
        "id": "jxzymsG0dCNw"
      },
      "id": "jxzymsG0dCNw",
      "execution_count": null,
      "outputs": []
    },
    {
      "cell_type": "code",
      "execution_count": null,
      "id": "5ba8bfd5-199a-4390-a5b4-11ec9669b3e1",
      "metadata": {
        "id": "5ba8bfd5-199a-4390-a5b4-11ec9669b3e1",
        "outputId": "6476e622-5c88-45f9-c7d4-7950a81bae69",
        "colab": {
          "base_uri": "https://localhost:8080/"
        }
      },
      "outputs": [
        {
          "output_type": "execute_result",
          "data": {
            "text/plain": [
              "Index(['Suburb', 'Address', 'Rooms', 'Type', 'Price', 'Method', 'SellerG',\n",
              "       'Date', 'Distance', 'Postcode', 'Bedroom2', 'Bathroom', 'Car',\n",
              "       'Landsize', 'BuildingArea', 'YearBuilt', 'CouncilArea', 'Lattitude',\n",
              "       'Longtitude', 'Regionname', 'Propertycount'],\n",
              "      dtype='object')"
            ]
          },
          "metadata": {},
          "execution_count": 4
        }
      ],
      "source": [
        "# Obtenemos el dataframe del primer conjunto de datos y comenzamos exploración\n",
        "kaggle_df = pandas.read_csv(\n",
        "    'https://cs.famaf.unc.edu.ar/~mteruel/datasets/diplodatos/melb_data.csv')\n",
        "kaggle_df.columns"
      ]
    },
    {
      "cell_type": "code",
      "source": [
        "# Descargamos en el archivo csv en un archivo local para facilitar algunas exploraciones\n",
        "from google.colab import files\n",
        "kaggle_df.to_csv('kaggle_df.csv') \n",
        "files.download('kaggle_df.csv')"
      ],
      "metadata": {
        "id": "0DLQ7xU-vIc2"
      },
      "id": "0DLQ7xU-vIc2",
      "execution_count": null,
      "outputs": []
    },
    {
      "cell_type": "code",
      "source": [
        "kaggle_df['Suburb'].nunique()"
      ],
      "metadata": {
        "colab": {
          "base_uri": "https://localhost:8080/"
        },
        "id": "YwJ8t3FBxrT3",
        "outputId": "251ee1c6-ebe2-4681-d51e-4d8433575476"
      },
      "id": "YwJ8t3FBxrT3",
      "execution_count": null,
      "outputs": [
        {
          "output_type": "execute_result",
          "data": {
            "text/plain": [
              "314"
            ]
          },
          "metadata": {},
          "execution_count": 6
        }
      ]
    },
    {
      "cell_type": "code",
      "source": [
        "kaggle_df['Suburb'].value_counts().head()"
      ],
      "metadata": {
        "colab": {
          "base_uri": "https://localhost:8080/"
        },
        "id": "4JTYGFgTx4Ye",
        "outputId": "573a00e9-0524-4313-ebd7-d136c35ed7bf"
      },
      "id": "4JTYGFgTx4Ye",
      "execution_count": null,
      "outputs": [
        {
          "output_type": "execute_result",
          "data": {
            "text/plain": [
              "Reservoir         359\n",
              "Richmond          260\n",
              "Bentleigh East    249\n",
              "Preston           239\n",
              "Brunswick         222\n",
              "Name: Suburb, dtype: int64"
            ]
          },
          "metadata": {},
          "execution_count": 7
        }
      ]
    },
    {
      "cell_type": "code",
      "source": [
        "kaggle_df[\"CouncilArea\"].unique()"
      ],
      "metadata": {
        "colab": {
          "base_uri": "https://localhost:8080/"
        },
        "id": "wuGEBJ15eQxx",
        "outputId": "392376c6-a5d3-4bd3-d7d2-0f661aadfbaa"
      },
      "id": "wuGEBJ15eQxx",
      "execution_count": null,
      "outputs": [
        {
          "output_type": "execute_result",
          "data": {
            "text/plain": [
              "array(['Yarra', 'Moonee Valley', 'Port Phillip', 'Darebin', 'Hobsons Bay',\n",
              "       'Stonnington', 'Boroondara', 'Monash', 'Glen Eira', 'Whitehorse',\n",
              "       'Maribyrnong', 'Bayside', 'Moreland', 'Manningham', 'Banyule',\n",
              "       'Melbourne', 'Kingston', 'Brimbank', 'Hume', nan, 'Knox',\n",
              "       'Maroondah', 'Casey', 'Melton', 'Greater Dandenong', 'Nillumbik',\n",
              "       'Whittlesea', 'Frankston', 'Macedon Ranges', 'Yarra Ranges',\n",
              "       'Wyndham', 'Cardinia', 'Unavailable', 'Moorabool'], dtype=object)"
            ]
          },
          "metadata": {},
          "execution_count": 8
        }
      ]
    },
    {
      "cell_type": "code",
      "source": [
        "import plotly.express as px\n",
        "data = kaggle_df.sample(300)\n",
        "fig = px.scatter_geo(\n",
        "    data, lat=data.Lattitude, lon=data.Longtitude, color=data.Suburb\n",
        "    )\n",
        "fig.update_geos(fitbounds=\"locations\")\n",
        "fig.show()"
      ],
      "metadata": {
        "colab": {
          "base_uri": "https://localhost:8080/",
          "height": 542
        },
        "id": "Qbs7yI-M46zF",
        "outputId": "0a91fd3d-4ec4-4ad6-f301-e6afac907d1e"
      },
      "id": "Qbs7yI-M46zF",
      "execution_count": null,
      "outputs": [
        {
          "output_type": "display_data",
          "data": {
            "text/html": [
              "<html>\n",
              "<head><meta charset=\"utf-8\" /></head>\n",
              "<body>\n",
              "    <div>            <script src=\"https://cdnjs.cloudflare.com/ajax/libs/mathjax/2.7.5/MathJax.js?config=TeX-AMS-MML_SVG\"></script><script type=\"text/javascript\">if (window.MathJax) {MathJax.Hub.Config({SVG: {font: \"STIX-Web\"}});}</script>                <script type=\"text/javascript\">window.PlotlyConfig = {MathJaxConfig: 'local'};</script>\n",
              "        <script src=\"https://cdn.plot.ly/plotly-2.8.3.min.js\"></script>                <div id=\"4d3aabc0-4d00-458d-91c0-0aa8435a105a\" class=\"plotly-graph-div\" style=\"height:525px; width:100%;\"></div>            <script type=\"text/javascript\">                                    window.PLOTLYENV=window.PLOTLYENV || {};                                    if (document.getElementById(\"4d3aabc0-4d00-458d-91c0-0aa8435a105a\")) {                    Plotly.newPlot(                        \"4d3aabc0-4d00-458d-91c0-0aa8435a105a\",                        [{\"geo\":\"geo\",\"hovertemplate\":\"Suburb=Moonee Ponds<br>Lattitude=%{lat}<br>Longtitude=%{lon}<extra></extra>\",\"lat\":[-37.7704,-37.7677,-37.76389],\"legendgroup\":\"Moonee Ponds\",\"lon\":[144.9292,144.9221,144.9185],\"marker\":{\"color\":\"#636efa\",\"symbol\":\"circle\"},\"mode\":\"markers\",\"name\":\"Moonee Ponds\",\"showlegend\":true,\"type\":\"scattergeo\"},{\"geo\":\"geo\",\"hovertemplate\":\"Suburb=West Melbourne<br>Lattitude=%{lat}<br>Longtitude=%{lon}<extra></extra>\",\"lat\":[-37.8094,-37.80947000000001],\"legendgroup\":\"West Melbourne\",\"lon\":[144.9479,144.94473],\"marker\":{\"color\":\"#EF553B\",\"symbol\":\"circle\"},\"mode\":\"markers\",\"name\":\"West Melbourne\",\"showlegend\":true,\"type\":\"scattergeo\"},{\"geo\":\"geo\",\"hovertemplate\":\"Suburb=Reservoir<br>Lattitude=%{lat}<br>Longtitude=%{lon}<extra></extra>\",\"lat\":[-37.712,-37.7273,-37.7257,-37.7299,-37.7108,-37.7091,-37.71477,-37.709],\"legendgroup\":\"Reservoir\",\"lon\":[145.0205,145.0254,145.0243,145.0242,145.0156,145.0259,144.98235,145.02014],\"marker\":{\"color\":\"#00cc96\",\"symbol\":\"circle\"},\"mode\":\"markers\",\"name\":\"Reservoir\",\"showlegend\":true,\"type\":\"scattergeo\"},{\"geo\":\"geo\",\"hovertemplate\":\"Suburb=Abbotsford<br>Lattitude=%{lat}<br>Longtitude=%{lon}<extra></extra>\",\"lat\":[-37.801,-37.80094,-37.8022,-37.7994],\"legendgroup\":\"Abbotsford\",\"lon\":[144.9989,144.99569,144.9975,144.9965],\"marker\":{\"color\":\"#ab63fa\",\"symbol\":\"circle\"},\"mode\":\"markers\",\"name\":\"Abbotsford\",\"showlegend\":true,\"type\":\"scattergeo\"},{\"geo\":\"geo\",\"hovertemplate\":\"Suburb=Ivanhoe<br>Lattitude=%{lat}<br>Longtitude=%{lon}<extra></extra>\",\"lat\":[-37.7616,-37.75715,-37.7651,-37.7666,-37.7582],\"legendgroup\":\"Ivanhoe\",\"lon\":[145.0322,145.04965,145.03452,145.0356,145.034],\"marker\":{\"color\":\"#FFA15A\",\"symbol\":\"circle\"},\"mode\":\"markers\",\"name\":\"Ivanhoe\",\"showlegend\":true,\"type\":\"scattergeo\"},{\"geo\":\"geo\",\"hovertemplate\":\"Suburb=Carlton North<br>Lattitude=%{lat}<br>Longtitude=%{lon}<extra></extra>\",\"lat\":[-37.7871,-37.7885],\"legendgroup\":\"Carlton North\",\"lon\":[144.9766,144.9757],\"marker\":{\"color\":\"#19d3f3\",\"symbol\":\"circle\"},\"mode\":\"markers\",\"name\":\"Carlton North\",\"showlegend\":true,\"type\":\"scattergeo\"},{\"geo\":\"geo\",\"hovertemplate\":\"Suburb=South Melbourne<br>Lattitude=%{lat}<br>Longtitude=%{lon}<extra></extra>\",\"lat\":[-37.8331],\"legendgroup\":\"South Melbourne\",\"lon\":[144.9683],\"marker\":{\"color\":\"#FF6692\",\"symbol\":\"circle\"},\"mode\":\"markers\",\"name\":\"South Melbourne\",\"showlegend\":true,\"type\":\"scattergeo\"},{\"geo\":\"geo\",\"hovertemplate\":\"Suburb=Flemington<br>Lattitude=%{lat}<br>Longtitude=%{lon}<extra></extra>\",\"lat\":[-37.78358,-37.7856,-37.78696,-37.7838,-37.78128],\"legendgroup\":\"Flemington\",\"lon\":[144.92927,144.9292,144.92556000000005,144.9273,144.92325],\"marker\":{\"color\":\"#B6E880\",\"symbol\":\"circle\"},\"mode\":\"markers\",\"name\":\"Flemington\",\"showlegend\":true,\"type\":\"scattergeo\"},{\"geo\":\"geo\",\"hovertemplate\":\"Suburb=Chadstone<br>Lattitude=%{lat}<br>Longtitude=%{lon}<extra></extra>\",\"lat\":[-37.8824,-37.8801],\"legendgroup\":\"Chadstone\",\"lon\":[145.1042,145.1051],\"marker\":{\"color\":\"#FF97FF\",\"symbol\":\"circle\"},\"mode\":\"markers\",\"name\":\"Chadstone\",\"showlegend\":true,\"type\":\"scattergeo\"},{\"geo\":\"geo\",\"hovertemplate\":\"Suburb=Heidelberg<br>Lattitude=%{lat}<br>Longtitude=%{lon}<extra></extra>\",\"lat\":[-37.75715],\"legendgroup\":\"Heidelberg\",\"lon\":[145.06463],\"marker\":{\"color\":\"#FECB52\",\"symbol\":\"circle\"},\"mode\":\"markers\",\"name\":\"Heidelberg\",\"showlegend\":true,\"type\":\"scattergeo\"},{\"geo\":\"geo\",\"hovertemplate\":\"Suburb=Parkville<br>Lattitude=%{lat}<br>Longtitude=%{lon}<extra></extra>\",\"lat\":[-37.7959,-37.7818],\"legendgroup\":\"Parkville\",\"lon\":[144.9569,144.9576],\"marker\":{\"color\":\"#636efa\",\"symbol\":\"circle\"},\"mode\":\"markers\",\"name\":\"Parkville\",\"showlegend\":true,\"type\":\"scattergeo\"},{\"geo\":\"geo\",\"hovertemplate\":\"Suburb=Pascoe Vale<br>Lattitude=%{lat}<br>Longtitude=%{lon}<extra></extra>\",\"lat\":[-37.7283,-37.7168,-37.717,-37.73058],\"legendgroup\":\"Pascoe Vale\",\"lon\":[144.9356,144.9329,144.9509,144.9353],\"marker\":{\"color\":\"#EF553B\",\"symbol\":\"circle\"},\"mode\":\"markers\",\"name\":\"Pascoe Vale\",\"showlegend\":true,\"type\":\"scattergeo\"},{\"geo\":\"geo\",\"hovertemplate\":\"Suburb=Gladstone Park<br>Lattitude=%{lat}<br>Longtitude=%{lon}<extra></extra>\",\"lat\":[-37.68329],\"legendgroup\":\"Gladstone Park\",\"lon\":[144.89302],\"marker\":{\"color\":\"#00cc96\",\"symbol\":\"circle\"},\"mode\":\"markers\",\"name\":\"Gladstone Park\",\"showlegend\":true,\"type\":\"scattergeo\"},{\"geo\":\"geo\",\"hovertemplate\":\"Suburb=Williamstown<br>Lattitude=%{lat}<br>Longtitude=%{lon}<extra></extra>\",\"lat\":[-37.8586,-37.8608,-37.8579,-37.8536],\"legendgroup\":\"Williamstown\",\"lon\":[144.8937,144.8803,144.8786,144.899],\"marker\":{\"color\":\"#ab63fa\",\"symbol\":\"circle\"},\"mode\":\"markers\",\"name\":\"Williamstown\",\"showlegend\":true,\"type\":\"scattergeo\"},{\"geo\":\"geo\",\"hovertemplate\":\"Suburb=Camberwell<br>Lattitude=%{lat}<br>Longtitude=%{lon}<extra></extra>\",\"lat\":[-37.847,-37.8427,-37.8303,-37.8406],\"legendgroup\":\"Camberwell\",\"lon\":[145.0672,145.0824,145.0668,145.0545],\"marker\":{\"color\":\"#FFA15A\",\"symbol\":\"circle\"},\"mode\":\"markers\",\"name\":\"Camberwell\",\"showlegend\":true,\"type\":\"scattergeo\"},{\"geo\":\"geo\",\"hovertemplate\":\"Suburb=Lalor<br>Lattitude=%{lat}<br>Longtitude=%{lon}<extra></extra>\",\"lat\":[-37.67024,-37.67328],\"legendgroup\":\"Lalor\",\"lon\":[145.03644,145.02918],\"marker\":{\"color\":\"#19d3f3\",\"symbol\":\"circle\"},\"mode\":\"markers\",\"name\":\"Lalor\",\"showlegend\":true,\"type\":\"scattergeo\"},{\"geo\":\"geo\",\"hovertemplate\":\"Suburb=Burwood<br>Lattitude=%{lat}<br>Longtitude=%{lon}<extra></extra>\",\"lat\":[-37.8474,-37.848,-37.8454],\"legendgroup\":\"Burwood\",\"lon\":[145.0988,145.09799999999996,145.0974],\"marker\":{\"color\":\"#FF6692\",\"symbol\":\"circle\"},\"mode\":\"markers\",\"name\":\"Burwood\",\"showlegend\":true,\"type\":\"scattergeo\"},{\"geo\":\"geo\",\"hovertemplate\":\"Suburb=Ormond<br>Lattitude=%{lat}<br>Longtitude=%{lon}<extra></extra>\",\"lat\":[-37.9018,-37.90164,-37.9051,-37.90491],\"legendgroup\":\"Ormond\",\"lon\":[145.0477,145.04138999999995,145.0473,145.04568],\"marker\":{\"color\":\"#B6E880\",\"symbol\":\"circle\"},\"mode\":\"markers\",\"name\":\"Ormond\",\"showlegend\":true,\"type\":\"scattergeo\"},{\"geo\":\"geo\",\"hovertemplate\":\"Suburb=Collingwood<br>Lattitude=%{lat}<br>Longtitude=%{lon}<extra></extra>\",\"lat\":[-37.796,-37.7953],\"legendgroup\":\"Collingwood\",\"lon\":[144.9911,144.9882],\"marker\":{\"color\":\"#FF97FF\",\"symbol\":\"circle\"},\"mode\":\"markers\",\"name\":\"Collingwood\",\"showlegend\":true,\"type\":\"scattergeo\"},{\"geo\":\"geo\",\"hovertemplate\":\"Suburb=Glen Huntly<br>Lattitude=%{lat}<br>Longtitude=%{lon}<extra></extra>\",\"lat\":[-37.8924],\"legendgroup\":\"Glen Huntly\",\"lon\":[145.0409],\"marker\":{\"color\":\"#FECB52\",\"symbol\":\"circle\"},\"mode\":\"markers\",\"name\":\"Glen Huntly\",\"showlegend\":true,\"type\":\"scattergeo\"},{\"geo\":\"geo\",\"hovertemplate\":\"Suburb=Doncaster<br>Lattitude=%{lat}<br>Longtitude=%{lon}<extra></extra>\",\"lat\":[-37.7739,-37.77744000000001,-37.77109,-37.7862],\"legendgroup\":\"Doncaster\",\"lon\":[145.1287,145.10416,145.1338,145.1235],\"marker\":{\"color\":\"#636efa\",\"symbol\":\"circle\"},\"mode\":\"markers\",\"name\":\"Doncaster\",\"showlegend\":true,\"type\":\"scattergeo\"},{\"geo\":\"geo\",\"hovertemplate\":\"Suburb=Kingsbury<br>Lattitude=%{lat}<br>Longtitude=%{lon}<extra></extra>\",\"lat\":[-37.7133],\"legendgroup\":\"Kingsbury\",\"lon\":[145.0374],\"marker\":{\"color\":\"#EF553B\",\"symbol\":\"circle\"},\"mode\":\"markers\",\"name\":\"Kingsbury\",\"showlegend\":true,\"type\":\"scattergeo\"},{\"geo\":\"geo\",\"hovertemplate\":\"Suburb=Alphington<br>Lattitude=%{lat}<br>Longtitude=%{lon}<extra></extra>\",\"lat\":[-37.7713,-37.77586],\"legendgroup\":\"Alphington\",\"lon\":[145.0279,145.03092],\"marker\":{\"color\":\"#00cc96\",\"symbol\":\"circle\"},\"mode\":\"markers\",\"name\":\"Alphington\",\"showlegend\":true,\"type\":\"scattergeo\"},{\"geo\":\"geo\",\"hovertemplate\":\"Suburb=Hawthorn<br>Lattitude=%{lat}<br>Longtitude=%{lon}<extra></extra>\",\"lat\":[-37.8272,-37.8142],\"legendgroup\":\"Hawthorn\",\"lon\":[145.0343,145.0308],\"marker\":{\"color\":\"#ab63fa\",\"symbol\":\"circle\"},\"mode\":\"markers\",\"name\":\"Hawthorn\",\"showlegend\":true,\"type\":\"scattergeo\"},{\"geo\":\"geo\",\"hovertemplate\":\"Suburb=West Footscray<br>Lattitude=%{lat}<br>Longtitude=%{lon}<extra></extra>\",\"lat\":[-37.7937,-37.7914],\"legendgroup\":\"West Footscray\",\"lon\":[144.8782,144.8742],\"marker\":{\"color\":\"#FFA15A\",\"symbol\":\"circle\"},\"mode\":\"markers\",\"name\":\"West Footscray\",\"showlegend\":true,\"type\":\"scattergeo\"},{\"geo\":\"geo\",\"hovertemplate\":\"Suburb=St Kilda<br>Lattitude=%{lat}<br>Longtitude=%{lon}<extra></extra>\",\"lat\":[-37.8714,-37.867,-37.861,-37.8571],\"legendgroup\":\"St Kilda\",\"lon\":[144.9802,144.991,144.9915,144.987],\"marker\":{\"color\":\"#19d3f3\",\"symbol\":\"circle\"},\"mode\":\"markers\",\"name\":\"St Kilda\",\"showlegend\":true,\"type\":\"scattergeo\"},{\"geo\":\"geo\",\"hovertemplate\":\"Suburb=Essendon<br>Lattitude=%{lat}<br>Longtitude=%{lon}<extra></extra>\",\"lat\":[-37.7514,-37.7582,-37.7517,-37.7491,-37.75515,-37.74212],\"legendgroup\":\"Essendon\",\"lon\":[144.8966,144.9128,144.9086,144.9002,144.92113999999995,144.89256],\"marker\":{\"color\":\"#FF6692\",\"symbol\":\"circle\"},\"mode\":\"markers\",\"name\":\"Essendon\",\"showlegend\":true,\"type\":\"scattergeo\"},{\"geo\":\"geo\",\"hovertemplate\":\"Suburb=Maribyrnong<br>Lattitude=%{lat}<br>Longtitude=%{lon}<extra></extra>\",\"lat\":[-37.7853,-37.773],\"legendgroup\":\"Maribyrnong\",\"lon\":[144.8972,144.8806],\"marker\":{\"color\":\"#B6E880\",\"symbol\":\"circle\"},\"mode\":\"markers\",\"name\":\"Maribyrnong\",\"showlegend\":true,\"type\":\"scattergeo\"},{\"geo\":\"geo\",\"hovertemplate\":\"Suburb=Caulfield North<br>Lattitude=%{lat}<br>Longtitude=%{lon}<extra></extra>\",\"lat\":[-37.8694],\"legendgroup\":\"Caulfield North\",\"lon\":[145.0246],\"marker\":{\"color\":\"#FF97FF\",\"symbol\":\"circle\"},\"mode\":\"markers\",\"name\":\"Caulfield North\",\"showlegend\":true,\"type\":\"scattergeo\"},{\"geo\":\"geo\",\"hovertemplate\":\"Suburb=Kew<br>Lattitude=%{lat}<br>Longtitude=%{lon}<extra></extra>\",\"lat\":[-37.8067,-37.7925,-37.8064],\"legendgroup\":\"Kew\",\"lon\":[145.0277,145.0263,145.0608],\"marker\":{\"color\":\"#FECB52\",\"symbol\":\"circle\"},\"mode\":\"markers\",\"name\":\"Kew\",\"showlegend\":true,\"type\":\"scattergeo\"},{\"geo\":\"geo\",\"hovertemplate\":\"Suburb=Seddon<br>Lattitude=%{lat}<br>Longtitude=%{lon}<extra></extra>\",\"lat\":[-37.8045,-37.80828],\"legendgroup\":\"Seddon\",\"lon\":[144.8898,144.8856],\"marker\":{\"color\":\"#636efa\",\"symbol\":\"circle\"},\"mode\":\"markers\",\"name\":\"Seddon\",\"showlegend\":true,\"type\":\"scattergeo\"},{\"geo\":\"geo\",\"hovertemplate\":\"Suburb=Coburg<br>Lattitude=%{lat}<br>Longtitude=%{lon}<extra></extra>\",\"lat\":[-37.7366,-37.7561,-37.7405,-37.735,-37.75296],\"legendgroup\":\"Coburg\",\"lon\":[144.9564,144.9718,144.9644,144.9589,144.95967],\"marker\":{\"color\":\"#EF553B\",\"symbol\":\"circle\"},\"mode\":\"markers\",\"name\":\"Coburg\",\"showlegend\":true,\"type\":\"scattergeo\"},{\"geo\":\"geo\",\"hovertemplate\":\"Suburb=Toorak<br>Lattitude=%{lat}<br>Longtitude=%{lon}<extra></extra>\",\"lat\":[-37.8435,-37.8493,-37.8384,-37.8349,-37.8424],\"legendgroup\":\"Toorak\",\"lon\":[145.0043,145.0134,145.0178,145.01,145.0184],\"marker\":{\"color\":\"#00cc96\",\"symbol\":\"circle\"},\"mode\":\"markers\",\"name\":\"Toorak\",\"showlegend\":true,\"type\":\"scattergeo\"},{\"geo\":\"geo\",\"hovertemplate\":\"Suburb=Brunswick<br>Lattitude=%{lat}<br>Longtitude=%{lon}<extra></extra>\",\"lat\":[-37.7728,-37.7687,-37.7581,-37.7577],\"legendgroup\":\"Brunswick\",\"lon\":[144.9639,144.9649,144.9678,144.9524],\"marker\":{\"color\":\"#ab63fa\",\"symbol\":\"circle\"},\"mode\":\"markers\",\"name\":\"Brunswick\",\"showlegend\":true,\"type\":\"scattergeo\"},{\"geo\":\"geo\",\"hovertemplate\":\"Suburb=Sunshine<br>Lattitude=%{lat}<br>Longtitude=%{lon}<extra></extra>\",\"lat\":[-37.7864,-37.7969,-37.7876],\"legendgroup\":\"Sunshine\",\"lon\":[144.8353,144.8276,144.8342],\"marker\":{\"color\":\"#FFA15A\",\"symbol\":\"circle\"},\"mode\":\"markers\",\"name\":\"Sunshine\",\"showlegend\":true,\"type\":\"scattergeo\"},{\"geo\":\"geo\",\"hovertemplate\":\"Suburb=Ivanhoe East<br>Lattitude=%{lat}<br>Longtitude=%{lon}<extra></extra>\",\"lat\":[-37.7767,-37.77345],\"legendgroup\":\"Ivanhoe East\",\"lon\":[145.0543,145.06098],\"marker\":{\"color\":\"#19d3f3\",\"symbol\":\"circle\"},\"mode\":\"markers\",\"name\":\"Ivanhoe East\",\"showlegend\":true,\"type\":\"scattergeo\"},{\"geo\":\"geo\",\"hovertemplate\":\"Suburb=Mill Park<br>Lattitude=%{lat}<br>Longtitude=%{lon}<extra></extra>\",\"lat\":[-37.65027],\"legendgroup\":\"Mill Park\",\"lon\":[145.06136],\"marker\":{\"color\":\"#FF6692\",\"symbol\":\"circle\"},\"mode\":\"markers\",\"name\":\"Mill Park\",\"showlegend\":true,\"type\":\"scattergeo\"},{\"geo\":\"geo\",\"hovertemplate\":\"Suburb=Hoppers Crossing<br>Lattitude=%{lat}<br>Longtitude=%{lon}<extra></extra>\",\"lat\":[-37.87498,-37.86659,-37.87185],\"legendgroup\":\"Hoppers Crossing\",\"lon\":[144.69617,144.69959,144.68931],\"marker\":{\"color\":\"#B6E880\",\"symbol\":\"circle\"},\"mode\":\"markers\",\"name\":\"Hoppers Crossing\",\"showlegend\":true,\"type\":\"scattergeo\"},{\"geo\":\"geo\",\"hovertemplate\":\"Suburb=Richmond<br>Lattitude=%{lat}<br>Longtitude=%{lon}<extra></extra>\",\"lat\":[-37.8126,-37.82488,-37.8166,-37.8207,-37.82009,-37.8231,-37.8147,-37.81186],\"legendgroup\":\"Richmond\",\"lon\":[145.004,145.00642,145.0036,145.0053,145.0038,144.9906,145.0084,144.99472],\"marker\":{\"color\":\"#FF97FF\",\"symbol\":\"circle\"},\"mode\":\"markers\",\"name\":\"Richmond\",\"showlegend\":true,\"type\":\"scattergeo\"},{\"geo\":\"geo\",\"hovertemplate\":\"Suburb=Sunshine North<br>Lattitude=%{lat}<br>Longtitude=%{lon}<extra></extra>\",\"lat\":[-37.76599,-37.7674],\"legendgroup\":\"Sunshine North\",\"lon\":[144.84445,144.82421000000005],\"marker\":{\"color\":\"#FECB52\",\"symbol\":\"circle\"},\"mode\":\"markers\",\"name\":\"Sunshine North\",\"showlegend\":true,\"type\":\"scattergeo\"},{\"geo\":\"geo\",\"hovertemplate\":\"Suburb=Sunshine West<br>Lattitude=%{lat}<br>Longtitude=%{lon}<extra></extra>\",\"lat\":[-37.8003,-37.7845],\"legendgroup\":\"Sunshine West\",\"lon\":[144.8097,144.8131],\"marker\":{\"color\":\"#636efa\",\"symbol\":\"circle\"},\"mode\":\"markers\",\"name\":\"Sunshine West\",\"showlegend\":true,\"type\":\"scattergeo\"},{\"geo\":\"geo\",\"hovertemplate\":\"Suburb=Preston<br>Lattitude=%{lat}<br>Longtitude=%{lon}<extra></extra>\",\"lat\":[-37.7452,-37.74818,-37.75277,-37.7293,-37.7369,-37.7306,-37.73912,-37.74739],\"legendgroup\":\"Preston\",\"lon\":[145.0192,144.99825,145.00734,144.9931,145.0201,144.9993,145.01298,145.00933999999995],\"marker\":{\"color\":\"#EF553B\",\"symbol\":\"circle\"},\"mode\":\"markers\",\"name\":\"Preston\",\"showlegend\":true,\"type\":\"scattergeo\"},{\"geo\":\"geo\",\"hovertemplate\":\"Suburb=Montmorency<br>Lattitude=%{lat}<br>Longtitude=%{lon}<extra></extra>\",\"lat\":[-37.7264],\"legendgroup\":\"Montmorency\",\"lon\":[145.12749],\"marker\":{\"color\":\"#00cc96\",\"symbol\":\"circle\"},\"mode\":\"markers\",\"name\":\"Montmorency\",\"showlegend\":true,\"type\":\"scattergeo\"},{\"geo\":\"geo\",\"hovertemplate\":\"Suburb=Glenroy<br>Lattitude=%{lat}<br>Longtitude=%{lon}<extra></extra>\",\"lat\":[-37.7002,-37.7072],\"legendgroup\":\"Glenroy\",\"lon\":[144.9232,144.9241],\"marker\":{\"color\":\"#ab63fa\",\"symbol\":\"circle\"},\"mode\":\"markers\",\"name\":\"Glenroy\",\"showlegend\":true,\"type\":\"scattergeo\"},{\"geo\":\"geo\",\"hovertemplate\":\"Suburb=Albion<br>Lattitude=%{lat}<br>Longtitude=%{lon}<extra></extra>\",\"lat\":[-37.7841],\"legendgroup\":\"Albion\",\"lon\":[144.8169],\"marker\":{\"color\":\"#FFA15A\",\"symbol\":\"circle\"},\"mode\":\"markers\",\"name\":\"Albion\",\"showlegend\":true,\"type\":\"scattergeo\"},{\"geo\":\"geo\",\"hovertemplate\":\"Suburb=Thornbury<br>Lattitude=%{lat}<br>Longtitude=%{lon}<extra></extra>\",\"lat\":[-37.7515,-37.7538,-37.7587],\"legendgroup\":\"Thornbury\",\"lon\":[144.9857,144.9991,145.0064],\"marker\":{\"color\":\"#19d3f3\",\"symbol\":\"circle\"},\"mode\":\"markers\",\"name\":\"Thornbury\",\"showlegend\":true,\"type\":\"scattergeo\"},{\"geo\":\"geo\",\"hovertemplate\":\"Suburb=Altona North<br>Lattitude=%{lat}<br>Longtitude=%{lon}<extra></extra>\",\"lat\":[-37.8379,-37.83224000000001],\"legendgroup\":\"Altona North\",\"lon\":[144.8583,144.85299999999995],\"marker\":{\"color\":\"#FF6692\",\"symbol\":\"circle\"},\"mode\":\"markers\",\"name\":\"Altona North\",\"showlegend\":true,\"type\":\"scattergeo\"},{\"geo\":\"geo\",\"hovertemplate\":\"Suburb=Templestowe<br>Lattitude=%{lat}<br>Longtitude=%{lon}<extra></extra>\",\"lat\":[-37.75289,-37.75334],\"legendgroup\":\"Templestowe\",\"lon\":[145.12826,145.16655],\"marker\":{\"color\":\"#B6E880\",\"symbol\":\"circle\"},\"mode\":\"markers\",\"name\":\"Templestowe\",\"showlegend\":true,\"type\":\"scattergeo\"},{\"geo\":\"geo\",\"hovertemplate\":\"Suburb=Narre Warren<br>Lattitude=%{lat}<br>Longtitude=%{lon}<extra></extra>\",\"lat\":[-38.02938],\"legendgroup\":\"Narre Warren\",\"lon\":[145.31876],\"marker\":{\"color\":\"#FF97FF\",\"symbol\":\"circle\"},\"mode\":\"markers\",\"name\":\"Narre Warren\",\"showlegend\":true,\"type\":\"scattergeo\"},{\"geo\":\"geo\",\"hovertemplate\":\"Suburb=Hillside<br>Lattitude=%{lat}<br>Longtitude=%{lon}<extra></extra>\",\"lat\":[-37.68381],\"legendgroup\":\"Hillside\",\"lon\":[144.73331000000005],\"marker\":{\"color\":\"#FECB52\",\"symbol\":\"circle\"},\"mode\":\"markers\",\"name\":\"Hillside\",\"showlegend\":true,\"type\":\"scattergeo\"},{\"geo\":\"geo\",\"hovertemplate\":\"Suburb=Brunswick West<br>Lattitude=%{lat}<br>Longtitude=%{lon}<extra></extra>\",\"lat\":[-37.7528,-37.7764,-37.7582,-37.76732,-37.75201],\"legendgroup\":\"Brunswick West\",\"lon\":[144.9368,144.9479,144.94,144.94098,144.9336],\"marker\":{\"color\":\"#636efa\",\"symbol\":\"circle\"},\"mode\":\"markers\",\"name\":\"Brunswick West\",\"showlegend\":true,\"type\":\"scattergeo\"},{\"geo\":\"geo\",\"hovertemplate\":\"Suburb=Canterbury<br>Lattitude=%{lat}<br>Longtitude=%{lon}<extra></extra>\",\"lat\":[-37.8178,-37.8326],\"legendgroup\":\"Canterbury\",\"lon\":[145.0649,145.08100000000005],\"marker\":{\"color\":\"#EF553B\",\"symbol\":\"circle\"},\"mode\":\"markers\",\"name\":\"Canterbury\",\"showlegend\":true,\"type\":\"scattergeo\"},{\"geo\":\"geo\",\"hovertemplate\":\"Suburb=Wantirna South<br>Lattitude=%{lat}<br>Longtitude=%{lon}<extra></extra>\",\"lat\":[-37.87345],\"legendgroup\":\"Wantirna South\",\"lon\":[145.22973000000005],\"marker\":{\"color\":\"#00cc96\",\"symbol\":\"circle\"},\"mode\":\"markers\",\"name\":\"Wantirna South\",\"showlegend\":true,\"type\":\"scattergeo\"},{\"geo\":\"geo\",\"hovertemplate\":\"Suburb=Fawkner<br>Lattitude=%{lat}<br>Longtitude=%{lon}<extra></extra>\",\"lat\":[-37.7038],\"legendgroup\":\"Fawkner\",\"lon\":[144.9638],\"marker\":{\"color\":\"#ab63fa\",\"symbol\":\"circle\"},\"mode\":\"markers\",\"name\":\"Fawkner\",\"showlegend\":true,\"type\":\"scattergeo\"},{\"geo\":\"geo\",\"hovertemplate\":\"Suburb=Northcote<br>Lattitude=%{lat}<br>Longtitude=%{lon}<extra></extra>\",\"lat\":[-37.7842,-37.77651,-37.7798,-37.76603,-37.7783],\"legendgroup\":\"Northcote\",\"lon\":[144.9991,144.99074,144.9952,144.99366,144.9954],\"marker\":{\"color\":\"#FFA15A\",\"symbol\":\"circle\"},\"mode\":\"markers\",\"name\":\"Northcote\",\"showlegend\":true,\"type\":\"scattergeo\"},{\"geo\":\"geo\",\"hovertemplate\":\"Suburb=South Morang<br>Lattitude=%{lat}<br>Longtitude=%{lon}<extra></extra>\",\"lat\":[-37.62648],\"legendgroup\":\"South Morang\",\"lon\":[145.07141],\"marker\":{\"color\":\"#19d3f3\",\"symbol\":\"circle\"},\"mode\":\"markers\",\"name\":\"South Morang\",\"showlegend\":true,\"type\":\"scattergeo\"},{\"geo\":\"geo\",\"hovertemplate\":\"Suburb=Greensborough<br>Lattitude=%{lat}<br>Longtitude=%{lon}<extra></extra>\",\"lat\":[-37.7008,-37.70817],\"legendgroup\":\"Greensborough\",\"lon\":[145.09974,145.10028],\"marker\":{\"color\":\"#FF6692\",\"symbol\":\"circle\"},\"mode\":\"markers\",\"name\":\"Greensborough\",\"showlegend\":true,\"type\":\"scattergeo\"},{\"geo\":\"geo\",\"hovertemplate\":\"Suburb=Brighton East<br>Lattitude=%{lat}<br>Longtitude=%{lon}<extra></extra>\",\"lat\":[-37.931,-37.91,-37.92698],\"legendgroup\":\"Brighton East\",\"lon\":[145.0163,145.0113,145.02673],\"marker\":{\"color\":\"#B6E880\",\"symbol\":\"circle\"},\"mode\":\"markers\",\"name\":\"Brighton East\",\"showlegend\":true,\"type\":\"scattergeo\"},{\"geo\":\"geo\",\"hovertemplate\":\"Suburb=Rosanna<br>Lattitude=%{lat}<br>Longtitude=%{lon}<extra></extra>\",\"lat\":[-37.7412],\"legendgroup\":\"Rosanna\",\"lon\":[145.0642],\"marker\":{\"color\":\"#FF97FF\",\"symbol\":\"circle\"},\"mode\":\"markers\",\"name\":\"Rosanna\",\"showlegend\":true,\"type\":\"scattergeo\"},{\"geo\":\"geo\",\"hovertemplate\":\"Suburb=Elwood<br>Lattitude=%{lat}<br>Longtitude=%{lon}<extra></extra>\",\"lat\":[-37.8778,-37.8789,-37.8757],\"legendgroup\":\"Elwood\",\"lon\":[144.9866,144.9836,144.987],\"marker\":{\"color\":\"#FECB52\",\"symbol\":\"circle\"},\"mode\":\"markers\",\"name\":\"Elwood\",\"showlegend\":true,\"type\":\"scattergeo\"},{\"geo\":\"geo\",\"hovertemplate\":\"Suburb=North Melbourne<br>Lattitude=%{lat}<br>Longtitude=%{lon}<extra></extra>\",\"lat\":[-37.7959,-37.7987,-37.79489],\"legendgroup\":\"North Melbourne\",\"lon\":[144.9464,144.9434,144.94207],\"marker\":{\"color\":\"#636efa\",\"symbol\":\"circle\"},\"mode\":\"markers\",\"name\":\"North Melbourne\",\"showlegend\":true,\"type\":\"scattergeo\"},{\"geo\":\"geo\",\"hovertemplate\":\"Suburb=Bentleigh East<br>Lattitude=%{lat}<br>Longtitude=%{lon}<extra></extra>\",\"lat\":[-37.9218,-37.9229,-37.9299,-37.9305,-37.91943,-37.9278],\"legendgroup\":\"Bentleigh East\",\"lon\":[145.053,145.0538,145.0598,145.0547,145.06801000000004,145.08100000000005],\"marker\":{\"color\":\"#EF553B\",\"symbol\":\"circle\"},\"mode\":\"markers\",\"name\":\"Bentleigh East\",\"showlegend\":true,\"type\":\"scattergeo\"},{\"geo\":\"geo\",\"hovertemplate\":\"Suburb=North Warrandyte<br>Lattitude=%{lat}<br>Longtitude=%{lon}<extra></extra>\",\"lat\":[-37.72548],\"legendgroup\":\"North Warrandyte\",\"lon\":[145.20868000000004],\"marker\":{\"color\":\"#00cc96\",\"symbol\":\"circle\"},\"mode\":\"markers\",\"name\":\"North Warrandyte\",\"showlegend\":true,\"type\":\"scattergeo\"},{\"geo\":\"geo\",\"hovertemplate\":\"Suburb=Yarraville<br>Lattitude=%{lat}<br>Longtitude=%{lon}<extra></extra>\",\"lat\":[-37.8182,-37.8122,-37.8175,-37.8104,-37.8223,-37.8227],\"legendgroup\":\"Yarraville\",\"lon\":[144.8846,144.8965,144.8879,144.8867,144.8779,144.8955],\"marker\":{\"color\":\"#ab63fa\",\"symbol\":\"circle\"},\"mode\":\"markers\",\"name\":\"Yarraville\",\"showlegend\":true,\"type\":\"scattergeo\"},{\"geo\":\"geo\",\"hovertemplate\":\"Suburb=Altona<br>Lattitude=%{lat}<br>Longtitude=%{lon}<extra></extra>\",\"lat\":[-37.8698,-37.86444],\"legendgroup\":\"Altona\",\"lon\":[144.816,144.82304],\"marker\":{\"color\":\"#FFA15A\",\"symbol\":\"circle\"},\"mode\":\"markers\",\"name\":\"Altona\",\"showlegend\":true,\"type\":\"scattergeo\"},{\"geo\":\"geo\",\"hovertemplate\":\"Suburb=South Yarra<br>Lattitude=%{lat}<br>Longtitude=%{lon}<extra></extra>\",\"lat\":[-37.8383,-37.8343,-37.8453,-37.8423,-37.8454],\"legendgroup\":\"South Yarra\",\"lon\":[145.0014,144.9899,144.9849,144.997,144.9891],\"marker\":{\"color\":\"#19d3f3\",\"symbol\":\"circle\"},\"mode\":\"markers\",\"name\":\"South Yarra\",\"showlegend\":true,\"type\":\"scattergeo\"},{\"geo\":\"geo\",\"hovertemplate\":\"Suburb=Glen Iris<br>Lattitude=%{lat}<br>Longtitude=%{lon}<extra></extra>\",\"lat\":[-37.84782,-37.8553,-37.8464,-37.8637],\"legendgroup\":\"Glen Iris\",\"lon\":[145.05004,145.0711,145.0511,145.0632],\"marker\":{\"color\":\"#FF6692\",\"symbol\":\"circle\"},\"mode\":\"markers\",\"name\":\"Glen Iris\",\"showlegend\":true,\"type\":\"scattergeo\"},{\"geo\":\"geo\",\"hovertemplate\":\"Suburb=St Albans<br>Lattitude=%{lat}<br>Longtitude=%{lon}<extra></extra>\",\"lat\":[-37.73385],\"legendgroup\":\"St Albans\",\"lon\":[144.80535],\"marker\":{\"color\":\"#B6E880\",\"symbol\":\"circle\"},\"mode\":\"markers\",\"name\":\"St Albans\",\"showlegend\":true,\"type\":\"scattergeo\"},{\"geo\":\"geo\",\"hovertemplate\":\"Suburb=Keilor East<br>Lattitude=%{lat}<br>Longtitude=%{lon}<extra></extra>\",\"lat\":[-37.7482,-37.7356,-37.74083],\"legendgroup\":\"Keilor East\",\"lon\":[144.86924,144.86479,144.85545],\"marker\":{\"color\":\"#FF97FF\",\"symbol\":\"circle\"},\"mode\":\"markers\",\"name\":\"Keilor East\",\"showlegend\":true,\"type\":\"scattergeo\"},{\"geo\":\"geo\",\"hovertemplate\":\"Suburb=Aberfeldie<br>Lattitude=%{lat}<br>Longtitude=%{lon}<extra></extra>\",\"lat\":[-37.76111],\"legendgroup\":\"Aberfeldie\",\"lon\":[144.89845],\"marker\":{\"color\":\"#FECB52\",\"symbol\":\"circle\"},\"mode\":\"markers\",\"name\":\"Aberfeldie\",\"showlegend\":true,\"type\":\"scattergeo\"},{\"geo\":\"geo\",\"hovertemplate\":\"Suburb=Niddrie<br>Lattitude=%{lat}<br>Longtitude=%{lon}<extra></extra>\",\"lat\":[-37.7383,-37.7368,-37.74266],\"legendgroup\":\"Niddrie\",\"lon\":[144.8898,144.8886,144.88577],\"marker\":{\"color\":\"#636efa\",\"symbol\":\"circle\"},\"mode\":\"markers\",\"name\":\"Niddrie\",\"showlegend\":true,\"type\":\"scattergeo\"},{\"geo\":\"geo\",\"hovertemplate\":\"Suburb=Beaumaris<br>Lattitude=%{lat}<br>Longtitude=%{lon}<extra></extra>\",\"lat\":[-37.98942,-37.98489],\"legendgroup\":\"Beaumaris\",\"lon\":[145.03394,145.04116000000005],\"marker\":{\"color\":\"#EF553B\",\"symbol\":\"circle\"},\"mode\":\"markers\",\"name\":\"Beaumaris\",\"showlegend\":true,\"type\":\"scattergeo\"},{\"geo\":\"geo\",\"hovertemplate\":\"Suburb=Essendon West<br>Lattitude=%{lat}<br>Longtitude=%{lon}<extra></extra>\",\"lat\":[-37.7518],\"legendgroup\":\"Essendon West\",\"lon\":[144.8897],\"marker\":{\"color\":\"#00cc96\",\"symbol\":\"circle\"},\"mode\":\"markers\",\"name\":\"Essendon West\",\"showlegend\":true,\"type\":\"scattergeo\"},{\"geo\":\"geo\",\"hovertemplate\":\"Suburb=Templestowe Lower<br>Lattitude=%{lat}<br>Longtitude=%{lon}<extra></extra>\",\"lat\":[-37.7647,-37.75763,-37.7565,-37.76846,-37.77156],\"legendgroup\":\"Templestowe Lower\",\"lon\":[145.1051,145.09974,145.1067,145.11183,145.1226],\"marker\":{\"color\":\"#ab63fa\",\"symbol\":\"circle\"},\"mode\":\"markers\",\"name\":\"Templestowe Lower\",\"showlegend\":true,\"type\":\"scattergeo\"},{\"geo\":\"geo\",\"hovertemplate\":\"Suburb=Clayton South<br>Lattitude=%{lat}<br>Longtitude=%{lon}<extra></extra>\",\"lat\":[-37.94146],\"legendgroup\":\"Clayton South\",\"lon\":[145.11121],\"marker\":{\"color\":\"#FFA15A\",\"symbol\":\"circle\"},\"mode\":\"markers\",\"name\":\"Clayton South\",\"showlegend\":true,\"type\":\"scattergeo\"},{\"geo\":\"geo\",\"hovertemplate\":\"Suburb=Newport<br>Lattitude=%{lat}<br>Longtitude=%{lon}<extra></extra>\",\"lat\":[-37.8417],\"legendgroup\":\"Newport\",\"lon\":[144.8896],\"marker\":{\"color\":\"#19d3f3\",\"symbol\":\"circle\"},\"mode\":\"markers\",\"name\":\"Newport\",\"showlegend\":true,\"type\":\"scattergeo\"},{\"geo\":\"geo\",\"hovertemplate\":\"Suburb=Balwyn North<br>Lattitude=%{lat}<br>Longtitude=%{lon}<extra></extra>\",\"lat\":[-37.796,-37.79284000000001,-37.7832,-37.80259],\"legendgroup\":\"Balwyn North\",\"lon\":[145.0696,145.10082,145.0796,145.09878],\"marker\":{\"color\":\"#FF6692\",\"symbol\":\"circle\"},\"mode\":\"markers\",\"name\":\"Balwyn North\",\"showlegend\":true,\"type\":\"scattergeo\"},{\"geo\":\"geo\",\"hovertemplate\":\"Suburb=Croydon<br>Lattitude=%{lat}<br>Longtitude=%{lon}<extra></extra>\",\"lat\":[-37.78297],\"legendgroup\":\"Croydon\",\"lon\":[145.28774],\"marker\":{\"color\":\"#B6E880\",\"symbol\":\"circle\"},\"mode\":\"markers\",\"name\":\"Croydon\",\"showlegend\":true,\"type\":\"scattergeo\"},{\"geo\":\"geo\",\"hovertemplate\":\"Suburb=Taylors Lakes<br>Lattitude=%{lat}<br>Longtitude=%{lon}<extra></extra>\",\"lat\":[-37.69274,-37.69496],\"legendgroup\":\"Taylors Lakes\",\"lon\":[144.76971,144.79511000000005],\"marker\":{\"color\":\"#FF97FF\",\"symbol\":\"circle\"},\"mode\":\"markers\",\"name\":\"Taylors Lakes\",\"showlegend\":true,\"type\":\"scattergeo\"},{\"geo\":\"geo\",\"hovertemplate\":\"Suburb=Carlton<br>Lattitude=%{lat}<br>Longtitude=%{lon}<extra></extra>\",\"lat\":[-37.7945],\"legendgroup\":\"Carlton\",\"lon\":[144.9718],\"marker\":{\"color\":\"#FECB52\",\"symbol\":\"circle\"},\"mode\":\"markers\",\"name\":\"Carlton\",\"showlegend\":true,\"type\":\"scattergeo\"},{\"geo\":\"geo\",\"hovertemplate\":\"Suburb=Surrey Hills<br>Lattitude=%{lat}<br>Longtitude=%{lon}<extra></extra>\",\"lat\":[-37.8364,-37.8323],\"legendgroup\":\"Surrey Hills\",\"lon\":[145.1099,145.105],\"marker\":{\"color\":\"#636efa\",\"symbol\":\"circle\"},\"mode\":\"markers\",\"name\":\"Surrey Hills\",\"showlegend\":true,\"type\":\"scattergeo\"},{\"geo\":\"geo\",\"hovertemplate\":\"Suburb=Epping<br>Lattitude=%{lat}<br>Longtitude=%{lon}<extra></extra>\",\"lat\":[-37.62894,-37.64262],\"legendgroup\":\"Epping\",\"lon\":[145.00977,145.0407],\"marker\":{\"color\":\"#EF553B\",\"symbol\":\"circle\"},\"mode\":\"markers\",\"name\":\"Epping\",\"showlegend\":true,\"type\":\"scattergeo\"},{\"geo\":\"geo\",\"hovertemplate\":\"Suburb=Caulfield South<br>Lattitude=%{lat}<br>Longtitude=%{lon}<extra></extra>\",\"lat\":[-37.8893,-37.89918,-37.8996],\"legendgroup\":\"Caulfield South\",\"lon\":[145.0161,145.01679,145.0169],\"marker\":{\"color\":\"#00cc96\",\"symbol\":\"circle\"},\"mode\":\"markers\",\"name\":\"Caulfield South\",\"showlegend\":true,\"type\":\"scattergeo\"},{\"geo\":\"geo\",\"hovertemplate\":\"Suburb=Eltham<br>Lattitude=%{lat}<br>Longtitude=%{lon}<extra></extra>\",\"lat\":[-37.70659000000001],\"legendgroup\":\"Eltham\",\"lon\":[145.16345],\"marker\":{\"color\":\"#ab63fa\",\"symbol\":\"circle\"},\"mode\":\"markers\",\"name\":\"Eltham\",\"showlegend\":true,\"type\":\"scattergeo\"},{\"geo\":\"geo\",\"hovertemplate\":\"Suburb=Sandringham<br>Lattitude=%{lat}<br>Longtitude=%{lon}<extra></extra>\",\"lat\":[-37.95236],\"legendgroup\":\"Sandringham\",\"lon\":[145.00737],\"marker\":{\"color\":\"#FFA15A\",\"symbol\":\"circle\"},\"mode\":\"markers\",\"name\":\"Sandringham\",\"showlegend\":true,\"type\":\"scattergeo\"},{\"geo\":\"geo\",\"hovertemplate\":\"Suburb=Malvern East<br>Lattitude=%{lat}<br>Longtitude=%{lon}<extra></extra>\",\"lat\":[-37.8814],\"legendgroup\":\"Malvern East\",\"lon\":[145.0583],\"marker\":{\"color\":\"#19d3f3\",\"symbol\":\"circle\"},\"mode\":\"markers\",\"name\":\"Malvern East\",\"showlegend\":true,\"type\":\"scattergeo\"},{\"geo\":\"geo\",\"hovertemplate\":\"Suburb=Heidelberg West<br>Lattitude=%{lat}<br>Longtitude=%{lon}<extra></extra>\",\"lat\":[-37.7386,-37.73459],\"legendgroup\":\"Heidelberg West\",\"lon\":[145.0387,145.04394],\"marker\":{\"color\":\"#FF6692\",\"symbol\":\"circle\"},\"mode\":\"markers\",\"name\":\"Heidelberg West\",\"showlegend\":true,\"type\":\"scattergeo\"},{\"geo\":\"geo\",\"hovertemplate\":\"Suburb=Craigieburn<br>Lattitude=%{lat}<br>Longtitude=%{lon}<extra></extra>\",\"lat\":[-37.56883],\"legendgroup\":\"Craigieburn\",\"lon\":[144.90887],\"marker\":{\"color\":\"#B6E880\",\"symbol\":\"circle\"},\"mode\":\"markers\",\"name\":\"Craigieburn\",\"showlegend\":true,\"type\":\"scattergeo\"},{\"geo\":\"geo\",\"hovertemplate\":\"Suburb=Heathmont<br>Lattitude=%{lat}<br>Longtitude=%{lon}<extra></extra>\",\"lat\":[-37.82118,-37.82996],\"legendgroup\":\"Heathmont\",\"lon\":[145.24138,145.24311],\"marker\":{\"color\":\"#FF97FF\",\"symbol\":\"circle\"},\"mode\":\"markers\",\"name\":\"Heathmont\",\"showlegend\":true,\"type\":\"scattergeo\"},{\"geo\":\"geo\",\"hovertemplate\":\"Suburb=Bayswater<br>Lattitude=%{lat}<br>Longtitude=%{lon}<extra></extra>\",\"lat\":[-37.84613],\"legendgroup\":\"Bayswater\",\"lon\":[145.25606000000005],\"marker\":{\"color\":\"#FECB52\",\"symbol\":\"circle\"},\"mode\":\"markers\",\"name\":\"Bayswater\",\"showlegend\":true,\"type\":\"scattergeo\"},{\"geo\":\"geo\",\"hovertemplate\":\"Suburb=Fairfield<br>Lattitude=%{lat}<br>Longtitude=%{lon}<extra></extra>\",\"lat\":[-37.7749],\"legendgroup\":\"Fairfield\",\"lon\":[145.0242],\"marker\":{\"color\":\"#636efa\",\"symbol\":\"circle\"},\"mode\":\"markers\",\"name\":\"Fairfield\",\"showlegend\":true,\"type\":\"scattergeo\"},{\"geo\":\"geo\",\"hovertemplate\":\"Suburb=Oakleigh<br>Lattitude=%{lat}<br>Longtitude=%{lon}<extra></extra>\",\"lat\":[-37.8952,-37.8994],\"legendgroup\":\"Oakleigh\",\"lon\":[145.1021,145.0955],\"marker\":{\"color\":\"#EF553B\",\"symbol\":\"circle\"},\"mode\":\"markers\",\"name\":\"Oakleigh\",\"showlegend\":true,\"type\":\"scattergeo\"},{\"geo\":\"geo\",\"hovertemplate\":\"Suburb=Balwyn<br>Lattitude=%{lat}<br>Longtitude=%{lon}<extra></extra>\",\"lat\":[-37.80292,-37.8124],\"legendgroup\":\"Balwyn\",\"lon\":[145.06423999999996,145.0916],\"marker\":{\"color\":\"#00cc96\",\"symbol\":\"circle\"},\"mode\":\"markers\",\"name\":\"Balwyn\",\"showlegend\":true,\"type\":\"scattergeo\"},{\"geo\":\"geo\",\"hovertemplate\":\"Suburb=Donvale<br>Lattitude=%{lat}<br>Longtitude=%{lon}<extra></extra>\",\"lat\":[-37.80274],\"legendgroup\":\"Donvale\",\"lon\":[145.17952],\"marker\":{\"color\":\"#ab63fa\",\"symbol\":\"circle\"},\"mode\":\"markers\",\"name\":\"Donvale\",\"showlegend\":true,\"type\":\"scattergeo\"},{\"geo\":\"geo\",\"hovertemplate\":\"Suburb=Wheelers Hill<br>Lattitude=%{lat}<br>Longtitude=%{lon}<extra></extra>\",\"lat\":[-37.90248],\"legendgroup\":\"Wheelers Hill\",\"lon\":[145.187],\"marker\":{\"color\":\"#FFA15A\",\"symbol\":\"circle\"},\"mode\":\"markers\",\"name\":\"Wheelers Hill\",\"showlegend\":true,\"type\":\"scattergeo\"},{\"geo\":\"geo\",\"hovertemplate\":\"Suburb=Westmeadows<br>Lattitude=%{lat}<br>Longtitude=%{lon}<extra></extra>\",\"lat\":[-37.6784],\"legendgroup\":\"Westmeadows\",\"lon\":[144.88797],\"marker\":{\"color\":\"#19d3f3\",\"symbol\":\"circle\"},\"mode\":\"markers\",\"name\":\"Westmeadows\",\"showlegend\":true,\"type\":\"scattergeo\"},{\"geo\":\"geo\",\"hovertemplate\":\"Suburb=Bulleen<br>Lattitude=%{lat}<br>Longtitude=%{lon}<extra></extra>\",\"lat\":[-37.77352,-37.76207,-37.76823,-37.7582],\"legendgroup\":\"Bulleen\",\"lon\":[145.09843999999995,145.09336000000005,145.08103,145.0889],\"marker\":{\"color\":\"#FF6692\",\"symbol\":\"circle\"},\"mode\":\"markers\",\"name\":\"Bulleen\",\"showlegend\":true,\"type\":\"scattergeo\"},{\"geo\":\"geo\",\"hovertemplate\":\"Suburb=Murrumbeena<br>Lattitude=%{lat}<br>Longtitude=%{lon}<extra></extra>\",\"lat\":[-37.9027],\"legendgroup\":\"Murrumbeena\",\"lon\":[145.0684],\"marker\":{\"color\":\"#B6E880\",\"symbol\":\"circle\"},\"mode\":\"markers\",\"name\":\"Murrumbeena\",\"showlegend\":true,\"type\":\"scattergeo\"},{\"geo\":\"geo\",\"hovertemplate\":\"Suburb=Elsternwick<br>Lattitude=%{lat}<br>Longtitude=%{lon}<extra></extra>\",\"lat\":[-37.8822,-37.892],\"legendgroup\":\"Elsternwick\",\"lon\":[144.9994,145.0103],\"marker\":{\"color\":\"#FF97FF\",\"symbol\":\"circle\"},\"mode\":\"markers\",\"name\":\"Elsternwick\",\"showlegend\":true,\"type\":\"scattergeo\"},{\"geo\":\"geo\",\"hovertemplate\":\"Suburb=Nunawading<br>Lattitude=%{lat}<br>Longtitude=%{lon}<extra></extra>\",\"lat\":[-37.80827],\"legendgroup\":\"Nunawading\",\"lon\":[145.18098999999995],\"marker\":{\"color\":\"#FECB52\",\"symbol\":\"circle\"},\"mode\":\"markers\",\"name\":\"Nunawading\",\"showlegend\":true,\"type\":\"scattergeo\"},{\"geo\":\"geo\",\"hovertemplate\":\"Suburb=Footscray<br>Lattitude=%{lat}<br>Longtitude=%{lon}<extra></extra>\",\"lat\":[-37.8012,-37.79583],\"legendgroup\":\"Footscray\",\"lon\":[144.8964,144.89406],\"marker\":{\"color\":\"#636efa\",\"symbol\":\"circle\"},\"mode\":\"markers\",\"name\":\"Footscray\",\"showlegend\":true,\"type\":\"scattergeo\"},{\"geo\":\"geo\",\"hovertemplate\":\"Suburb=South Kingsville<br>Lattitude=%{lat}<br>Longtitude=%{lon}<extra></extra>\",\"lat\":[-37.8303,-37.834],\"legendgroup\":\"South Kingsville\",\"lon\":[144.8679,144.8757],\"marker\":{\"color\":\"#EF553B\",\"symbol\":\"circle\"},\"mode\":\"markers\",\"name\":\"South Kingsville\",\"showlegend\":true,\"type\":\"scattergeo\"},{\"geo\":\"geo\",\"hovertemplate\":\"Suburb=Box Hill<br>Lattitude=%{lat}<br>Longtitude=%{lon}<extra></extra>\",\"lat\":[-37.828,-37.8246,-37.8275],\"legendgroup\":\"Box Hill\",\"lon\":[145.1215,145.1269,145.1298],\"marker\":{\"color\":\"#00cc96\",\"symbol\":\"circle\"},\"mode\":\"markers\",\"name\":\"Box Hill\",\"showlegend\":true,\"type\":\"scattergeo\"},{\"geo\":\"geo\",\"hovertemplate\":\"Suburb=Dandenong North<br>Lattitude=%{lat}<br>Longtitude=%{lon}<extra></extra>\",\"lat\":[-37.95466],\"legendgroup\":\"Dandenong North\",\"lon\":[145.21193],\"marker\":{\"color\":\"#ab63fa\",\"symbol\":\"circle\"},\"mode\":\"markers\",\"name\":\"Dandenong North\",\"showlegend\":true,\"type\":\"scattergeo\"},{\"geo\":\"geo\",\"hovertemplate\":\"Suburb=Coolaroo<br>Lattitude=%{lat}<br>Longtitude=%{lon}<extra></extra>\",\"lat\":[-37.65704],\"legendgroup\":\"Coolaroo\",\"lon\":[144.92987],\"marker\":{\"color\":\"#FFA15A\",\"symbol\":\"circle\"},\"mode\":\"markers\",\"name\":\"Coolaroo\",\"showlegend\":true,\"type\":\"scattergeo\"},{\"geo\":\"geo\",\"hovertemplate\":\"Suburb=Braybrook<br>Lattitude=%{lat}<br>Longtitude=%{lon}<extra></extra>\",\"lat\":[-37.783,-37.78481,-37.7759],\"legendgroup\":\"Braybrook\",\"lon\":[144.855,144.8623,144.8552],\"marker\":{\"color\":\"#19d3f3\",\"symbol\":\"circle\"},\"mode\":\"markers\",\"name\":\"Braybrook\",\"showlegend\":true,\"type\":\"scattergeo\"},{\"geo\":\"geo\",\"hovertemplate\":\"Suburb=Port Melbourne<br>Lattitude=%{lat}<br>Longtitude=%{lon}<extra></extra>\",\"lat\":[-37.836,-37.8396],\"legendgroup\":\"Port Melbourne\",\"lon\":[144.93701,144.9391],\"marker\":{\"color\":\"#FF6692\",\"symbol\":\"circle\"},\"mode\":\"markers\",\"name\":\"Port Melbourne\",\"showlegend\":true,\"type\":\"scattergeo\"},{\"geo\":\"geo\",\"hovertemplate\":\"Suburb=Middle Park<br>Lattitude=%{lat}<br>Longtitude=%{lon}<extra></extra>\",\"lat\":[-37.852],\"legendgroup\":\"Middle Park\",\"lon\":[144.9654],\"marker\":{\"color\":\"#B6E880\",\"symbol\":\"circle\"},\"mode\":\"markers\",\"name\":\"Middle Park\",\"showlegend\":true,\"type\":\"scattergeo\"},{\"geo\":\"geo\",\"hovertemplate\":\"Suburb=Ascot Vale<br>Lattitude=%{lat}<br>Longtitude=%{lon}<extra></extra>\",\"lat\":[-37.7758,-37.7738],\"legendgroup\":\"Ascot Vale\",\"lon\":[144.9089,144.9215],\"marker\":{\"color\":\"#FF97FF\",\"symbol\":\"circle\"},\"mode\":\"markers\",\"name\":\"Ascot Vale\",\"showlegend\":true,\"type\":\"scattergeo\"},{\"geo\":\"geo\",\"hovertemplate\":\"Suburb=Malvern<br>Lattitude=%{lat}<br>Longtitude=%{lon}<extra></extra>\",\"lat\":[-37.85612,-37.8515],\"legendgroup\":\"Malvern\",\"lon\":[145.03273000000004,145.0324],\"marker\":{\"color\":\"#FECB52\",\"symbol\":\"circle\"},\"mode\":\"markers\",\"name\":\"Malvern\",\"showlegend\":true,\"type\":\"scattergeo\"},{\"geo\":\"geo\",\"hovertemplate\":\"Suburb=Melbourne<br>Lattitude=%{lat}<br>Longtitude=%{lon}<extra></extra>\",\"lat\":[-37.8138],\"legendgroup\":\"Melbourne\",\"lon\":[144.9548],\"marker\":{\"color\":\"#636efa\",\"symbol\":\"circle\"},\"mode\":\"markers\",\"name\":\"Melbourne\",\"showlegend\":true,\"type\":\"scattergeo\"},{\"geo\":\"geo\",\"hovertemplate\":\"Suburb=Caulfield<br>Lattitude=%{lat}<br>Longtitude=%{lon}<extra></extra>\",\"lat\":[-37.8865],\"legendgroup\":\"Caulfield\",\"lon\":[145.0302],\"marker\":{\"color\":\"#EF553B\",\"symbol\":\"circle\"},\"mode\":\"markers\",\"name\":\"Caulfield\",\"showlegend\":true,\"type\":\"scattergeo\"},{\"geo\":\"geo\",\"hovertemplate\":\"Suburb=Hawthorn East<br>Lattitude=%{lat}<br>Longtitude=%{lon}<extra></extra>\",\"lat\":[-37.8219],\"legendgroup\":\"Hawthorn East\",\"lon\":[145.0556],\"marker\":{\"color\":\"#00cc96\",\"symbol\":\"circle\"},\"mode\":\"markers\",\"name\":\"Hawthorn East\",\"showlegend\":true,\"type\":\"scattergeo\"},{\"geo\":\"geo\",\"hovertemplate\":\"Suburb=Carnegie<br>Lattitude=%{lat}<br>Longtitude=%{lon}<extra></extra>\",\"lat\":[-37.90262],\"legendgroup\":\"Carnegie\",\"lon\":[145.05709],\"marker\":{\"color\":\"#ab63fa\",\"symbol\":\"circle\"},\"mode\":\"markers\",\"name\":\"Carnegie\",\"showlegend\":true,\"type\":\"scattergeo\"},{\"geo\":\"geo\",\"hovertemplate\":\"Suburb=Moorabbin<br>Lattitude=%{lat}<br>Longtitude=%{lon}<extra></extra>\",\"lat\":[-37.9424],\"legendgroup\":\"Moorabbin\",\"lon\":[145.0464],\"marker\":{\"color\":\"#FFA15A\",\"symbol\":\"circle\"},\"mode\":\"markers\",\"name\":\"Moorabbin\",\"showlegend\":true,\"type\":\"scattergeo\"},{\"geo\":\"geo\",\"hovertemplate\":\"Suburb=Bentleigh<br>Lattitude=%{lat}<br>Longtitude=%{lon}<extra></extra>\",\"lat\":[-37.92211,-37.9321],\"legendgroup\":\"Bentleigh\",\"lon\":[145.0466,145.0472],\"marker\":{\"color\":\"#19d3f3\",\"symbol\":\"circle\"},\"mode\":\"markers\",\"name\":\"Bentleigh\",\"showlegend\":true,\"type\":\"scattergeo\"},{\"geo\":\"geo\",\"hovertemplate\":\"Suburb=Armadale<br>Lattitude=%{lat}<br>Longtitude=%{lon}<extra></extra>\",\"lat\":[-37.8536],\"legendgroup\":\"Armadale\",\"lon\":[145.0173],\"marker\":{\"color\":\"#FF6692\",\"symbol\":\"circle\"},\"mode\":\"markers\",\"name\":\"Armadale\",\"showlegend\":true,\"type\":\"scattergeo\"},{\"geo\":\"geo\",\"hovertemplate\":\"Suburb=Ringwood<br>Lattitude=%{lat}<br>Longtitude=%{lon}<extra></extra>\",\"lat\":[-37.8101],\"legendgroup\":\"Ringwood\",\"lon\":[145.21697],\"marker\":{\"color\":\"#B6E880\",\"symbol\":\"circle\"},\"mode\":\"markers\",\"name\":\"Ringwood\",\"showlegend\":true,\"type\":\"scattergeo\"},{\"geo\":\"geo\",\"hovertemplate\":\"Suburb=Kensington<br>Lattitude=%{lat}<br>Longtitude=%{lon}<extra></extra>\",\"lat\":[-37.79059],\"legendgroup\":\"Kensington\",\"lon\":[144.93145],\"marker\":{\"color\":\"#FF97FF\",\"symbol\":\"circle\"},\"mode\":\"markers\",\"name\":\"Kensington\",\"showlegend\":true,\"type\":\"scattergeo\"},{\"geo\":\"geo\",\"hovertemplate\":\"Suburb=Carrum Downs<br>Lattitude=%{lat}<br>Longtitude=%{lon}<extra></extra>\",\"lat\":[-38.09187],\"legendgroup\":\"Carrum Downs\",\"lon\":[145.19463000000005],\"marker\":{\"color\":\"#FECB52\",\"symbol\":\"circle\"},\"mode\":\"markers\",\"name\":\"Carrum Downs\",\"showlegend\":true,\"type\":\"scattergeo\"},{\"geo\":\"geo\",\"hovertemplate\":\"Suburb=Strathmore<br>Lattitude=%{lat}<br>Longtitude=%{lon}<extra></extra>\",\"lat\":[-37.735],\"legendgroup\":\"Strathmore\",\"lon\":[144.9203],\"marker\":{\"color\":\"#636efa\",\"symbol\":\"circle\"},\"mode\":\"markers\",\"name\":\"Strathmore\",\"showlegend\":true,\"type\":\"scattergeo\"},{\"geo\":\"geo\",\"hovertemplate\":\"Suburb=Broadmeadows<br>Lattitude=%{lat}<br>Longtitude=%{lon}<extra></extra>\",\"lat\":[-37.68489],\"legendgroup\":\"Broadmeadows\",\"lon\":[144.9212],\"marker\":{\"color\":\"#EF553B\",\"symbol\":\"circle\"},\"mode\":\"markers\",\"name\":\"Broadmeadows\",\"showlegend\":true,\"type\":\"scattergeo\"},{\"geo\":\"geo\",\"hovertemplate\":\"Suburb=Gisborne<br>Lattitude=%{lat}<br>Longtitude=%{lon}<extra></extra>\",\"lat\":[-37.50929],\"legendgroup\":\"Gisborne\",\"lon\":[144.56444],\"marker\":{\"color\":\"#00cc96\",\"symbol\":\"circle\"},\"mode\":\"markers\",\"name\":\"Gisborne\",\"showlegend\":true,\"type\":\"scattergeo\"},{\"geo\":\"geo\",\"hovertemplate\":\"Suburb=Viewbank<br>Lattitude=%{lat}<br>Longtitude=%{lon}<extra></extra>\",\"lat\":[-37.7314],\"legendgroup\":\"Viewbank\",\"lon\":[145.0941],\"marker\":{\"color\":\"#ab63fa\",\"symbol\":\"circle\"},\"mode\":\"markers\",\"name\":\"Viewbank\",\"showlegend\":true,\"type\":\"scattergeo\"},{\"geo\":\"geo\",\"hovertemplate\":\"Suburb=Airport West<br>Lattitude=%{lat}<br>Longtitude=%{lon}<extra></extra>\",\"lat\":[-37.72274],\"legendgroup\":\"Airport West\",\"lon\":[144.88002],\"marker\":{\"color\":\"#FFA15A\",\"symbol\":\"circle\"},\"mode\":\"markers\",\"name\":\"Airport West\",\"showlegend\":true,\"type\":\"scattergeo\"},{\"geo\":\"geo\",\"hovertemplate\":\"Suburb=Mount Waverley<br>Lattitude=%{lat}<br>Longtitude=%{lon}<extra></extra>\",\"lat\":[-37.87754],\"legendgroup\":\"Mount Waverley\",\"lon\":[145.12076000000005],\"marker\":{\"color\":\"#19d3f3\",\"symbol\":\"circle\"},\"mode\":\"markers\",\"name\":\"Mount Waverley\",\"showlegend\":true,\"type\":\"scattergeo\"},{\"geo\":\"geo\",\"hovertemplate\":\"Suburb=Highett<br>Lattitude=%{lat}<br>Longtitude=%{lon}<extra></extra>\",\"lat\":[-37.95188],\"legendgroup\":\"Highett\",\"lon\":[145.05369],\"marker\":{\"color\":\"#FF6692\",\"symbol\":\"circle\"},\"mode\":\"markers\",\"name\":\"Highett\",\"showlegend\":true,\"type\":\"scattergeo\"},{\"geo\":\"geo\",\"hovertemplate\":\"Suburb=Werribee<br>Lattitude=%{lat}<br>Longtitude=%{lon}<extra></extra>\",\"lat\":[-37.90379,-37.87895],\"legendgroup\":\"Werribee\",\"lon\":[144.66165,144.6707],\"marker\":{\"color\":\"#B6E880\",\"symbol\":\"circle\"},\"mode\":\"markers\",\"name\":\"Werribee\",\"showlegend\":true,\"type\":\"scattergeo\"},{\"geo\":\"geo\",\"hovertemplate\":\"Suburb=Kooyong<br>Lattitude=%{lat}<br>Longtitude=%{lon}<extra></extra>\",\"lat\":[-37.84391],\"legendgroup\":\"Kooyong\",\"lon\":[145.03376],\"marker\":{\"color\":\"#FF97FF\",\"symbol\":\"circle\"},\"mode\":\"markers\",\"name\":\"Kooyong\",\"showlegend\":true,\"type\":\"scattergeo\"},{\"geo\":\"geo\",\"hovertemplate\":\"Suburb=Brighton<br>Lattitude=%{lat}<br>Longtitude=%{lon}<extra></extra>\",\"lat\":[-37.92335],\"legendgroup\":\"Brighton\",\"lon\":[144.99982],\"marker\":{\"color\":\"#FECB52\",\"symbol\":\"circle\"},\"mode\":\"markers\",\"name\":\"Brighton\",\"showlegend\":true,\"type\":\"scattergeo\"},{\"geo\":\"geo\",\"hovertemplate\":\"Suburb=Windsor<br>Lattitude=%{lat}<br>Longtitude=%{lon}<extra></extra>\",\"lat\":[-37.85556],\"legendgroup\":\"Windsor\",\"lon\":[144.99063],\"marker\":{\"color\":\"#636efa\",\"symbol\":\"circle\"},\"mode\":\"markers\",\"name\":\"Windsor\",\"showlegend\":true,\"type\":\"scattergeo\"},{\"geo\":\"geo\",\"hovertemplate\":\"Suburb=Prahran<br>Lattitude=%{lat}<br>Longtitude=%{lon}<extra></extra>\",\"lat\":[-37.8493],\"legendgroup\":\"Prahran\",\"lon\":[144.9908],\"marker\":{\"color\":\"#EF553B\",\"symbol\":\"circle\"},\"mode\":\"markers\",\"name\":\"Prahran\",\"showlegend\":true,\"type\":\"scattergeo\"},{\"geo\":\"geo\",\"hovertemplate\":\"Suburb=Blackburn North<br>Lattitude=%{lat}<br>Longtitude=%{lon}<extra></extra>\",\"lat\":[-37.80906],\"legendgroup\":\"Blackburn North\",\"lon\":[145.15787],\"marker\":{\"color\":\"#00cc96\",\"symbol\":\"circle\"},\"mode\":\"markers\",\"name\":\"Blackburn North\",\"showlegend\":true,\"type\":\"scattergeo\"},{\"geo\":\"geo\",\"hovertemplate\":\"Suburb=Keilor Park<br>Lattitude=%{lat}<br>Longtitude=%{lon}<extra></extra>\",\"lat\":[-37.724],\"legendgroup\":\"Keilor Park\",\"lon\":[144.8514],\"marker\":{\"color\":\"#ab63fa\",\"symbol\":\"circle\"},\"mode\":\"markers\",\"name\":\"Keilor Park\",\"showlegend\":true,\"type\":\"scattergeo\"},{\"geo\":\"geo\",\"hovertemplate\":\"Suburb=Albert Park<br>Lattitude=%{lat}<br>Longtitude=%{lon}<extra></extra>\",\"lat\":[-37.8468],\"legendgroup\":\"Albert Park\",\"lon\":[144.9546],\"marker\":{\"color\":\"#FFA15A\",\"symbol\":\"circle\"},\"mode\":\"markers\",\"name\":\"Albert Park\",\"showlegend\":true,\"type\":\"scattergeo\"}],                        {\"template\":{\"data\":{\"bar\":[{\"error_x\":{\"color\":\"#2a3f5f\"},\"error_y\":{\"color\":\"#2a3f5f\"},\"marker\":{\"line\":{\"color\":\"#E5ECF6\",\"width\":0.5},\"pattern\":{\"fillmode\":\"overlay\",\"size\":10,\"solidity\":0.2}},\"type\":\"bar\"}],\"barpolar\":[{\"marker\":{\"line\":{\"color\":\"#E5ECF6\",\"width\":0.5},\"pattern\":{\"fillmode\":\"overlay\",\"size\":10,\"solidity\":0.2}},\"type\":\"barpolar\"}],\"carpet\":[{\"aaxis\":{\"endlinecolor\":\"#2a3f5f\",\"gridcolor\":\"white\",\"linecolor\":\"white\",\"minorgridcolor\":\"white\",\"startlinecolor\":\"#2a3f5f\"},\"baxis\":{\"endlinecolor\":\"#2a3f5f\",\"gridcolor\":\"white\",\"linecolor\":\"white\",\"minorgridcolor\":\"white\",\"startlinecolor\":\"#2a3f5f\"},\"type\":\"carpet\"}],\"choropleth\":[{\"colorbar\":{\"outlinewidth\":0,\"ticks\":\"\"},\"type\":\"choropleth\"}],\"contour\":[{\"colorbar\":{\"outlinewidth\":0,\"ticks\":\"\"},\"colorscale\":[[0.0,\"#0d0887\"],[0.1111111111111111,\"#46039f\"],[0.2222222222222222,\"#7201a8\"],[0.3333333333333333,\"#9c179e\"],[0.4444444444444444,\"#bd3786\"],[0.5555555555555556,\"#d8576b\"],[0.6666666666666666,\"#ed7953\"],[0.7777777777777778,\"#fb9f3a\"],[0.8888888888888888,\"#fdca26\"],[1.0,\"#f0f921\"]],\"type\":\"contour\"}],\"contourcarpet\":[{\"colorbar\":{\"outlinewidth\":0,\"ticks\":\"\"},\"type\":\"contourcarpet\"}],\"heatmap\":[{\"colorbar\":{\"outlinewidth\":0,\"ticks\":\"\"},\"colorscale\":[[0.0,\"#0d0887\"],[0.1111111111111111,\"#46039f\"],[0.2222222222222222,\"#7201a8\"],[0.3333333333333333,\"#9c179e\"],[0.4444444444444444,\"#bd3786\"],[0.5555555555555556,\"#d8576b\"],[0.6666666666666666,\"#ed7953\"],[0.7777777777777778,\"#fb9f3a\"],[0.8888888888888888,\"#fdca26\"],[1.0,\"#f0f921\"]],\"type\":\"heatmap\"}],\"heatmapgl\":[{\"colorbar\":{\"outlinewidth\":0,\"ticks\":\"\"},\"colorscale\":[[0.0,\"#0d0887\"],[0.1111111111111111,\"#46039f\"],[0.2222222222222222,\"#7201a8\"],[0.3333333333333333,\"#9c179e\"],[0.4444444444444444,\"#bd3786\"],[0.5555555555555556,\"#d8576b\"],[0.6666666666666666,\"#ed7953\"],[0.7777777777777778,\"#fb9f3a\"],[0.8888888888888888,\"#fdca26\"],[1.0,\"#f0f921\"]],\"type\":\"heatmapgl\"}],\"histogram\":[{\"marker\":{\"pattern\":{\"fillmode\":\"overlay\",\"size\":10,\"solidity\":0.2}},\"type\":\"histogram\"}],\"histogram2d\":[{\"colorbar\":{\"outlinewidth\":0,\"ticks\":\"\"},\"colorscale\":[[0.0,\"#0d0887\"],[0.1111111111111111,\"#46039f\"],[0.2222222222222222,\"#7201a8\"],[0.3333333333333333,\"#9c179e\"],[0.4444444444444444,\"#bd3786\"],[0.5555555555555556,\"#d8576b\"],[0.6666666666666666,\"#ed7953\"],[0.7777777777777778,\"#fb9f3a\"],[0.8888888888888888,\"#fdca26\"],[1.0,\"#f0f921\"]],\"type\":\"histogram2d\"}],\"histogram2dcontour\":[{\"colorbar\":{\"outlinewidth\":0,\"ticks\":\"\"},\"colorscale\":[[0.0,\"#0d0887\"],[0.1111111111111111,\"#46039f\"],[0.2222222222222222,\"#7201a8\"],[0.3333333333333333,\"#9c179e\"],[0.4444444444444444,\"#bd3786\"],[0.5555555555555556,\"#d8576b\"],[0.6666666666666666,\"#ed7953\"],[0.7777777777777778,\"#fb9f3a\"],[0.8888888888888888,\"#fdca26\"],[1.0,\"#f0f921\"]],\"type\":\"histogram2dcontour\"}],\"mesh3d\":[{\"colorbar\":{\"outlinewidth\":0,\"ticks\":\"\"},\"type\":\"mesh3d\"}],\"parcoords\":[{\"line\":{\"colorbar\":{\"outlinewidth\":0,\"ticks\":\"\"}},\"type\":\"parcoords\"}],\"pie\":[{\"automargin\":true,\"type\":\"pie\"}],\"scatter\":[{\"marker\":{\"colorbar\":{\"outlinewidth\":0,\"ticks\":\"\"}},\"type\":\"scatter\"}],\"scatter3d\":[{\"line\":{\"colorbar\":{\"outlinewidth\":0,\"ticks\":\"\"}},\"marker\":{\"colorbar\":{\"outlinewidth\":0,\"ticks\":\"\"}},\"type\":\"scatter3d\"}],\"scattercarpet\":[{\"marker\":{\"colorbar\":{\"outlinewidth\":0,\"ticks\":\"\"}},\"type\":\"scattercarpet\"}],\"scattergeo\":[{\"marker\":{\"colorbar\":{\"outlinewidth\":0,\"ticks\":\"\"}},\"type\":\"scattergeo\"}],\"scattergl\":[{\"marker\":{\"colorbar\":{\"outlinewidth\":0,\"ticks\":\"\"}},\"type\":\"scattergl\"}],\"scattermapbox\":[{\"marker\":{\"colorbar\":{\"outlinewidth\":0,\"ticks\":\"\"}},\"type\":\"scattermapbox\"}],\"scatterpolar\":[{\"marker\":{\"colorbar\":{\"outlinewidth\":0,\"ticks\":\"\"}},\"type\":\"scatterpolar\"}],\"scatterpolargl\":[{\"marker\":{\"colorbar\":{\"outlinewidth\":0,\"ticks\":\"\"}},\"type\":\"scatterpolargl\"}],\"scatterternary\":[{\"marker\":{\"colorbar\":{\"outlinewidth\":0,\"ticks\":\"\"}},\"type\":\"scatterternary\"}],\"surface\":[{\"colorbar\":{\"outlinewidth\":0,\"ticks\":\"\"},\"colorscale\":[[0.0,\"#0d0887\"],[0.1111111111111111,\"#46039f\"],[0.2222222222222222,\"#7201a8\"],[0.3333333333333333,\"#9c179e\"],[0.4444444444444444,\"#bd3786\"],[0.5555555555555556,\"#d8576b\"],[0.6666666666666666,\"#ed7953\"],[0.7777777777777778,\"#fb9f3a\"],[0.8888888888888888,\"#fdca26\"],[1.0,\"#f0f921\"]],\"type\":\"surface\"}],\"table\":[{\"cells\":{\"fill\":{\"color\":\"#EBF0F8\"},\"line\":{\"color\":\"white\"}},\"header\":{\"fill\":{\"color\":\"#C8D4E3\"},\"line\":{\"color\":\"white\"}},\"type\":\"table\"}]},\"layout\":{\"annotationdefaults\":{\"arrowcolor\":\"#2a3f5f\",\"arrowhead\":0,\"arrowwidth\":1},\"autotypenumbers\":\"strict\",\"coloraxis\":{\"colorbar\":{\"outlinewidth\":0,\"ticks\":\"\"}},\"colorscale\":{\"diverging\":[[0,\"#8e0152\"],[0.1,\"#c51b7d\"],[0.2,\"#de77ae\"],[0.3,\"#f1b6da\"],[0.4,\"#fde0ef\"],[0.5,\"#f7f7f7\"],[0.6,\"#e6f5d0\"],[0.7,\"#b8e186\"],[0.8,\"#7fbc41\"],[0.9,\"#4d9221\"],[1,\"#276419\"]],\"sequential\":[[0.0,\"#0d0887\"],[0.1111111111111111,\"#46039f\"],[0.2222222222222222,\"#7201a8\"],[0.3333333333333333,\"#9c179e\"],[0.4444444444444444,\"#bd3786\"],[0.5555555555555556,\"#d8576b\"],[0.6666666666666666,\"#ed7953\"],[0.7777777777777778,\"#fb9f3a\"],[0.8888888888888888,\"#fdca26\"],[1.0,\"#f0f921\"]],\"sequentialminus\":[[0.0,\"#0d0887\"],[0.1111111111111111,\"#46039f\"],[0.2222222222222222,\"#7201a8\"],[0.3333333333333333,\"#9c179e\"],[0.4444444444444444,\"#bd3786\"],[0.5555555555555556,\"#d8576b\"],[0.6666666666666666,\"#ed7953\"],[0.7777777777777778,\"#fb9f3a\"],[0.8888888888888888,\"#fdca26\"],[1.0,\"#f0f921\"]]},\"colorway\":[\"#636efa\",\"#EF553B\",\"#00cc96\",\"#ab63fa\",\"#FFA15A\",\"#19d3f3\",\"#FF6692\",\"#B6E880\",\"#FF97FF\",\"#FECB52\"],\"font\":{\"color\":\"#2a3f5f\"},\"geo\":{\"bgcolor\":\"white\",\"lakecolor\":\"white\",\"landcolor\":\"#E5ECF6\",\"showlakes\":true,\"showland\":true,\"subunitcolor\":\"white\"},\"hoverlabel\":{\"align\":\"left\"},\"hovermode\":\"closest\",\"mapbox\":{\"style\":\"light\"},\"paper_bgcolor\":\"white\",\"plot_bgcolor\":\"#E5ECF6\",\"polar\":{\"angularaxis\":{\"gridcolor\":\"white\",\"linecolor\":\"white\",\"ticks\":\"\"},\"bgcolor\":\"#E5ECF6\",\"radialaxis\":{\"gridcolor\":\"white\",\"linecolor\":\"white\",\"ticks\":\"\"}},\"scene\":{\"xaxis\":{\"backgroundcolor\":\"#E5ECF6\",\"gridcolor\":\"white\",\"gridwidth\":2,\"linecolor\":\"white\",\"showbackground\":true,\"ticks\":\"\",\"zerolinecolor\":\"white\"},\"yaxis\":{\"backgroundcolor\":\"#E5ECF6\",\"gridcolor\":\"white\",\"gridwidth\":2,\"linecolor\":\"white\",\"showbackground\":true,\"ticks\":\"\",\"zerolinecolor\":\"white\"},\"zaxis\":{\"backgroundcolor\":\"#E5ECF6\",\"gridcolor\":\"white\",\"gridwidth\":2,\"linecolor\":\"white\",\"showbackground\":true,\"ticks\":\"\",\"zerolinecolor\":\"white\"}},\"shapedefaults\":{\"line\":{\"color\":\"#2a3f5f\"}},\"ternary\":{\"aaxis\":{\"gridcolor\":\"white\",\"linecolor\":\"white\",\"ticks\":\"\"},\"baxis\":{\"gridcolor\":\"white\",\"linecolor\":\"white\",\"ticks\":\"\"},\"bgcolor\":\"#E5ECF6\",\"caxis\":{\"gridcolor\":\"white\",\"linecolor\":\"white\",\"ticks\":\"\"}},\"title\":{\"x\":0.05},\"xaxis\":{\"automargin\":true,\"gridcolor\":\"white\",\"linecolor\":\"white\",\"ticks\":\"\",\"title\":{\"standoff\":15},\"zerolinecolor\":\"white\",\"zerolinewidth\":2},\"yaxis\":{\"automargin\":true,\"gridcolor\":\"white\",\"linecolor\":\"white\",\"ticks\":\"\",\"title\":{\"standoff\":15},\"zerolinecolor\":\"white\",\"zerolinewidth\":2}}},\"geo\":{\"domain\":{\"x\":[0.0,1.0],\"y\":[0.0,1.0]},\"center\":{},\"fitbounds\":\"locations\"},\"legend\":{\"title\":{\"text\":\"Suburb\"},\"tracegroupgap\":0},\"margin\":{\"t\":60}},                        {\"responsive\": true}                    ).then(function(){\n",
              "                            \n",
              "var gd = document.getElementById('4d3aabc0-4d00-458d-91c0-0aa8435a105a');\n",
              "var x = new MutationObserver(function (mutations, observer) {{\n",
              "        var display = window.getComputedStyle(gd).display;\n",
              "        if (!display || display === 'none') {{\n",
              "            console.log([gd, 'removed!']);\n",
              "            Plotly.purge(gd);\n",
              "            observer.disconnect();\n",
              "        }}\n",
              "}});\n",
              "\n",
              "// Listen for the removal of the full notebook cells\n",
              "var notebookContainer = gd.closest('#notebook-container');\n",
              "if (notebookContainer) {{\n",
              "    x.observe(notebookContainer, {childList: true});\n",
              "}}\n",
              "\n",
              "// Listen for the clearing of the current output cell\n",
              "var outputEl = gd.closest('.output');\n",
              "if (outputEl) {{\n",
              "    x.observe(outputEl, {childList: true});\n",
              "}}\n",
              "\n",
              "                        })                };                            </script>        </div>\n",
              "</body>\n",
              "</html>"
            ]
          },
          "metadata": {}
        }
      ]
    },
    {
      "cell_type": "code",
      "source": [
        "kaggle_df[\"CouncilArea\"].value_counts()"
      ],
      "metadata": {
        "colab": {
          "base_uri": "https://localhost:8080/"
        },
        "id": "s68D8CTUr86Z",
        "outputId": "539aa1b4-3047-4a2f-9dbd-27cf8021d818"
      },
      "id": "s68D8CTUr86Z",
      "execution_count": null,
      "outputs": [
        {
          "output_type": "execute_result",
          "data": {
            "text/plain": [
              "Moreland             1163\n",
              "Boroondara           1160\n",
              "Moonee Valley         997\n",
              "Darebin               934\n",
              "Glen Eira             848\n",
              "Stonnington           719\n",
              "Maribyrnong           692\n",
              "Yarra                 647\n",
              "Port Phillip          628\n",
              "Banyule               594\n",
              "Bayside               489\n",
              "Melbourne             470\n",
              "Hobsons Bay           434\n",
              "Brimbank              424\n",
              "Monash                333\n",
              "Manningham            311\n",
              "Whitehorse            304\n",
              "Kingston              207\n",
              "Whittlesea            167\n",
              "Hume                  164\n",
              "Wyndham                86\n",
              "Knox                   80\n",
              "Maroondah              80\n",
              "Melton                 66\n",
              "Frankston              53\n",
              "Greater Dandenong      52\n",
              "Casey                  38\n",
              "Nillumbik              36\n",
              "Yarra Ranges           18\n",
              "Cardinia                8\n",
              "Macedon Ranges          7\n",
              "Unavailable             1\n",
              "Moorabool               1\n",
              "Name: CouncilArea, dtype: int64"
            ]
          },
          "metadata": {},
          "execution_count": 10
        }
      ]
    },
    {
      "cell_type": "markdown",
      "id": "6cffe5bf-2498-498c-aa06-3e61422d91e6",
      "metadata": {
        "id": "6cffe5bf-2498-498c-aa06-3e61422d91e6"
      },
      "source": [
        "## Ejercicio 1 SQL: \n",
        "\n",
        "1. Crear una base de datos en SQLite utilizando la libreria [SQLalchemy](https://stackoverflow.com/questions/2268050/execute-sql-from-file-in-sqlalchemy).\n",
        "https://docs.sqlalchemy.org/en/14/core/engines.html#sqlite\n",
        "\n"
      ]
    },
    {
      "cell_type": "code",
      "source": [
        "# Creamos la conexi+on a la base de datos\n",
        "engine = create_engine('sqlite:///sysarmy.sqlite3', echo=True)"
      ],
      "metadata": {
        "id": "aGN5H-kePDcr"
      },
      "id": "aGN5H-kePDcr",
      "execution_count": null,
      "outputs": []
    },
    {
      "cell_type": "markdown",
      "source": [
        "2. Ingestar los datos provistos en 'https://cs.famaf.unc.edu.ar/~mteruel/datasets/diplodatos/melb_data.csv' en una tabla y el dataset generado en clase con datos de airbnb y sus precios por codigo postal en otra."
      ],
      "metadata": {
        "id": "4wRlXGC-PBIh"
      },
      "id": "4wRlXGC-PBIh"
    },
    {
      "cell_type": "code",
      "source": [
        "# Ingesta de datos sobre estimación de precios de ventas de propiedades en Melbourne, Australia; de Kaggle.\n",
        "# Se crea una base de datos nueva para ser usada con lenguaje SQL\n",
        "kaggle_df.to_sql('kaggle_sql', con=engine, if_exists=\"replace\")"
      ],
      "metadata": {
        "colab": {
          "base_uri": "https://localhost:8080/"
        },
        "id": "ulzlpVDYQeq4",
        "outputId": "efa45987-5023-4d62-dea9-ce7fe39df9ef"
      },
      "id": "ulzlpVDYQeq4",
      "execution_count": null,
      "outputs": [
        {
          "output_type": "stream",
          "name": "stdout",
          "text": [
            "2022-04-26 00:53:37,037 INFO sqlalchemy.engine.Engine PRAGMA main.table_info(\"kaggle_sql\")\n",
            "2022-04-26 00:53:37,040 INFO sqlalchemy.engine.Engine [raw sql] ()\n",
            "2022-04-26 00:53:37,047 INFO sqlalchemy.engine.Engine PRAGMA temp.table_info(\"kaggle_sql\")\n",
            "2022-04-26 00:53:37,050 INFO sqlalchemy.engine.Engine [raw sql] ()\n",
            "2022-04-26 00:53:37,061 INFO sqlalchemy.engine.Engine BEGIN (implicit)\n",
            "2022-04-26 00:53:37,065 INFO sqlalchemy.engine.Engine \n",
            "CREATE TABLE kaggle_sql (\n",
            "\t\"index\" BIGINT, \n",
            "\t\"Suburb\" TEXT, \n",
            "\t\"Address\" TEXT, \n",
            "\t\"Rooms\" BIGINT, \n",
            "\t\"Type\" TEXT, \n",
            "\t\"Price\" FLOAT, \n",
            "\t\"Method\" TEXT, \n",
            "\t\"SellerG\" TEXT, \n",
            "\t\"Date\" TEXT, \n",
            "\t\"Distance\" FLOAT, \n",
            "\t\"Postcode\" FLOAT, \n",
            "\t\"Bedroom2\" FLOAT, \n",
            "\t\"Bathroom\" FLOAT, \n",
            "\t\"Car\" FLOAT, \n",
            "\t\"Landsize\" FLOAT, \n",
            "\t\"BuildingArea\" FLOAT, \n",
            "\t\"YearBuilt\" FLOAT, \n",
            "\t\"CouncilArea\" TEXT, \n",
            "\t\"Lattitude\" FLOAT, \n",
            "\t\"Longtitude\" FLOAT, \n",
            "\t\"Regionname\" TEXT, \n",
            "\t\"Propertycount\" FLOAT\n",
            ")\n",
            "\n",
            "\n",
            "2022-04-26 00:53:37,071 INFO sqlalchemy.engine.Engine [no key 0.00638s] ()\n",
            "2022-04-26 00:53:37,094 INFO sqlalchemy.engine.Engine CREATE INDEX ix_kaggle_sql_index ON kaggle_sql (\"index\")\n",
            "2022-04-26 00:53:37,095 INFO sqlalchemy.engine.Engine [no key 0.00145s] ()\n",
            "2022-04-26 00:53:37,109 INFO sqlalchemy.engine.Engine COMMIT\n",
            "2022-04-26 00:53:37,138 INFO sqlalchemy.engine.Engine BEGIN (implicit)\n",
            "2022-04-26 00:53:37,751 INFO sqlalchemy.engine.Engine INSERT INTO kaggle_sql (\"index\", \"Suburb\", \"Address\", \"Rooms\", \"Type\", \"Price\", \"Method\", \"SellerG\", \"Date\", \"Distance\", \"Postcode\", \"Bedroom2\", \"Bathroom\", \"Car\", \"Landsize\", \"BuildingArea\", \"YearBuilt\", \"CouncilArea\", \"Lattitude\", \"Longtitude\", \"Regionname\", \"Propertycount\") VALUES (?, ?, ?, ?, ?, ?, ?, ?, ?, ?, ?, ?, ?, ?, ?, ?, ?, ?, ?, ?, ?, ?)\n",
            "2022-04-26 00:53:37,753 INFO sqlalchemy.engine.Engine [generated in 0.56364s] ((0, 'Abbotsford', '85 Turner St', 2, 'h', 1480000.0, 'S', 'Biggin', '3/12/2016', 2.5, 3067.0, 2.0, 1.0, 1.0, 202.0, None, None, 'Yarra', -37.7996, 144.9984, 'Northern Metropolitan', 4019.0), (1, 'Abbotsford', '25 Bloomburg St', 2, 'h', 1035000.0, 'S', 'Biggin', '4/02/2016', 2.5, 3067.0, 2.0, 1.0, 0.0, 156.0, 79.0, 1900.0, 'Yarra', -37.8079, 144.9934, 'Northern Metropolitan', 4019.0), (2, 'Abbotsford', '5 Charles St', 3, 'h', 1465000.0, 'SP', 'Biggin', '4/03/2017', 2.5, 3067.0, 3.0, 2.0, 0.0, 134.0, 150.0, 1900.0, 'Yarra', -37.8093, 144.9944, 'Northern Metropolitan', 4019.0), (3, 'Abbotsford', '40 Federation La', 3, 'h', 850000.0, 'PI', 'Biggin', '4/03/2017', 2.5, 3067.0, 3.0, 2.0, 1.0, 94.0, None, None, 'Yarra', -37.7969, 144.9969, 'Northern Metropolitan', 4019.0), (4, 'Abbotsford', '55a Park St', 4, 'h', 1600000.0, 'VB', 'Nelson', '4/06/2016', 2.5, 3067.0, 3.0, 1.0, 2.0, 120.0, 142.0, 2014.0, 'Yarra', -37.8072, 144.9941, 'Northern Metropolitan', 4019.0), (5, 'Abbotsford', '129 Charles St', 2, 'h', 941000.0, 'S', 'Jellis', '7/05/2016', 2.5, 3067.0, 2.0, 1.0, 0.0, 181.0, None, None, 'Yarra', -37.8041, 144.9953, 'Northern Metropolitan', 4019.0), (6, 'Abbotsford', '124 Yarra St', 3, 'h', 1876000.0, 'S', 'Nelson', '7/05/2016', 2.5, 3067.0, 4.0, 2.0, 0.0, 245.0, 210.0, 1910.0, 'Yarra', -37.8024, 144.9993, 'Northern Metropolitan', 4019.0), (7, 'Abbotsford', '98 Charles St', 2, 'h', 1636000.0, 'S', 'Nelson', '8/10/2016', 2.5, 3067.0, 2.0, 1.0, 2.0, 256.0, 107.0, 1890.0, 'Yarra', -37.806, 144.9954, 'Northern Metropolitan', 4019.0)  ... displaying 10 of 13580 total bound parameter sets ...  (13578, 'Williamstown', '96 Verdon St', 4, 'h', 2500000.0, 'PI', 'Sweeney', '26/08/2017', 6.8, 3016.0, 4.0, 1.0, 5.0, 866.0, 157.0, 1920.0, None, -37.85908, 144.89299, 'Western Metropolitan', 6380.0), (13579, 'Yarraville', '6 Agnes St', 4, 'h', 1285000.0, 'SP', 'Village', '26/08/2017', 6.3, 3013.0, 4.0, 1.0, 1.0, 362.0, 112.0, 1920.0, None, -37.81188, 144.88449, 'Western Metropolitan', 6543.0))\n",
            "2022-04-26 00:53:37,861 INFO sqlalchemy.engine.Engine COMMIT\n"
          ]
        }
      ]
    },
    {
      "cell_type": "code",
      "source": [
        "# Ingesta de datos de conjunto Airbnb\n",
        "interesting_cols = [\n",
        "  'description', 'neighborhood_overview',\n",
        "  'street', 'neighborhood', 'city', 'suburb', 'state', 'zipcode',\n",
        "  'price', 'weekly_price', 'monthly_price',\n",
        "  'latitude', 'longitude',\n",
        "]\n",
        "airbnb_df = pandas.read_csv(\n",
        "    'https://cs.famaf.unc.edu.ar/~mteruel/datasets/diplodatos/cleansed_listings_dec18.csv',\n",
        "    usecols=interesting_cols)\n",
        "airbnb_df.to_sql('airbnb_sql', con=engine, if_exists=\"replace\")"
      ],
      "metadata": {
        "id": "iJcuL5jkYik0"
      },
      "id": "iJcuL5jkYik0",
      "execution_count": null,
      "outputs": []
    },
    {
      "cell_type": "code",
      "source": [
        "# Exploración del dataset\n",
        "airbnb_df.columns"
      ],
      "metadata": {
        "colab": {
          "base_uri": "https://localhost:8080/"
        },
        "id": "jn0kuvqZd1B-",
        "outputId": "e343499a-e199-4725-828d-e92bb9e5faef"
      },
      "id": "jn0kuvqZd1B-",
      "execution_count": null,
      "outputs": [
        {
          "output_type": "execute_result",
          "data": {
            "text/plain": [
              "Index(['description', 'neighborhood_overview', 'street', 'neighborhood',\n",
              "       'city', 'suburb', 'state', 'zipcode', 'latitude', 'longitude', 'price',\n",
              "       'weekly_price', 'monthly_price'],\n",
              "      dtype='object')"
            ]
          },
          "metadata": {},
          "execution_count": 14
        }
      ]
    },
    {
      "cell_type": "code",
      "source": [
        "airbnb_df[\"city\"].unique()"
      ],
      "metadata": {
        "colab": {
          "base_uri": "https://localhost:8080/"
        },
        "id": "RS5CJm8heZwu",
        "outputId": "ea660d91-631b-4da8-c9b3-6c44db633fb4"
      },
      "id": "RS5CJm8heZwu",
      "execution_count": null,
      "outputs": [
        {
          "output_type": "execute_result",
          "data": {
            "text/plain": [
              "array(['Manningham', 'Moreland', 'Port Phillip', 'Darebin', 'Casey',\n",
              "       'Melbourne', 'Monash', 'Frankston', 'Yarra', 'Bayside',\n",
              "       'Boroondara', 'Kingston', 'Stonnington', 'Glen Eira', 'Maroondah',\n",
              "       'Maribyrnong', 'Yarra Ranges', 'Banyule', 'Whitehorse', 'Melton',\n",
              "       'Brimbank', 'Hobsons Bay', 'Wyndham', 'Moonee Valley',\n",
              "       'Whittlesea', 'Greater Dandenong', 'Nillumbik', 'Knox', 'Cardinia',\n",
              "       'Hume'], dtype=object)"
            ]
          },
          "metadata": {},
          "execution_count": 15
        }
      ]
    },
    {
      "cell_type": "code",
      "source": [
        "# Hay dos columnas que hacen referencias a barrios. Nos quedamos con la columna \"suburb\" que posee muchos mas datos no nulos\n",
        "airbnb_df[[\"suburb\", \"neighborhood\"]].info()"
      ],
      "metadata": {
        "colab": {
          "base_uri": "https://localhost:8080/"
        },
        "id": "xiJIP6XjxGWz",
        "outputId": "7cd3ce04-7679-49bb-8298-598ef793be6f"
      },
      "id": "xiJIP6XjxGWz",
      "execution_count": null,
      "outputs": [
        {
          "output_type": "stream",
          "name": "stdout",
          "text": [
            "<class 'pandas.core.frame.DataFrame'>\n",
            "RangeIndex: 22895 entries, 0 to 22894\n",
            "Data columns (total 2 columns):\n",
            " #   Column        Non-Null Count  Dtype \n",
            "---  ------        --------------  ----- \n",
            " 0   suburb        22872 non-null  object\n",
            " 1   neighborhood  17082 non-null  object\n",
            "dtypes: object(2)\n",
            "memory usage: 357.9+ KB\n"
          ]
        }
      ]
    },
    {
      "cell_type": "markdown",
      "source": [
        "3. Implementar consultas en SQL que respondan con la siguiente información:\n",
        "\n",
        "    - cantidad de registros totales por ciudad.\n",
        "    - cantidad de registros totales por barrio y ciudad."
      ],
      "metadata": {
        "id": "i9uuElUVYnAX"
      },
      "id": "i9uuElUVYnAX"
    },
    {
      "cell_type": "code",
      "source": [
        "# Cantidad de registros totales por ciudad en dataset Kaggle\n",
        "query1 = \"SELECT CouncilArea, COUNT(CouncilArea) FROM kaggle_sql GROUP BY CouncilArea\"\n",
        "          \n",
        "# Cantidad de registros totales por ciudad en dataset Airbnb\n",
        "query2 = \"SELECT city, COUNT(city) FROM airbnb_sql GROUP BY city\"\n",
        "\n",
        "# Cantidad de registros totales por barrio y ciudad en Kaggle\n",
        "query3 = \"SELECT CouncilArea, Suburb, COUNT(Suburb) FROM kaggle_sql GROUP BY Suburb ORDER BY CouncilArea\"\n",
        "\n",
        "# Cantidad de registros totales por barrio y ciudad en Airbnb\n",
        "query4 = \"SELECT city, suburb, COUNT(suburb) FROM airbnb_sql GROUP BY suburb ORDER BY city\" \n",
        "\n",
        "# Listamos los queries de consulta\n",
        "queries = [query1, query2, query3, query4]\n",
        "\n",
        "# Conectamos a la base de datos y sistematizamos las consultas con un bucle For\n",
        "with engine.connect() as con:\n",
        "    for query in queries:\n",
        "      rs = con.execute(query)\n",
        "      print(query)\n",
        "      for row in rs:\n",
        "          print(row)\n",
        "      print('\\n\\n')\n"
      ],
      "metadata": {
        "id": "yJi7UxRRYqTt"
      },
      "id": "yJi7UxRRYqTt",
      "execution_count": null,
      "outputs": []
    },
    {
      "cell_type": "markdown",
      "source": [
        "4. Combinar los datasets de ambas tablas ingestadas utilizando el comando JOIN de SQL  para obtener un resultado similar a lo realizado con Pandas en clase."
      ],
      "metadata": {
        "id": "MinOopZpYql4"
      },
      "id": "MinOopZpYql4"
    },
    {
      "cell_type": "code",
      "source": [
        "# No tengo claro a qué se refiere con obtener un resultado similar a lo realizado en clase. \n",
        "# Supongo que es el merge que se hizo de ambos datasets y que  resulta en un dataset gigante de 2.139.684 registros \n",
        "# Por ello, realicé lo señalado en la consigna, pero SI SE EJECUTA EL CODIGO SE CUELGA, YA SEA EN COLAB O EN JUPYTER LOCAL\n",
        "\n",
        "#query5 = \"SELECT * FROM kaggle_sql INNER JOIN airbnb_sql ON kaggle_sql.Postcode = airbnb_sql.zipcode\"\n",
        "queries = [query5]\n",
        "with engine.connect() as con:\n",
        "    for query in queries:\n",
        "      rs = con.execute(query)\n",
        "      print(query)\n",
        "      for row in rs:\n",
        "          print(row)"
      ],
      "metadata": {
        "id": "Jn_Ej3fDauNx"
      },
      "id": "Jn_Ej3fDauNx",
      "execution_count": null,
      "outputs": []
    },
    {
      "cell_type": "markdown",
      "id": "c5468c4f-5cdf-4df4-a317-60e1fb0c00db",
      "metadata": {
        "id": "c5468c4f-5cdf-4df4-a317-60e1fb0c00db"
      },
      "source": [
        "## Ejercicio 2: \n",
        "\n",
        "1. Seleccionar un subconjunto de columnas que les parezcan relevantes al problema de predicción del valor de la propiedad. Justificar las columnas seleccionadas y las que no lo fueron.\n",
        " - Eliminar los valores extremos que no sean relevantes para la predicción de valores de las propiedades.\n",
        "\n",
        "2. Agregar información adicional respectiva al entorno de una propiedad a partir del [conjunto de datos de AirBnB](https://www.kaggle.com/tylerx/melbourne-airbnb-open-data?select=cleansed_listings_dec18.csv) utilizado en el práctico. \n",
        "  1. Seleccionar qué variables agregar y qué combinaciones aplicar a cada una. Por ejemplo, pueden utilizar solo la columna `price`, o aplicar múltiples transformaciones como la mediana o el mínimo.\n",
        "  1. Utilizar la variable zipcode para unir los conjuntos de datos. Sólo incluir los zipcodes que tengan una cantidad mínima de registros (a elección) como para que la información agregada sea relevante.\n",
        "  2. Investigar al menos otras 2 variables que puedan servir para combinar los datos, y justificar si serían adecuadas o no. Pueden asumir que cuentan con la ayuda de anotadores expertos para encontrar equivalencias entre barrios o direcciones, o que cuentan con algoritmos para encontrar las n ubicaciones más cercanas a una propiedad a partir de sus coordenadas geográficas. **NO** es necesario que realicen la implementación.\n",
        "\n",
        "Pueden leer otras columnas del conjunto de AirBnB además de las que están en `interesting_cols`, si les parecen relevantes."
      ]
    },
    {
      "cell_type": "markdown",
      "id": "c5303f27-3b15-441b-b291-8caf1c734139",
      "metadata": {
        "id": "c5303f27-3b15-441b-b291-8caf1c734139"
      },
      "source": [
        "## Ejercicio 3:\n",
        "\n",
        "Crear y guardar un nuevo conjunto de datos con todas las transformaciones realizadas anteriormente."
      ]
    },
    {
      "cell_type": "markdown",
      "id": "abfd3eeb-d466-424b-b58e-d1364ac39206",
      "metadata": {
        "id": "abfd3eeb-d466-424b-b58e-d1364ac39206"
      },
      "source": [
        "## Ejercicios opcionales:\n",
        "\n",
        "1. Armar un script en python (archivo .py) [ETL](https://towardsdatascience.com/what-to-log-from-python-etl-pipelines-9e0cfe29950e) que corra los pasos de extraccion, transformacion y carga, armando una funcion para cada etapa del proceso y luego un main que corra todos los pasos requeridos.\n",
        "\n",
        "2. Armar un DAG en Apache Airflow que corra el ETL. (https://airflow.apache.org/docs/apache-airflow/stable/tutorial.html)"
      ]
    }
  ],
  "metadata": {
    "kernelspec": {
      "display_name": "Python 3",
      "language": "python",
      "name": "python3"
    },
    "language_info": {
      "codemirror_mode": {
        "name": "ipython",
        "version": 3
      },
      "file_extension": ".py",
      "mimetype": "text/x-python",
      "name": "python",
      "nbconvert_exporter": "python",
      "pygments_lexer": "ipython3",
      "version": "3.8.8"
    },
    "colab": {
      "name": "Práctico2_Grupo32_Ejercicio1_SGO_v1.ipynb",
      "provenance": [],
      "collapsed_sections": [],
      "include_colab_link": true
    }
  },
  "nbformat": 4,
  "nbformat_minor": 5
}