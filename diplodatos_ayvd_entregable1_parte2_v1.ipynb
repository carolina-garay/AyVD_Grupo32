{
  "nbformat": 4,
  "nbformat_minor": 0,
  "metadata": {
    "colab": {
      "name": "diplodatos_ayvd_entregable1_parte2_v1.ipynb",
      "provenance": [],
      "collapsed_sections": []
    },
    "kernelspec": {
      "name": "python3",
      "display_name": "Python 3"
    }
  },
  "cells": [
    {
      "cell_type": "markdown",
      "metadata": {
        "id": "LYvAOR2VzHmW"
      },
      "source": [
        "\n",
        "**Diplomatura en Ciencia de Datos, Aprendizaje Automático y sus Aplicaciones**\n",
        "\n",
        "**Edición 2022**\n",
        "\n",
        "---\n",
        "\n",
        "# Trabajo práctico entregable - Parte 2"
      ]
    },
    {
      "cell_type": "code",
      "metadata": {
        "id": "Xwdfo7z20TUK"
      },
      "source": [
        "import io\n",
        "import matplotlib\n",
        "import matplotlib.pyplot as plt\n",
        "import numpy\n",
        "import pandas as pd\n",
        "import seaborn as sns\n",
        "import scipy.stats as stats\n",
        "\n",
        "sns.set_context('talk')"
      ],
      "execution_count": 1,
      "outputs": []
    },
    {
      "cell_type": "markdown",
      "metadata": {
        "id": "XY2Hl-Ma07Nn"
      },
      "source": [
        "## Lectura del dataset\n",
        "\n",
        "En la notebook 00 se explican los detalles de la siguiente sección."
      ]
    },
    {
      "cell_type": "code",
      "metadata": {
        "id": "Vviv_sqXdR5W"
      },
      "source": [
        "url = 'https://cs.famaf.unc.edu.ar/~mteruel/datasets/diplodatos/sysarmy_survey_2020_processed.csv'\n",
        "df = pd.read_csv(url)"
      ],
      "execution_count": 2,
      "outputs": []
    },
    {
      "cell_type": "code",
      "metadata": {
        "id": "gckNHXXLktJ4",
        "colab": {
          "base_uri": "https://localhost:8080/"
        },
        "outputId": "f500669f-66d8-4864-adcf-b2a89106cb31"
      },
      "source": [
        "df.shape"
      ],
      "execution_count": 3,
      "outputs": [
        {
          "output_type": "execute_result",
          "data": {
            "text/plain": [
              "(6095, 48)"
            ]
          },
          "metadata": {},
          "execution_count": 3
        }
      ]
    },
    {
      "cell_type": "code",
      "source": [
        "df.columns"
      ],
      "metadata": {
        "colab": {
          "base_uri": "https://localhost:8080/"
        },
        "id": "bGinqbb6IKt2",
        "outputId": "3c4a01f6-3ac2-4fdb-a89e-b3258fd95efc"
      },
      "execution_count": 4,
      "outputs": [
        {
          "output_type": "execute_result",
          "data": {
            "text/plain": [
              "Index(['profile_gender', 'profile_age', 'work_country', 'work_province',\n",
              "       'profile_years_experience', 'work_years_in_company',\n",
              "       'work_years_in_current_position', 'work_people_in_charge_of',\n",
              "       'profile_studies_level', 'profile_studies_level_state',\n",
              "       'profile_career', 'profile_university',\n",
              "       'profile_specialization_courses', 'profile_open_source_contributions',\n",
              "       'profile_programming_as_hobby', 'work_role', 'tools_platform',\n",
              "       'tools_programming_languages', 'tools_frameworks', 'tools_data_bases',\n",
              "       'tools_qa_testing', 'tools_IDEs', 'tools_work_pc_os',\n",
              "       'tools_cellphone_os', 'work_on_call_duty', 'salary_on_call_duty_charge',\n",
              "       'work_on_call_duty_charge_type', 'work_contract_type',\n",
              "       'salary_monthly_BRUTO', 'salary_monthly_NETO', 'salary_in_usd',\n",
              "       'salary_satisfaction', 'salary_comparison_last_semester',\n",
              "       'salary_has_bonus', 'salary_bonus_tied_to',\n",
              "       'salary_inflation_adjustment_2020',\n",
              "       'salary_percentage_inflation_adjustment_2020',\n",
              "       'salary_month_last_inflation_adjustment',\n",
              "       'work_has_violence_situations', 'profile_sexual_orientation',\n",
              "       'profile_has_disabilities',\n",
              "       'profile_has_disabilities_hiring_difficulties',\n",
              "       'company_employee_number', 'company_main_activity',\n",
              "       'company_recommended', 'company_diversity_policies',\n",
              "       'company_extra_benefits', 'company_best_companies_city'],\n",
              "      dtype='object')"
            ]
          },
          "metadata": {},
          "execution_count": 4
        }
      ]
    },
    {
      "cell_type": "code",
      "source": [
        "df[:3]"
      ],
      "metadata": {
        "colab": {
          "base_uri": "https://localhost:8080/",
          "height": 324
        },
        "id": "vNE0byH9IlIu",
        "outputId": "c058578d-7580-41dc-fa94-4f59c95b5e2c"
      },
      "execution_count": 5,
      "outputs": [
        {
          "output_type": "execute_result",
          "data": {
            "text/plain": [
              "  profile_gender  profile_age work_country                    work_province  \\\n",
              "0          Mujer           26    Argentina  Ciudad Autónoma de Buenos Aires   \n",
              "1         Hombre           29    Argentina                       Corrientes   \n",
              "2          Mujer           22    Argentina  Ciudad Autónoma de Buenos Aires   \n",
              "\n",
              "   profile_years_experience  work_years_in_company  \\\n",
              "0                       3.0                    3.0   \n",
              "1                       5.0                    2.0   \n",
              "2                       2.0                    0.0   \n",
              "\n",
              "   work_years_in_current_position  work_people_in_charge_of  \\\n",
              "0                             3.0                         0   \n",
              "1                             2.0                         4   \n",
              "2                             0.0                         0   \n",
              "\n",
              "  profile_studies_level profile_studies_level_state  ...  \\\n",
              "0         Universitario                    En curso  ...   \n",
              "1         Universitario                    En curso  ...   \n",
              "2            Secundario                  Completado  ...   \n",
              "\n",
              "  work_has_violence_situations profile_sexual_orientation  \\\n",
              "0         En mi trabajo actual                 Homosexual   \n",
              "1                        Jamás               Heterosexual   \n",
              "2       En un trabajo anterior           Bisexual o queer   \n",
              "\n",
              "  profile_has_disabilities profile_has_disabilities_hiring_difficulties  \\\n",
              "0                      NaN                                          NaN   \n",
              "1                   Visual                                           No   \n",
              "2                      NaN                                           No   \n",
              "\n",
              "  company_employee_number                          company_main_activity  \\\n",
              "0                501-1000  Servicios / Consultoría de Software / Digital   \n",
              "1                 201-500                               Otras industrias   \n",
              "2               2001-5000                               Otras industrias   \n",
              "\n",
              "  company_recommended company_diversity_policies  \\\n",
              "0                   7                          2   \n",
              "1                   8                          9   \n",
              "2                   6                          9   \n",
              "\n",
              "                              company_extra_benefits  \\\n",
              "0  Capacitaciones y/o cursos, Comidas pagas / sub...   \n",
              "1  Horarios flexibles, Stock options / RSUs, Viát...   \n",
              "2  Clases de gimnasia online, Comidas pagas / sub...   \n",
              "\n",
              "  company_best_companies_city  \n",
              "0                         NaN  \n",
              "1                         NaN  \n",
              "2                         NaN  \n",
              "\n",
              "[3 rows x 48 columns]"
            ],
            "text/html": [
              "\n",
              "  <div id=\"df-908e969b-92a7-479a-81b8-a1988e87276c\">\n",
              "    <div class=\"colab-df-container\">\n",
              "      <div>\n",
              "<style scoped>\n",
              "    .dataframe tbody tr th:only-of-type {\n",
              "        vertical-align: middle;\n",
              "    }\n",
              "\n",
              "    .dataframe tbody tr th {\n",
              "        vertical-align: top;\n",
              "    }\n",
              "\n",
              "    .dataframe thead th {\n",
              "        text-align: right;\n",
              "    }\n",
              "</style>\n",
              "<table border=\"1\" class=\"dataframe\">\n",
              "  <thead>\n",
              "    <tr style=\"text-align: right;\">\n",
              "      <th></th>\n",
              "      <th>profile_gender</th>\n",
              "      <th>profile_age</th>\n",
              "      <th>work_country</th>\n",
              "      <th>work_province</th>\n",
              "      <th>profile_years_experience</th>\n",
              "      <th>work_years_in_company</th>\n",
              "      <th>work_years_in_current_position</th>\n",
              "      <th>work_people_in_charge_of</th>\n",
              "      <th>profile_studies_level</th>\n",
              "      <th>profile_studies_level_state</th>\n",
              "      <th>...</th>\n",
              "      <th>work_has_violence_situations</th>\n",
              "      <th>profile_sexual_orientation</th>\n",
              "      <th>profile_has_disabilities</th>\n",
              "      <th>profile_has_disabilities_hiring_difficulties</th>\n",
              "      <th>company_employee_number</th>\n",
              "      <th>company_main_activity</th>\n",
              "      <th>company_recommended</th>\n",
              "      <th>company_diversity_policies</th>\n",
              "      <th>company_extra_benefits</th>\n",
              "      <th>company_best_companies_city</th>\n",
              "    </tr>\n",
              "  </thead>\n",
              "  <tbody>\n",
              "    <tr>\n",
              "      <th>0</th>\n",
              "      <td>Mujer</td>\n",
              "      <td>26</td>\n",
              "      <td>Argentina</td>\n",
              "      <td>Ciudad Autónoma de Buenos Aires</td>\n",
              "      <td>3.0</td>\n",
              "      <td>3.0</td>\n",
              "      <td>3.0</td>\n",
              "      <td>0</td>\n",
              "      <td>Universitario</td>\n",
              "      <td>En curso</td>\n",
              "      <td>...</td>\n",
              "      <td>En mi trabajo actual</td>\n",
              "      <td>Homosexual</td>\n",
              "      <td>NaN</td>\n",
              "      <td>NaN</td>\n",
              "      <td>501-1000</td>\n",
              "      <td>Servicios / Consultoría de Software / Digital</td>\n",
              "      <td>7</td>\n",
              "      <td>2</td>\n",
              "      <td>Capacitaciones y/o cursos, Comidas pagas / sub...</td>\n",
              "      <td>NaN</td>\n",
              "    </tr>\n",
              "    <tr>\n",
              "      <th>1</th>\n",
              "      <td>Hombre</td>\n",
              "      <td>29</td>\n",
              "      <td>Argentina</td>\n",
              "      <td>Corrientes</td>\n",
              "      <td>5.0</td>\n",
              "      <td>2.0</td>\n",
              "      <td>2.0</td>\n",
              "      <td>4</td>\n",
              "      <td>Universitario</td>\n",
              "      <td>En curso</td>\n",
              "      <td>...</td>\n",
              "      <td>Jamás</td>\n",
              "      <td>Heterosexual</td>\n",
              "      <td>Visual</td>\n",
              "      <td>No</td>\n",
              "      <td>201-500</td>\n",
              "      <td>Otras industrias</td>\n",
              "      <td>8</td>\n",
              "      <td>9</td>\n",
              "      <td>Horarios flexibles, Stock options / RSUs, Viát...</td>\n",
              "      <td>NaN</td>\n",
              "    </tr>\n",
              "    <tr>\n",
              "      <th>2</th>\n",
              "      <td>Mujer</td>\n",
              "      <td>22</td>\n",
              "      <td>Argentina</td>\n",
              "      <td>Ciudad Autónoma de Buenos Aires</td>\n",
              "      <td>2.0</td>\n",
              "      <td>0.0</td>\n",
              "      <td>0.0</td>\n",
              "      <td>0</td>\n",
              "      <td>Secundario</td>\n",
              "      <td>Completado</td>\n",
              "      <td>...</td>\n",
              "      <td>En un trabajo anterior</td>\n",
              "      <td>Bisexual o queer</td>\n",
              "      <td>NaN</td>\n",
              "      <td>No</td>\n",
              "      <td>2001-5000</td>\n",
              "      <td>Otras industrias</td>\n",
              "      <td>6</td>\n",
              "      <td>9</td>\n",
              "      <td>Clases de gimnasia online, Comidas pagas / sub...</td>\n",
              "      <td>NaN</td>\n",
              "    </tr>\n",
              "  </tbody>\n",
              "</table>\n",
              "<p>3 rows × 48 columns</p>\n",
              "</div>\n",
              "      <button class=\"colab-df-convert\" onclick=\"convertToInteractive('df-908e969b-92a7-479a-81b8-a1988e87276c')\"\n",
              "              title=\"Convert this dataframe to an interactive table.\"\n",
              "              style=\"display:none;\">\n",
              "        \n",
              "  <svg xmlns=\"http://www.w3.org/2000/svg\" height=\"24px\"viewBox=\"0 0 24 24\"\n",
              "       width=\"24px\">\n",
              "    <path d=\"M0 0h24v24H0V0z\" fill=\"none\"/>\n",
              "    <path d=\"M18.56 5.44l.94 2.06.94-2.06 2.06-.94-2.06-.94-.94-2.06-.94 2.06-2.06.94zm-11 1L8.5 8.5l.94-2.06 2.06-.94-2.06-.94L8.5 2.5l-.94 2.06-2.06.94zm10 10l.94 2.06.94-2.06 2.06-.94-2.06-.94-.94-2.06-.94 2.06-2.06.94z\"/><path d=\"M17.41 7.96l-1.37-1.37c-.4-.4-.92-.59-1.43-.59-.52 0-1.04.2-1.43.59L10.3 9.45l-7.72 7.72c-.78.78-.78 2.05 0 2.83L4 21.41c.39.39.9.59 1.41.59.51 0 1.02-.2 1.41-.59l7.78-7.78 2.81-2.81c.8-.78.8-2.07 0-2.86zM5.41 20L4 18.59l7.72-7.72 1.47 1.35L5.41 20z\"/>\n",
              "  </svg>\n",
              "      </button>\n",
              "      \n",
              "  <style>\n",
              "    .colab-df-container {\n",
              "      display:flex;\n",
              "      flex-wrap:wrap;\n",
              "      gap: 12px;\n",
              "    }\n",
              "\n",
              "    .colab-df-convert {\n",
              "      background-color: #E8F0FE;\n",
              "      border: none;\n",
              "      border-radius: 50%;\n",
              "      cursor: pointer;\n",
              "      display: none;\n",
              "      fill: #1967D2;\n",
              "      height: 32px;\n",
              "      padding: 0 0 0 0;\n",
              "      width: 32px;\n",
              "    }\n",
              "\n",
              "    .colab-df-convert:hover {\n",
              "      background-color: #E2EBFA;\n",
              "      box-shadow: 0px 1px 2px rgba(60, 64, 67, 0.3), 0px 1px 3px 1px rgba(60, 64, 67, 0.15);\n",
              "      fill: #174EA6;\n",
              "    }\n",
              "\n",
              "    [theme=dark] .colab-df-convert {\n",
              "      background-color: #3B4455;\n",
              "      fill: #D2E3FC;\n",
              "    }\n",
              "\n",
              "    [theme=dark] .colab-df-convert:hover {\n",
              "      background-color: #434B5C;\n",
              "      box-shadow: 0px 1px 3px 1px rgba(0, 0, 0, 0.15);\n",
              "      filter: drop-shadow(0px 1px 2px rgba(0, 0, 0, 0.3));\n",
              "      fill: #FFFFFF;\n",
              "    }\n",
              "  </style>\n",
              "\n",
              "      <script>\n",
              "        const buttonEl =\n",
              "          document.querySelector('#df-908e969b-92a7-479a-81b8-a1988e87276c button.colab-df-convert');\n",
              "        buttonEl.style.display =\n",
              "          google.colab.kernel.accessAllowed ? 'block' : 'none';\n",
              "\n",
              "        async function convertToInteractive(key) {\n",
              "          const element = document.querySelector('#df-908e969b-92a7-479a-81b8-a1988e87276c');\n",
              "          const dataTable =\n",
              "            await google.colab.kernel.invokeFunction('convertToInteractive',\n",
              "                                                     [key], {});\n",
              "          if (!dataTable) return;\n",
              "\n",
              "          const docLinkHtml = 'Like what you see? Visit the ' +\n",
              "            '<a target=\"_blank\" href=https://colab.research.google.com/notebooks/data_table.ipynb>data table notebook</a>'\n",
              "            + ' to learn more about interactive tables.';\n",
              "          element.innerHTML = '';\n",
              "          dataTable['output_type'] = 'display_data';\n",
              "          await google.colab.output.renderOutput(dataTable, element);\n",
              "          const docLink = document.createElement('div');\n",
              "          docLink.innerHTML = docLinkHtml;\n",
              "          element.appendChild(docLink);\n",
              "        }\n",
              "      </script>\n",
              "    </div>\n",
              "  </div>\n",
              "  "
            ]
          },
          "metadata": {},
          "execution_count": 5
        }
      ]
    },
    {
      "cell_type": "code",
      "metadata": {
        "id": "2lzmzK1NuPNT"
      },
      "source": [
        "#df[['profile_gender', 'salary_monthly_NETO']].groupby('profile_gender').describe()\n",
        "\n",
        "salary_COL = \"salary_monthly_NETO\"\n",
        "\n",
        "# function that copy a new dataframe and delete NaN Values\n",
        "def clean_dataframe(df, salary_COL):\n",
        "  df = df.copy()\n",
        "  # Delete repeated rows\n",
        "  df.drop_duplicates(keep='first', inplace=True)\n",
        "  df = df.reset_index(drop=True)\n",
        "  # Delete NULL values\n",
        "  df = df[df[salary_COL].notna()]  \n",
        "  df = df[(df[salary_COL] > 54207) & (df[salary_COL] < 542070)]\n",
        "  # Reset the index\n",
        "  df = df.reset_index(drop=True)\n",
        "  return df"
      ],
      "execution_count": 6,
      "outputs": []
    },
    {
      "cell_type": "code",
      "metadata": {
        "colab": {
          "base_uri": "https://localhost:8080/"
        },
        "id": "pycKJ5jWkShW",
        "outputId": "e642b970-8075-42b6-a4bb-4a1356ebc85a"
      },
      "source": [
        "#df[df.salary_monthly_NETO > 1000]\\\n",
        "  #[['profile_gender', 'salary_monthly_NETO']].groupby('profile_gender').describe()\n",
        "df_new = clean_dataframe(df, salary_COL)\n",
        "df_new.shape"
      ],
      "execution_count": 7,
      "outputs": [
        {
          "output_type": "execute_result",
          "data": {
            "text/plain": [
              "(4159, 48)"
            ]
          },
          "metadata": {},
          "execution_count": 7
        }
      ]
    },
    {
      "cell_type": "code",
      "metadata": {
        "id": "uZ1GxkLylHx0",
        "colab": {
          "base_uri": "https://localhost:8080/"
        },
        "outputId": "34daf948-a0de-4a88-bff8-7c5471d78860"
      },
      "source": [
        "#alpha = 0.05\"\n",
        "is_man = df_new.profile_gender == \"Hombre\"\n",
        "\n",
        "groupA = df_new[is_man].salary_monthly_NETO     #Se seleccionan las filas que correspondan a \n",
        "groupB = df_new[~is_man].salary_monthly_NETO;    #género hombre junto a la columna de salary_monthly_NETO\n",
        "\n",
        "print(\"Dimension del grupoA:\", groupA.shape)\n",
        "print(\"Dimension del grupoB:\", groupB.shape)"
      ],
      "execution_count": 8,
      "outputs": [
        {
          "output_type": "stream",
          "name": "stdout",
          "text": [
            "Dimension del grupoA: (3582,)\n",
            "Dimension del grupoB: (577,)\n"
          ]
        }
      ]
    },
    {
      "cell_type": "code",
      "metadata": {
        "id": "OfzFpDO-lYxk",
        "colab": {
          "base_uri": "https://localhost:8080/"
        },
        "outputId": "371820da-a669-46ed-a668-4cb82d66a3a0"
      },
      "source": [
        "groupA.describe().apply(lambda s: '{0:.11f}'.format(s))\n"
      ],
      "execution_count": 9,
      "outputs": [
        {
          "output_type": "execute_result",
          "data": {
            "text/plain": [
              "count      3582.00000000000\n",
              "mean     112588.90428810721\n",
              "std       69274.74113057692\n",
              "min       54400.00000000000\n",
              "25%       74000.00000000000\n",
              "50%       92981.00000000000\n",
              "75%      120000.00000000000\n",
              "max      535000.00000000000\n",
              "Name: salary_monthly_NETO, dtype: object"
            ]
          },
          "metadata": {},
          "execution_count": 9
        }
      ]
    },
    {
      "cell_type": "code",
      "source": [
        "groupB.describe().apply(lambda s: '{0:.11f}'.format(s))"
      ],
      "metadata": {
        "colab": {
          "base_uri": "https://localhost:8080/"
        },
        "id": "AAv8Bt797deV",
        "outputId": "861e284b-3c24-4882-ca0d-5db2a94d058d"
      },
      "execution_count": 10,
      "outputs": [
        {
          "output_type": "execute_result",
          "data": {
            "text/plain": [
              "count       577.00000000000\n",
              "mean      95978.64393414211\n",
              "std       45802.43348134521\n",
              "min       54310.00000000000\n",
              "25%       68000.00000000000\n",
              "50%       84000.00000000000\n",
              "75%      107500.00000000000\n",
              "max      442127.00000000000\n",
              "Name: salary_monthly_NETO, dtype: object"
            ]
          },
          "metadata": {},
          "execution_count": 10
        }
      ]
    },
    {
      "cell_type": "markdown",
      "metadata": {
        "id": "co_0M_ojtmUh"
      },
      "source": [
        "## Ejercicio 1: Estimación\n",
        "\n",
        "**Consigna:**  Calcular una estimación puntual y un intervalo de confianza de nivel (1-alpha) para la resta entre la media del salario Neto para Hombres menos la media del salario Neto para otros géneros(diferencia de las medias entre el grupoA y grupoB). \n",
        "¿Cómo se relaciona este intervalo de confianza con el test de hipótesis?"
      ]
    },
    {
      "cell_type": "code",
      "metadata": {
        "id": "0fA1RQ0upe6N",
        "colab": {
          "base_uri": "https://localhost:8080/",
          "height": 518
        },
        "outputId": "d951891b-dbd2-44ee-9514-847411660aef"
      },
      "source": [
        "#Obtenemos histogramas de ambas muestras\n",
        "list_bins = [50000*value for value in range(1, 12)]\n",
        "\n",
        "plt.figure(figsize=(15,8))\n",
        "plt.hist(groupA, label='GrupoA', alpha=0.8, edgecolor='blue', bins=list_bins) \n",
        "plt.hist(groupB, label='GrupoB', alpha=0.8, edgecolor='red', bins=list_bins)\n",
        "plt.xlabel(\"Salario mensual neto ($ARS)\")\n",
        "plt.ylabel(\"Frecuencia\")\n",
        "plt.legend();"
      ],
      "execution_count": 11,
      "outputs": [
        {
          "output_type": "display_data",
          "data": {
            "text/plain": [
              "<Figure size 1080x576 with 1 Axes>"
            ],
            "image/png": "[encoded data removed]"
          },
          "metadata": {
            "needs_background": "light"
          }
        }
      ]
    },
    {
      "cell_type": "code",
      "source": [
        "#Cálculo del tamaño de cada muestra\n",
        "ngroupA = groupA.count()\n",
        "ngroupB = groupB.count()\n",
        "print(\"Tamaño de la muestra nA:\", ngroupA)\n",
        "print(\"Tamaño de la muestra nB:\", ngroupB)\n",
        "\n",
        "# Calculo de estadístico de resta de medias muestrales\n",
        "subtractionMean = groupA.mean() - groupB.mean()\n",
        "print(\"Estadístico de resta de medias muestrales:\", subtractionMean)"
      ],
      "metadata": {
        "colab": {
          "base_uri": "https://localhost:8080/"
        },
        "id": "EdPrrRYY93wF",
        "outputId": "34eed796-0b03-424a-a139-1073ac1fd6a6"
      },
      "execution_count": 12,
      "outputs": [
        {
          "output_type": "stream",
          "name": "stdout",
          "text": [
            "Tamaño de la muestra nA: 3582\n",
            "Tamaño de la muestra nB: 577\n",
            "Estadístico de resta de medias muestrales: 16610.260353965103\n"
          ]
        }
      ]
    },
    {
      "cell_type": "code",
      "source": [
        "#Calculo de varianzas\n",
        "sA2 = groupA.var()\n",
        "sB2 = groupB.var()\n",
        "print(\"Varianza del groupA:\", sA2)\n",
        "print(\"Varianza del groupB:\", sB2)"
      ],
      "metadata": {
        "colab": {
          "base_uri": "https://localhost:8080/"
        },
        "id": "NmK9Jv8k_WpO",
        "outputId": "e9dcc8a1-b311-408f-b83a-27240b3ebfc3"
      },
      "execution_count": 13,
      "outputs": [
        {
          "output_type": "stream",
          "name": "stdout",
          "text": [
            "Varianza del groupA: 4798989758.708446\n",
            "Varianza del groupB: 2097862912.8130527\n"
          ]
        }
      ]
    },
    {
      "cell_type": "code",
      "source": [
        "def process_df(df):\n",
        "  df = df.copy()\n",
        "  df[\"masculino\"] = df.apply(lambda x: 1 if str(x[\"profile_gender\"]).upper() == \"HOMBRE\" else 0, axis=1)\n",
        "  return df\n",
        "\n",
        "df_process = process_df(df_new)\n",
        "df_process[\"masculino\"].value_counts()\n"
      ],
      "metadata": {
        "colab": {
          "base_uri": "https://localhost:8080/"
        },
        "id": "wuesv42xGo2_",
        "outputId": "35e26eea-606d-4d81-f214-5f41cff6f2e6"
      },
      "execution_count": 14,
      "outputs": [
        {
          "output_type": "execute_result",
          "data": {
            "text/plain": [
              "1    3582\n",
              "0     577\n",
              "Name: masculino, dtype: int64"
            ]
          },
          "metadata": {},
          "execution_count": 14
        }
      ]
    },
    {
      "cell_type": "code",
      "source": [
        "# Grafico boxplot\n",
        "# ==============================================================================\n",
        "fig, ax = plt.subplots(nrows=1, ncols=1, figsize=(7, 20))\n",
        "sns.boxplot(\n",
        "    x       = \"masculino\",\n",
        "    y       = \"salary_monthly_NETO\",\n",
        "    data    = df_process,\n",
        "    palette = 'tab10',\n",
        "    ax      = ax\n",
        ")\n",
        "ax.set_title('Distribución de salario por sexo')\n",
        "ax.set_xlabel('salario')\n",
        "ax.set_ylabel('sexo(1=hombre 0=otro)');"
      ],
      "metadata": {
        "colab": {
          "base_uri": "https://localhost:8080/",
          "height": 1000
        },
        "id": "jtVLU5VmKG24",
        "outputId": "dc402902-c54b-4e62-f454-ab0db6e4ffe6"
      },
      "execution_count": 15,
      "outputs": [
        {
          "output_type": "display_data",
          "data": {
            "text/plain": [
              "<Figure size 504x1440 with 1 Axes>"
            ],
            "image/png": "[encoded data removed]"
          },
          "metadata": {
            "needs_background": "light"
          }
        }
      ]
    },
    {
      "cell_type": "code",
      "source": [
        "#Dado que las varianzas de cada muestra dieron distinto,\n",
        "#no se cumple la homocedasticidad y por ello utilizamos\n",
        "#Test de Welch Two Sample t-test\n",
        "\n",
        "#Cáclulo de los grados de libertad correspondientes al Test de Welch \n",
        "gl =  (((sA2)/ngroupA  + (sB2)/ngroupB)**2) / (((sA2/ngroupA)**2 /(ngroupA-1)) + ((sB2/ngroupB)**2 /(ngroupB-1)))\n",
        "print(\"Grados de libertad:\", gl)"
      ],
      "metadata": {
        "colab": {
          "base_uri": "https://localhost:8080/"
        },
        "id": "SBna5FVl42ak",
        "outputId": "9114d6b6-c1a6-4a30-dc41-61df387f8610"
      },
      "execution_count": 16,
      "outputs": [
        {
          "output_type": "stream",
          "name": "stdout",
          "text": [
            "Grados de libertad: 1055.6528187315407\n"
          ]
        }
      ]
    },
    {
      "cell_type": "markdown",
      "source": [
        "Cálculo de t utilizando función T- Student, considerando grados de libertad gl y percentil 1-alpha/2"
      ],
      "metadata": {
        "id": "r1LUGEru5Ild"
      }
    },
    {
      "cell_type": "code",
      "source": [
        "alpha = 0.05\n",
        "t_0975 = stats.t.ppf(q=0.975, df =gl)\n",
        "print(\"t_0975:\", t_0975)"
      ],
      "metadata": {
        "colab": {
          "base_uri": "https://localhost:8080/"
        },
        "id": "UhAHizh25I_U",
        "outputId": "bd9ba170-6c4c-4d87-aac2-9ff1ccea0151"
      },
      "execution_count": 17,
      "outputs": [
        {
          "output_type": "stream",
          "name": "stdout",
          "text": [
            "t_0975: 1.962213727242077\n"
          ]
        }
      ]
    },
    {
      "cell_type": "markdown",
      "source": [
        "Cálculo de Límites inferior y superior del intervalo de confianza para la resta de medias"
      ],
      "metadata": {
        "id": "1a0Zuf0i5QS7"
      }
    },
    {
      "cell_type": "code",
      "source": [
        "l_inf = subtractionMean - t_0975 * ((sA2/ngroupA) + (sB2/ngroupB))**0.5\n",
        "l_sup = subtractionMean + t_0975 * ((sA2/ngroupA) + (sB2/ngroupB))**0.5\n",
        "\n",
        "print(\"Límite inferior del intervalo de confianza para la comparación de medias muestrales:\", l_inf)\n",
        "print(\"Límite superior del intervalo de confianza para la comparación de medias muestrales:\", l_sup)\n",
        "l_inf, l_sup"
      ],
      "metadata": {
        "colab": {
          "base_uri": "https://localhost:8080/"
        },
        "id": "sE38cLv95O8r",
        "outputId": "a8cafa8a-73e1-4bb1-9db8-f137905de611"
      },
      "execution_count": 18,
      "outputs": [
        {
          "output_type": "stream",
          "name": "stdout",
          "text": [
            "Límite inferior del intervalo de confianza para la comparación de medias muestrales: 12233.35255025847\n",
            "Límite superior del intervalo de confianza para la comparación de medias muestrales: 20987.168157671735\n"
          ]
        },
        {
          "output_type": "execute_result",
          "data": {
            "text/plain": [
              "(12233.35255025847, 20987.168157671735)"
            ]
          },
          "metadata": {},
          "execution_count": 18
        }
      ]
    },
    {
      "cell_type": "markdown",
      "source": [
        "Conclusión: encontramos que la diferencia de medias de salario entre los grupos Hombre versus Otros géneros, resultó ser de 16610,3 ARS según la estimación puntual del estadístico. Para el cálculo del intervalo de confianza con un nivel del 95%, obtuvimos un límite inferior de 12233,3 ARS y un límite máximo de 20987,2 ARS."
      ],
      "metadata": {
        "id": "3QkpWL2H7Fks"
      }
    },
    {
      "cell_type": "markdown",
      "metadata": {
        "id": "IFi2T7Y6nM92"
      },
      "source": [
        "## Ejercicio 2: Test de hipótesis\n"
      ]
    },
    {
      "cell_type": "markdown",
      "metadata": {
        "id": "Rzxe8UYU6EfJ"
      },
      "source": [
        "\n",
        "### 2.1 Formalización\n",
        "\n",
        "Describir formalmente los distintos componentes de un test de hipótesis para comprobar si la distribución de los salarios es distinta entre los grupos A y B.\n",
        "\n",
        "**Hipótesis Nula**\n",
        "\n",
        "$H_0: \\mu_A = \\mu_B$    vs    $H_1: \\mu_A > \\mu_B$\n",
        "\n",
        "**Estadístico (Pivote)**\n",
        "  * Identificar el estadístico\n",
        "  * Escribir qué distribución tiene bajo $H_0$\n"
      ]
    },
    {
      "cell_type": "markdown",
      "source": [
        "El test de Levene, el test de Bartlett y el test de Fligner-Killeen son tres de los test de hipótesis más empleados comparar la varianza entre grupos. En todos ellos, se considera como hipótesis nula que los datos proceden de distribuciones con la misma varianza (homocedasticidad). Por lo tanto, si el p-value es menor que un determinado valor (en este caso, 0.05), entonces se considera que hay evidencias suficientes para rechazar la homocedasticidad en favor de la heterocedasticidad.\n",
        "\n",
        "El test de Levene y el test de Fligner-Killeen (este último no paramétrico) son más robustos que el test de Bartlett ante la falta de normalidad, por lo que suele aconsejarse su uso. Además, tanto el test de Levene como el de Bartlett permiten elegir entre diferentes estadísticos de centralidad: mediana (por defecto), media, media truncada. Esto es importante a la hora de contrastar la homocedasticidad dependiendo de si los grupos se distribuyen de forma normal o no.\n",
        "\n",
        "Si se tiene seguridad de que las muestras a comparar proceden de poblaciones que siguen una distribución normal, es recomendable el test de Bartlett. Si no se tiene la seguridad de que las poblaciones de origen son normales, se recomiendan el test de Leven utilizando la mediana o el test no paramétrico Fligner-Killeen que también se basa en la mediana."
      ],
      "metadata": {
        "id": "O0FWZyku8DCs"
      }
    },
    {
      "cell_type": "markdown",
      "source": [
        "Decidir en base a la evidencia de la muestra si rechazar o no la hipótesis nula. Para decidir si rechazar o no la hipótesis nula se calcula el p-valor y se lo contrasta con el nivel de significancia preestablecido. Si el resultado es mayor a 0,05; concluiremos que no existe evidencia suficiente para rechazar la hipótesis nula. Si el valor es menor a 0,05; concluiremos que xiste evidencia suficiente para rechazar la hipótesis nula."
      ],
      "metadata": {
        "id": "CthCAL5p9Zts"
      }
    },
    {
      "cell_type": "code",
      "source": [
        "# Levene test\n",
        "# ==============================================================================\n",
        "levene_test = stats.levene(groupA, groupB, center='median')\n",
        "levene_test"
      ],
      "metadata": {
        "colab": {
          "base_uri": "https://localhost:8080/"
        },
        "id": "9Ddawkmj81f7",
        "outputId": "3aeb61fc-0c2b-4c30-a9a5-02875bfdafc9"
      },
      "execution_count": 27,
      "outputs": [
        {
          "output_type": "execute_result",
          "data": {
            "text/plain": [
              "LeveneResult(statistic=19.60562617218214, pvalue=9.763276955017239e-06)"
            ]
          },
          "metadata": {},
          "execution_count": 27
        }
      ]
    },
    {
      "cell_type": "code",
      "source": [
        "# Bartlett test\n",
        "# ==============================================================================\n",
        "bartlett_test = stats.bartlett(groupA, groupB)\n",
        "bartlett_test"
      ],
      "metadata": {
        "colab": {
          "base_uri": "https://localhost:8080/"
        },
        "id": "L7Gkax3C9Kub",
        "outputId": "23cbad62-6586-424a-d81f-d2164fa399cb"
      },
      "execution_count": 20,
      "outputs": [
        {
          "output_type": "execute_result",
          "data": {
            "text/plain": [
              "BartlettResult(statistic=139.00579427264412, pvalue=4.391662009929093e-32)"
            ]
          },
          "metadata": {},
          "execution_count": 20
        }
      ]
    },
    {
      "cell_type": "code",
      "source": [
        "# Levene test\n",
        "# ==============================================================================\n",
        "fligner_test = stats.fligner(groupA, groupB, center='median')\n",
        "fligner_test"
      ],
      "metadata": {
        "colab": {
          "base_uri": "https://localhost:8080/"
        },
        "id": "DV-Su4559LNT",
        "outputId": "da2bdf91-e67d-4e27-a25f-40f97f000c9c"
      },
      "execution_count": 21,
      "outputs": [
        {
          "output_type": "execute_result",
          "data": {
            "text/plain": [
              "FlignerResult(statistic=26.029588715484287, pvalue=3.362247030409009e-07)"
            ]
          },
          "metadata": {},
          "execution_count": 21
        }
      ]
    },
    {
      "cell_type": "code",
      "source": [
        "# Cálculo del estadístico de prueba t \n",
        "t = subtractionMean / (((sA2/ngroupA) + (sB2/ngroupB))**0.5)\n",
        "print(\"Estadístico de prueba t:\", t)"
      ],
      "metadata": {
        "colab": {
          "base_uri": "https://localhost:8080/"
        },
        "id": "NyZNAhRO8JLb",
        "outputId": "0af9f6db-54f3-468d-a4e6-e16cb4d4862d"
      },
      "execution_count": 22,
      "outputs": [
        {
          "output_type": "stream",
          "name": "stdout",
          "text": [
            "Estadístico de prueba t: 7.446554129381828\n"
          ]
        }
      ]
    },
    {
      "cell_type": "code",
      "source": [
        "#Cálculo del p-valor\n",
        "p_valor = stats.t.sf(abs(t), df=gl)\n",
        "print(\"p_valor\", p_valor)"
      ],
      "metadata": {
        "colab": {
          "base_uri": "https://localhost:8080/"
        },
        "id": "U5K6oYbc9pm0",
        "outputId": "4da11ce4-8c6b-43ad-9a2d-42e79e618395"
      },
      "execution_count": 23,
      "outputs": [
        {
          "output_type": "stream",
          "name": "stdout",
          "text": [
            "p_valor 9.931081161872911e-14\n"
          ]
        }
      ]
    },
    {
      "cell_type": "markdown",
      "source": [
        "Dado que p_valor < 𝜶 ⇒ se rechaza la hipótesis nula"
      ],
      "metadata": {
        "id": "NAFMVwxV-H6k"
      }
    },
    {
      "cell_type": "markdown",
      "metadata": {
        "id": "3Ip_5YdenC8u"
      },
      "source": [
        "### 2.2 P-valor\n",
        "\n",
        "1. Calcule el p-valor y decida si rechazar o no la hipótesis nula.\n",
        "2. Interprete el resultado.\n",
        "3. Los dos grupos de nuestra muestra tienen tamaños muy distintos. ¿Esto afecta al tests?\n",
        "\n",
        "Links útiles:\n",
        "* [Test de hipótesis usando scipy](https://docs.scipy.org/doc/scipy/reference/generated/scipy.stats.ttest_ind.html)\n",
        "* [Test de Welch](http://daniellakens.blogspot.com/2015/01/always-use-welchs-t-test-instead-of.html)"
      ]
    },
    {
      "cell_type": "markdown",
      "metadata": {
        "id": "8VxiQr5YrQYR"
      },
      "source": [
        "### [Opcional] 2.3 Potencia del test\n",
        "\n",
        "Nuestra muestra, ¿era lo suficientemente grande para detectar si existe o no una diferencia entre los grupos?\n",
        "\n",
        "1. Utilice la función `tt_ind_solve_power` para calcular el tamaño necesario de la muestra para un poder estadístico de 0.8, 0.9 y 0.95, asumiendo una significancia estadística de 0.05.\n",
        "2. ¿Cómo intepretan el poder estadístico de un test? Dado su conocimiento de dominio sobre los datos, ¿les parece que esta muestra es lo suficientemente grande para ser representativo de la tendencia general? ¿y para utilizarlo en un juicio penal contra una empresa XX por una causa de discriminación?\n",
        "\n",
        "[Documentación](https://www.statsmodels.org/stable/generated/statsmodels.stats.power.tt_ind_solve_power.html)\n",
        "\n",
        "NOTA: este análisis debería hacerse ANTES de recolectar los datos."
      ]
    },
    {
      "cell_type": "code",
      "metadata": {
        "colab": {
          "base_uri": "https://localhost:8080/"
        },
        "id": "_IiqGfo4t6Db",
        "outputId": "96b3c1a5-383c-498d-85dc-eedaed2ab3ba"
      },
      "source": [
        "from statsmodels.stats.power import tt_ind_solve_power"
      ],
      "execution_count": null,
      "outputs": [
        {
          "output_type": "stream",
          "name": "stderr",
          "text": [
            "/usr/local/lib/python3.7/dist-packages/statsmodels/tools/_testing.py:19: FutureWarning: pandas.util.testing is deprecated. Use the functions in the public API at pandas.testing instead.\n",
            "  import pandas.util.testing as tm\n"
          ]
        }
      ]
    },
    {
      "cell_type": "code",
      "metadata": {
        "id": "LUQ7MA2Apj9x"
      },
      "source": [
        "effect_size = (groupA.mean() - groupB.mean()) / groupB.std()\n",
        "# nobs1=None  - What we want to know\n",
        "alpha = 0.05\n",
        "ratio = len(groupB) / len(groupA)"
      ],
      "execution_count": null,
      "outputs": []
    },
    {
      "cell_type": "code",
      "metadata": {
        "colab": {
          "base_uri": "https://localhost:8080/",
          "height": 165
        },
        "id": "cvHcpY-3ty8Q",
        "outputId": "f91a96ae-081e-4c7d-e7e5-f9d09a2ba50e"
      },
      "source": [
        "tt_ind_solve_power(effect_size=effect_size, alpha=alpha, power=power, ratio=ratio)"
      ],
      "execution_count": null,
      "outputs": [
        {
          "output_type": "error",
          "ename": "NameError",
          "evalue": "ignored",
          "traceback": [
            "\u001b[0;31m---------------------------------------------------------------------------\u001b[0m",
            "\u001b[0;31mNameError\u001b[0m                                 Traceback (most recent call last)",
            "\u001b[0;32m<ipython-input-10-1f79e8a31986>\u001b[0m in \u001b[0;36m<module>\u001b[0;34m()\u001b[0m\n\u001b[0;32m----> 1\u001b[0;31m \u001b[0mtt_ind_solve_power\u001b[0m\u001b[0;34m(\u001b[0m\u001b[0meffect_size\u001b[0m\u001b[0;34m=\u001b[0m\u001b[0meffect_size\u001b[0m\u001b[0;34m,\u001b[0m \u001b[0malpha\u001b[0m\u001b[0;34m=\u001b[0m\u001b[0malpha\u001b[0m\u001b[0;34m,\u001b[0m \u001b[0mpower\u001b[0m\u001b[0;34m=\u001b[0m\u001b[0mpower\u001b[0m\u001b[0;34m,\u001b[0m \u001b[0mratio\u001b[0m\u001b[0;34m=\u001b[0m\u001b[0mratio\u001b[0m\u001b[0;34m)\u001b[0m\u001b[0;34m\u001b[0m\u001b[0;34m\u001b[0m\u001b[0m\n\u001b[0m",
            "\u001b[0;31mNameError\u001b[0m: name 'power' is not defined"
          ]
        }
      ]
    },
    {
      "cell_type": "markdown",
      "metadata": {
        "id": "useKMdPyMod5"
      },
      "source": [
        "## Ejercicio 3: Comunicación y visualización\n",
        "\n",
        "**Consigna:** Seleccionen un resultado que les parezca relevante a partir de alguno de los ejercicios del entregable. Diseñe e implemente una comunicación en base a este mensaje, en un archivo PDF.\n",
        "\n",
        "Elija las palabras y visualización más adecuada para que la comunicación sea entendible, efectiva y se dapte a UNA de las siguientes situaciones:\n",
        "\n",
        "1. Una sección en un artículo de difusión a presentar como parte de una organización sin fines de lucro.\n",
        "No más de 1 página A4 (o dos si los gráficos son muy grandes).\n",
        "  1. Ejemplo: Alguna de las secciones [Los ecosistemas de emprendimiento de América Latina y el Caribe frente al COVID-19: Impactos, necesidades y recomendaciones](https://publications.iadb.org/es/los-ecosistemas-de-emprendimiento-de-america-latina-y-el-caribe-frente-al-covid-19-impactos-necesidades-y-recomendaciones), por ejemplo la sección *2.2. Reacciones de los emprendedores*.\n",
        "  2. Ejemplo: Alguna de las secciones de [The state of gender pay gap in 2021](https://www.payscale.com/data/gender-pay-gap?tk=carousel-ps-rc-job)\n",
        "  3. Puntos clave: \n",
        "    1. Simpleza de los gráficos.\n",
        "    2. Comunicación en lenguaje simple a personas que no son necesariamente expertos de dominio.\n",
        "    2. Selección de UNA oración sobre la que se hace énfasis.\n",
        "    3. No es necesario que mencionen objetivos ni descripciones del conjunto de datos, se supone que eso ya estaría explicado en otras secciones del informe.\n",
        "\n",
        "2. Una publicación científica o reporte técnico interno. No más de una página A4:\n",
        "  2. Ejemplo: La sección de resultados de [IZA DP No. 12914: The Impact of a Minimum Wage Change on the Distribution of Wages and Household Income](https://www.iza.org/publications/dp/12914/the-impact-of-a-minimum-wage-change-on-the-distribution-of-wages-and-household-income).\n",
        "  2. Ejemplo: Alguna de las secciones de [Temporary reduction in daily global CO2 emissions during the COVID-19 forced confinement](https://www.nature.com/articles/s41558-020-0797-x)\n",
        "  3. Puntos clave:\n",
        "    3. Nivel de detalle técnico requerido. Es necesario justificar la validez del análisis.\n",
        "    4. La idea presentada puede ser más compleja. Pueden asumir que la audiencia tiene conocimiento técnico y va a analizar las visualizaciones en detalle. \n",
        "    5. Pueden presentar más en detalle las limitaciones del análisis (significancia estadística, etc.)\n",
        "    2. No es necesario que mencionen objetivos ni descripciones del conjunto de datos, se supone que eso ya estaría explicado en otras secciones del informe.\n",
        "\n",
        "3. Un tweet (o post de LinkedIn) para la cuenta de su empresa consultora que hace análisis de datos. El objetivo es promocionar un análisis de datos abiertos que van a incluir en su portfolio:\n",
        "  1. Ejemplo: [Comparación vacunas covid](https://twitter.com/infobeautiful/status/1381577746527236098?s=20)\n",
        "  2. Ejemplo: [Tweet del BID](https://twitter.com/el_BID/status/1388508583944507396?s=20). Lo valioso de este tweet es que usaron un único número para transmitir un mensaje. Puede ser algo así, o con un gráfico muy simple.\n",
        "  3. Ejemplo: [Cambio climático](https://twitter.com/UNFCCC/status/1387732156190011394?s=20) Es un muy buen ejemplo, excepto que el gráfico no se lee nada y hay que entrar a la publicación original.\n",
        "  3. Ejemplo: [¿Cuánto están los programadores en las empresas?](https://www.linkedin.com/posts/denis-rothman-0b034043_tech-career-work-activity-6793861923269054464-gS6y) (No verificamos la veracidad o seriedad de la fuente).\n",
        "  4. Puntos clave:\n",
        "    1. Su audiencia no va a mirar la visualización por más de unos segundos, y no tiene conocimiento técnico.\n",
        "  3. Tienen que incluir además una *breve* descripción de cómo obtuvieron los datos que están presentando, que no entraría en el tweet.\n"
      ]
    },
    {
      "cell_type": "code",
      "metadata": {
        "id": "twwYHUztt45L"
      },
      "source": [
        ""
      ],
      "execution_count": null,
      "outputs": []
    }
  ]
}