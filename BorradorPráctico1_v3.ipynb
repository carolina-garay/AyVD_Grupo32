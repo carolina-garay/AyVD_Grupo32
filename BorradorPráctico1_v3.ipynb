{
  "cells": [
    {
      "cell_type": "markdown",
      "metadata": {
        "id": "view-in-github",
        "colab_type": "text"
      },
      "source": [
        "<a href=\"https://colab.research.google.com/github/carolina-garay/grupo_32/blob/SebastianOrmaechea-patch-1/BorradorPr%C3%A1ctico1_v3.ipynb\" target=\"_parent\"><img src=\"https://colab.research.google.com/assets/colab-badge.svg\" alt=\"Open In Colab\"/></a>"
      ]
    },
    {
      "cell_type": "markdown",
      "metadata": {
        "id": "LYvAOR2VzHmW"
      },
      "source": [
        "\n",
        "**Diplomatura en Ciencia de Datos, Aprendizaje Automático y sus Aplicaciones**\n",
        "\n",
        "**Edición 2022**\n",
        "\n",
        "---\n",
        "# Trabajo práctico entregable - Parte 1\n",
        "\n",
        "*Grupo 32*\n",
        "\n",
        "Integrantes: \n",
        "- Garay, Carolina del Valle\n",
        "- Ormaechea, Sebastián Gabriel\n",
        "- Ramos, Pablo Nicolás\n",
        "- Reviglio, Valentín\n",
        "- Siner, Magalí\n",
        "             \n",
        "Introducción:\n",
        "\n",
        "En el presente documento se exploran y analizan los resultados de la encuesta de salarios 2020 de sysarmy, a fin de resolver los siguientes interrogantes: \n",
        "\n",
        "- ¿Cuáles son los lenguajes de programación asociados a los mejores salarios?\n",
        "\n",
        "- ¿Que herramientas (prácticas y teóricas) son útiles para explorar la base, descubrir patrones, asociaciones?"
      ]
    },
    {
      "cell_type": "markdown",
      "metadata": {
        "id": "DV2aF9bnv7yy"
      },
      "source": [
        "## Exploración de la base de datos\n",
        "\n",
        "###   Importación de librerías necesarias"
      ]
    },
    {
      "cell_type": "code",
      "execution_count": 1,
      "metadata": {
        "id": "Xwdfo7z20TUK"
      },
      "outputs": [],
      "source": [
        "import io\n",
        "import matplotlib\n",
        "import matplotlib.pyplot as plt\n",
        "import numpy\n",
        "import pandas as pd\n",
        "import seaborn as sns\n",
        "\n",
        "sns.set_context('talk')"
      ]
    },
    {
      "cell_type": "markdown",
      "metadata": {
        "id": "XY2Hl-Ma07Nn"
      },
      "source": [
        "### Lectura del dataset"
      ]
    },
    {
      "cell_type": "code",
      "execution_count": 2,
      "metadata": {
        "id": "Vviv_sqXdR5W",
        "scrolled": false,
        "colab": {
          "base_uri": "https://localhost:8080/"
        },
        "outputId": "3ce0012a-9381-4ce2-e515-0f36e87bcdfe"
      },
      "outputs": [
        {
          "output_type": "execute_result",
          "data": {
            "text/plain": [
              "(6095, 48)"
            ]
          },
          "metadata": {},
          "execution_count": 2
        }
      ],
      "source": [
        "url = 'https://cs.famaf.unc.edu.ar/~mteruel/datasets/diplodatos/sysarmy_survey_2020_processed.csv'\n",
        "df_orig = pd.read_csv(url)\n",
        "df_orig.shape"
      ]
    },
    {
      "cell_type": "markdown",
      "metadata": {
        "id": "SRXnODk1v7y1"
      },
      "source": [
        "La base de datos cuenta con 6095 respuestas a la encuesta, donde se consultó por 48 variables diferentes.\n",
        "A continuación, se exploran las columnas a fin de detectar las variables relevantes para el análisis."
      ]
    },
    {
      "cell_type": "code",
      "execution_count": 3,
      "metadata": {
        "scrolled": true,
        "colab": {
          "base_uri": "https://localhost:8080/"
        },
        "id": "0NhQKJkPv7y2",
        "outputId": "97c520ff-44e9-479a-bbc7-7a0ab50c5cee"
      },
      "outputs": [
        {
          "output_type": "stream",
          "name": "stdout",
          "text": [
            "<class 'pandas.core.frame.DataFrame'>\n",
            "RangeIndex: 6095 entries, 0 to 6094\n",
            "Data columns (total 48 columns):\n",
            " #   Column                                        Non-Null Count  Dtype  \n",
            "---  ------                                        --------------  -----  \n",
            " 0   profile_gender                                6095 non-null   object \n",
            " 1   profile_age                                   6095 non-null   int64  \n",
            " 2   work_country                                  6095 non-null   object \n",
            " 3   work_province                                 6095 non-null   object \n",
            " 4   profile_years_experience                      6095 non-null   float64\n",
            " 5   work_years_in_company                         6095 non-null   float64\n",
            " 6   work_years_in_current_position                6095 non-null   float64\n",
            " 7   work_people_in_charge_of                      6095 non-null   int64  \n",
            " 8   profile_studies_level                         6095 non-null   object \n",
            " 9   profile_studies_level_state                   6095 non-null   object \n",
            " 10  profile_career                                5796 non-null   object \n",
            " 11  profile_university                            5561 non-null   object \n",
            " 12  profile_specialization_courses                6095 non-null   object \n",
            " 13  profile_open_source_contributions             6095 non-null   object \n",
            " 14  profile_programming_as_hobby                  6095 non-null   object \n",
            " 15  work_role                                     6095 non-null   object \n",
            " 16  tools_platform                                6093 non-null   object \n",
            " 17  tools_programming_languages                   6094 non-null   object \n",
            " 18  tools_frameworks                              6094 non-null   object \n",
            " 19  tools_data_bases                              6093 non-null   object \n",
            " 20  tools_qa_testing                              6089 non-null   object \n",
            " 21  tools_IDEs                                    6094 non-null   object \n",
            " 22  tools_work_pc_os                              6095 non-null   object \n",
            " 23  tools_cellphone_os                            6095 non-null   object \n",
            " 24  work_on_call_duty                             6095 non-null   object \n",
            " 25  salary_on_call_duty_charge                    6095 non-null   float64\n",
            " 26  work_on_call_duty_charge_type                 6095 non-null   object \n",
            " 27  work_contract_type                            6095 non-null   object \n",
            " 28  salary_monthly_BRUTO                          6095 non-null   float64\n",
            " 29  salary_monthly_NETO                           5883 non-null   float64\n",
            " 30  salary_in_usd                                 676 non-null    object \n",
            " 31  salary_satisfaction                           6095 non-null   int64  \n",
            " 32  salary_comparison_last_semester               6095 non-null   int64  \n",
            " 33  salary_has_bonus                              6095 non-null   object \n",
            " 34  salary_bonus_tied_to                          6095 non-null   object \n",
            " 35  salary_inflation_adjustment_2020              6095 non-null   object \n",
            " 36  salary_percentage_inflation_adjustment_2020   6095 non-null   float64\n",
            " 37  salary_month_last_inflation_adjustment        6095 non-null   int64  \n",
            " 38  work_has_violence_situations                  5954 non-null   object \n",
            " 39  profile_sexual_orientation                    5912 non-null   object \n",
            " 40  profile_has_disabilities                      600 non-null    object \n",
            " 41  profile_has_disabilities_hiring_difficulties  2207 non-null   object \n",
            " 42  company_employee_number                       6095 non-null   object \n",
            " 43  company_main_activity                         6095 non-null   object \n",
            " 44  company_recommended                           6095 non-null   int64  \n",
            " 45  company_diversity_policies                    6095 non-null   int64  \n",
            " 46  company_extra_benefits                        6094 non-null   object \n",
            " 47  company_best_companies_city                   1692 non-null   object \n",
            "dtypes: float64(7), int64(7), object(34)\n",
            "memory usage: 2.2+ MB\n"
          ]
        }
      ],
      "source": [
        "df_orig.info()"
      ]
    },
    {
      "cell_type": "markdown",
      "metadata": {
        "id": "MAs38P5dv7y3"
      },
      "source": [
        "Seleccionamos las siguientes variables como relevantes:\n",
        "\n",
        "Variable RESPUESTA:\n",
        "\n",
        "    - Salario mensual neto :'salary_monthly_NETO'. Tipo: cuantitativa\n",
        "    \n",
        "Variables EXPLICATIVAS:\n",
        "    \n",
        "    - Lenguajes de programación utilizados: 'tools_programming_languages'. Tipo: categórica\n",
        "    \n",
        "    - Nivel de estudios: 'profile_studies_level'. Tipo: categórica\n",
        "    \n",
        "    - Años de experiencia: 'profile_years_experience'. Tipo: cuantitativa\n",
        "    \n",
        "    - Rol de trabajo: 'work_role'. Tipo: categórica\n",
        "    \n",
        "    - Tipo de contrato de trabajo: 'work_contract_type'. Tipo: categórica \n",
        "    \n",
        "*Nota: El tipo de variable se corroboró mediante la inspección de la columna con el método \"df[\"column_name\"].unique()\""
      ]
    },
    {
      "cell_type": "markdown",
      "metadata": {
        "id": "-ZSQYANFHHgV"
      },
      "source": [
        "### Selección de las filas relevantes para los análisis. "
      ]
    },
    {
      "cell_type": "code",
      "execution_count": 4,
      "metadata": {
        "scrolled": false,
        "colab": {
          "base_uri": "https://localhost:8080/"
        },
        "id": "sKrFzMipv7y4",
        "outputId": "8dc71926-00f6-433a-901b-c42c7c09a4e9"
      },
      "outputs": [
        {
          "output_type": "stream",
          "name": "stdout",
          "text": [
            "Salario máximo NETO: 2080000.0 $ARS\n",
            "Mediana del salario NETO: 78000.0 $ARS\n",
            "Moda del salario NETO: 0    80000.0\n",
            "dtype: float64 $ARS\n"
          ]
        }
      ],
      "source": [
        "s_neto= 'salary_monthly_NETO'\n",
        "\n",
        "# Cálculo de medidas de centralización\n",
        "max_salario = df_orig[s_neto].max()\n",
        "med_salario = df_orig[s_neto].median()\n",
        "mod_salario = df_orig[s_neto].mode()\n",
        "\n",
        "print(\"Salario máximo NETO:\",max_salario, \"$ARS\")\n",
        "print(\"Mediana del salario NETO:\",med_salario, \"$ARS\")\n",
        "print(\"Moda del salario NETO:\",mod_salario,\"$ARS\") \n",
        "# Habría que ver cómo quitar el \"0\" que aparece antes de 80000 y que aparezca el \"$ ARS\" luego de 80000"
      ]
    },
    {
      "cell_type": "code",
      "execution_count": 5,
      "metadata": {
        "scrolled": true,
        "colab": {
          "base_uri": "https://localhost:8080/"
        },
        "id": "cPdevo4Ov7y5",
        "outputId": "895f79b2-bcb6-49aa-d414-4266ee81b872"
      },
      "outputs": [
        {
          "output_type": "stream",
          "name": "stdout",
          "text": [
            "Cantidad de personas con sueldos igual a 80mil $ARS (Moda): 149\n",
            "Cantidad de personas con salarios igual a 100mil $ARS: 139\n",
            "Cantidad de personas con sueldos igual a 200mil $ARS: 41\n",
            "Cantidad de personas con sueldos entre 60mil y 70mil $ARS: 648\n",
            "Cantidad de personas con sueldos entre 70mil y 80mil $ARS: 621\n",
            "Cantidad de personas con sueldos entre 80mil y 90mil $ARS: 542\n",
            "Cantidad de personas con sueldos entre 90mil y 1000mil $ARS: 514\n",
            "Cantidad de personas con sueldos entre 100mil y 200mil $ARS: 1341\n",
            "Cantidad de personas con sueldos entre 200mil y 300mil $ARS: 154\n",
            "Cantidad de personas con sueldos entre 300mil y 400mil $ARS: 73\n",
            "Cantidad de personas con sueldos entre 400mil y 500mil $ARS: 41\n",
            "Cantidad de personas con sueldos entre 500mil y 600mil $ARS: 17\n",
            "Cantidad de personas con sueldos entre 600mil y 700mil $ARS: 5\n",
            "Cantidad de personas con sueldos entre 700mil y 800mil $ARS: 6\n",
            "Cantidad de personas con sueldos entre 800mil y 900mil $ARS: 7\n"
          ]
        }
      ],
      "source": [
        "#Cálculo de frecuencias para diferentes salarios y rangos de salario\n",
        "\n",
        "cont1,cont2,cont3=0,0,0\n",
        "cont3_a,cont3_b,cont4,cont4_a,cont4_b,cont5, cont6,cont7,cont8,cont9,cont10,cont11=0,0,0,0,0,0,0,0,0,0,0,0 \n",
        "\n",
        "for i in range(1,len(df_orig)):\n",
        "  if (df_orig.loc[i,s_neto] ==80000):\n",
        "    cont1 = cont1 + 1\n",
        "\n",
        "for i in range(1,len(df_orig)):\n",
        "  if df_orig.loc[i,s_neto] == 100000:\n",
        "    cont2 = cont2 + 1  \n",
        "\n",
        "for i in range(1,len(df_orig)):\n",
        "  if df_orig.loc[i,s_neto] ==200000:\n",
        "    cont3 = cont3 + 1\n",
        "\n",
        "for i in range(1,len(df_orig)):\n",
        "  if ((df_orig.loc[i,s_neto] >=60000) and (df_orig.loc[i,s_neto] <=70000)):\n",
        "    cont3_a= cont3_a + 1\n",
        "\n",
        "for i in range(1,len(df_orig)):\n",
        "  if ((df_orig.loc[i,s_neto] >70000) and (df_orig.loc[i,s_neto] <=80000)):\n",
        "    cont3_b= cont3_b + 1\n",
        "\n",
        "for i in range(1,len(df_orig)):\n",
        "  if ((df_orig.loc[i,s_neto] >80000) and (df_orig.loc[i,s_neto] <=90000)):\n",
        "    cont4= cont4 + 1\n",
        "\n",
        "for i in range(1,len(df_orig)):\n",
        "  if ((df_orig.loc[i,s_neto] >90000) and (df_orig.loc[i,s_neto] <=100000)):\n",
        "    cont4_a= cont4_a + 1   \n",
        "\n",
        "for i in range(1,len(df_orig)):\n",
        "  if ((df_orig.loc[i,s_neto] >100000) and (df_orig.loc[i,s_neto] <=200000)):\n",
        "    cont4_b= cont4_b + 1\n",
        "\n",
        "for i in range(1,len(df_orig)):\n",
        "  if ((df_orig.loc[i,s_neto] >200000) and (df_orig.loc[i,s_neto] <=300000)):\n",
        "    cont5 = cont5 + 1\n",
        "\n",
        "for i in range(1,len(df_orig)):\n",
        "  if ((df_orig.loc[i,s_neto] >300000) and (df_orig.loc[i,s_neto] <=400000)):\n",
        "    cont6 = cont6 + 1\n",
        "\n",
        "for i in range(1,len(df_orig)):\n",
        "   if ((df_orig.loc[i,s_neto] >400000) and (df_orig.loc[i,s_neto] <=500000)):\n",
        "     cont7 = cont7 + 1   \n",
        "for i in range(1,len(df_orig)):\n",
        "  if ((df_orig.loc[i,s_neto] >500000) and (df_orig.loc[i,s_neto] <=600000)):\n",
        "    cont8 = cont8 + 1\n",
        "\n",
        "for i in range(1,len(df_orig)):\n",
        "  if ((df_orig.loc[i,s_neto] >600000) and (df_orig.loc[i,s_neto] <=700000)):\n",
        "    cont9 = cont9 + 1\n",
        "\n",
        "for i in range(1,len(df_orig)):\n",
        "  if ((df_orig.loc[i,s_neto] >700000) and (df_orig.loc[i,s_neto] <=800000)):\n",
        "    cont10 =cont10 +1    \n",
        "\n",
        "for i in range(1,len(df_orig)):\n",
        "  if ((df_orig.loc[i,s_neto] >800000) and (df_orig.loc[i,s_neto] <=900000)):\n",
        "    cont11 = cont11 + 1\n",
        "\n",
        "print(\"Cantidad de personas con sueldos igual a 80mil $ARS (Moda):\",cont1) \n",
        "print(\"Cantidad de personas con salarios igual a 100mil $ARS:\",cont2)\n",
        "print(\"Cantidad de personas con sueldos igual a 200mil $ARS:\", cont3)\n",
        "print(\"Cantidad de personas con sueldos entre 60mil y 70mil $ARS:\", cont3_a)\n",
        "print(\"Cantidad de personas con sueldos entre 70mil y 80mil $ARS:\", cont3_b)\n",
        "print(\"Cantidad de personas con sueldos entre 80mil y 90mil $ARS:\", cont4)\n",
        "print(\"Cantidad de personas con sueldos entre 90mil y 1000mil $ARS:\", cont4_a)\n",
        "print(\"Cantidad de personas con sueldos entre 100mil y 200mil $ARS:\", cont4_b)\n",
        "print(\"Cantidad de personas con sueldos entre 200mil y 300mil $ARS:\", cont5)\n",
        "print(\"Cantidad de personas con sueldos entre 300mil y 400mil $ARS:\", cont6)\n",
        "print(\"Cantidad de personas con sueldos entre 400mil y 500mil $ARS:\", cont7)\n",
        "print(\"Cantidad de personas con sueldos entre 500mil y 600mil $ARS:\", cont8)\n",
        "print(\"Cantidad de personas con sueldos entre 600mil y 700mil $ARS:\", cont9)\n",
        "print(\"Cantidad de personas con sueldos entre 700mil y 800mil $ARS:\", cont10)\n",
        "print(\"Cantidad de personas con sueldos entre 800mil y 900mil $ARS:\",cont11)"
      ]
    },
    {
      "cell_type": "markdown",
      "metadata": {
        "id": "YcNBQJ8vv7y6"
      },
      "source": [
        "Considerando la distribución de salarios, se decidió filtrar la base de datos mediante un valor mínimo y un valor máximo. \n",
        "\n",
        "El valor mínimo se estableció en 54.207 `$`ARS que corresponde a la Canasta Básica Total (CBT) en diciembre de 2020 (Fte:INDEC). Se considera que valores por debajo de la CBT posiblemente correspondan a trabajos part-time o ad-honorem, los cuales no nos interesa que se incorporen al análisis. En el apéndice se desarrolla un breve análisis de los contratos part_time. \n",
        "\n",
        "El valor máximo se estableció en 542.070 `$`ARS, correspondiente a 10 CBT. Este valor parece adecuado considerando que en el análisis previo se observa una fuerte caída en la cantidad de entrevistados a partir de salarios de 500.000 `$`ARS. Cabe comentar que el valor máximo corresponde al cuartil de 75% mas 8 veces el intercuartil. "
      ]
    },
    {
      "cell_type": "code",
      "execution_count": 6,
      "metadata": {
        "scrolled": false,
        "colab": {
          "base_uri": "https://localhost:8080/"
        },
        "id": "b2I9ZiG5v7y7",
        "outputId": "571105a7-8c3a-4b01-b1ac-3c6ee3841cb3"
      },
      "outputs": [
        {
          "output_type": "execute_result",
          "data": {
            "text/plain": [
              "7.998349229640499"
            ]
          },
          "metadata": {},
          "execution_count": 6
        }
      ],
      "source": [
        "q1 = df_orig[s_neto].quantile(0.25)\n",
        "q3 = df_orig[s_neto].quantile(0.75)\n",
        "iqr = q3 - q1\n",
        "n= (542070 - q3)/iqr \n",
        "n"
      ]
    },
    {
      "cell_type": "code",
      "execution_count": 7,
      "metadata": {
        "scrolled": false,
        "id": "2lJbPCrbv7y8"
      },
      "outputs": [],
      "source": [
        "# Filtrado de la base de datos original (df_orig) y generación de la nueva base de datos (df_new)\n",
        "df_new=  df_orig[(df_orig[s_neto] > 54207) & (df_orig[s_neto] < 542070)]\n",
        "\n",
        "# Reviso si hay filas duplicadas\n",
        "df_new.duplicated().any() # Si, hay filas duplicadas, ya que aparece True.\n",
        "\n",
        "# Lo siguiente  me permite observar ambas filas de cada fila duplicada. El total es 89 filas. ¿No debería ser par?\n",
        "df_new[df_new.duplicated(keep=False)]\n",
        "\n",
        "# Lo siguiente me permite observar solo una fila de cada fila duplicada. \n",
        "# Hay 47 filas duplicadas. ¿No debería ser la mitad de 89?\n",
        "df_new[df_new.duplicated()]  \n",
        "\n",
        "# Elimino las filas duplicadas\n",
        "df_final = df_new.drop_duplicates().reset_index()"
      ]
    },
    {
      "cell_type": "code",
      "execution_count": 8,
      "metadata": {
        "colab": {
          "base_uri": "https://localhost:8080/",
          "height": 772
        },
        "id": "CF9_2JCWv7y8",
        "outputId": "a3404db5-294c-4cff-f4fc-f9d81afc86f1"
      },
      "outputs": [
        {
          "output_type": "execute_result",
          "data": {
            "text/plain": [
              "Text(0.5, 1.0, 'Base de datos procesada')"
            ]
          },
          "metadata": {},
          "execution_count": 8
        },
        {
          "output_type": "display_data",
          "data": {
            "text/plain": [
              "<Figure size 720x360 with 1 Axes>"
            ],
            "image/png": "[encoded data removed]"
          },
          "metadata": {
            "needs_background": "light"
          }
        },
        {
          "output_type": "display_data",
          "data": {
            "text/plain": [
              "<Figure size 720x360 with 1 Axes>"
            ],
            "image/png": "[encoded data removed]"
          },
          "metadata": {
            "needs_background": "light"
          }
        }
      ],
      "source": [
        "# Comparación gráfica de las bases de datos\n",
        "sns.displot(df_orig[s_neto], aspect=2, bins=100) \n",
        "plt.ticklabel_format(style='plain')\n",
        "plt.ylabel(\"Frecuencia\")\n",
        "plt.xlabel('Salario mensual neto ($ARS)', fontsize=16)\n",
        "plt.title(\"Base de datos original\")\n",
        "\n",
        "sns.displot(df_final[s_neto], aspect=2, bins=100) \n",
        "plt.ticklabel_format(style='plain')\n",
        "plt.ylabel(\"Frecuencia\")\n",
        "plt.xlabel('Salario mensual neto ($ARS)',fontsize=16)\n",
        "plt.title(\"Base de datos procesada\")"
      ]
    },
    {
      "cell_type": "markdown",
      "metadata": {
        "id": "FNjoafqWv7y8"
      },
      "source": [
        "La nueva base de datos conserva una alta proporción de los datos totales de la encuesta (68%), descartando valores extremos mínimos y máximos, y valores duplicados. Se observa que la mayor proporción de los encuestados declara un salario en torno a los 100.000 $ARS."
      ]
    },
    {
      "cell_type": "markdown",
      "metadata": {
        "id": "OoGgzMvuEocM"
      },
      "source": [
        "## Análisis de lenguajes de programación\n",
        "\n",
        "Se realizó un análisis de los salarios en función del lenguaje de programación utilizado por los encuestados. El objetivo fue responder a la pregunta: **¿Cuáles son los lenguajes de programación asociados a los mejores salarios?**"
      ]
    },
    {
      "cell_type": "code",
      "execution_count": 9,
      "metadata": {
        "colab": {
          "base_uri": "https://localhost:8080/"
        },
        "id": "3TouENlVv7y9",
        "outputId": "68e2748d-300e-455a-d3f6-10c99b635426"
      },
      "outputs": [
        {
          "output_type": "execute_result",
          "data": {
            "text/plain": [
              "0                             HTML, Javascript, Python\n",
              "1                                              Ninguno\n",
              "2    Bash/Shell, C, CSS, HTML, Java, Javascript, PH...\n",
              "3               CSS, HTML, Javascript, SQL, TypeScript\n",
              "4                                           Javascript\n",
              "Name: tools_programming_languages, dtype: object"
            ]
          },
          "metadata": {},
          "execution_count": 9
        }
      ],
      "source": [
        "# Selecciono las columnas relevantes\n",
        "relevant_columns = ['tools_programming_languages', 'salary_monthly_NETO']\n",
        "\n",
        "# Genero un nuevo dataframe con las columnas relevantes y elimino los valores NaN\n",
        "\n",
        "df2 = df_final[relevant_columns]\n",
        "df2 = df2[df2['salary_monthly_NETO'].notna()]\n",
        "df2 = df2.reset_index(drop=True) # Este método permite indexar desde cero\n",
        "df2.tools_programming_languages[:5]"
      ]
    },
    {
      "cell_type": "markdown",
      "metadata": {
        "id": "l8bYmvMhSroH"
      },
      "source": [
        "**A continuación se separan los lenguajes de programación y se cuenta la frecuencia con la que aparecen dichos lenguajes.**"
      ]
    },
    {
      "cell_type": "code",
      "execution_count": 10,
      "metadata": {
        "colab": {
          "base_uri": "https://localhost:8080/",
          "height": 204
        },
        "id": "PAQ81x3iUP_N",
        "outputId": "d2eddd1a-4d73-4435-fb1d-1cede09d5244",
        "scrolled": true
      },
      "outputs": [
        {
          "output_type": "execute_result",
          "data": {
            "text/plain": [
              "  programming_language                        tools_programming_languages  \\\n",
              "0                 html                           HTML, Javascript, Python   \n",
              "0           javascript                           HTML, Javascript, Python   \n",
              "0               python                           HTML, Javascript, Python   \n",
              "1              ninguno                                            Ninguno   \n",
              "2           bash/shell  Bash/Shell, C, CSS, HTML, Java, Javascript, PH...   \n",
              "\n",
              "   salary_monthly_NETO                        cured_programming_languages  \n",
              "0              63000.0                         [html, javascript, python]  \n",
              "0              63000.0                         [html, javascript, python]  \n",
              "0              63000.0                         [html, javascript, python]  \n",
              "1             127000.0                                          [ninguno]  \n",
              "2             102000.0  [bash/shell, c, css, html, java, javascript, p...  "
            ],
            "text/html": [
              "\n",
              "  <div id=\"df-5e32f099-74ca-4df1-999a-8fc20fa9df5c\">\n",
              "    <div class=\"colab-df-container\">\n",
              "      <div>\n",
              "<style scoped>\n",
              "    .dataframe tbody tr th:only-of-type {\n",
              "        vertical-align: middle;\n",
              "    }\n",
              "\n",
              "    .dataframe tbody tr th {\n",
              "        vertical-align: top;\n",
              "    }\n",
              "\n",
              "    .dataframe thead th {\n",
              "        text-align: right;\n",
              "    }\n",
              "</style>\n",
              "<table border=\"1\" class=\"dataframe\">\n",
              "  <thead>\n",
              "    <tr style=\"text-align: right;\">\n",
              "      <th></th>\n",
              "      <th>programming_language</th>\n",
              "      <th>tools_programming_languages</th>\n",
              "      <th>salary_monthly_NETO</th>\n",
              "      <th>cured_programming_languages</th>\n",
              "    </tr>\n",
              "  </thead>\n",
              "  <tbody>\n",
              "    <tr>\n",
              "      <th>0</th>\n",
              "      <td>html</td>\n",
              "      <td>HTML, Javascript, Python</td>\n",
              "      <td>63000.0</td>\n",
              "      <td>[html, javascript, python]</td>\n",
              "    </tr>\n",
              "    <tr>\n",
              "      <th>0</th>\n",
              "      <td>javascript</td>\n",
              "      <td>HTML, Javascript, Python</td>\n",
              "      <td>63000.0</td>\n",
              "      <td>[html, javascript, python]</td>\n",
              "    </tr>\n",
              "    <tr>\n",
              "      <th>0</th>\n",
              "      <td>python</td>\n",
              "      <td>HTML, Javascript, Python</td>\n",
              "      <td>63000.0</td>\n",
              "      <td>[html, javascript, python]</td>\n",
              "    </tr>\n",
              "    <tr>\n",
              "      <th>1</th>\n",
              "      <td>ninguno</td>\n",
              "      <td>Ninguno</td>\n",
              "      <td>127000.0</td>\n",
              "      <td>[ninguno]</td>\n",
              "    </tr>\n",
              "    <tr>\n",
              "      <th>2</th>\n",
              "      <td>bash/shell</td>\n",
              "      <td>Bash/Shell, C, CSS, HTML, Java, Javascript, PH...</td>\n",
              "      <td>102000.0</td>\n",
              "      <td>[bash/shell, c, css, html, java, javascript, p...</td>\n",
              "    </tr>\n",
              "  </tbody>\n",
              "</table>\n",
              "</div>\n",
              "      <button class=\"colab-df-convert\" onclick=\"convertToInteractive('df-5e32f099-74ca-4df1-999a-8fc20fa9df5c')\"\n",
              "              title=\"Convert this dataframe to an interactive table.\"\n",
              "              style=\"display:none;\">\n",
              "        \n",
              "  <svg xmlns=\"http://www.w3.org/2000/svg\" height=\"24px\"viewBox=\"0 0 24 24\"\n",
              "       width=\"24px\">\n",
              "    <path d=\"M0 0h24v24H0V0z\" fill=\"none\"/>\n",
              "    <path d=\"M18.56 5.44l.94 2.06.94-2.06 2.06-.94-2.06-.94-.94-2.06-.94 2.06-2.06.94zm-11 1L8.5 8.5l.94-2.06 2.06-.94-2.06-.94L8.5 2.5l-.94 2.06-2.06.94zm10 10l.94 2.06.94-2.06 2.06-.94-2.06-.94-.94-2.06-.94 2.06-2.06.94z\"/><path d=\"M17.41 7.96l-1.37-1.37c-.4-.4-.92-.59-1.43-.59-.52 0-1.04.2-1.43.59L10.3 9.45l-7.72 7.72c-.78.78-.78 2.05 0 2.83L4 21.41c.39.39.9.59 1.41.59.51 0 1.02-.2 1.41-.59l7.78-7.78 2.81-2.81c.8-.78.8-2.07 0-2.86zM5.41 20L4 18.59l7.72-7.72 1.47 1.35L5.41 20z\"/>\n",
              "  </svg>\n",
              "      </button>\n",
              "      \n",
              "  <style>\n",
              "    .colab-df-container {\n",
              "      display:flex;\n",
              "      flex-wrap:wrap;\n",
              "      gap: 12px;\n",
              "    }\n",
              "\n",
              "    .colab-df-convert {\n",
              "      background-color: #E8F0FE;\n",
              "      border: none;\n",
              "      border-radius: 50%;\n",
              "      cursor: pointer;\n",
              "      display: none;\n",
              "      fill: #1967D2;\n",
              "      height: 32px;\n",
              "      padding: 0 0 0 0;\n",
              "      width: 32px;\n",
              "    }\n",
              "\n",
              "    .colab-df-convert:hover {\n",
              "      background-color: #E2EBFA;\n",
              "      box-shadow: 0px 1px 2px rgba(60, 64, 67, 0.3), 0px 1px 3px 1px rgba(60, 64, 67, 0.15);\n",
              "      fill: #174EA6;\n",
              "    }\n",
              "\n",
              "    [theme=dark] .colab-df-convert {\n",
              "      background-color: #3B4455;\n",
              "      fill: #D2E3FC;\n",
              "    }\n",
              "\n",
              "    [theme=dark] .colab-df-convert:hover {\n",
              "      background-color: #434B5C;\n",
              "      box-shadow: 0px 1px 3px 1px rgba(0, 0, 0, 0.15);\n",
              "      filter: drop-shadow(0px 1px 2px rgba(0, 0, 0, 0.3));\n",
              "      fill: #FFFFFF;\n",
              "    }\n",
              "  </style>\n",
              "\n",
              "      <script>\n",
              "        const buttonEl =\n",
              "          document.querySelector('#df-5e32f099-74ca-4df1-999a-8fc20fa9df5c button.colab-df-convert');\n",
              "        buttonEl.style.display =\n",
              "          google.colab.kernel.accessAllowed ? 'block' : 'none';\n",
              "\n",
              "        async function convertToInteractive(key) {\n",
              "          const element = document.querySelector('#df-5e32f099-74ca-4df1-999a-8fc20fa9df5c');\n",
              "          const dataTable =\n",
              "            await google.colab.kernel.invokeFunction('convertToInteractive',\n",
              "                                                     [key], {});\n",
              "          if (!dataTable) return;\n",
              "\n",
              "          const docLinkHtml = 'Like what you see? Visit the ' +\n",
              "            '<a target=\"_blank\" href=https://colab.research.google.com/notebooks/data_table.ipynb>data table notebook</a>'\n",
              "            + ' to learn more about interactive tables.';\n",
              "          element.innerHTML = '';\n",
              "          dataTable['output_type'] = 'display_data';\n",
              "          await google.colab.output.renderOutput(dataTable, element);\n",
              "          const docLink = document.createElement('div');\n",
              "          docLink.innerHTML = docLinkHtml;\n",
              "          element.appendChild(docLink);\n",
              "        }\n",
              "      </script>\n",
              "    </div>\n",
              "  </div>\n",
              "  "
            ]
          },
          "metadata": {},
          "execution_count": 10
        }
      ],
      "source": [
        "# Se convierten las cadenas de texto (strings) de la columna lenguajes de programación a una lista de strings.\n",
        "# Se remueve el string 'ninguno de los anteriores', los espacios y las comas.\n",
        "def split_languages(languages_str):\n",
        "  if not isinstance(languages_str, str):\n",
        "    return []\n",
        "  # Remoción de la opción 'other'\n",
        "  languages_str = languages_str.lower()\\\n",
        "    .replace('ninguno de los anteriores', '')\n",
        "  # Se separan los string en una lista de items\n",
        "  # Se remueven los espacios y comas de cada item\n",
        "  return [lang.strip().replace(',', '')\n",
        "          for lang in languages_str.split()]\n",
        "\n",
        "# Se crea una nueva columna con la lista de lenguajes\n",
        "df2.loc[:, 'cured_programming_languages'] = df2.tools_programming_languages\\\n",
        "    .apply(split_languages)\n",
        "if 'cured_programming_languages' not in relevant_columns:\n",
        "    relevant_columns.append('cured_programming_languages') \n",
        "\n",
        "# Se REPLICA cada fila del dataframe por cada lenguaje de programación mencionado en la respuesta \n",
        "df_lang = df2.cured_programming_languages\\\n",
        "    .apply(pd.Series).stack()\\\n",
        "    .reset_index(level=-1, drop=True).to_frame()\\\n",
        "    .join(df2[relevant_columns])\\\n",
        "    .rename(columns={0: 'programming_language'})\n",
        "df_lang[:5]"
      ]
    },
    {
      "cell_type": "markdown",
      "metadata": {
        "id": "qm8NUg-7UEue"
      },
      "source": [
        "**En la columna `programming_language` se encuentra cada lenguaje por separado. Notar que si una respuesta contenía 3 lenguajes, como `\"HTML, Javascript, Python\"`, la fila ha sido replicada 3 veces.**"
      ]
    },
    {
      "cell_type": "code",
      "execution_count": 11,
      "metadata": {
        "colab": {
          "base_uri": "https://localhost:8080/",
          "height": 746
        },
        "id": "lNPb4tTvWCwv",
        "outputId": "dcdb4533-1223-441f-df44-6e7dc7783b56",
        "scrolled": true
      },
      "outputs": [
        {
          "output_type": "stream",
          "name": "stdout",
          "text": [
            "    Lenguaje de programación  Frecuencia\n",
            "0                 javascript        1711\n",
            "1                        sql        1483\n",
            "2                       html        1216\n",
            "3                     python        1130\n",
            "4                       java        1074\n",
            "..                       ...         ...\n",
            "158                  mongodb           1\n",
            "159                    boomi           1\n",
            "160                     dell           1\n",
            "161                      x++           1\n",
            "162                infobasic           1\n",
            "\n",
            "[163 rows x 2 columns]\n"
          ]
        },
        {
          "output_type": "display_data",
          "data": {
            "text/plain": [
              "<Figure size 1440x576 with 1 Axes>"
            ],
            "image/png": "[encoded data removed]"
          },
          "metadata": {
            "needs_background": "light"
          }
        }
      ],
      "source": [
        "language_count = df_lang.programming_language.value_counts()\\\n",
        "    .reset_index()\\\n",
        "    .rename(columns={'index': 'Lenguaje de programación', 'programming_language': 'Frecuencia'})\n",
        "print(language_count)\n",
        "\n",
        "# Consideramos unicamente como lenguajes populares aquellos que tengan más del 1.5% de votos. Mismo criterio que las PASO\n",
        "required_votes = language_count.Frecuencia.sum() * 0.015\n",
        "language_count = language_count[language_count.Frecuencia > required_votes]\n",
        "\n",
        "plt.figure(figsize=(20,8))\n",
        "sns.barplot(x=\"Lenguaje de programación\", y=\"Frecuencia\" , palette=\"pastel\", edgecolor=\".6\", data=language_count)\n",
        "sns.despine()\n"
      ]
    },
    {
      "cell_type": "markdown",
      "metadata": {
        "id": "nThbJ1KeUgDo"
      },
      "source": [
        "### Filtrado de lenguajes relevantes\n",
        "\n",
        "**El siguiente código permite seleccionar sólo las filas donde el valor de la columna `programming_language` se encuentre en la lista `popular_languages`.**"
      ]
    },
    {
      "cell_type": "code",
      "execution_count": 12,
      "metadata": {
        "id": "DEpVptnLZUQU"
      },
      "outputs": [],
      "source": [
        "popular_languages = language_count[\"Lenguaje de programación\"] # Utilizamos la columna de lenguajes del dataframe ya filtrado, para obtener la lista de lenguajes populares \n",
        "filtered_df_lang = df_lang[df_lang.programming_language.isin(popular_languages)]\n",
        "filtered_df_lang = filtered_df_lang[['programming_language', 'salary_monthly_NETO']]"
      ]
    },
    {
      "cell_type": "code",
      "execution_count": 13,
      "metadata": {
        "colab": {
          "base_uri": "https://localhost:8080/"
        },
        "id": "WoieZtRbePY6",
        "outputId": "08bfcada-c0f3-4a4a-9022-834257033618",
        "scrolled": false
      },
      "outputs": [
        {
          "output_type": "execute_result",
          "data": {
            "text/plain": [
              "count     10881.0\n",
              "mean     113720.6\n",
              "std       70089.9\n",
              "min       54310.0\n",
              "25%       74655.0\n",
              "50%       93000.0\n",
              "75%      122000.0\n",
              "max      535000.0\n",
              "Name: salary_monthly_NETO, dtype: object"
            ]
          },
          "metadata": {},
          "execution_count": 13
        }
      ],
      "source": [
        "# Calculamos los valores de la base de datos final sobre lenguajes de programación\n",
        "filtered_df_lang[\"salary_monthly_NETO\"].describe().apply(lambda s: '{0:.1f}'.format(s)) \n",
        "# La función apply se usó para especificar el número de decimales"
      ]
    },
    {
      "cell_type": "markdown",
      "metadata": {
        "id": "zc1-KsZGv7y_"
      },
      "source": [
        "**Luego del filtrado, buscamos responder que tan probable es tener un sueldo mayor a la media, dada la elección de un determinado lenguaje.**"
      ]
    },
    {
      "cell_type": "code",
      "execution_count": 14,
      "metadata": {
        "scrolled": true,
        "colab": {
          "base_uri": "https://localhost:8080/"
        },
        "id": "6BjGvrl4v7y_",
        "outputId": "e8340179-18ea-4085-afaf-99cfe835144a"
      },
      "outputs": [
        {
          "output_type": "stream",
          "name": "stdout",
          "text": [
            "A continuación se lista el porcentaje de personas que ganan más de: 113720.6 $ARS (media)\n",
            "El 30.8% de las personas que programan en javascript ganan más de la media\n",
            "El 27.2% de las personas que programan en sql ganan más de la media\n",
            "El 27.1% de las personas que programan en html ganan más de la media\n",
            "El 34.3% de las personas que programan en python ganan más de la media\n",
            "El 33.5% de las personas que programan en java ganan más de la media\n",
            "El 26.3% de las personas que programan en css ganan más de la media\n",
            "El 33.9% de las personas que programan en bash/shell ganan más de la media\n",
            "El 32.0% de las personas que programan en php ganan más de la media\n",
            "El 28.3% de las personas que programan en .net ganan más de la media\n",
            "El 34.2% de las personas que programan en typescript ganan más de la media\n",
            "El 27.0% de las personas que programan en c# ganan más de la media\n",
            "El 49.4% de las personas que programan en go ganan más de la media\n",
            "El 23.4% de las personas que programan en ninguno ganan más de la media\n"
          ]
        }
      ],
      "source": [
        "salary_mean = filtered_df_lang.salary_monthly_NETO.mean()\n",
        "print(\"A continuación se lista el porcentaje de personas que ganan más de: {} $ARS (media)\".format('%.1f'%salary_mean))\n",
        "for language in popular_languages:\n",
        "    specific_lang_df = filtered_df_lang[filtered_df_lang.programming_language == language]\n",
        "    specific_lang_and_higher_mean = specific_lang_df[specific_lang_df.salary_monthly_NETO > salary_mean]\n",
        "    print(\"El {}% de las personas que programan en {} ganan más de la media\".format('%.1f'% ((len(specific_lang_and_higher_mean)/len(specific_lang_df))*100), language))\n"
      ]
    },
    {
      "cell_type": "code",
      "execution_count": 15,
      "metadata": {
        "scrolled": true,
        "colab": {
          "base_uri": "https://localhost:8080/",
          "height": 736
        },
        "id": "mO1vyg8Dv7y_",
        "outputId": "9e1acd2c-92f2-47c6-ff3e-18b9c89b2639"
      },
      "outputs": [
        {
          "output_type": "display_data",
          "data": {
            "text/plain": [
              "<Figure size 936x864 with 1 Axes>"
            ],
            "image/png": "[encoded data removed]"
          },
          "metadata": {
            "needs_background": "light"
          }
        }
      ],
      "source": [
        "# Graficamos la distribución de los salarios para lenguaje de programación\n",
        "plt.figure(figsize=(13, 12))\n",
        "sns.boxplot(data=filtered_df_lang, x=s_neto, y='programming_language',\n",
        "                color='magenta')\n",
        "plt.ticklabel_format(style='plain', axis='x')\n",
        "plt.xlabel(\"Salario mensual neto  ($ARS)\")\n",
        "plt.ylabel(\"Lenguaje de programación\")\n",
        "sns.despine()"
      ]
    },
    {
      "cell_type": "markdown",
      "source": [
        "Describir la gráfica precedente de boxplot!!!"
      ],
      "metadata": {
        "id": "FpOdm5LkD-lc"
      }
    },
    {
      "cell_type": "markdown",
      "metadata": {
        "id": "7wKaGkf6v7zA"
      },
      "source": [
        "### Conclusiones sobre el análisis de los lenguajes de programación\n",
        "Los análisis precedentes revelan que aquellos que utilizan el lenguaje de programación \"Go\", son los que tienen mayor probabilidad (49,4%) de ganar un salario por encima de la media de 113.720 $ARS. En un lejano segundo (34,3%) y tercer (34,2%) puesto se encuentran aquellos que programan con Python y Typescript respectivamente. \n",
        "Por otra parte, es interesante observar en la gráfica que, independientemente del lenguaje de programación utilizado, una importante cantidad de programadores logran pactar salarios muy por encima de la media (outliers). "
      ]
    },
    {
      "cell_type": "markdown",
      "metadata": {
        "id": "Ufqs-wVxv7zA"
      },
      "source": [
        "##  Análisis de densidad conjunta, asociación, densidad condicional y densidad conjunta condicional.\n",
        "\n",
        "Para estos análisis se contemplan el resto de las variables explicativas consideradas inicialmente: \n",
        "\n",
        "    - Nivel de estudios: 'profile_studies_level'. Tipo: categórica\n",
        "    \n",
        "    - Años de experiencia: 'profile_years_experience'. Tipo: cuantitativa\n",
        "    \n",
        "    - Rol de trabajo: 'work_role'. Tipo: categórica"
      ]
    },
    {
      "cell_type": "markdown",
      "metadata": {
        "id": "5baYhH0XHM3S"
      },
      "source": [
        "## a) Densidad conjunta\n",
        "\n",
        "La densidad conjunta es la distribución de probabilidad que forman dos o más variables aleatorias cuando sus realizaciones se producen simultáneamente. Dicho de otro modo, la densidad o probabilidad conjunta es una medida estadística que indica la probabilidad de que dos sucesos ocurran al mismo tiempo. \n",
        "\n",
        "Para el caso de nuestra base de datos, analizaremos la probabilidad conjunta del género y el nivel de estudio mediante una tabla de contingencia. Responderemos a la pregunta ¿Qué probabilidad hay de encontrar en la base una mujer con estudios de posgrado? "
      ]
    },
    {
      "cell_type": "code",
      "execution_count": 16,
      "metadata": {
        "scrolled": true,
        "colab": {
          "base_uri": "https://localhost:8080/"
        },
        "id": "R_XKlNr-v7zA",
        "outputId": "389be840-7750-4a52-e317-64fbb3158749"
      },
      "outputs": [
        {
          "output_type": "execute_result",
          "data": {
            "text/plain": [
              "Universitario    2880\n",
              "Terciario         719\n",
              "Posgrado          275\n",
              "Secundario        262\n",
              "Doctorado          18\n",
              "Posdoctorado        3\n",
              "Primario            2\n",
              "Name: profile_studies_level, dtype: int64"
            ]
          },
          "metadata": {},
          "execution_count": 16
        }
      ],
      "source": [
        "df_final.profile_studies_level.value_counts()"
      ]
    },
    {
      "cell_type": "code",
      "execution_count": 27,
      "metadata": {
        "scrolled": true,
        "colab": {
          "base_uri": "https://localhost:8080/",
          "height": 204
        },
        "id": "yZLhAKPxv7zA",
        "outputId": "179ee46c-23c0-44ef-8f58-8057c6ed22c8"
      },
      "outputs": [
        {
          "output_type": "execute_result",
          "data": {
            "text/plain": [
              "profile_studies_level  Doctorado  Posdoctorado  Posgrado  Primario  \\\n",
              "profile_gender                                                       \n",
              "Hombre                        13             3       211         2   \n",
              "Mujer                          4             0        63         0   \n",
              "Otros                          1             0         1         0   \n",
              "Subtotal                      18             3       275         2   \n",
              "\n",
              "profile_studies_level  Secundario  Terciario  Universitario  Subtotal  \n",
              "profile_gender                                                         \n",
              "Hombre                        246        631           2476      3582  \n",
              "Mujer                          15         85            393       560  \n",
              "Otros                           1          3             11        17  \n",
              "Subtotal                      262        719           2880      4159  "
            ],
            "text/html": [
              "\n",
              "  <div id=\"df-4e26b7f6-ed05-45ae-b568-9c2d8d7bebaf\">\n",
              "    <div class=\"colab-df-container\">\n",
              "      <div>\n",
              "<style scoped>\n",
              "    .dataframe tbody tr th:only-of-type {\n",
              "        vertical-align: middle;\n",
              "    }\n",
              "\n",
              "    .dataframe tbody tr th {\n",
              "        vertical-align: top;\n",
              "    }\n",
              "\n",
              "    .dataframe thead th {\n",
              "        text-align: right;\n",
              "    }\n",
              "</style>\n",
              "<table border=\"1\" class=\"dataframe\">\n",
              "  <thead>\n",
              "    <tr style=\"text-align: right;\">\n",
              "      <th>profile_studies_level</th>\n",
              "      <th>Doctorado</th>\n",
              "      <th>Posdoctorado</th>\n",
              "      <th>Posgrado</th>\n",
              "      <th>Primario</th>\n",
              "      <th>Secundario</th>\n",
              "      <th>Terciario</th>\n",
              "      <th>Universitario</th>\n",
              "      <th>Subtotal</th>\n",
              "    </tr>\n",
              "    <tr>\n",
              "      <th>profile_gender</th>\n",
              "      <th></th>\n",
              "      <th></th>\n",
              "      <th></th>\n",
              "      <th></th>\n",
              "      <th></th>\n",
              "      <th></th>\n",
              "      <th></th>\n",
              "      <th></th>\n",
              "    </tr>\n",
              "  </thead>\n",
              "  <tbody>\n",
              "    <tr>\n",
              "      <th>Hombre</th>\n",
              "      <td>13</td>\n",
              "      <td>3</td>\n",
              "      <td>211</td>\n",
              "      <td>2</td>\n",
              "      <td>246</td>\n",
              "      <td>631</td>\n",
              "      <td>2476</td>\n",
              "      <td>3582</td>\n",
              "    </tr>\n",
              "    <tr>\n",
              "      <th>Mujer</th>\n",
              "      <td>4</td>\n",
              "      <td>0</td>\n",
              "      <td>63</td>\n",
              "      <td>0</td>\n",
              "      <td>15</td>\n",
              "      <td>85</td>\n",
              "      <td>393</td>\n",
              "      <td>560</td>\n",
              "    </tr>\n",
              "    <tr>\n",
              "      <th>Otros</th>\n",
              "      <td>1</td>\n",
              "      <td>0</td>\n",
              "      <td>1</td>\n",
              "      <td>0</td>\n",
              "      <td>1</td>\n",
              "      <td>3</td>\n",
              "      <td>11</td>\n",
              "      <td>17</td>\n",
              "    </tr>\n",
              "    <tr>\n",
              "      <th>Subtotal</th>\n",
              "      <td>18</td>\n",
              "      <td>3</td>\n",
              "      <td>275</td>\n",
              "      <td>2</td>\n",
              "      <td>262</td>\n",
              "      <td>719</td>\n",
              "      <td>2880</td>\n",
              "      <td>4159</td>\n",
              "    </tr>\n",
              "  </tbody>\n",
              "</table>\n",
              "</div>\n",
              "      <button class=\"colab-df-convert\" onclick=\"convertToInteractive('df-4e26b7f6-ed05-45ae-b568-9c2d8d7bebaf')\"\n",
              "              title=\"Convert this dataframe to an interactive table.\"\n",
              "              style=\"display:none;\">\n",
              "        \n",
              "  <svg xmlns=\"http://www.w3.org/2000/svg\" height=\"24px\"viewBox=\"0 0 24 24\"\n",
              "       width=\"24px\">\n",
              "    <path d=\"M0 0h24v24H0V0z\" fill=\"none\"/>\n",
              "    <path d=\"M18.56 5.44l.94 2.06.94-2.06 2.06-.94-2.06-.94-.94-2.06-.94 2.06-2.06.94zm-11 1L8.5 8.5l.94-2.06 2.06-.94-2.06-.94L8.5 2.5l-.94 2.06-2.06.94zm10 10l.94 2.06.94-2.06 2.06-.94-2.06-.94-.94-2.06-.94 2.06-2.06.94z\"/><path d=\"M17.41 7.96l-1.37-1.37c-.4-.4-.92-.59-1.43-.59-.52 0-1.04.2-1.43.59L10.3 9.45l-7.72 7.72c-.78.78-.78 2.05 0 2.83L4 21.41c.39.39.9.59 1.41.59.51 0 1.02-.2 1.41-.59l7.78-7.78 2.81-2.81c.8-.78.8-2.07 0-2.86zM5.41 20L4 18.59l7.72-7.72 1.47 1.35L5.41 20z\"/>\n",
              "  </svg>\n",
              "      </button>\n",
              "      \n",
              "  <style>\n",
              "    .colab-df-container {\n",
              "      display:flex;\n",
              "      flex-wrap:wrap;\n",
              "      gap: 12px;\n",
              "    }\n",
              "\n",
              "    .colab-df-convert {\n",
              "      background-color: #E8F0FE;\n",
              "      border: none;\n",
              "      border-radius: 50%;\n",
              "      cursor: pointer;\n",
              "      display: none;\n",
              "      fill: #1967D2;\n",
              "      height: 32px;\n",
              "      padding: 0 0 0 0;\n",
              "      width: 32px;\n",
              "    }\n",
              "\n",
              "    .colab-df-convert:hover {\n",
              "      background-color: #E2EBFA;\n",
              "      box-shadow: 0px 1px 2px rgba(60, 64, 67, 0.3), 0px 1px 3px 1px rgba(60, 64, 67, 0.15);\n",
              "      fill: #174EA6;\n",
              "    }\n",
              "\n",
              "    [theme=dark] .colab-df-convert {\n",
              "      background-color: #3B4455;\n",
              "      fill: #D2E3FC;\n",
              "    }\n",
              "\n",
              "    [theme=dark] .colab-df-convert:hover {\n",
              "      background-color: #434B5C;\n",
              "      box-shadow: 0px 1px 3px 1px rgba(0, 0, 0, 0.15);\n",
              "      filter: drop-shadow(0px 1px 2px rgba(0, 0, 0, 0.3));\n",
              "      fill: #FFFFFF;\n",
              "    }\n",
              "  </style>\n",
              "\n",
              "      <script>\n",
              "        const buttonEl =\n",
              "          document.querySelector('#df-4e26b7f6-ed05-45ae-b568-9c2d8d7bebaf button.colab-df-convert');\n",
              "        buttonEl.style.display =\n",
              "          google.colab.kernel.accessAllowed ? 'block' : 'none';\n",
              "\n",
              "        async function convertToInteractive(key) {\n",
              "          const element = document.querySelector('#df-4e26b7f6-ed05-45ae-b568-9c2d8d7bebaf');\n",
              "          const dataTable =\n",
              "            await google.colab.kernel.invokeFunction('convertToInteractive',\n",
              "                                                     [key], {});\n",
              "          if (!dataTable) return;\n",
              "\n",
              "          const docLinkHtml = 'Like what you see? Visit the ' +\n",
              "            '<a target=\"_blank\" href=https://colab.research.google.com/notebooks/data_table.ipynb>data table notebook</a>'\n",
              "            + ' to learn more about interactive tables.';\n",
              "          element.innerHTML = '';\n",
              "          dataTable['output_type'] = 'display_data';\n",
              "          await google.colab.output.renderOutput(dataTable, element);\n",
              "          const docLink = document.createElement('div');\n",
              "          docLink.innerHTML = docLinkHtml;\n",
              "          element.appendChild(docLink);\n",
              "        }\n",
              "      </script>\n",
              "    </div>\n",
              "  </div>\n",
              "  "
            ]
          },
          "metadata": {},
          "execution_count": 27
        }
      ],
      "source": [
        "## Obtención de tabla de contingencia\n",
        "\n",
        "pd.crosstab(index=df_final.profile_gender, columns=df_final.profile_studies_level, margins=True, margins_name= \"Subtotal\")"
      ]
    },
    {
      "cell_type": "code",
      "source": [
        "#Cálculo de probabilidad conjunta\n",
        "pd.crosstab(index=df_final.profile_gender,\n",
        "            columns=df_final.profile_studies_level).apply(lambda r: r/len(df_final) *100,\n",
        "                                              axis=1)"
      ],
      "metadata": {
        "id": "jPQ9jtaagOsN",
        "outputId": "35d38f04-14df-4789-a532-7ed88f1e4cb9",
        "colab": {
          "base_uri": "https://localhost:8080/",
          "height": 173
        }
      },
      "execution_count": 24,
      "outputs": [
        {
          "output_type": "execute_result",
          "data": {
            "text/plain": [
              "profile_studies_level  Doctorado  Posdoctorado  Posgrado  Primario  \\\n",
              "profile_gender                                                       \n",
              "Hombre                  0.312575      0.072133  5.073335  0.048088   \n",
              "Mujer                   0.096177      0.000000  1.514787  0.000000   \n",
              "Otros                   0.024044      0.000000  0.024044  0.000000   \n",
              "\n",
              "profile_studies_level  Secundario  Terciario  Universitario  \n",
              "profile_gender                                               \n",
              "Hombre                   5.914883  15.171916      59.533542  \n",
              "Mujer                    0.360664   2.043761       9.449387  \n",
              "Otros                    0.024044   0.072133       0.264487  "
            ],
            "text/html": [
              "\n",
              "  <div id=\"df-87b5960a-7a54-4036-9bf5-2296e3a47836\">\n",
              "    <div class=\"colab-df-container\">\n",
              "      <div>\n",
              "<style scoped>\n",
              "    .dataframe tbody tr th:only-of-type {\n",
              "        vertical-align: middle;\n",
              "    }\n",
              "\n",
              "    .dataframe tbody tr th {\n",
              "        vertical-align: top;\n",
              "    }\n",
              "\n",
              "    .dataframe thead th {\n",
              "        text-align: right;\n",
              "    }\n",
              "</style>\n",
              "<table border=\"1\" class=\"dataframe\">\n",
              "  <thead>\n",
              "    <tr style=\"text-align: right;\">\n",
              "      <th>profile_studies_level</th>\n",
              "      <th>Doctorado</th>\n",
              "      <th>Posdoctorado</th>\n",
              "      <th>Posgrado</th>\n",
              "      <th>Primario</th>\n",
              "      <th>Secundario</th>\n",
              "      <th>Terciario</th>\n",
              "      <th>Universitario</th>\n",
              "    </tr>\n",
              "    <tr>\n",
              "      <th>profile_gender</th>\n",
              "      <th></th>\n",
              "      <th></th>\n",
              "      <th></th>\n",
              "      <th></th>\n",
              "      <th></th>\n",
              "      <th></th>\n",
              "      <th></th>\n",
              "    </tr>\n",
              "  </thead>\n",
              "  <tbody>\n",
              "    <tr>\n",
              "      <th>Hombre</th>\n",
              "      <td>0.312575</td>\n",
              "      <td>0.072133</td>\n",
              "      <td>5.073335</td>\n",
              "      <td>0.048088</td>\n",
              "      <td>5.914883</td>\n",
              "      <td>15.171916</td>\n",
              "      <td>59.533542</td>\n",
              "    </tr>\n",
              "    <tr>\n",
              "      <th>Mujer</th>\n",
              "      <td>0.096177</td>\n",
              "      <td>0.000000</td>\n",
              "      <td>1.514787</td>\n",
              "      <td>0.000000</td>\n",
              "      <td>0.360664</td>\n",
              "      <td>2.043761</td>\n",
              "      <td>9.449387</td>\n",
              "    </tr>\n",
              "    <tr>\n",
              "      <th>Otros</th>\n",
              "      <td>0.024044</td>\n",
              "      <td>0.000000</td>\n",
              "      <td>0.024044</td>\n",
              "      <td>0.000000</td>\n",
              "      <td>0.024044</td>\n",
              "      <td>0.072133</td>\n",
              "      <td>0.264487</td>\n",
              "    </tr>\n",
              "  </tbody>\n",
              "</table>\n",
              "</div>\n",
              "      <button class=\"colab-df-convert\" onclick=\"convertToInteractive('df-87b5960a-7a54-4036-9bf5-2296e3a47836')\"\n",
              "              title=\"Convert this dataframe to an interactive table.\"\n",
              "              style=\"display:none;\">\n",
              "        \n",
              "  <svg xmlns=\"http://www.w3.org/2000/svg\" height=\"24px\"viewBox=\"0 0 24 24\"\n",
              "       width=\"24px\">\n",
              "    <path d=\"M0 0h24v24H0V0z\" fill=\"none\"/>\n",
              "    <path d=\"M18.56 5.44l.94 2.06.94-2.06 2.06-.94-2.06-.94-.94-2.06-.94 2.06-2.06.94zm-11 1L8.5 8.5l.94-2.06 2.06-.94-2.06-.94L8.5 2.5l-.94 2.06-2.06.94zm10 10l.94 2.06.94-2.06 2.06-.94-2.06-.94-.94-2.06-.94 2.06-2.06.94z\"/><path d=\"M17.41 7.96l-1.37-1.37c-.4-.4-.92-.59-1.43-.59-.52 0-1.04.2-1.43.59L10.3 9.45l-7.72 7.72c-.78.78-.78 2.05 0 2.83L4 21.41c.39.39.9.59 1.41.59.51 0 1.02-.2 1.41-.59l7.78-7.78 2.81-2.81c.8-.78.8-2.07 0-2.86zM5.41 20L4 18.59l7.72-7.72 1.47 1.35L5.41 20z\"/>\n",
              "  </svg>\n",
              "      </button>\n",
              "      \n",
              "  <style>\n",
              "    .colab-df-container {\n",
              "      display:flex;\n",
              "      flex-wrap:wrap;\n",
              "      gap: 12px;\n",
              "    }\n",
              "\n",
              "    .colab-df-convert {\n",
              "      background-color: #E8F0FE;\n",
              "      border: none;\n",
              "      border-radius: 50%;\n",
              "      cursor: pointer;\n",
              "      display: none;\n",
              "      fill: #1967D2;\n",
              "      height: 32px;\n",
              "      padding: 0 0 0 0;\n",
              "      width: 32px;\n",
              "    }\n",
              "\n",
              "    .colab-df-convert:hover {\n",
              "      background-color: #E2EBFA;\n",
              "      box-shadow: 0px 1px 2px rgba(60, 64, 67, 0.3), 0px 1px 3px 1px rgba(60, 64, 67, 0.15);\n",
              "      fill: #174EA6;\n",
              "    }\n",
              "\n",
              "    [theme=dark] .colab-df-convert {\n",
              "      background-color: #3B4455;\n",
              "      fill: #D2E3FC;\n",
              "    }\n",
              "\n",
              "    [theme=dark] .colab-df-convert:hover {\n",
              "      background-color: #434B5C;\n",
              "      box-shadow: 0px 1px 3px 1px rgba(0, 0, 0, 0.15);\n",
              "      filter: drop-shadow(0px 1px 2px rgba(0, 0, 0, 0.3));\n",
              "      fill: #FFFFFF;\n",
              "    }\n",
              "  </style>\n",
              "\n",
              "      <script>\n",
              "        const buttonEl =\n",
              "          document.querySelector('#df-87b5960a-7a54-4036-9bf5-2296e3a47836 button.colab-df-convert');\n",
              "        buttonEl.style.display =\n",
              "          google.colab.kernel.accessAllowed ? 'block' : 'none';\n",
              "\n",
              "        async function convertToInteractive(key) {\n",
              "          const element = document.querySelector('#df-87b5960a-7a54-4036-9bf5-2296e3a47836');\n",
              "          const dataTable =\n",
              "            await google.colab.kernel.invokeFunction('convertToInteractive',\n",
              "                                                     [key], {});\n",
              "          if (!dataTable) return;\n",
              "\n",
              "          const docLinkHtml = 'Like what you see? Visit the ' +\n",
              "            '<a target=\"_blank\" href=https://colab.research.google.com/notebooks/data_table.ipynb>data table notebook</a>'\n",
              "            + ' to learn more about interactive tables.';\n",
              "          element.innerHTML = '';\n",
              "          dataTable['output_type'] = 'display_data';\n",
              "          await google.colab.output.renderOutput(dataTable, element);\n",
              "          const docLink = document.createElement('div');\n",
              "          docLink.innerHTML = docLinkHtml;\n",
              "          element.appendChild(docLink);\n",
              "        }\n",
              "      </script>\n",
              "    </div>\n",
              "  </div>\n",
              "  "
            ]
          },
          "metadata": {},
          "execution_count": 24
        }
      ]
    },
    {
      "cell_type": "code",
      "execution_count": 25,
      "metadata": {
        "colab": {
          "base_uri": "https://localhost:8080/",
          "height": 466
        },
        "id": "KtN-Rhe-v7zB",
        "outputId": "d7172871-425d-4fa4-8170-363e77411cc8"
      },
      "outputs": [
        {
          "output_type": "execute_result",
          "data": {
            "text/plain": [
              "Text(37.5, 0.5, 'Género')"
            ]
          },
          "metadata": {},
          "execution_count": 25
        },
        {
          "output_type": "display_data",
          "data": {
            "text/plain": [
              "<Figure size 576x360 with 2 Axes>"
            ],
            "image/png": "[encoded data removed]"
          },
          "metadata": {
            "needs_background": "light"
          }
        }
      ],
      "source": [
        "sorted_studies_levels = ['Primario', 'Secundario', 'Terciario', 'Universitario',\n",
        "                         'Posgrado', 'Doctorado', 'Posdoctorado']\n",
        "fig = plt.figure(figsize=(8,5))\n",
        "exp = pd.crosstab(df_final.profile_gender,\n",
        "                  df_final.profile_studies_level)[sorted_studies_levels]\n",
        "sns.heatmap(exp, annot=True, fmt='g', cmap='cool')\n",
        "plt.xticks(rotation=90)\n",
        "plt.xlabel(\"Nivel de estudios\")\n",
        "plt.yticks(rotation=0)\n",
        "plt.ylabel(\"Género\")"
      ]
    },
    {
      "cell_type": "code",
      "source": [
        "plot = pd.crosstab(index=df_final.profile_gender,\n",
        "            columns=df_final.profile_studies_level).apply(lambda r: r/len(df_final) *100,\n",
        "                                              axis=1).plot(kind='bar', legend = False,figsize=(15,8))\n",
        "                                              \n",
        "plt.ylabel(\"Porcentaje\")\n",
        "plt.xlabel(\"Género\")\n",
        "plt.legend(bbox_to_anchor=(1.1, 1.0), loc='upper left', title =\"Estudios\")\n",
        "plt.tight_layout()\n"
      ],
      "metadata": {
        "colab": {
          "base_uri": "https://localhost:8080/",
          "height": 585
        },
        "id": "4B_hSX-7IcXb",
        "outputId": "2d51d3b3-1650-4b4c-d63b-afc005f6079d"
      },
      "execution_count": 21,
      "outputs": [
        {
          "output_type": "display_data",
          "data": {
            "text/plain": [
              "<Figure size 1080x576 with 1 Axes>"
            ],
            "image/png": "[encoded data removed]"
          },
          "metadata": {
            "needs_background": "light"
          }
        }
      ]
    },
    {
      "cell_type": "markdown",
      "metadata": {
        "id": "lkuHE2aZGHMO"
      },
      "source": [
        "## b) Asociación\n",
        "\n",
        "La asociación es una medida que determina el grado de vinculación entre dos variables. Para variables cuantitativas, las medidas de asociación más utilizadas son la covarianza y el coeficiente de correlación de Pearson.\n",
        "\n",
        "Aquí plantearemos una asociación de salario bruto y neto, y compararemos la base de datos original con la final. \n"
      ]
    },
    {
      "cell_type": "code",
      "source": [
        "# Inicialmente hacemos un filtrado de la base de datos según diferentes criterios\n",
        "# No utilizamos remoción por quartiles porque ya establecimos los límites mínimos y máximos al comienzo del documento\n",
        "\n",
        "df_finalAsoc = df_final[df_final['salary_monthly_BRUTO'] <= 677000] # 677000 $ARS es el valor estimado del bruto máximo, considerando que el bruto es un 20% más que el neto.\n",
        "df_finalAsoc = df_finalAsoc[df_finalAsoc['salary_monthly_BRUTO'] >= 67700] # 67700 $ARS es el valor estimado del bruto mínimo, considerando que el bruto es un 20% más que el neto.\n",
        "df_finalAsoc = df_finalAsoc[df_finalAsoc['salary_monthly_NETO'].notna()] # Conservo filas sin valor NaN en columna de salario neto\n",
        "df_finalAsoc = df_finalAsoc[df_finalAsoc['salary_monthly_BRUTO'].notna()] # Conservo filas sin valor NaN en columna de salario bruto\n",
        "df_finalAsoc = df_finalAsoc[df_finalAsoc['salary_monthly_BRUTO'] >= df_finalAsoc['salary_monthly_NETO']] # Conservo filas donde el salario bruto es mayor al neto "
      ],
      "metadata": {
        "id": "ZqupfZG3jDeE"
      },
      "execution_count": null,
      "outputs": []
    },
    {
      "cell_type": "code",
      "source": [
        "# Medidas de centralización\n",
        "mediana_bruto = df_finalAsoc['salary_monthly_BRUTO'].median()\n",
        "media_bruto = df_finalAsoc['salary_monthly_BRUTO'].mean()\n",
        "\n",
        "mediana_neto = df_finalAsoc['salary_monthly_NETO'].median()\n",
        "media_neto = df_finalAsoc['salary_monthly_NETO'].mean()\n",
        "\n",
        "print(f\"La mediana del salario bruto es {mediana_bruto} y la media es {media_bruto}\")\n",
        "print(f\"La mediana del salario neto es {mediana_neto} y la media es {media_neto}\")"
      ],
      "metadata": {
        "id": "20NkvCw6gqO2"
      },
      "execution_count": null,
      "outputs": []
    },
    {
      "cell_type": "code",
      "source": [
        "# Medidas de asociación\n",
        "import numpy as np \n",
        "\n",
        "matcov=np.cov(df_finalAsoc.salary_monthly_BRUTO,df_finalAsoc.salary_monthly_NETO)\n",
        "print('matriz de varianza covarianza:','\\n',matcov,'\\n')\n",
        "\n",
        "corrAsoc=np.corrcoef(df_finalAsoc.salary_monthly_BRUTO,df_finalAsoc.salary_monthly_NETO)\n",
        "print('matriz de correlaciones: \\n ', corrAsoc,'\\n')\n",
        "\n",
        "print('La correlación entra ambas variables para la base datos limpia es: ',corrAsoc[0,1],'\\n')"
      ],
      "metadata": {
        "id": "9czSKRUjTEUI"
      },
      "execution_count": null,
      "outputs": []
    },
    {
      "cell_type": "code",
      "source": [
        "df_origAsoc = df_orig[df_orig['salary_monthly_NETO'].notna()] # Conservo filas sin valor NaN en columna de salario neto\n",
        "df_origAsoc = df_origAsoc[df_origAsoc['salary_monthly_BRUTO'].notna()] # Conservo filas sin valor NaN en columna de salario bruto\n",
        "\n",
        "corr=np.corrcoef(df_origAsoc.salary_monthly_BRUTO,df_origAsoc.salary_monthly_NETO)\n",
        "print('matriz de correlaciones: \\n ', corr,'\\n')\n",
        "\n",
        "print('La correlación entra ambas variables para la base datos original es: ',corr[0,1],'\\n')"
      ],
      "metadata": {
        "id": "EAeOyKgHWhQH"
      },
      "execution_count": null,
      "outputs": []
    },
    {
      "cell_type": "code",
      "source": [
        "# Grafico la asociación de variables comparando bases de datos\n",
        "fig, axes= plt.subplots(ncols=2, figsize=(16, 8))\n",
        "g = sns.regplot(y=df_finalAsoc['salary_monthly_BRUTO'],\n",
        "                 x=df_finalAsoc['salary_monthly_NETO'], ax=axes[0], fit_reg=False, color='g')\n",
        "g.set(xlabel=\"Salario mensual neto ($ARS)\", ylabel= \"Salario mensual bruto ($ARS)\", title=\"Base de datos LIMPIA\")\n",
        "m = sns.regplot(y=df_origAsoc['salary_monthly_BRUTO'],\n",
        "                 x=df_origAsoc['salary_monthly_NETO'], ax=axes[1], fit_reg=False, color='g')\n",
        "m.set(xlabel=\"Salario mensual neto ($ARS)\", ylabel= \"Salario mensual bruto ($ARS)\", title=\"Base de datos ORIGINAL\")\n",
        "sns.despine()"
      ],
      "metadata": {
        "id": "vsgxlkzJM-PZ"
      },
      "execution_count": null,
      "outputs": []
    },
    {
      "cell_type": "markdown",
      "source": [
        "Conclusión: La limpieza de la base de datos mejoró sustancialmente la correlación entre las variables salario neto y bruto (0.952) versus la base de datos original (0.833). El elemento fundamental fue la eliminación de valores de salario bruto mayores a 677.000 $ARS. Esta limpieza permitiría utilizar indistintamente ambas variables a fines analíticos sobre el resto de las variables explicativas. Sin embargo, el salario neto es una variable más práctica de uso ya que representa el salario efectivo que percibe el programador."
      ],
      "metadata": {
        "id": "nzCBbsl5ebj1"
      }
    },
    {
      "cell_type": "markdown",
      "metadata": {
        "id": "7MZrbRJCm-ae"
      },
      "source": [
        "## c) Densidad condicional \n",
        "\n",
        "La diferencia entre probabilidad conjunta y probabilidad condicional es que en la probabilidad conjunta, los dos eventos tienen que ocurrir al mismo tiempo, en cambio, la probabilidad condicional se refiere a la probabilidad de que suceda un evento si otro evento ya se ha cumplido.\n",
        "\n",
        "Para el caso de nuestra base de datos, analizaremos la distribución del salario según el nivel de estudio. La pregunta que densidad condicional que buscaremos responder será ¿Cuál es la probabilidad de ganar un salario mayor a la media, dado que el nivel de estudios alcanzado es de secundario?"
      ]
    },
    {
      "cell_type": "code",
      "execution_count": null,
      "metadata": {
        "scrolled": true,
        "id": "4hWctFY2v7zC"
      },
      "outputs": [],
      "source": [
        "# Graficamos un histograma para observar la frecuencia de cada categoría de nivel de estudio\n",
        "g = sns.histplot(x=df_final[\"profile_studies_level\"])\n",
        "plt.xticks(rotation=90)\n",
        "g.set(xlabel=\"Nivel de estudio\", ylabel=\"Frecuencia\")\n",
        "sns.despine()"
      ]
    },
    {
      "cell_type": "code",
      "source": [
        "# Mediante un boxplot, analizamos el salario según el nivel de estudio \n",
        "plt.figure(figsize=(15, 8))\n",
        "g = sns.boxplot(data=df_final, x='salary_monthly_NETO', \n",
        "                  y='profile_studies_level')\n",
        "g.set(xlabel=\"Salario mensual neto ($ARS)\", ylabel=\"Nivel de estudios\")\n",
        "sns.despine()"
      ],
      "metadata": {
        "id": "JwaUx5dSAbqh"
      },
      "execution_count": null,
      "outputs": []
    },
    {
      "cell_type": "code",
      "source": [
        "# Finalmente realizamos los cálculos de la probabilidad que responde a la pregunta inicial de Densidad Condicional. \n",
        "# ¿Cuál es la probabilidad de ganar un salario mayor a la media, dado que el nivel de estudios alcanzado es de secundario?\n",
        "df_sec = df_final[\"profile_studies_level\"] == \"Secundario\"\n",
        "df_plusmedia = df_final[s_neto] > df_final[s_neto].mean()\n",
        "prob_secplusmedia = len(df_final[df_sec & df_plusmedia]) / len(df_final[df_final[\"profile_studies_level\"] == \"Secundario\"])\n",
        "print(\"La probabilidad de encontrar un programador que gane un sueldo mayor a la media, dado que alcanzó el nivel secundario, es de \", \n",
        "      str(prob_secplusmedia*100), \" %\")"
      ],
      "metadata": {
        "id": "_ActV0JLs8lC"
      },
      "execution_count": null,
      "outputs": []
    },
    {
      "cell_type": "markdown",
      "source": [
        "Dicho de otra manera, entre los programadores que alcanzaron solo el nivel secundario, solo el 26 % recibe un salario mayor a la media."
      ],
      "metadata": {
        "id": "7YhITT_Kcvf5"
      }
    },
    {
      "cell_type": "markdown",
      "metadata": {
        "id": "u8wgYxNiqVpE"
      },
      "source": [
        "## d) Densidad Conjunta condicional\n",
        "\n",
        "La densidad conjunta condicional, permite calcular la probabilidad conjunta de dos eventos, dado que ya ha sucedido un tercer evento. \n",
        "\n",
        "Para el caso de nuestra base de datos, analizaremos la probabilidad de ganar un salario por encima de la media, teniendo menos de 2 años de experiencia. Esto se analizará solo sobre la categoría Data Scientist, lo cual representará la condición dada inicialmente.\n"
      ]
    },
    {
      "cell_type": "code",
      "source": [
        "# Inicialmente inspeccionamos las variables cuantitativas\n",
        "df_final[[\"profile_years_experience\", s_neto]].describe()"
      ],
      "metadata": {
        "id": "48tHemZ7a101"
      },
      "execution_count": null,
      "outputs": []
    },
    {
      "cell_type": "code",
      "source": [
        "# Dado que la variable años de experiencia tiene valores incorrectamente altos, se le realiza un filtrado mediante un corte de 50 años\n",
        "\n",
        "experience_filtered = df_final[\"profile_years_experience\"][df_final[\"profile_years_experience\"] < 50]\n",
        "experience_filtered.describe()"
      ],
      "metadata": {
        "id": "0Opv7uxnbtN9"
      },
      "execution_count": null,
      "outputs": []
    },
    {
      "cell_type": "code",
      "source": [
        "# Inspeccionamos la variable categórica rol de trabajo\n",
        "\n",
        "df_final[\"work_role\"].unique()\n",
        "df_final[\"work_role\"].value_counts().head(15)\n",
        "\n",
        "# Dada la gran cantidad de roles distintos, seleccionamos aquellos de interés\n",
        "\n",
        "interest_roles = [\"Data Scientist / Data Engineer\", \"Developer\"]\n",
        "df_interest_roles = df_final[df_final['work_role'].isin(interest_roles)][\"work_role\"]"
      ],
      "metadata": {
        "id": "4ugqhp7jdxVI"
      },
      "execution_count": null,
      "outputs": []
    },
    {
      "cell_type": "code",
      "source": [
        "# Visualizamos la frecuencia de las variables\n",
        "\n",
        "fig, axes = plt.subplots(nrows=3, figsize=(16, 8))\n",
        "plt.tight_layout() # Este comando hace que no se encimen los gráficos y se puedan ver las etiquetas del eje x. Cabe aclarar  que las etiquetas se agregan automáticamente\n",
        "g =sns.histplot(experience_filtered, ax=axes[0], color='gray')\n",
        "axes[0].axvline(experience_filtered.mean(), color='orangered',\n",
        "            linestyle='--', label='Media')\n",
        "axes[0].axvline(experience_filtered.median(), color='indigo',\n",
        "            linestyle='-.', label='Mediana')\n",
        "g.set(xlabel=\"Perfil de experiencia\", ylabel=\"Frecuencia\")\n",
        "\n",
        "r = sns.histplot(df_interest_roles, ax=axes[1], color='gray')\n",
        "r.set(xlabel=\"Rol de trabajo\", ylabel=\"Frecuencia\")\n",
        "plt.tight_layout()\n",
        "\n",
        "m = sns.histplot(df_final[\"salary_monthly_NETO\"], ax=axes[2], color='gray')\n",
        "m.set(xlabel=\"Salario neto ($ARS)\", ylabel=\"Frecuencia\")\n",
        "axes[2].axvline(df_final[\"salary_monthly_NETO\"].mean(), color='orangered',\n",
        "            linestyle='--', label='Media')\n",
        "axes[2].axvline(df_final[\"salary_monthly_NETO\"].median(), color='indigo',\n",
        "            linestyle='-.', label='Mediana')\n",
        "\n",
        "axes[0].legend()\n",
        "\n",
        "sns.despine()"
      ],
      "metadata": {
        "id": "p1GlsK_yYsXb"
      },
      "execution_count": null,
      "outputs": []
    },
    {
      "cell_type": "code",
      "source": [
        "# Visualizamos la distribución de los datos bajo las 3 variables involucradas: Salario neto, Experiencia y Rol de trabajo\n",
        "ax = sns.jointplot(x=experience_filtered,\n",
        "                  y=df_final[s_neto], hue=df_interest_roles,\n",
        "                  kind='kde', height=8, legend=False)\n",
        "plt.legend(labels = interest_roles, loc = 2, title= \"Rol de trabajo\")"
      ],
      "metadata": {
        "id": "gVfk9i6biHQ7"
      },
      "execution_count": null,
      "outputs": []
    },
    {
      "cell_type": "code",
      "source": [
        "# Finalmente, calculamos la probabilidad que responde al interrogante inicial de Densidad Conjunta Condicional. \n",
        "# Probabilidad de ganar un salario por encima de la media teniendo menos de 2 años de experiencia y solo considerando los Data Scientists.\n",
        "\n",
        "df_DataSci = df_final['work_role'] == \"Data Scientist / Data Engineer\"\n",
        "df_exp_2 = df_final['profile_years_experience'] < 2\n",
        "# df_plusmedia ya estaba definido en un sección anterior\n",
        "\n",
        "prob_Exp2_plusmedia_DatSci = len(df_final[df_exp_2 & df_plusmedia & df_DataSci]) / len(df_final[df_final[\"work_role\"] == \"Data Scientist / Data Engineer\"])\n",
        "print(\"La probabilidad de encontrar un programador con menos de 2 años de experiencia, que gane un sueldo mayor a la media, dado que es Data Scientist, es de \", \n",
        "      str(prob_Exp2_plusmedia_DatSci*100), \" %\")"
      ],
      "metadata": {
        "id": "e3V5ioJhpVmV"
      },
      "execution_count": null,
      "outputs": []
    },
    {
      "cell_type": "markdown",
      "source": [
        "Dicho de otro modo, solo el 1 % de los Data Scientist que tienen menos de 2 años de experiencia, ganan por encima de la media."
      ],
      "metadata": {
        "id": "28BpXN798inW"
      }
    },
    {
      "cell_type": "markdown",
      "metadata": {
        "id": "urR5kvZwv7zD"
      },
      "source": [
        "# Bibliografía:\n",
        "\n",
        "- Resultados de la Encuesta de sueldos 2020. Link: https://sysarmy.com/blog/posts/resultados-de-la-encuesta-de-sueldos-2020-2/\n",
        "\n",
        "- Canasta Básica Total Diciembre 2020. Fuente: INDEC (https://www.indec.gob.ar/ftp/cuadros/sociedad/serie_cba_cbt.xls)"
      ]
    },
    {
      "cell_type": "markdown",
      "metadata": {
        "id": "z7wKm0bzv7zD"
      },
      "source": [
        "# Apéndice:"
      ]
    },
    {
      "cell_type": "markdown",
      "metadata": {
        "id": "LMCzVpf4v7zD"
      },
      "source": [
        "Análisis de contratos Part time:\n",
        "    Dado que en una pregunta consideramos el concepto \"Part time\" como parte de la respuesta, analizamos la variable Tipo de contrato (\"work_contract_type\") que contempla \"Part time\" como una de las opciones de respuesta."
      ]
    },
    {
      "cell_type": "code",
      "execution_count": null,
      "metadata": {
        "scrolled": true,
        "id": "yZJ014UVv7zD"
      },
      "outputs": [],
      "source": [
        "print(df_orig['work_contract_type'].unique())\n",
        "part_time = df_orig[df_orig['work_contract_type'] == 'Part-Time']\n",
        "plt.hist(part_time[s_neto], bins=15, range =[0,85000])\n",
        "plt.xlabel(\"Salario mensual neto ($ARS)\")\n",
        "plt.ylabel(\"Frecuencia\")\n",
        "part_time[s_neto].describe()\n"
      ]
    },
    {
      "cell_type": "markdown",
      "metadata": {
        "id": "mO1kaFdkv7zD"
      },
      "source": [
        "Como se esperaba, los programadores Part time, son parte de los trabajadores que cobran salarios por debajo de la media. No obstante, consideramos que no es una fuente de información generalizable a la población, ya que la opción Part time se encuentra comprendida en una pregunta donde las opciones no son comparables en términos de tiempo de dedicación al trabajo. Por ejemplo, Trabajo remoto no es comparable con Part time. Además, los trabajadores Part time representan un porción muy pequeña de los encuestados (302 de 6095). Por ello, consideramos como recomendación, la reformulación de esta pregunta para futuras encuestas, a fin de permitir la comparación entre trabajadores Full time y Part time."
      ]
    }
  ],
  "metadata": {
    "colab": {
      "collapsed_sections": [],
      "name": "BorradorPráctico1_v3.ipynb",
      "provenance": [],
      "include_colab_link": true
    },
    "kernelspec": {
      "display_name": "Python 3 (ipykernel)",
      "language": "python",
      "name": "python3"
    },
    "language_info": {
      "codemirror_mode": {
        "name": "ipython",
        "version": 3
      },
      "file_extension": ".py",
      "mimetype": "text/x-python",
      "name": "python",
      "nbconvert_exporter": "python",
      "pygments_lexer": "ipython3",
      "version": "3.9.7"
    }
  },
  "nbformat": 4,
  "nbformat_minor": 0
}