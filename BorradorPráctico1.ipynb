{
  "cells": [
    {
      "cell_type": "markdown",
      "metadata": {
        "id": "view-in-github",
        "colab_type": "text"
      },
      "source": [
        "<a href=\"https://colab.research.google.com/github/carolina-garay/grupo_32/blob/SebastianOrmaechea-patch-1/BorradorPr%C3%A1ctico1.ipynb\" target=\"_parent\"><img src=\"https://colab.research.google.com/assets/colab-badge.svg\" alt=\"Open In Colab\"/></a>"
      ]
    },
    {
      "cell_type": "markdown",
      "metadata": {
        "id": "LYvAOR2VzHmW"
      },
      "source": [
        "\n",
        "**Diplomatura en Ciencia de Datos, Aprendizaje Automático y sus Aplicaciones**\n",
        "\n",
        "**Edición 2022**\n",
        "\n",
        "---\n",
        "# Trabajo práctico entregable - Parte 1\n",
        "\n",
        "**Grupo 32**\n",
        "\n",
        "Integrantes:            \n",
        "* Carolina Garay\n",
        "* Sebastián Ormaechea\n",
        "* Pablo Nicolás Ramos\n",
        "* Valentín Reviglio\n",
        "* Magalí Siner\n",
        "\n",
        "\\\n",
        "\n",
        "Introducción:\n",
        "\n",
        "En el presente documento se exploran y analizan los resultados de la encuesta de salarios 2020 de sysarmy, a fin de resolver los siguientes interrogantes: \n",
        "\n",
        "- ¿Cuáles son los lenguajes de programación asociados a los mejores salarios?\n",
        "\n",
        "- ¿Que herramientas (prácticas y teóricas) són útiles para explorar la base, descubrir patrones, asociaciones?"
      ]
    },
    {
      "cell_type": "markdown",
      "metadata": {
        "id": "z8RhGuZo0os2"
      },
      "source": [
        "## Exploración de la base de datos\n",
        "\n",
        "###   Importación de librerías necesarias"
      ]
    },
    {
      "cell_type": "code",
      "execution_count": null,
      "metadata": {
        "id": "Xwdfo7z20TUK"
      },
      "outputs": [],
      "source": [
        "import io\n",
        "import matplotlib\n",
        "import matplotlib.pyplot as plt\n",
        "import numpy\n",
        "import pandas as pd\n",
        "import seaborn as sns\n",
        "\n",
        "seaborn.set_context('talk')"
      ]
    },
    {
      "cell_type": "markdown",
      "metadata": {
        "id": "XY2Hl-Ma07Nn"
      },
      "source": [
        "### Lectura del dataset"
      ]
    },
    {
      "cell_type": "code",
      "execution_count": null,
      "metadata": {
        "id": "Vviv_sqXdR5W",
        "scrolled": false,
        "outputId": "44f45e7d-bf06-47df-d79c-955b2cf880e0"
      },
      "outputs": [
        {
          "data": {
            "text/plain": [
              "(6095, 48)"
            ]
          },
          "execution_count": 7,
          "metadata": {},
          "output_type": "execute_result"
        }
      ],
      "source": [
        "url = 'https://cs.famaf.unc.edu.ar/~mteruel/datasets/diplodatos/sysarmy_survey_2020_processed.csv'\n",
        "df_orig = pd.read_csv(url)\n",
        "df_orig.shape"
      ]
    },
    {
      "cell_type": "markdown",
      "metadata": {
        "id": "x2fPDIRK0os5"
      },
      "source": [
        "La base de datos cuenta con 6095 respuestas a la encuesta, donde se consultó por 48 variables diferentes.\n",
        "A continuación, se exploran las columnas a fin de detectar las variables relevantes para el análisis."
      ]
    },
    {
      "cell_type": "code",
      "execution_count": null,
      "metadata": {
        "scrolled": true,
        "id": "zQZfqrKO0os6",
        "outputId": "dc86f05a-8b2a-47cf-83ce-b429aa3c19d5"
      },
      "outputs": [
        {
          "data": {
            "text/plain": [
              "Index(['profile_gender', 'profile_age', 'work_country', 'work_province',\n",
              "       'profile_years_experience', 'work_years_in_company',\n",
              "       'work_years_in_current_position', 'work_people_in_charge_of',\n",
              "       'profile_studies_level', 'profile_studies_level_state',\n",
              "       'profile_career', 'profile_university',\n",
              "       'profile_specialization_courses', 'profile_open_source_contributions',\n",
              "       'profile_programming_as_hobby', 'work_role', 'tools_platform',\n",
              "       'tools_programming_languages', 'tools_frameworks', 'tools_data_bases',\n",
              "       'tools_qa_testing', 'tools_IDEs', 'tools_work_pc_os',\n",
              "       'tools_cellphone_os', 'work_on_call_duty', 'salary_on_call_duty_charge',\n",
              "       'work_on_call_duty_charge_type', 'work_contract_type',\n",
              "       'salary_monthly_BRUTO', 'salary_monthly_NETO', 'salary_in_usd',\n",
              "       'salary_satisfaction', 'salary_comparison_last_semester',\n",
              "       'salary_has_bonus', 'salary_bonus_tied_to',\n",
              "       'salary_inflation_adjustment_2020',\n",
              "       'salary_percentage_inflation_adjustment_2020',\n",
              "       'salary_month_last_inflation_adjustment',\n",
              "       'work_has_violence_situations', 'profile_sexual_orientation',\n",
              "       'profile_has_disabilities',\n",
              "       'profile_has_disabilities_hiring_difficulties',\n",
              "       'company_employee_number', 'company_main_activity',\n",
              "       'company_recommended', 'company_diversity_policies',\n",
              "       'company_extra_benefits', 'company_best_companies_city'],\n",
              "      dtype='object')"
            ]
          },
          "execution_count": 8,
          "metadata": {},
          "output_type": "execute_result"
        }
      ],
      "source": [
        "df_orig.columns"
      ]
    },
    {
      "cell_type": "markdown",
      "metadata": {
        "id": "MPEUqxCA0os7"
      },
      "source": [
        "Seleccionamos las siguientes variables como relevantes:\n",
        "\n",
        "Variable RESPUESTA:\n",
        "\n",
        "    - Salario mensual neto :'salary_monthly_NETO'. Tipo: cuantitativa\n",
        "    \n",
        "Variables EXPLICATIVAS:\n",
        "    \n",
        "    - Lenguajes de programación utilizados: 'tools_programming_languages'. Tipo: categórica\n",
        "    \n",
        "    - Nivel de estudios: 'profile_studies_level'. Tipo: categórica\n",
        "    \n",
        "    - Años de experiencia: 'profile_years_experience'. Tipo: cuantitativa\n",
        "    \n",
        "    - Rol de trabajo: 'work_role'. Tipo: categórica\n",
        "    \n",
        "*Nota: El tipo de variable se corroboró mediante la inspección de la columna con el método \"df[\"column_name\"].unique()\""
      ]
    },
    {
      "cell_type": "markdown",
      "metadata": {
        "id": "-ZSQYANFHHgV"
      },
      "source": [
        "### Selección de las filas relevantes para los análisis. "
      ]
    },
    {
      "cell_type": "code",
      "execution_count": null,
      "metadata": {
        "scrolled": false,
        "id": "8HeFKFcA0os9",
        "outputId": "065d1c8d-81ea-43a4-9a4c-66ded77fc560"
      },
      "outputs": [
        {
          "name": "stdout",
          "output_type": "stream",
          "text": [
            "Salario máximo NETO: 2080000.0 $ ARS\n",
            "Mediana del salario NETO: 78000.0 $ ARS\n",
            "Moda del salario NETO: 0    80000.0\n",
            "dtype: float64 $ ARS\n"
          ]
        }
      ],
      "source": [
        "s_neto= 'salary_monthly_NETO'\n",
        "\n",
        "# Cálculo de medidas de centralización\n",
        "max_salario = df_orig[s_neto].max()\n",
        "med_salario = df_orig[s_neto].median()\n",
        "mod_salario = df_orig[s_neto].mode()\n",
        "\n",
        "print(\"Salario máximo NETO:\",max_salario, \"$ARS\")\n",
        "print(\"Mediana del salario NETO:\",med_salario, \"$ARS\")\n",
        "print(\"Moda del salario NETO:\",mod_salario,\"$ARS\") \n",
        "# Habría que ver cómo quitar el \"0\" que aparece antes de 80000 y que aparezca el \"$ ARS\" luego de 80000"
      ]
    },
    {
      "cell_type": "code",
      "execution_count": null,
      "metadata": {
        "scrolled": true,
        "id": "iUBQBi0u0os-",
        "outputId": "4891ccf6-caf1-4771-dab9-9b4771831e9d"
      },
      "outputs": [
        {
          "name": "stdout",
          "output_type": "stream",
          "text": [
            "Cantidad de personas con sueldos igual a 80mil $ARS (Moda): 149\n",
            "Cantidad de personas con salarios igual a 100mil $ARS: 139\n",
            "Cantidad de personas con sueldos igual a 200mil $ARS: 41\n",
            "Cantidad de personas con sueldos entre 60mil y 70mil $ARS: 648\n",
            "Cantidad de personas con sueldos entre 70mil y 80mil $ARS: 621\n",
            "Cantidad de personas con sueldos entre 80mil y 90mil $ARS: 542\n",
            "Cantidad de personas con sueldos entre 90mil y 1000mil $ARS: 514\n",
            "Cantidad de personas con sueldos entre 100mil y 200mil $ARS: 1341\n",
            "Cantidad de personas con sueldos entre 200mil y 300mil $ARS: 154\n",
            "Cantidad de personas con sueldos entre 300mil y 400mil $ARS: 73\n",
            "Cantidad de personas con sueldos entre 400mil y 500mil $ARS: 41\n",
            "Cantidad de personas con sueldos entre 500mil y 600mil $ARS: 17\n",
            "Cantidad de personas con sueldos entre 600mil y 700mil $ARS: 5\n",
            "Cantidad de personas con sueldos entre 700mil y 800mil $ARS: 6\n",
            "Cantidad de personas con sueldos entre 800mil y 900mil $ARS: 7\n"
          ]
        }
      ],
      "source": [
        "#Cálculo de frecuencias para diferentes salarios y rangos de salario\n",
        "\n",
        "cont1,cont2,cont3=0,0,0\n",
        "cont3_a,cont3_b,cont4,cont4_a,cont4_b,cont5, cont6,cont7,cont8,cont9,cont10,cont11=0,0,0,0,0,0,0,0,0,0,0,0 \n",
        "\n",
        "for i in range(1,len(df_orig)):\n",
        "  if (df_orig.loc[i,s_neto] ==80000):\n",
        "    cont1 = cont1 + 1\n",
        "\n",
        "for i in range(1,len(df_orig)):\n",
        "  if df_orig.loc[i,s_neto] == 100000:\n",
        "    cont2 = cont2 + 1  \n",
        "\n",
        "for i in range(1,len(df_orig)):\n",
        "  if df_orig.loc[i,s_neto] ==200000:\n",
        "    cont3 = cont3 + 1\n",
        "\n",
        "for i in range(1,len(df_orig)):\n",
        "  if ((df_orig.loc[i,s_neto] >=60000) and (df_orig.loc[i,s_neto] <=70000)):\n",
        "    cont3_a= cont3_a + 1\n",
        "\n",
        "for i in range(1,len(df_orig)):\n",
        "  if ((df_orig.loc[i,s_neto] >70000) and (df_orig.loc[i,s_neto] <=80000)):\n",
        "    cont3_b= cont3_b + 1\n",
        "\n",
        "for i in range(1,len(df_orig)):\n",
        "  if ((df_orig.loc[i,s_neto] >80000) and (df_orig.loc[i,s_neto] <=90000)):\n",
        "    cont4= cont4 + 1\n",
        "\n",
        "for i in range(1,len(df_orig)):\n",
        "  if ((df_orig.loc[i,s_neto] >90000) and (df_orig.loc[i,s_neto] <=100000)):\n",
        "    cont4_a= cont4_a + 1   \n",
        "\n",
        "for i in range(1,len(df_orig)):\n",
        "  if ((df_orig.loc[i,s_neto] >100000) and (df_orig.loc[i,s_neto] <=200000)):\n",
        "    cont4_b= cont4_b + 1\n",
        "\n",
        "for i in range(1,len(df_orig)):\n",
        "  if ((df_orig.loc[i,s_neto] >200000) and (df_orig.loc[i,s_neto] <=300000)):\n",
        "    cont5 = cont5 + 1\n",
        "\n",
        "for i in range(1,len(df_orig)):\n",
        "  if ((df_orig.loc[i,s_neto] >300000) and (df_orig.loc[i,s_neto] <=400000)):\n",
        "    cont6 = cont6 + 1\n",
        "\n",
        "for i in range(1,len(df_orig)):\n",
        "   if ((df_orig.loc[i,s_neto] >400000) and (df_orig.loc[i,s_neto] <=500000)):\n",
        "     cont7 = cont7 + 1   \n",
        "for i in range(1,len(df_orig)):\n",
        "  if ((df_orig.loc[i,s_neto] >500000) and (df_orig.loc[i,s_neto] <=600000)):\n",
        "    cont8 = cont8 + 1\n",
        "\n",
        "for i in range(1,len(df_orig)):\n",
        "  if ((df_orig.loc[i,s_neto] >600000) and (df_orig.loc[i,s_neto] <=700000)):\n",
        "    cont9 = cont9 + 1\n",
        "\n",
        "for i in range(1,len(df_orig)):\n",
        "  if ((df_orig.loc[i,s_neto] >700000) and (df_orig.loc[i,s_neto] <=800000)):\n",
        "    cont10 =cont10 +1    \n",
        "\n",
        "for i in range(1,len(df_orig)):\n",
        "  if ((df_orig.loc[i,s_neto] >800000) and (df_orig.loc[i,s_neto] <=900000)):\n",
        "    cont11 = cont11 + 1\n",
        "\n",
        "print(\"Cantidad de personas con sueldos igual a 80mil $ARS (Moda):\",cont1) \n",
        "print(\"Cantidad de personas con salarios igual a 100mil $ARS:\",cont2)\n",
        "print(\"Cantidad de personas con sueldos igual a 200mil $ARS:\", cont3)\n",
        "print(\"Cantidad de personas con sueldos entre 60mil y 70mil $ARS:\", cont3_a)\n",
        "print(\"Cantidad de personas con sueldos entre 70mil y 80mil $ARS:\", cont3_b)\n",
        "print(\"Cantidad de personas con sueldos entre 80mil y 90mil $ARS:\", cont4)\n",
        "print(\"Cantidad de personas con sueldos entre 90mil y 1000mil $ARS:\", cont4_a)\n",
        "print(\"Cantidad de personas con sueldos entre 100mil y 200mil $ARS:\", cont4_b)\n",
        "print(\"Cantidad de personas con sueldos entre 200mil y 300mil $ARS:\", cont5)\n",
        "print(\"Cantidad de personas con sueldos entre 300mil y 400mil $ARS:\", cont6)\n",
        "print(\"Cantidad de personas con sueldos entre 400mil y 500mil $ARS:\", cont7)\n",
        "print(\"Cantidad de personas con sueldos entre 500mil y 600mil $ARS:\", cont8)\n",
        "print(\"Cantidad de personas con sueldos entre 600mil y 700mil $ARS:\", cont9)\n",
        "print(\"Cantidad de personas con sueldos entre 700mil y 800mil $ARS:\", cont10)\n",
        "print(\"Cantidad de personas con sueldos entre 800mil y 900mil $ARS:\",cont11)"
      ]
    },
    {
      "cell_type": "markdown",
      "metadata": {
        "id": "4JwiEMhq0os_"
      },
      "source": [
        "Considerando la distribución de salarios, se decidió filtrar la base de datos mediante un valor mínimo y un valor máximo. \n",
        "\n",
        "El valor mínimo se estableció en 54.207 `$`ARS que corresponde a la Canasta Básica Total (CBT) en diciembre de 2020 (Fte:INDEC). Se considera que valores por debajo de la CBT posiblemente correspondan a trabajos part-time o ad-honorem, los cuales no nos interesa que se incorporen al análisis. En el apéndice se desarrolla un breve análisis de los contratos part_time. \n",
        "\n",
        "El valor máximo se estableció en 54.2070 `$`ARS, correspondiente a 10 CBT. Este valor parece adecuado considerando que en el análisis previo se observa una fuerte caída en la cantidad de entrevistados a partir de salarios de 50.0000 `$`ARS. Cabe comentar que el valor máximo corresponde al cuartil de 75% mas 8 veces el intercuartil. "
      ]
    },
    {
      "cell_type": "code",
      "execution_count": null,
      "metadata": {
        "scrolled": false,
        "id": "q1dtODl_0otA",
        "outputId": "ec44ad10-e671-4ccc-a131-7292cafec898"
      },
      "outputs": [
        {
          "data": {
            "text/plain": [
              "7.998349229640499"
            ]
          },
          "execution_count": 32,
          "metadata": {},
          "output_type": "execute_result"
        }
      ],
      "source": [
        "q1 = df_orig[s_neto].quantile(0.25)\n",
        "q3 = df_orig[s_neto].quantile(0.75)\n",
        "iqr = q3 - q1\n",
        "n= (542070 - q3)/iqr \n",
        "n"
      ]
    },
    {
      "cell_type": "code",
      "execution_count": null,
      "metadata": {
        "scrolled": false,
        "id": "LRHHdKrw0otA",
        "outputId": "168fe7f9-b0f0-489b-bdc8-10043223e339"
      },
      "outputs": [
        {
          "name": "stdout",
          "output_type": "stream",
          "text": [
            "(4206, 48)\n",
            "(4159, 48)\n"
          ]
        }
      ],
      "source": [
        "# Filtrado de la base de datos original (df_orig) y generación de la nueva base de datos (df_new)\n",
        "df_new=  df_orig[(df_orig[s_neto] > 54207) & (df_orig[s_neto] < 542070)]\n",
        "print(df_new.shape)\n",
        "\n",
        "# Reviso si hay filas duplicadas\n",
        "df_new.duplicated().any() # Si, hay filas duplicadas, ya que aparece True.\n",
        "\n",
        "# Lo siguiente  me permite observar ambas filas de cada fila duplicadas. El total es 89 filas. ¿No debería ser par?\n",
        "df_new[df_new.duplicated(keep=False)]\n",
        "\n",
        "# Lo siguiente me permite observar solo una fila de cada fila duplicada. \n",
        "# Hay 47 filas duplicadas. ¿No debería ser la mitad de 89?\n",
        "df_new[df_new.duplicated()]  \n",
        "\n",
        "# Elimino las filas duplicadas\n",
        "df_final = df_new.drop_duplicates()\n",
        "print(df_final.shape)"
      ]
    },
    {
      "cell_type": "code",
      "execution_count": null,
      "metadata": {
        "id": "8cZ502M10otB",
        "outputId": "b929a844-5ed3-4943-dab4-1fd3a93cb26b"
      },
      "outputs": [
        {
          "data": {
            "text/plain": [
              "Text(0.5, 1.0, 'Base de datos procesada')"
            ]
          },
          "execution_count": 153,
          "metadata": {},
          "output_type": "execute_result"
        },
        {
          "data": {
            "image/png": "[encoded data removed]",
            "text/plain": [
              "<Figure size 720x360 with 1 Axes>"
            ]
          },
          "metadata": {
            "needs_background": "light"
          },
          "output_type": "display_data"
        },
        {
          "data": {
            "image/png": "[encoded data removed]",
            "text/plain": [
              "<Figure size 720x360 with 1 Axes>"
            ]
          },
          "metadata": {
            "needs_background": "light"
          },
          "output_type": "display_data"
        }
      ],
      "source": [
        "# Comparación gráfica de las bases de datos\n",
        "sns.displot(df_orig[s_neto], aspect=2, bins=100) \n",
        "plt.ticklabel_format(style='plain')\n",
        "plt.ylabel(\"Frecuencia\")\n",
        "plt.xlabel('Salario mensual neto ($ARS)', fontsize=16)\n",
        "plt.title(\"Base de datos original\")\n",
        "\n",
        "sns.displot(df_final[s_neto], aspect=2, bins=100) \n",
        "plt.ticklabel_format(style='plain')\n",
        "plt.ylabel(\"Frecuencia\")\n",
        "plt.xlabel('Salario mensual neto ($ARS)',fontsize=16)\n",
        "plt.title(\"Base de datos procesada\")"
      ]
    },
    {
      "cell_type": "markdown",
      "metadata": {
        "id": "-YJnJqrg0otB"
      },
      "source": [
        "La nueva base de datos conserva una alta proporción de los datos de la encuesta (68%), descartando valores extremos mínimos y máximos, y valores duplicados. Se observa que la mayor proporción de los encuestados declara un salario en torno a los 100.000 $ARS."
      ]
    },
    {
      "cell_type": "markdown",
      "metadata": {
        "id": "OoGgzMvuEocM"
      },
      "source": [
        "### Análisis de lenguajes de programación\n",
        "\n",
        "Se realizó un análisis de los salarios en función del lenguaje de programación utilizado por los encuestados. El objetivo fue responder a la pregunta: **¿Cuáles son los lenguajes de programación asociados a los mejores salarios?**"
      ]
    },
    {
      "cell_type": "code",
      "execution_count": null,
      "metadata": {
        "id": "-NUCEwBR0otC",
        "outputId": "2acdb6b2-35bc-4648-b45d-17166d85a208"
      },
      "outputs": [
        {
          "data": {
            "text/plain": [
              "0                             HTML, Javascript, Python\n",
              "1                                              Ninguno\n",
              "2    Bash/Shell, C, CSS, HTML, Java, Javascript, PH...\n",
              "3               CSS, HTML, Javascript, SQL, TypeScript\n",
              "4                                           Javascript\n",
              "Name: tools_programming_languages, dtype: object"
            ]
          },
          "execution_count": 95,
          "metadata": {},
          "output_type": "execute_result"
        }
      ],
      "source": [
        "# Selecciono las columnas relevantes\n",
        "relevant_columns = ['tools_programming_languages', 'salary_monthly_NETO']\n",
        "\n",
        "# Genero un nuevo dataframe con las columnas relevantes y elimino los valores NaN\n",
        "\n",
        "df2 = df_final[relevant_columns]\n",
        "df2 = df2[df2['salary_monthly_NETO'].notna()]\n",
        "df2 = df2.reset_index(drop=True)\n",
        "df2.tools_programming_languages[:5]"
      ]
    },
    {
      "cell_type": "markdown",
      "metadata": {
        "id": "l8bYmvMhSroH"
      },
      "source": [
        "**A continuación se separan los lenguajes de programación y se cuenta la frecuencia con la que aparecen.**"
      ]
    },
    {
      "cell_type": "code",
      "execution_count": null,
      "metadata": {
        "colab": {
          "base_uri": "https://localhost:8080/",
          "height": 206
        },
        "id": "PAQ81x3iUP_N",
        "outputId": "acd11f73-dc71-405d-fe44-66af6d3a17a8",
        "scrolled": true
      },
      "outputs": [
        {
          "data": {
            "text/html": [
              "<div>\n",
              "<style scoped>\n",
              "    .dataframe tbody tr th:only-of-type {\n",
              "        vertical-align: middle;\n",
              "    }\n",
              "\n",
              "    .dataframe tbody tr th {\n",
              "        vertical-align: top;\n",
              "    }\n",
              "\n",
              "    .dataframe thead th {\n",
              "        text-align: right;\n",
              "    }\n",
              "</style>\n",
              "<table border=\"1\" class=\"dataframe\">\n",
              "  <thead>\n",
              "    <tr style=\"text-align: right;\">\n",
              "      <th></th>\n",
              "      <th>programming_language</th>\n",
              "      <th>tools_programming_languages</th>\n",
              "      <th>salary_monthly_NETO</th>\n",
              "      <th>cured_programming_languages</th>\n",
              "    </tr>\n",
              "  </thead>\n",
              "  <tbody>\n",
              "    <tr>\n",
              "      <th>0</th>\n",
              "      <td>html</td>\n",
              "      <td>HTML, Javascript, Python</td>\n",
              "      <td>63000.0</td>\n",
              "      <td>[html, javascript, python]</td>\n",
              "    </tr>\n",
              "    <tr>\n",
              "      <th>0</th>\n",
              "      <td>javascript</td>\n",
              "      <td>HTML, Javascript, Python</td>\n",
              "      <td>63000.0</td>\n",
              "      <td>[html, javascript, python]</td>\n",
              "    </tr>\n",
              "    <tr>\n",
              "      <th>0</th>\n",
              "      <td>python</td>\n",
              "      <td>HTML, Javascript, Python</td>\n",
              "      <td>63000.0</td>\n",
              "      <td>[html, javascript, python]</td>\n",
              "    </tr>\n",
              "    <tr>\n",
              "      <th>1</th>\n",
              "      <td>ninguno</td>\n",
              "      <td>Ninguno</td>\n",
              "      <td>127000.0</td>\n",
              "      <td>[ninguno]</td>\n",
              "    </tr>\n",
              "    <tr>\n",
              "      <th>2</th>\n",
              "      <td>bash/shell</td>\n",
              "      <td>Bash/Shell, C, CSS, HTML, Java, Javascript, PH...</td>\n",
              "      <td>102000.0</td>\n",
              "      <td>[bash/shell, c, css, html, java, javascript, p...</td>\n",
              "    </tr>\n",
              "  </tbody>\n",
              "</table>\n",
              "</div>"
            ],
            "text/plain": [
              "  programming_language                        tools_programming_languages  \\\n",
              "0                 html                           HTML, Javascript, Python   \n",
              "0           javascript                           HTML, Javascript, Python   \n",
              "0               python                           HTML, Javascript, Python   \n",
              "1              ninguno                                            Ninguno   \n",
              "2           bash/shell  Bash/Shell, C, CSS, HTML, Java, Javascript, PH...   \n",
              "\n",
              "   salary_monthly_NETO                        cured_programming_languages  \n",
              "0              63000.0                         [html, javascript, python]  \n",
              "0              63000.0                         [html, javascript, python]  \n",
              "0              63000.0                         [html, javascript, python]  \n",
              "1             127000.0                                          [ninguno]  \n",
              "2             102000.0  [bash/shell, c, css, html, java, javascript, p...  "
            ]
          },
          "execution_count": 91,
          "metadata": {},
          "output_type": "execute_result"
        }
      ],
      "source": [
        "# Se convierten las cadenas de texto (strings) de la columna lenguajes de programación a una lista de strings.\n",
        "# Se remueve el string 'ninguno de los anteriores', los espacios y las comas.\n",
        "def split_languages(languages_str):\n",
        "  if not isinstance(languages_str, str):\n",
        "    return []\n",
        "  # REmoción de la opción 'other'\n",
        "  languages_str = languages_str.lower()\\\n",
        "    .replace('ninguno de los anteriores', '')\n",
        "  # Se separan los string en una lista de items\n",
        "  # Se remueven los espacios y comas de cada item\n",
        "  return [lang.strip().replace(',', '')\n",
        "          for lang in languages_str.split()]\n",
        "\n",
        "# Se crea una nueva columna con la lista de lenguajes\n",
        "df2.loc[:, 'cured_programming_languages'] = df2.tools_programming_languages\\\n",
        "    .apply(split_languages)\n",
        "if 'cured_programming_languages' not in relevant_columns:\n",
        "    relevant_columns.append('cured_programming_languages') \n",
        "\n",
        "# Se REPLICA (decía duplicate) cada fila del dataframe por cada lenguaje de programación mencionado en la respuesta \n",
        "df_lang = df2.cured_programming_languages\\\n",
        "    .apply(pd.Series).stack()\\\n",
        "    .reset_index(level=-1, drop=True).to_frame()\\\n",
        "    .join(df2[relevant_columns])\\\n",
        "    .rename(columns={0: 'programming_language'})\n",
        "df_lang[:5]"
      ]
    },
    {
      "cell_type": "markdown",
      "metadata": {
        "id": "qm8NUg-7UEue"
      },
      "source": [
        "**En la columna `programming_language` se encuentra cada lenguaje por separado. Notar que si una respuesta contenía 3 lenguajes, como `\"HTML, Javascript, Python\"`, la fila ha sido replicada 3 veces.**"
      ]
    },
    {
      "cell_type": "code",
      "execution_count": null,
      "metadata": {
        "colab": {
          "base_uri": "https://localhost:8080/"
        },
        "id": "lNPb4tTvWCwv",
        "outputId": "d1337467-e1bc-4c0d-f556-40dc90877237",
        "scrolled": false
      },
      "outputs": [
        {
          "name": "stdout",
          "output_type": "stream",
          "text": [
            "    Lenguaje de programación  Frecuencia\n",
            "0                 javascript        1711\n",
            "1                        sql        1483\n",
            "2                       html        1216\n",
            "3                     python        1130\n",
            "4                       java        1074\n",
            "..                       ...         ...\n",
            "158                  mongodb           1\n",
            "159                    boomi           1\n",
            "160                     dell           1\n",
            "161                      x++           1\n",
            "162                infobasic           1\n",
            "\n",
            "[163 rows x 2 columns]\n"
          ]
        },
        {
          "data": {
            "text/plain": [
              "<AxesSubplot:xlabel='Lenguaje de programación', ylabel='Frecuencia'>"
            ]
          },
          "execution_count": 148,
          "metadata": {},
          "output_type": "execute_result"
        },
        {
          "data": {
            "image/png": "[encoded data removed]",
            "text/plain": [
              "<Figure size 1440x576 with 1 Axes>"
            ]
          },
          "metadata": {
            "needs_background": "light"
          },
          "output_type": "display_data"
        }
      ],
      "source": [
        "language_count = df_lang.programming_language.value_counts()\\\n",
        "    .reset_index()\\\n",
        "    .rename(columns={'index': 'Lenguaje de programación', 'programming_language': 'Frecuencia'})\n",
        "print(language_count)\n",
        "\n",
        "# Consideramos unicamente como lenguajes populares aquellos que tengan más del 1.5% de votos. Mismo criterio que las PASO\n",
        "required_votes = language_count.Frecuencia.sum() * 0.015\n",
        "language_count = language_count[language_count.Frecuencia > required_votes]\n",
        "\n",
        "plt.figure(figsize=(20,8))\n",
        "seaborn.barplot(x=\"Lenguaje de programación\", y=\"Frecuencia\" , palette=\"pastel\", edgecolor=\".6\", data=language_count)\n"
      ]
    },
    {
      "cell_type": "markdown",
      "metadata": {
        "id": "nThbJ1KeUgDo"
      },
      "source": [
        "## Filtrado de lenguajes relevantes\n",
        "\n",
        "**El siguiente código permite seleccionar sólo las filas donde el valor de la columna `programming_language` se encuentre en la lista `popular_languages`.**"
      ]
    },
    {
      "cell_type": "code",
      "execution_count": null,
      "metadata": {
        "id": "DEpVptnLZUQU"
      },
      "outputs": [],
      "source": [
        "popular_languages = language_count.language\n",
        "filtered_df_lang = df_lang[df_lang.programming_language.isin(popular_languages)]\n",
        "filtered_df_lang = filtered_df_lang[['programming_language', 'salary_monthly_NETO']]"
      ]
    },
    {
      "cell_type": "code",
      "execution_count": null,
      "metadata": {
        "colab": {
          "base_uri": "https://localhost:8080/"
        },
        "id": "WoieZtRbePY6",
        "outputId": "422f3eaa-1220-4d1c-b21d-bc6ad8ff0bfd",
        "scrolled": false
      },
      "outputs": [
        {
          "data": {
            "text/plain": [
              "count     10881.0\n",
              "mean     113720.6\n",
              "std       70089.9\n",
              "min       54310.0\n",
              "25%       74655.0\n",
              "50%       93000.0\n",
              "75%      122000.0\n",
              "max      535000.0\n",
              "Name: salary_monthly_NETO, dtype: object"
            ]
          },
          "execution_count": 107,
          "metadata": {},
          "output_type": "execute_result"
        }
      ],
      "source": [
        "filtered_df_lang[\"salary_monthly_NETO\"].describe().apply(lambda s: '{0:.1f}'.format(s)) \n",
        "# La función apply se usó para especificar el número de decimales"
      ]
    },
    {
      "cell_type": "markdown",
      "metadata": {
        "id": "-JfqEMo-0otE"
      },
      "source": [
        "**Luego del filtrado, buscamos responder que tan probable es tener un sueldo mayor a la media, dada la elección de un determinado lenguaje.**"
      ]
    },
    {
      "cell_type": "code",
      "execution_count": null,
      "metadata": {
        "scrolled": true,
        "id": "K98IbDfC0otE",
        "outputId": "f066fc03-363b-4af1-f872-9451635466c4"
      },
      "outputs": [
        {
          "name": "stdout",
          "output_type": "stream",
          "text": [
            "A continuación se lista el porcentaje de personas que ganan más de: 113720.6 $ARS (media)\n",
            "El 30.8% de las personas que programan en javascript ganan más de la media\n",
            "El 27.2% de las personas que programan en sql ganan más de la media\n",
            "El 27.1% de las personas que programan en html ganan más de la media\n",
            "El 34.3% de las personas que programan en python ganan más de la media\n",
            "El 33.5% de las personas que programan en java ganan más de la media\n",
            "El 26.3% de las personas que programan en css ganan más de la media\n",
            "El 33.9% de las personas que programan en bash/shell ganan más de la media\n",
            "El 32.0% de las personas que programan en php ganan más de la media\n",
            "El 28.3% de las personas que programan en .net ganan más de la media\n",
            "El 34.2% de las personas que programan en typescript ganan más de la media\n",
            "El 27.0% de las personas que programan en c# ganan más de la media\n",
            "El 49.4% de las personas que programan en go ganan más de la media\n",
            "El 23.4% de las personas que programan en ninguno ganan más de la media\n"
          ]
        }
      ],
      "source": [
        "salary_mean = filtered_df_lang.salary_monthly_NETO.mean()\n",
        "print(\"A continuación se lista el porcentaje de personas que ganan más de: {} $ARS (media)\".format('%.1f'%salary_mean))\n",
        "for language in popular_languages:\n",
        "    specific_lang_df = filtered_df_lang[filtered_df_lang.programming_language == language]\n",
        "    specific_lang_and_higher_mean = specific_lang_df[specific_lang_df.salary_monthly_NETO > salary_mean]\n",
        "    print(\"El {}% de las personas que programan en {} ganan más de la media\".format('%.1f'% ((len(specific_lang_and_higher_mean)/len(specific_lang_df))*100), language))\n"
      ]
    },
    {
      "cell_type": "code",
      "execution_count": null,
      "metadata": {
        "scrolled": true,
        "id": "jO3IOF640otE",
        "outputId": "af2e6b4c-91b8-4f7f-f4e8-4401db96898e"
      },
      "outputs": [
        {
          "data": {
            "text/plain": [
              "Text(0, 0.5, 'Lenguaje de programación')"
            ]
          },
          "execution_count": 152,
          "metadata": {},
          "output_type": "execute_result"
        },
        {
          "data": {
            "image/png": "[encoded data removed]",
            "text/plain": [
              "<Figure size 936x864 with 1 Axes>"
            ]
          },
          "metadata": {
            "needs_background": "light"
          },
          "output_type": "display_data"
        }
      ],
      "source": [
        "# Graficamos la distribución de los salarios para lenguaje de programación\n",
        "plt.figure(figsize=(13, 12))\n",
        "sns.boxplot(data=filtered_df_lang, x=s_neto, y='programming_language',\n",
        "                color='magenta')\n",
        "plt.ticklabel_format(style='plain', axis='x')\n",
        "plt.xlabel(\"Salario mensual neto  ($ARS)\")\n",
        "plt.ylabel(\"Lenguaje de programación\")"
      ]
    },
    {
      "cell_type": "markdown",
      "metadata": {
        "id": "11UCj0Gv0otF"
      },
      "source": [
        "Los análisis precedentes revelan que aquellos que utilizan el lenguaje de programación \"Go\", son los que tienen mayor probabilidad (49,4%) de ganar un salario por encima de la media de 113.720 $ARS. En un lejano segundo (34,3%) y tercer (34,2%) lugar se encuentran aquellos que programan con Python y Tapescript respectivamente. \n",
        "Por otra parte, es interesante observar en la gráfica que, independientemente del lenguaje de programación utilizado, una importante cantidad de programadores logran pactar salarios muy por encima de la media. "
      ]
    },
    {
      "cell_type": "markdown",
      "metadata": {
        "id": "tWo8SmmC9FAk"
      },
      "source": [
        "# Ejercicio 2 - Densidades y varias variables\n",
        "\n",
        "Responder a la pregunta general: **¿Que herramientas (prácticas y teóricas) són útiles para explorar la base, descubrir patrones, asociaciones?**\n",
        "\n",
        "Para ello considere (igual al ejercicio Anterior):\n",
        "1. Seleccionar las columnas relevantes para analizar.\n",
        "2. Seleccionar las filas relevantes para analizar. Esto incluye la eliminación de valores extremos y erróneos, pero también puede enfocar el análisis en sub-poblaciones. "
      ]
    },
    {
      "cell_type": "markdown",
      "metadata": {
        "id": "5baYhH0XHM3S"
      },
      "source": [
        "## a) Densidad conjunta\n",
        "\n",
        "Que herramientas visuales y modelos puede utilizar para estudiar la distribución y comportamiento de sus datos? \n",
        "\n",
        "Elija tres variables numéricas y 2 variables categóricas. Visualice la base según varias de las variables elegidas. Puede describir de alguna forma el comportamiento de sus datos? Que herramientas utilizaría? Describa\n",
        "\n",
        "\n"
      ]
    },
    {
      "cell_type": "markdown",
      "metadata": {
        "id": "lkuHE2aZGHMO"
      },
      "source": [
        "## b) Asociación\n",
        "\n",
        "* Necesitamos decidir si sacar o no la columna de salario bruto. Para hacer la encuesta más simple.\n",
        "¿Existe una correlación entre el salario bruto y el neto? Que abordaje y medidas usaría\n",
        "\n"
      ]
    },
    {
      "cell_type": "markdown",
      "metadata": {
        "id": "7MZrbRJCm-ae"
      },
      "source": [
        "## c) Densidad condicional \n",
        "\n",
        "Estudie la distribución del salario según el nivel de estudio.\n",
        "\n",
        "Separe la población según el nivel de estudio (elija dos subpoblaciones numerosas) y grafique de manera comparativa ambos histogramas de la variable `'salary_monthly_NETO'`\n",
        "¿Considera que ambas variables son independientes?\n",
        "¿Qué analizaría al respecto?\n",
        "\n",
        "Calcule medidas de centralización y dispersión para cada subpoblación\n",
        "\n",
        "\n",
        "\n",
        "\n"
      ]
    },
    {
      "cell_type": "markdown",
      "metadata": {
        "id": "u8wgYxNiqVpE"
      },
      "source": [
        "## d) Densidad Conjunta condicional\n",
        "\n",
        "Elija dos variables numéricas y una categórica. \n",
        "Estudie la dispersión (scatterplot) de las dos variables discriminando en color por la variable categórica (ayuda: hue en seaborn)\n"
      ]
    },
    {
      "cell_type": "markdown",
      "metadata": {
        "id": "pd-V-6gH0otG"
      },
      "source": [
        "# Bibliografía:\n",
        "\n",
        "- Resultados de la Encuesta de sueldos 2020. Link: https://sysarmy.com/blog/posts/resultados-de-la-encuesta-de-sueldos-2020-2/\n",
        "\n",
        "- Canasta Básica Total Diciembre 2020. Fuente: INDEC (https://www.indec.gob.ar/ftp/cuadros/sociedad/serie_cba_cbt.xls)"
      ]
    },
    {
      "cell_type": "markdown",
      "metadata": {
        "id": "QK4Sli0x0otG"
      },
      "source": [
        "# Apéndice:"
      ]
    },
    {
      "cell_type": "markdown",
      "metadata": {
        "id": "CPmncfJn0otG"
      },
      "source": [
        "Análisis de contratos Part time:\n",
        "    Dada la existencia de una pregunta que tiene por respuesta \"Part time\", analizamos la variable a fin de conocer mejor\n",
        "    las característica de estos trabajadores."
      ]
    },
    {
      "cell_type": "code",
      "execution_count": null,
      "metadata": {
        "scrolled": true,
        "id": "GkStyQIm0otG",
        "outputId": "f0d0ea3d-6b7d-4a6e-8034-55917e13bfb6"
      },
      "outputs": [
        {
          "name": "stdout",
          "output_type": "stream",
          "text": [
            "['Full-Time' 'Freelance' 'Part-Time'\n",
            " 'Tercerizado (trabajo a través de consultora o agencia)'\n",
            " 'Remoto (empresa de otro país)']\n"
          ]
        },
        {
          "data": {
            "text/plain": [
              "count       302.000000\n",
              "mean      45053.783728\n",
              "std       53500.762773\n",
              "min           9.000000\n",
              "25%       25000.000000\n",
              "50%       37648.500000\n",
              "75%       53825.000000\n",
              "max      836400.000000\n",
              "Name: salary_monthly_NETO, dtype: float64"
            ]
          },
          "execution_count": 53,
          "metadata": {},
          "output_type": "execute_result"
        },
        {
          "data": {
            "image/png": "[encoded data removed]",
            "text/plain": [
              "<Figure size 432x288 with 1 Axes>"
            ]
          },
          "metadata": {
            "needs_background": "light"
          },
          "output_type": "display_data"
        }
      ],
      "source": [
        "print(df_orig['work_contract_type'].unique())\n",
        "part_time = df_orig[df_orig['work_contract_type'] == 'Part-Time']\n",
        "plt.hist(part_time[s_neto], bins=15, range =[0,85000])\n",
        "part_time[s_neto].describe()\n"
      ]
    },
    {
      "cell_type": "markdown",
      "metadata": {
        "id": "6XyzYJP60otH"
      },
      "source": [
        "Observamos que los trabajadores Part time están comprendidos en una pregunta donde las opciones no son comparables en términos de tiempo de dedicación al trabajo. Por dar un ejemplo, Trabajo remoto no es comparable con Part time. Además, los trabajadores Part time representan un porción muy pequeña de los encuestados (302 de 6095). Por todo ello, consideramos como recomendación, la reformulación de esta pregunta para futuras encuestas, a fin de permitir la comparación entre trabajadores Full time y Part time."
      ]
    },
    {
      "cell_type": "code",
      "execution_count": null,
      "metadata": {
        "id": "AHmcH-KA0otH"
      },
      "outputs": [],
      "source": [
        ""
      ]
    }
  ],
  "metadata": {
    "colab": {
      "collapsed_sections": [],
      "name": "BorradorPráctico1.ipynb",
      "provenance": [],
      "include_colab_link": true
    },
    "kernelspec": {
      "display_name": "Python 3 (ipykernel)",
      "language": "python",
      "name": "python3"
    },
    "language_info": {
      "codemirror_mode": {
        "name": "ipython",
        "version": 3
      },
      "file_extension": ".py",
      "mimetype": "text/x-python",
      "name": "python",
      "nbconvert_exporter": "python",
      "pygments_lexer": "ipython3",
      "version": "3.9.7"
    }
  },
  "nbformat": 4,
  "nbformat_minor": 0
}