{
  "nbformat": 4,
  "nbformat_minor": 0,
  "metadata": {
    "colab": {
      "name": "Entregable - Parte 2_Garay.ipynb",
      "provenance": [],
      "collapsed_sections": [],
      "include_colab_link": true
    },
    "kernelspec": {
      "name": "python3",
      "display_name": "Python 3"
    }
  },
  "cells": [
    {
      "cell_type": "markdown",
      "metadata": {
        "id": "view-in-github",
        "colab_type": "text"
      },
      "source": [
        "<a href=\"https://colab.research.google.com/github/carolina-garay/grupo_32/blob/Entregable_parte1_parte2_Garay/Entregable_Parte_2_Garay.ipynb\" target=\"_parent\"><img src=\"https://colab.research.google.com/assets/colab-badge.svg\" alt=\"Open In Colab\"/></a>"
      ]
    },
    {
      "cell_type": "markdown",
      "metadata": {
        "id": "LYvAOR2VzHmW"
      },
      "source": [
        "\n",
        "**Diplomatura en Ciencia de Datos, Aprendizaje Automático y sus Aplicaciones**\n",
        "\n",
        "**Edición 2022**\n",
        "\n",
        "---\n",
        "# Trabajo práctico entregable - Parte 2\n",
        "\n",
        "*Grupo 32*\n",
        "\n",
        "Integrantes: \n",
        "- Garay, Carolina del Valle\n",
        "- Ormaechea, Sebastián Gabriel\n",
        "- Ramos, Pablo Nicolás\n",
        "- Reviglio, Valentín\n",
        "- Siner, Magalí\n",
        "             \n",
        "Introducción:\n",
        "\n",
        "En el presente documento se estudian los procedimientos para determinar si hay diferencias en el salario mensual neto promedio separado por categorías \"Hombre\" y \"Otros\". Para ello hacemos uso de la construcción de intervalos de confianza y pruebas de hipótesis."
      ]
    },
    {
      "cell_type": "markdown",
      "source": [
        "\n",
        "## Importación de librerías necesarias"
      ],
      "metadata": {
        "id": "FR15vPtcVJ4-"
      }
    },
    {
      "cell_type": "code",
      "metadata": {
        "id": "Xwdfo7z20TUK"
      },
      "source": [
        "# \n",
        "import io\n",
        "import matplotlib\n",
        "import matplotlib.pyplot as plt\n",
        "import numpy\n",
        "import pandas as pd\n",
        "import seaborn as sns\n",
        "import scipy\n",
        "import scipy.stats as stats\n",
        "from scipy.stats import ttest_ind\n",
        "from statsmodels.stats.power import tt_ind_solve_power\n",
        "\n",
        "sns.set_context('talk')"
      ],
      "execution_count": 35,
      "outputs": []
    },
    {
      "cell_type": "markdown",
      "metadata": {
        "id": "XY2Hl-Ma07Nn"
      },
      "source": [
        "## Lectura del dataset\n"
      ]
    },
    {
      "cell_type": "code",
      "metadata": {
        "id": "Vviv_sqXdR5W",
        "colab": {
          "base_uri": "https://localhost:8080/"
        },
        "outputId": "8ea7599b-606f-4984-c03e-3c82cc492d58"
      },
      "source": [
        "url = 'https://cs.famaf.unc.edu.ar/~mteruel/datasets/diplodatos/sysarmy_survey_2020_processed.csv'\n",
        "df_orig = pd.read_csv(url)\n",
        "df_orig.shape"
      ],
      "execution_count": 36,
      "outputs": [
        {
          "output_type": "execute_result",
          "data": {
            "text/plain": [
              "(6095, 48)"
            ]
          },
          "metadata": {},
          "execution_count": 36
        }
      ]
    },
    {
      "cell_type": "code",
      "metadata": {
        "id": "2lzmzK1NuPNT",
        "colab": {
          "base_uri": "https://localhost:8080/",
          "height": 204
        },
        "outputId": "782d28ee-55fe-4b41-8ea6-3ef6049f65d8"
      },
      "source": [
        "df_orig[['profile_gender', 'salary_monthly_NETO']].groupby('profile_gender').describe()"
      ],
      "execution_count": 37,
      "outputs": [
        {
          "output_type": "execute_result",
          "data": {
            "text/plain": [
              "               salary_monthly_NETO                                     \\\n",
              "                             count          mean            std   min   \n",
              "profile_gender                                                          \n",
              "Hombre                      4944.0  98836.063558  102159.664237   1.0   \n",
              "Mujer                        908.0  73501.414465   56256.880181   2.0   \n",
              "Otros                         31.0  95441.354839   88635.674358  40.0   \n",
              "\n",
              "                                                       \n",
              "                    25%      50%       75%        max  \n",
              "profile_gender                                         \n",
              "Hombre          53285.0  80000.0  110000.0  2080000.0  \n",
              "Mujer           43818.0  65000.0   92000.0   800000.0  \n",
              "Otros           39500.0  74000.0  117500.0   380000.0  "
            ],
            "text/html": [
              "\n",
              "  <div id=\"df-84bcb17f-5fc3-4be7-9abe-90f71a654da4\">\n",
              "    <div class=\"colab-df-container\">\n",
              "      <div>\n",
              "<style scoped>\n",
              "    .dataframe tbody tr th:only-of-type {\n",
              "        vertical-align: middle;\n",
              "    }\n",
              "\n",
              "    .dataframe tbody tr th {\n",
              "        vertical-align: top;\n",
              "    }\n",
              "\n",
              "    .dataframe thead tr th {\n",
              "        text-align: left;\n",
              "    }\n",
              "\n",
              "    .dataframe thead tr:last-of-type th {\n",
              "        text-align: right;\n",
              "    }\n",
              "</style>\n",
              "<table border=\"1\" class=\"dataframe\">\n",
              "  <thead>\n",
              "    <tr>\n",
              "      <th></th>\n",
              "      <th colspan=\"8\" halign=\"left\">salary_monthly_NETO</th>\n",
              "    </tr>\n",
              "    <tr>\n",
              "      <th></th>\n",
              "      <th>count</th>\n",
              "      <th>mean</th>\n",
              "      <th>std</th>\n",
              "      <th>min</th>\n",
              "      <th>25%</th>\n",
              "      <th>50%</th>\n",
              "      <th>75%</th>\n",
              "      <th>max</th>\n",
              "    </tr>\n",
              "    <tr>\n",
              "      <th>profile_gender</th>\n",
              "      <th></th>\n",
              "      <th></th>\n",
              "      <th></th>\n",
              "      <th></th>\n",
              "      <th></th>\n",
              "      <th></th>\n",
              "      <th></th>\n",
              "      <th></th>\n",
              "    </tr>\n",
              "  </thead>\n",
              "  <tbody>\n",
              "    <tr>\n",
              "      <th>Hombre</th>\n",
              "      <td>4944.0</td>\n",
              "      <td>98836.063558</td>\n",
              "      <td>102159.664237</td>\n",
              "      <td>1.0</td>\n",
              "      <td>53285.0</td>\n",
              "      <td>80000.0</td>\n",
              "      <td>110000.0</td>\n",
              "      <td>2080000.0</td>\n",
              "    </tr>\n",
              "    <tr>\n",
              "      <th>Mujer</th>\n",
              "      <td>908.0</td>\n",
              "      <td>73501.414465</td>\n",
              "      <td>56256.880181</td>\n",
              "      <td>2.0</td>\n",
              "      <td>43818.0</td>\n",
              "      <td>65000.0</td>\n",
              "      <td>92000.0</td>\n",
              "      <td>800000.0</td>\n",
              "    </tr>\n",
              "    <tr>\n",
              "      <th>Otros</th>\n",
              "      <td>31.0</td>\n",
              "      <td>95441.354839</td>\n",
              "      <td>88635.674358</td>\n",
              "      <td>40.0</td>\n",
              "      <td>39500.0</td>\n",
              "      <td>74000.0</td>\n",
              "      <td>117500.0</td>\n",
              "      <td>380000.0</td>\n",
              "    </tr>\n",
              "  </tbody>\n",
              "</table>\n",
              "</div>\n",
              "      <button class=\"colab-df-convert\" onclick=\"convertToInteractive('df-84bcb17f-5fc3-4be7-9abe-90f71a654da4')\"\n",
              "              title=\"Convert this dataframe to an interactive table.\"\n",
              "              style=\"display:none;\">\n",
              "        \n",
              "  <svg xmlns=\"http://www.w3.org/2000/svg\" height=\"24px\"viewBox=\"0 0 24 24\"\n",
              "       width=\"24px\">\n",
              "    <path d=\"M0 0h24v24H0V0z\" fill=\"none\"/>\n",
              "    <path d=\"M18.56 5.44l.94 2.06.94-2.06 2.06-.94-2.06-.94-.94-2.06-.94 2.06-2.06.94zm-11 1L8.5 8.5l.94-2.06 2.06-.94-2.06-.94L8.5 2.5l-.94 2.06-2.06.94zm10 10l.94 2.06.94-2.06 2.06-.94-2.06-.94-.94-2.06-.94 2.06-2.06.94z\"/><path d=\"M17.41 7.96l-1.37-1.37c-.4-.4-.92-.59-1.43-.59-.52 0-1.04.2-1.43.59L10.3 9.45l-7.72 7.72c-.78.78-.78 2.05 0 2.83L4 21.41c.39.39.9.59 1.41.59.51 0 1.02-.2 1.41-.59l7.78-7.78 2.81-2.81c.8-.78.8-2.07 0-2.86zM5.41 20L4 18.59l7.72-7.72 1.47 1.35L5.41 20z\"/>\n",
              "  </svg>\n",
              "      </button>\n",
              "      \n",
              "  <style>\n",
              "    .colab-df-container {\n",
              "      display:flex;\n",
              "      flex-wrap:wrap;\n",
              "      gap: 12px;\n",
              "    }\n",
              "\n",
              "    .colab-df-convert {\n",
              "      background-color: #E8F0FE;\n",
              "      border: none;\n",
              "      border-radius: 50%;\n",
              "      cursor: pointer;\n",
              "      display: none;\n",
              "      fill: #1967D2;\n",
              "      height: 32px;\n",
              "      padding: 0 0 0 0;\n",
              "      width: 32px;\n",
              "    }\n",
              "\n",
              "    .colab-df-convert:hover {\n",
              "      background-color: #E2EBFA;\n",
              "      box-shadow: 0px 1px 2px rgba(60, 64, 67, 0.3), 0px 1px 3px 1px rgba(60, 64, 67, 0.15);\n",
              "      fill: #174EA6;\n",
              "    }\n",
              "\n",
              "    [theme=dark] .colab-df-convert {\n",
              "      background-color: #3B4455;\n",
              "      fill: #D2E3FC;\n",
              "    }\n",
              "\n",
              "    [theme=dark] .colab-df-convert:hover {\n",
              "      background-color: #434B5C;\n",
              "      box-shadow: 0px 1px 3px 1px rgba(0, 0, 0, 0.15);\n",
              "      filter: drop-shadow(0px 1px 2px rgba(0, 0, 0, 0.3));\n",
              "      fill: #FFFFFF;\n",
              "    }\n",
              "  </style>\n",
              "\n",
              "      <script>\n",
              "        const buttonEl =\n",
              "          document.querySelector('#df-84bcb17f-5fc3-4be7-9abe-90f71a654da4 button.colab-df-convert');\n",
              "        buttonEl.style.display =\n",
              "          google.colab.kernel.accessAllowed ? 'block' : 'none';\n",
              "\n",
              "        async function convertToInteractive(key) {\n",
              "          const element = document.querySelector('#df-84bcb17f-5fc3-4be7-9abe-90f71a654da4');\n",
              "          const dataTable =\n",
              "            await google.colab.kernel.invokeFunction('convertToInteractive',\n",
              "                                                     [key], {});\n",
              "          if (!dataTable) return;\n",
              "\n",
              "          const docLinkHtml = 'Like what you see? Visit the ' +\n",
              "            '<a target=\"_blank\" href=https://colab.research.google.com/notebooks/data_table.ipynb>data table notebook</a>'\n",
              "            + ' to learn more about interactive tables.';\n",
              "          element.innerHTML = '';\n",
              "          dataTable['output_type'] = 'display_data';\n",
              "          await google.colab.output.renderOutput(dataTable, element);\n",
              "          const docLink = document.createElement('div');\n",
              "          docLink.innerHTML = docLinkHtml;\n",
              "          element.appendChild(docLink);\n",
              "        }\n",
              "      </script>\n",
              "    </div>\n",
              "  </div>\n",
              "  "
            ]
          },
          "metadata": {},
          "execution_count": 37
        }
      ]
    },
    {
      "cell_type": "markdown",
      "source": [
        "Para resolver los ejercicos utilizamos la base de datos que filtramos en el Entregable 1"
      ],
      "metadata": {
        "id": "L9IULuEcy-xh"
      }
    },
    {
      "cell_type": "code",
      "source": [
        "s_neto= 'salary_monthly_NETO'\n",
        "# Filtrado de la base de datos original (df_orig) y generación de la nueva base de datos (df_new)\n",
        "df_new=  df_orig[(df_orig[s_neto] > 54207) & (df_orig[s_neto] < 542070)]\n",
        "\n",
        "# Revisar si hay filas duplicadas\n",
        "df_new.duplicated().any() # Si, hay filas duplicadas, ya que aparece True.\n",
        "\n",
        "# Lo siguiente permite observar ambas filas de cada fila duplicada.\n",
        "df_new[df_new.duplicated(keep=False)]\n",
        "\n",
        "# Eliminación de filas duplicadas\n",
        "df_final = df_new.drop_duplicates().reset_index()\n"
      ],
      "metadata": {
        "id": "GJCzuKPRQE7D"
      },
      "execution_count": 38,
      "outputs": []
    },
    {
      "cell_type": "code",
      "metadata": {
        "id": "OfzFpDO-lYxk",
        "colab": {
          "base_uri": "https://localhost:8080/"
        },
        "outputId": "5a496ddf-19ec-4a50-8031-8e6ff64e9d1d"
      },
      "source": [
        "\n",
        "is_man = df_final.profile_gender == 'Hombre' # Esta asignación permite seleccionar \n",
        "                                            # aquellas filas que correspondan a genero \"Hombre\"\n",
        "\n",
        "groupA = df_final[is_man].salary_monthly_NETO     #Se seleccionan las filas que correspondan a género hombre junto a la columna de salary_monthly_NETO\n",
        "groupB = df_final[~is_man].salary_monthly_NETO;  #Se seleccionan las filas que correspondan a género que \"no\" sea hombre junto a la columna de salary_monthly_NETO\n",
        "print(\"grupoA:\",groupA)\n",
        "print(\"grupoB:\",groupB)"
      ],
      "execution_count": 53,
      "outputs": [
        {
          "output_type": "stream",
          "name": "stdout",
          "text": [
            "grupoA: 0        63000.0\n",
            "2       102000.0\n",
            "3       106000.0\n",
            "4        62400.0\n",
            "5        75000.0\n",
            "          ...   \n",
            "4154     56450.0\n",
            "4155    130000.0\n",
            "4156     97000.0\n",
            "4157     71000.0\n",
            "4158     65000.0\n",
            "Name: salary_monthly_NETO, Length: 3582, dtype: float64\n",
            "grupoB: 1       127000.0\n",
            "12       70000.0\n",
            "18       98700.0\n",
            "20       74000.0\n",
            "26       84000.0\n",
            "          ...   \n",
            "4122    115000.0\n",
            "4129     70100.0\n",
            "4130     69000.0\n",
            "4132     57000.0\n",
            "4151     77800.0\n",
            "Name: salary_monthly_NETO, Length: 577, dtype: float64\n"
          ]
        }
      ]
    },
    {
      "cell_type": "markdown",
      "metadata": {
        "id": "co_0M_ojtmUh"
      },
      "source": [
        "## Ejercicio 1: Estimación\n",
        "\n",
        "**Consigna:**  Calcular una estimación puntual y un intervalo de confianza de nivel (1-alpha) para la resta entre la media del salario Neto para Hombres menos la media del salario Neto para otros géneros(diferencia de las medias entre el grupoA y grupoB). \n",
        "¿Cómo se relaciona este intervalo de confianza con el test de hipótesis?"
      ]
    },
    {
      "cell_type": "code",
      "source": [
        "#Obtenemos histogramas de ambas muestras\n",
        "list_bins = [50000*value for value in range(1, 12)]\n",
        "\n",
        "plt.figure(figsize=(15,8))\n",
        "plt.hist(groupA, label='GrupoA', alpha=0.8, edgecolor='blue', bins=list_bins) \n",
        "plt.hist(groupB, label='GrupoB', alpha=0.8, edgecolor='red', bins=list_bins)\n",
        "plt.xlabel(\"Salario mensual neto ($ARS)\")\n",
        "plt.ylabel(\"Frecuencia\")\n",
        "plt.legend();"
      ],
      "metadata": {
        "colab": {
          "base_uri": "https://localhost:8080/",
          "height": 518
        },
        "id": "9RkF3H8yE-T5",
        "outputId": "eeea61c1-a876-4ae2-fefc-09ddf7c5538c"
      },
      "execution_count": 40,
      "outputs": [
        {
          "output_type": "display_data",
          "data": {
            "text/plain": [
              "<Figure size 1080x576 with 1 Axes>"
            ],
            "image/png": "[encoded data removed]"
          },
          "metadata": {
            "needs_background": "light"
          }
        }
      ]
    },
    {
      "cell_type": "code",
      "metadata": {
        "id": "0fA1RQ0upe6N",
        "colab": {
          "base_uri": "https://localhost:8080/"
        },
        "outputId": "9173eecc-682d-4b99-d2bf-ef5a5d36c6cd"
      },
      "source": [
        "#Cálculo del tamaño de cada muestra\n",
        "nA = len(groupA.index)\n",
        "nB = len(groupB.index)\n",
        "print(\"Tamaño de la muestra nA:\", nA)\n",
        "print(\"Tamaño de la muestra nB:\", nB)\n",
        "\n",
        "# Calculo de estadístico de resta de medias muestrales\n",
        "resta_mean= groupA.mean() - groupB.mean()\n",
        "print(\"Estadístico de resta de medias muestrales:\",resta_mean)"
      ],
      "execution_count": 41,
      "outputs": [
        {
          "output_type": "stream",
          "name": "stdout",
          "text": [
            "Tamaño de la muestra nA: 3582\n",
            "Tamaño de la muestra nB: 577\n",
            "Estadístico de resta de medias muestrales: 16610.260353965103\n"
          ]
        }
      ]
    },
    {
      "cell_type": "code",
      "source": [
        "#Calculo de varianzas\n",
        "SA2 = groupA.var()\n",
        "SB2 = groupB.var()\n",
        "print(\"Varianza del groupA:\", SA2)\n",
        "print(\"Varianza del groupB:\", SB2)"
      ],
      "metadata": {
        "colab": {
          "base_uri": "https://localhost:8080/"
        },
        "id": "O63HGFmi8gNJ",
        "outputId": "b3e20949-239c-47a2-ae87-fd3294d4384d"
      },
      "execution_count": 42,
      "outputs": [
        {
          "output_type": "stream",
          "name": "stdout",
          "text": [
            "Varianza del groupA: 4798989758.708446\n",
            "Varianza del groupB: 2097862912.8130527\n"
          ]
        }
      ]
    },
    {
      "cell_type": "code",
      "source": [
        "def process_df(df):\n",
        "  df = df.copy()\n",
        "  df[\"masculino\"] = df.apply(lambda x: 1 if str(x[\"profile_gender\"]).upper() == \"HOMBRE\" else 0, axis=1)\n",
        "  return df\n",
        "\n",
        "df_process = process_df(df_new)\n",
        "df_process[\"masculino\"].value_counts()"
      ],
      "metadata": {
        "colab": {
          "base_uri": "https://localhost:8080/"
        },
        "id": "qVXHf-u6D5M0",
        "outputId": "1265b994-ae32-4ada-9c72-ba5a4c754999"
      },
      "execution_count": 43,
      "outputs": [
        {
          "output_type": "execute_result",
          "data": {
            "text/plain": [
              "1    3621\n",
              "0     585\n",
              "Name: masculino, dtype: int64"
            ]
          },
          "metadata": {},
          "execution_count": 43
        }
      ]
    },
    {
      "cell_type": "code",
      "source": [
        "# Gráfico boxplot\n",
        "fig, ax = plt.subplots(nrows=1, ncols=1, figsize=(7, 20))\n",
        "sns.boxplot(\n",
        "    x       = \"masculino\",\n",
        "    y       = \"salary_monthly_NETO\",\n",
        "    data    = df_process,\n",
        "    palette = 'tab10',\n",
        "    ax      = ax\n",
        ")\n",
        "ax.set_title('Distribución de salario mensual neto por sexo')\n",
        "ax.set_xlabel('Salario mensual neto')\n",
        "ax.set_ylabel('sexo(1=hombre 0=otro)');"
      ],
      "metadata": {
        "colab": {
          "base_uri": "https://localhost:8080/",
          "height": 1000
        },
        "id": "WkpO1kO2D9yL",
        "outputId": "f3e473d4-a3a8-4cde-99bb-a0cdb643d686"
      },
      "execution_count": 52,
      "outputs": [
        {
          "output_type": "display_data",
          "data": {
            "text/plain": [
              "<Figure size 504x1440 with 1 Axes>"
            ],
            "image/png": "[encoded data removed]"
          },
          "metadata": {
            "needs_background": "light"
          }
        }
      ]
    },
    {
      "cell_type": "markdown",
      "source": [
        "En el gráfico precedente se presentan las dos distribuciones del Salario mensual neto para Hombres y Otros. Podemos observar que la amplitud de la caja para el género masculino es ligeramente mayor y la de los bigotes es bastante mayor, pudiendo concluir que la varianza de la distribución para el género masculino es mayor que la correspondiente a los otros géneros, por lo que no podremos asumir la igualdad de varianzas."
      ],
      "metadata": {
        "id": "s7s7ACLhM1KF"
      }
    },
    {
      "cell_type": "markdown",
      "source": [
        "\n",
        "Comparamos analíticamente varianzas para decidir qué utilizaremos como función pivote y función distribución de probabilidad. Para ello hacemos uso de tres test: Levene, Bartlett y test de Fligner-Killeen."
      ],
      "metadata": {
        "id": "TM8N7SzUkNE5"
      }
    },
    {
      "cell_type": "code",
      "source": [
        "# Levene test\n",
        "levene_test = stats.levene(groupA, groupB, center='median')\n",
        "print(levene_test)\n",
        "print(\"    \")\n",
        "\n",
        "# Bartlett test\n",
        "bartlett_test = stats.bartlett(groupA, groupB)\n",
        "print(bartlett_test)\n",
        "print(\"    \")\n",
        "\n",
        "# Fligner-Killeen test\n",
        "fligner_test = stats.fligner(groupA, groupB, center='median')\n",
        "print(fligner_test)\n",
        "print(\"  \")"
      ],
      "metadata": {
        "colab": {
          "base_uri": "https://localhost:8080/"
        },
        "id": "0XAYQwXqnUZ-",
        "outputId": "282f00db-1455-4465-8a18-05a5496106f8"
      },
      "execution_count": 45,
      "outputs": [
        {
          "output_type": "stream",
          "name": "stdout",
          "text": [
            "LeveneResult(statistic=19.60562617218214, pvalue=9.763276955017239e-06)\n",
            "    \n",
            "BartlettResult(statistic=139.00579427264412, pvalue=4.391662009929093e-32)\n",
            "    \n",
            "FlignerResult(statistic=26.029588715484287, pvalue=3.362247030409009e-07)\n",
            "  \n"
          ]
        }
      ]
    },
    {
      "cell_type": "markdown",
      "source": [
        "El análisis anterior muestra que p_valor < $\\alpha \\Longrightarrow$ las varianzas son distintas. Dado que no se cumple la homocedasticidad utilizamos Test de Welch Two Sample t-test."
      ],
      "metadata": {
        "id": "29LYSGFLpcRJ"
      }
    },
    {
      "cell_type": "code",
      "source": [
        "#Cáclulo de los grados de libertad correspondientes al Test de Welch \n",
        "gl =  (((SA2)/nA  + (SB2)/nB)**2) / (((SA2/nA)**2 /(nA-1)) + ((SB2/nB)**2 /(nB-1)))\n",
        "print(\"Grados de libertad:\", gl)"
      ],
      "metadata": {
        "colab": {
          "base_uri": "https://localhost:8080/"
        },
        "id": "luIGNkCH9L6t",
        "outputId": "d360cef4-de58-4a38-e44d-ff31c762431f"
      },
      "execution_count": 46,
      "outputs": [
        {
          "output_type": "stream",
          "name": "stdout",
          "text": [
            "Grados de libertad: 1055.6528187315407\n"
          ]
        }
      ]
    },
    {
      "cell_type": "code",
      "source": [
        "#Cálculo de t utilizando función T- Student, considerando grados de libertad gl y percentil 1-alpha/2\n",
        "alpha = 0.05\n",
        "t_0975 = scipy.stats.t.ppf(q=0.975, df =gl)\n",
        "print(\"t_0975:\", t_0975)"
      ],
      "metadata": {
        "colab": {
          "base_uri": "https://localhost:8080/"
        },
        "id": "Smj0Fv8cWoCe",
        "outputId": "a3af0835-f94a-4b5a-baf0-e801c632520d"
      },
      "execution_count": 47,
      "outputs": [
        {
          "output_type": "stream",
          "name": "stdout",
          "text": [
            "t_0975: 1.962213727242077\n"
          ]
        }
      ]
    },
    {
      "cell_type": "code",
      "source": [
        "#Cálculo de Límites inferior y superior del intervalo de confianza para la resta de medias\n",
        "l_inf = resta_mean - t_0975*((SA2/nA) + (SB2/nB))**0.5\n",
        "l_sup = resta_mean + t_0975*((SA2/nA) + (SB2/nB))**0.5\n",
        "\n",
        "print(\"Límite inferior del intervalo de confianza para la comparación de medias muestrales:\", l_inf)\n",
        "print(\"  \")\n",
        "print(\"Límite superior del intervalo de confianza para la comparación de medias muestrales:\", l_sup)\n",
        "l_inf, l_sup"
      ],
      "metadata": {
        "colab": {
          "base_uri": "https://localhost:8080/"
        },
        "id": "iC0zXN_tfjgv",
        "outputId": "b9cee8d0-5755-4f9c-f600-f4f45de8744d"
      },
      "execution_count": 48,
      "outputs": [
        {
          "output_type": "stream",
          "name": "stdout",
          "text": [
            "Límite inferior del intervalo de confianza para la comparación de medias muestrales: 12233.35255025847\n",
            "  \n",
            "Límite superior del intervalo de confianza para la comparación de medias muestrales: 20987.168157671735\n"
          ]
        },
        {
          "output_type": "execute_result",
          "data": {
            "text/plain": [
              "(12233.35255025847, 20987.168157671735)"
            ]
          },
          "metadata": {},
          "execution_count": 48
        }
      ]
    },
    {
      "cell_type": "markdown",
      "source": [
        "Conclusión: encontramos que la diferencia de medias de salario entre los grupos Hombre versus Otros géneros, resultó ser de 16610,3 $\\$$ARS según la estimación puntual del estadístico. Para el cálculo del intervalo de confianza con un nivel del 95%, obtuvimos un límite inferior de 12233,35 $\\$$ARS y un límite máximo de 20987,17 $\\$$ARS. Es posible afirmar que el grupo \"Hombres\" percibe un salario neto mayor que las mujeres entre 12233,35 $\\$$ARS y 20987,17 $\\$$ARS.\n",
        "\n",
        "El intervalo de confianza se relaciona con la hipótesis nula ($H_0$). Si el intervalo que hemos obtenido contiene al valor de $H_0$ entonces podemos aceptar dicha hipótesis."
      ],
      "metadata": {
        "id": "mxdHmKxmsFG5"
      }
    },
    {
      "cell_type": "markdown",
      "metadata": {
        "id": "IFi2T7Y6nM92"
      },
      "source": [
        "## Ejercicio 2: Test de hipótesis\n",
        "\n",
        "Las pruebas o test de hipótesis son reglas de decisión basadas en los resultados de la muestra para aceptar o rechazar una conjetura o supuesto, sobre alguna característica de la población, llamado Hipótesis Nula ($H_0$).\n",
        "La negación o complemento de la hipótesis nula se denomina hipótesis alternativa $H_1$ y expresa la conclusión de la inferencia en el caso de rechazo."
      ]
    },
    {
      "cell_type": "markdown",
      "metadata": {
        "id": "Rzxe8UYU6EfJ"
      },
      "source": [
        "\n",
        "\n",
        "**Conjetura**: La distribución de los salarios es distinta entre los grupos A y B.\n",
        "\n",
        "Para decidir si la conjetura es afirmativa o negativa realizaremos los siguientes pasos:\n",
        "\n",
        "1)Planteo de las hipótesis\n",
        "\n",
        "$H_0:\\mu_A=\\mu_B \\ \\ \\ \\ \\   \\ \\ vs \\ \\  \\  \\  \\ \\ \\ H_1:\\mu_A>\\mu_B$\n",
        "\n",
        "2)Se fija el nivel de significancia del test ($\\alpha$) en 0,05\n",
        "\n",
        "3) Se determina el estadístico de prueba (pivote) y distribución de probabilidad (Distribución t de Student con gl grados de libertad):\n",
        "\n",
        " $t=\\frac{\\bar{x_A}-\\bar{x_B}}{\\sqrt{\\frac{S_A ^2}{n_A} + \\frac{S_B^2}{n_B}}}$    ~ $t_{gl}$\n",
        "\n",
        "4)Decidir en base a la evidencia de la muestra si rechazar o no la hipótesis nula. Para decidir si rechazar o no la hipótesis nula se calcula el p-valor y se lo contrasta con el nivel de significancia preestablecido. Si el resultado es mayor a 0,05; concluiremos que no existe evidencia suficiente para rechazar la hipótesis nula. Si el valor es menor a 0,05; concluiremos que xiste evidencia suficiente para rechazar la hipótesis nula.\n",
        "\n"
      ]
    },
    {
      "cell_type": "code",
      "source": [
        "#Cálculo del estadístico de prueba t \n",
        "t = resta_mean / (((SA2/nA) + (SB2/nB))**0.5)\n",
        "print(\"Estadístico de prueba t:\", t)\n"
      ],
      "metadata": {
        "id": "3gwexcb-AHoG",
        "outputId": "99b013c4-b019-4adf-b611-b236ab522a1e",
        "colab": {
          "base_uri": "https://localhost:8080/"
        }
      },
      "execution_count": 49,
      "outputs": [
        {
          "output_type": "stream",
          "name": "stdout",
          "text": [
            "Estadístico de prueba t: 7.446554129381828\n"
          ]
        }
      ]
    },
    {
      "cell_type": "code",
      "source": [
        "#Cálculo del p-valor\n",
        "p_valor = scipy.stats.t.sf(abs(t), df=gl)\n",
        "print(\"p_valor\", p_valor)"
      ],
      "metadata": {
        "colab": {
          "base_uri": "https://localhost:8080/"
        },
        "id": "QeybpyQSnBmZ",
        "outputId": "baaccb3f-9e5c-42a7-d9ca-17da2c1a9c5e"
      },
      "execution_count": 50,
      "outputs": [
        {
          "output_type": "stream",
          "name": "stdout",
          "text": [
            "p_valor 9.931081161872911e-14\n"
          ]
        }
      ]
    },
    {
      "cell_type": "markdown",
      "source": [
        "Dado que p_valor < $\\alpha \\Longrightarrow$  se **rechaza** la hipótesis nula\n"
      ],
      "metadata": {
        "id": "eetLJPCG0icL"
      }
    },
    {
      "cell_type": "markdown",
      "source": [
        "\n",
        "Conclusión: el resultado del test de hipótesis permite afirmar que la distribución de salarios entre los grupos es distinta."
      ],
      "metadata": {
        "id": "ctxWYFL_24Uj"
      }
    },
    {
      "cell_type": "markdown",
      "metadata": {
        "id": "8VxiQr5YrQYR"
      },
      "source": [
        "### [Opcional] 2.3 Potencia del test\n",
        "\n",
        "Nuestra muestra, ¿era lo suficientemente grande para detectar si existe o no una diferencia entre los grupos?\n",
        "\n",
        "1. Utilice la función `tt_ind_solve_power` para calcular el tamaño necesario de la muestra para un poder estadístico de 0.8, 0.9 y 0.95, asumiendo una significancia estadística de 0.05.\n",
        "2. ¿Cómo intepretan el poder estadístico de un test? Dado su conocimiento de dominio sobre los datos, ¿les parece que esta muestra es lo suficientemente grande para ser representativo de la tendencia general? ¿y para utilizarlo en un juicio penal contra una empresa XX por una causa de discriminación?\n",
        "\n",
        "[Documentación](https://www.statsmodels.org/stable/generated/statsmodels.stats.power.tt_ind_solve_power.html)\n",
        "\n",
        "NOTA: este análisis debería hacerse ANTES de recolectar los datos."
      ]
    },
    {
      "cell_type": "code",
      "metadata": {
        "id": "LUQ7MA2Apj9x",
        "colab": {
          "base_uri": "https://localhost:8080/"
        },
        "outputId": "58830f2f-6877-4754-da47-bc2200a90e6e"
      },
      "source": [
        "#Cálculos de tamaños de muestra\n",
        "effect_size = (groupA.mean() - groupB.mean()) / groupB.std()\n",
        "# nobs1=None  - What we want to know\n",
        "alpha = 0.05\n",
        "ratio = len(groupB) / len(groupA)\n",
        "list_power = [0.8, 0.9 , 0.95]\n",
        "\n",
        "print(\"Los tamaños de muestras para potencias de 0.8, 0.9, y 0.95 son, respectivamente:\")\n",
        "for power in list_power:\n",
        "  print(str(tt_ind_solve_power(effect_size=effect_size, alpha=alpha, power=power, ratio=ratio)))"
      ],
      "execution_count": 51,
      "outputs": [
        {
          "output_type": "stream",
          "name": "stdout",
          "text": [
            "Los tamaños de muestras para potencias de 0.8, 0.9, y 0.95 son, respectivamente:\n",
            "431.8342882485798\n",
            "577.5411514587745\n",
            "713.8617293052606\n"
          ]
        }
      ]
    },
    {
      "cell_type": "markdown",
      "source": [
        "\n",
        "Conclusión: dados los resultados de los test de potencias podemos afirmar que nuestra muestra era lo suficientemente grande para detectar las diferencias con respecto a los salarios mensuales netos.\n",
        "\n",
        "Podemos decir que el poder estadístico de un test..."
      ],
      "metadata": {
        "id": "lCF1X1Xe0dTw"
      }
    },
    {
      "cell_type": "markdown",
      "metadata": {
        "id": "useKMdPyMod5"
      },
      "source": [
        "## Ejercicio 3: Comunicación y visualización\n",
        "\n",
        "**Consigna:** Seleccionen un resultado que les parezca relevante a partir de alguno de los ejercicios del entregable. Diseñe e implemente una comunicación en base a este mensaje, en un archivo PDF.\n",
        "\n",
        "Elija las palabras y visualización más adecuada para que la comunicación sea entendible, efectiva y se dapte a UNA de las siguientes situaciones:\n",
        "\n",
        "1. Una sección en un artículo de difusión a presentar como parte de una organización sin fines de lucro.\n",
        "No más de 1 página A4 (o dos si los gráficos son muy grandes).\n",
        "  1. Ejemplo: Alguna de las secciones [Los ecosistemas de emprendimiento de América Latina y el Caribe frente al COVID-19: Impactos, necesidades y recomendaciones](https://publications.iadb.org/es/los-ecosistemas-de-emprendimiento-de-america-latina-y-el-caribe-frente-al-covid-19-impactos-necesidades-y-recomendaciones), por ejemplo la sección *2.2. Reacciones de los emprendedores*.\n",
        "  2. Ejemplo: Alguna de las secciones de [The state of gender pay gap in 2021](https://www.payscale.com/data/gender-pay-gap?tk=carousel-ps-rc-job)\n",
        "  3. Puntos clave: \n",
        "    1. Simpleza de los gráficos.\n",
        "    2. Comunicación en lenguaje simple a personas que no son necesariamente expertos de dominio.\n",
        "    2. Selección de UNA oración sobre la que se hace énfasis.\n",
        "    3. No es necesario que mencionen objetivos ni descripciones del conjunto de datos, se supone que eso ya estaría explicado en otras secciones del informe.\n",
        "\n",
        "2. Una publicación científica o reporte técnico interno. No más de una página A4:\n",
        "  2. Ejemplo: La sección de resultados de [IZA DP No. 12914: The Impact of a Minimum Wage Change on the Distribution of Wages and Household Income](https://www.iza.org/publications/dp/12914/the-impact-of-a-minimum-wage-change-on-the-distribution-of-wages-and-household-income).\n",
        "  2. Ejemplo: Alguna de las secciones de [Temporary reduction in daily global CO2 emissions during the COVID-19 forced confinement](https://www.nature.com/articles/s41558-020-0797-x)\n",
        "  3. Puntos clave:\n",
        "    3. Nivel de detalle técnico requerido. Es necesario justificar la validez del análisis.\n",
        "    4. La idea presentada puede ser más compleja. Pueden asumir que la audiencia tiene conocimiento técnico y va a analizar las visualizaciones en detalle. \n",
        "    5. Pueden presentar más en detalle las limitaciones del análisis (significancia estadística, etc.)\n",
        "    2. No es necesario que mencionen objetivos ni descripciones del conjunto de datos, se supone que eso ya estaría explicado en otras secciones del informe.\n",
        "\n",
        "3. Un tweet (o post de LinkedIn) para la cuenta de su empresa consultora que hace análisis de datos. El objetivo es promocionar un análisis de datos abiertos que van a incluir en su portfolio:\n",
        "  1. Ejemplo: [Comparación vacunas covid](https://twitter.com/infobeautiful/status/1381577746527236098?s=20)\n",
        "  2. Ejemplo: [Tweet del BID](https://twitter.com/el_BID/status/1388508583944507396?s=20). Lo valioso de este tweet es que usaron un único número para transmitir un mensaje. Puede ser algo así, o con un gráfico muy simple.\n",
        "  3. Ejemplo: [Cambio climático](https://twitter.com/UNFCCC/status/1387732156190011394?s=20) Es un muy buen ejemplo, excepto que el gráfico no se lee nada y hay que entrar a la publicación original.\n",
        "  3. Ejemplo: [¿Cuánto están los programadores en las empresas?](https://www.linkedin.com/posts/denis-rothman-0b034043_tech-career-work-activity-6793861923269054464-gS6y) (No verificamos la veracidad o seriedad de la fuente).\n",
        "  4. Puntos clave:\n",
        "    1. Su audiencia no va a mirar la visualización por más de unos segundos, y no tiene conocimiento técnico.\n",
        "  3. Tienen que incluir además una *breve* descripción de cómo obtuvieron los datos que están presentando, que no entraría en el tweet.\n"
      ]
    },
    {
      "cell_type": "code",
      "metadata": {
        "id": "twwYHUztt45L"
      },
      "source": [
        ""
      ],
      "execution_count": 51,
      "outputs": []
    }
  ]
}