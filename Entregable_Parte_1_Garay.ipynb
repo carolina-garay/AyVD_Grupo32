{
  "nbformat": 4,
  "nbformat_minor": 0,
  "metadata": {
    "colab": {
      "name": "Entregable_Parte_1.ipynb",
      "provenance": [],
      "collapsed_sections": [],
      "include_colab_link": true
    },
    "kernelspec": {
      "name": "python3",
      "display_name": "Python 3"
    }
  },
  "cells": [
    {
      "cell_type": "markdown",
      "metadata": {
        "id": "view-in-github",
        "colab_type": "text"
      },
      "source": [
        "<a href=\"https://colab.research.google.com/github/carolina-garay/grupo_32/blob/Entregable_parte1_Garay/Entregable_Parte_1_Garay.ipynb\" target=\"_parent\"><img src=\"https://colab.research.google.com/assets/colab-badge.svg\" alt=\"Open In Colab\"/></a>"
      ]
    },
    {
      "cell_type": "markdown",
      "metadata": {
        "id": "LYvAOR2VzHmW"
      },
      "source": [
        "\n",
        "**Diplomatura en Ciencia de Datos, Aprendizaje Automático y sus Aplicaciones**\n",
        "\n",
        "**Edición 2022**\n",
        "\n",
        "---\n",
        "## Trabajo práctico entregable - Parte 1"
      ]
    },
    {
      "cell_type": "markdown",
      "source": [
        "Carolina Garay\n"
      ],
      "metadata": {
        "id": "-ly-bOG44Itt"
      }
    },
    {
      "cell_type": "markdown",
      "source": [
        ""
      ],
      "metadata": {
        "id": "rcqmW8CG-v_G"
      }
    },
    {
      "cell_type": "code",
      "metadata": {
        "id": "Xwdfo7z20TUK"
      },
      "source": [
        "import io\n",
        "import matplotlib\n",
        "import matplotlib.pyplot as plt\n",
        "import numpy\n",
        "import pandas as pd\n",
        "import seaborn as sns\n",
        "import plotly.express as px\n",
        "#from statistics import mode \n",
        "\n",
        "#seaborn.set_context('talk')"
      ],
      "execution_count": 1,
      "outputs": []
    },
    {
      "cell_type": "markdown",
      "metadata": {
        "id": "XY2Hl-Ma07Nn"
      },
      "source": [
        "## Lectura del dataset\n",
        "\n",
        "En la notebook 00 se explican los detalles de la siguiente sección."
      ]
    },
    {
      "cell_type": "code",
      "metadata": {
        "id": "Vviv_sqXdR5W"
      },
      "source": [
        "url = 'https://cs.famaf.unc.edu.ar/~mteruel/datasets/diplodatos/sysarmy_survey_2020_processed.csv'\n",
        "df1 = pd.read_csv(url)"
      ],
      "execution_count": 2,
      "outputs": []
    },
    {
      "cell_type": "code",
      "source": [
        "df1"
      ],
      "metadata": {
        "colab": {
          "base_uri": "https://localhost:8080/",
          "height": 772
        },
        "id": "2IBDrX4T-oM-",
        "outputId": "34a49161-6eed-4bdf-be24-97423453e007"
      },
      "execution_count": 3,
      "outputs": [
        {
          "output_type": "execute_result",
          "data": {
            "text/plain": [
              "     profile_gender  profile_age work_country  \\\n",
              "0             Mujer           26    Argentina   \n",
              "1            Hombre           29    Argentina   \n",
              "2             Mujer           22    Argentina   \n",
              "3            Hombre           39    Argentina   \n",
              "4            Hombre           32    Argentina   \n",
              "...             ...          ...          ...   \n",
              "6090         Hombre           37    Argentina   \n",
              "6091         Hombre           38    Argentina   \n",
              "6092         Hombre           24    Argentina   \n",
              "6093         Hombre           28    Argentina   \n",
              "6094         Hombre           33    Argentina   \n",
              "\n",
              "                        work_province  profile_years_experience  \\\n",
              "0     Ciudad Autónoma de Buenos Aires                       3.0   \n",
              "1                          Corrientes                       5.0   \n",
              "2     Ciudad Autónoma de Buenos Aires                       2.0   \n",
              "3                          Corrientes                      15.0   \n",
              "4     Ciudad Autónoma de Buenos Aires                       9.0   \n",
              "...                               ...                       ...   \n",
              "6090  Ciudad Autónoma de Buenos Aires                      13.0   \n",
              "6091  Ciudad Autónoma de Buenos Aires                      12.0   \n",
              "6092  Ciudad Autónoma de Buenos Aires                       2.0   \n",
              "6093                         La Pampa                       5.0   \n",
              "6094                              GBA                       5.0   \n",
              "\n",
              "      work_years_in_company  work_years_in_current_position  \\\n",
              "0                       3.0                             3.0   \n",
              "1                       2.0                             2.0   \n",
              "2                       0.0                             0.0   \n",
              "3                      15.0                            13.0   \n",
              "4                       6.0                             6.0   \n",
              "...                     ...                             ...   \n",
              "6090                    6.0                             6.0   \n",
              "6091                    5.0                             5.0   \n",
              "6092                    2.0                             2.0   \n",
              "6093                    3.0                             2.0   \n",
              "6094                    5.0                             3.0   \n",
              "\n",
              "      work_people_in_charge_of profile_studies_level  \\\n",
              "0                            0         Universitario   \n",
              "1                            4         Universitario   \n",
              "2                            0            Secundario   \n",
              "3                            5              Posgrado   \n",
              "4                            0         Universitario   \n",
              "...                        ...                   ...   \n",
              "6090                         0             Terciario   \n",
              "6091                         0         Universitario   \n",
              "6092                         0             Terciario   \n",
              "6093                         0             Terciario   \n",
              "6094                         0             Terciario   \n",
              "\n",
              "     profile_studies_level_state  ... work_has_violence_situations  \\\n",
              "0                       En curso  ...         En mi trabajo actual   \n",
              "1                       En curso  ...                        Jamás   \n",
              "2                     Completado  ...       En un trabajo anterior   \n",
              "3                     Incompleto  ...         En mi trabajo actual   \n",
              "4                       En curso  ...                        Jamás   \n",
              "...                          ...  ...                          ...   \n",
              "6090                  Completado  ...         En mi trabajo actual   \n",
              "6091                    En curso  ...                        Jamás   \n",
              "6092                    En curso  ...                        Jamás   \n",
              "6093                    En curso  ...                        Jamás   \n",
              "6094                  Incompleto  ...                        Jamás   \n",
              "\n",
              "     profile_sexual_orientation profile_has_disabilities  \\\n",
              "0                    Homosexual                      NaN   \n",
              "1                  Heterosexual                   Visual   \n",
              "2              Bisexual o queer                      NaN   \n",
              "3                  Heterosexual                      NaN   \n",
              "4                  Heterosexual                      NaN   \n",
              "...                         ...                      ...   \n",
              "6090               Heterosexual                      NaN   \n",
              "6091               Heterosexual                      NaN   \n",
              "6092               Heterosexual                      NaN   \n",
              "6093               Heterosexual                      NaN   \n",
              "6094               Heterosexual                       no   \n",
              "\n",
              "     profile_has_disabilities_hiring_difficulties company_employee_number  \\\n",
              "0                                             NaN                501-1000   \n",
              "1                                              No                 201-500   \n",
              "2                                              No               2001-5000   \n",
              "3                                             NaN                501-1000   \n",
              "4                                             NaN                   11-50   \n",
              "...                                           ...                     ...   \n",
              "6090                                           No                501-1000   \n",
              "6091                                          NaN               2001-5000   \n",
              "6092                                          NaN                 201-500   \n",
              "6093                                           No                  51-100   \n",
              "6094                                           No                501-1000   \n",
              "\n",
              "                              company_main_activity company_recommended  \\\n",
              "0     Servicios / Consultoría de Software / Digital                   7   \n",
              "1                                  Otras industrias                   8   \n",
              "2                                  Otras industrias                   6   \n",
              "3                                  Otras industrias                   7   \n",
              "4     Servicios / Consultoría de Software / Digital                   6   \n",
              "...                                             ...                 ...   \n",
              "6090                               Otras industrias                   7   \n",
              "6091                               Otras industrias                   8   \n",
              "6092                    Producto basado en Software                   7   \n",
              "6093  Servicios / Consultoría de Software / Digital                   5   \n",
              "6094                               Otras industrias                   9   \n",
              "\n",
              "     company_diversity_policies  \\\n",
              "0                             2   \n",
              "1                             9   \n",
              "2                             9   \n",
              "3                             6   \n",
              "4                             6   \n",
              "...                         ...   \n",
              "6090                          8   \n",
              "6091                         10   \n",
              "6092                          9   \n",
              "6093                          7   \n",
              "6094                          7   \n",
              "\n",
              "                                 company_extra_benefits  \\\n",
              "0     Capacitaciones y/o cursos, Comidas pagas / sub...   \n",
              "1     Horarios flexibles, Stock options / RSUs, Viát...   \n",
              "2     Clases de gimnasia online, Comidas pagas / sub...   \n",
              "3     Abono de celular, Capacitaciones y/o cursos, C...   \n",
              "4     Clases de idiomas, Horarios flexibles, Vacacio...   \n",
              "...                                                 ...   \n",
              "6090                                           Viáticos   \n",
              "6091  Abono de celular, Capacitaciones y/o cursos, D...   \n",
              "6092  Capacitaciones y/o cursos, Clases de idiomas, ...   \n",
              "6093                          Capacitaciones y/o cursos   \n",
              "6094   Abono de celular, Comidas pagas / subvencionadas   \n",
              "\n",
              "     company_best_companies_city  \n",
              "0                            NaN  \n",
              "1                            NaN  \n",
              "2                            NaN  \n",
              "3                            NaN  \n",
              "4                            NaN  \n",
              "...                          ...  \n",
              "6090                         NaN  \n",
              "6091                         NaN  \n",
              "6092               Mercado Libre  \n",
              "6093                 Solo Nubity  \n",
              "6094                         NaN  \n",
              "\n",
              "[6095 rows x 48 columns]"
            ],
            "text/html": [
              "\n",
              "  <div id=\"df-baef1ea6-9216-4c98-9568-6d09ecd516c4\">\n",
              "    <div class=\"colab-df-container\">\n",
              "      <div>\n",
              "<style scoped>\n",
              "    .dataframe tbody tr th:only-of-type {\n",
              "        vertical-align: middle;\n",
              "    }\n",
              "\n",
              "    .dataframe tbody tr th {\n",
              "        vertical-align: top;\n",
              "    }\n",
              "\n",
              "    .dataframe thead th {\n",
              "        text-align: right;\n",
              "    }\n",
              "</style>\n",
              "<table border=\"1\" class=\"dataframe\">\n",
              "  <thead>\n",
              "    <tr style=\"text-align: right;\">\n",
              "      <th></th>\n",
              "      <th>profile_gender</th>\n",
              "      <th>profile_age</th>\n",
              "      <th>work_country</th>\n",
              "      <th>work_province</th>\n",
              "      <th>profile_years_experience</th>\n",
              "      <th>work_years_in_company</th>\n",
              "      <th>work_years_in_current_position</th>\n",
              "      <th>work_people_in_charge_of</th>\n",
              "      <th>profile_studies_level</th>\n",
              "      <th>profile_studies_level_state</th>\n",
              "      <th>...</th>\n",
              "      <th>work_has_violence_situations</th>\n",
              "      <th>profile_sexual_orientation</th>\n",
              "      <th>profile_has_disabilities</th>\n",
              "      <th>profile_has_disabilities_hiring_difficulties</th>\n",
              "      <th>company_employee_number</th>\n",
              "      <th>company_main_activity</th>\n",
              "      <th>company_recommended</th>\n",
              "      <th>company_diversity_policies</th>\n",
              "      <th>company_extra_benefits</th>\n",
              "      <th>company_best_companies_city</th>\n",
              "    </tr>\n",
              "  </thead>\n",
              "  <tbody>\n",
              "    <tr>\n",
              "      <th>0</th>\n",
              "      <td>Mujer</td>\n",
              "      <td>26</td>\n",
              "      <td>Argentina</td>\n",
              "      <td>Ciudad Autónoma de Buenos Aires</td>\n",
              "      <td>3.0</td>\n",
              "      <td>3.0</td>\n",
              "      <td>3.0</td>\n",
              "      <td>0</td>\n",
              "      <td>Universitario</td>\n",
              "      <td>En curso</td>\n",
              "      <td>...</td>\n",
              "      <td>En mi trabajo actual</td>\n",
              "      <td>Homosexual</td>\n",
              "      <td>NaN</td>\n",
              "      <td>NaN</td>\n",
              "      <td>501-1000</td>\n",
              "      <td>Servicios / Consultoría de Software / Digital</td>\n",
              "      <td>7</td>\n",
              "      <td>2</td>\n",
              "      <td>Capacitaciones y/o cursos, Comidas pagas / sub...</td>\n",
              "      <td>NaN</td>\n",
              "    </tr>\n",
              "    <tr>\n",
              "      <th>1</th>\n",
              "      <td>Hombre</td>\n",
              "      <td>29</td>\n",
              "      <td>Argentina</td>\n",
              "      <td>Corrientes</td>\n",
              "      <td>5.0</td>\n",
              "      <td>2.0</td>\n",
              "      <td>2.0</td>\n",
              "      <td>4</td>\n",
              "      <td>Universitario</td>\n",
              "      <td>En curso</td>\n",
              "      <td>...</td>\n",
              "      <td>Jamás</td>\n",
              "      <td>Heterosexual</td>\n",
              "      <td>Visual</td>\n",
              "      <td>No</td>\n",
              "      <td>201-500</td>\n",
              "      <td>Otras industrias</td>\n",
              "      <td>8</td>\n",
              "      <td>9</td>\n",
              "      <td>Horarios flexibles, Stock options / RSUs, Viát...</td>\n",
              "      <td>NaN</td>\n",
              "    </tr>\n",
              "    <tr>\n",
              "      <th>2</th>\n",
              "      <td>Mujer</td>\n",
              "      <td>22</td>\n",
              "      <td>Argentina</td>\n",
              "      <td>Ciudad Autónoma de Buenos Aires</td>\n",
              "      <td>2.0</td>\n",
              "      <td>0.0</td>\n",
              "      <td>0.0</td>\n",
              "      <td>0</td>\n",
              "      <td>Secundario</td>\n",
              "      <td>Completado</td>\n",
              "      <td>...</td>\n",
              "      <td>En un trabajo anterior</td>\n",
              "      <td>Bisexual o queer</td>\n",
              "      <td>NaN</td>\n",
              "      <td>No</td>\n",
              "      <td>2001-5000</td>\n",
              "      <td>Otras industrias</td>\n",
              "      <td>6</td>\n",
              "      <td>9</td>\n",
              "      <td>Clases de gimnasia online, Comidas pagas / sub...</td>\n",
              "      <td>NaN</td>\n",
              "    </tr>\n",
              "    <tr>\n",
              "      <th>3</th>\n",
              "      <td>Hombre</td>\n",
              "      <td>39</td>\n",
              "      <td>Argentina</td>\n",
              "      <td>Corrientes</td>\n",
              "      <td>15.0</td>\n",
              "      <td>15.0</td>\n",
              "      <td>13.0</td>\n",
              "      <td>5</td>\n",
              "      <td>Posgrado</td>\n",
              "      <td>Incompleto</td>\n",
              "      <td>...</td>\n",
              "      <td>En mi trabajo actual</td>\n",
              "      <td>Heterosexual</td>\n",
              "      <td>NaN</td>\n",
              "      <td>NaN</td>\n",
              "      <td>501-1000</td>\n",
              "      <td>Otras industrias</td>\n",
              "      <td>7</td>\n",
              "      <td>6</td>\n",
              "      <td>Abono de celular, Capacitaciones y/o cursos, C...</td>\n",
              "      <td>NaN</td>\n",
              "    </tr>\n",
              "    <tr>\n",
              "      <th>4</th>\n",
              "      <td>Hombre</td>\n",
              "      <td>32</td>\n",
              "      <td>Argentina</td>\n",
              "      <td>Ciudad Autónoma de Buenos Aires</td>\n",
              "      <td>9.0</td>\n",
              "      <td>6.0</td>\n",
              "      <td>6.0</td>\n",
              "      <td>0</td>\n",
              "      <td>Universitario</td>\n",
              "      <td>En curso</td>\n",
              "      <td>...</td>\n",
              "      <td>Jamás</td>\n",
              "      <td>Heterosexual</td>\n",
              "      <td>NaN</td>\n",
              "      <td>NaN</td>\n",
              "      <td>11-50</td>\n",
              "      <td>Servicios / Consultoría de Software / Digital</td>\n",
              "      <td>6</td>\n",
              "      <td>6</td>\n",
              "      <td>Clases de idiomas, Horarios flexibles, Vacacio...</td>\n",
              "      <td>NaN</td>\n",
              "    </tr>\n",
              "    <tr>\n",
              "      <th>...</th>\n",
              "      <td>...</td>\n",
              "      <td>...</td>\n",
              "      <td>...</td>\n",
              "      <td>...</td>\n",
              "      <td>...</td>\n",
              "      <td>...</td>\n",
              "      <td>...</td>\n",
              "      <td>...</td>\n",
              "      <td>...</td>\n",
              "      <td>...</td>\n",
              "      <td>...</td>\n",
              "      <td>...</td>\n",
              "      <td>...</td>\n",
              "      <td>...</td>\n",
              "      <td>...</td>\n",
              "      <td>...</td>\n",
              "      <td>...</td>\n",
              "      <td>...</td>\n",
              "      <td>...</td>\n",
              "      <td>...</td>\n",
              "      <td>...</td>\n",
              "    </tr>\n",
              "    <tr>\n",
              "      <th>6090</th>\n",
              "      <td>Hombre</td>\n",
              "      <td>37</td>\n",
              "      <td>Argentina</td>\n",
              "      <td>Ciudad Autónoma de Buenos Aires</td>\n",
              "      <td>13.0</td>\n",
              "      <td>6.0</td>\n",
              "      <td>6.0</td>\n",
              "      <td>0</td>\n",
              "      <td>Terciario</td>\n",
              "      <td>Completado</td>\n",
              "      <td>...</td>\n",
              "      <td>En mi trabajo actual</td>\n",
              "      <td>Heterosexual</td>\n",
              "      <td>NaN</td>\n",
              "      <td>No</td>\n",
              "      <td>501-1000</td>\n",
              "      <td>Otras industrias</td>\n",
              "      <td>7</td>\n",
              "      <td>8</td>\n",
              "      <td>Viáticos</td>\n",
              "      <td>NaN</td>\n",
              "    </tr>\n",
              "    <tr>\n",
              "      <th>6091</th>\n",
              "      <td>Hombre</td>\n",
              "      <td>38</td>\n",
              "      <td>Argentina</td>\n",
              "      <td>Ciudad Autónoma de Buenos Aires</td>\n",
              "      <td>12.0</td>\n",
              "      <td>5.0</td>\n",
              "      <td>5.0</td>\n",
              "      <td>0</td>\n",
              "      <td>Universitario</td>\n",
              "      <td>En curso</td>\n",
              "      <td>...</td>\n",
              "      <td>Jamás</td>\n",
              "      <td>Heterosexual</td>\n",
              "      <td>NaN</td>\n",
              "      <td>NaN</td>\n",
              "      <td>2001-5000</td>\n",
              "      <td>Otras industrias</td>\n",
              "      <td>8</td>\n",
              "      <td>10</td>\n",
              "      <td>Abono de celular, Capacitaciones y/o cursos, D...</td>\n",
              "      <td>NaN</td>\n",
              "    </tr>\n",
              "    <tr>\n",
              "      <th>6092</th>\n",
              "      <td>Hombre</td>\n",
              "      <td>24</td>\n",
              "      <td>Argentina</td>\n",
              "      <td>Ciudad Autónoma de Buenos Aires</td>\n",
              "      <td>2.0</td>\n",
              "      <td>2.0</td>\n",
              "      <td>2.0</td>\n",
              "      <td>0</td>\n",
              "      <td>Terciario</td>\n",
              "      <td>En curso</td>\n",
              "      <td>...</td>\n",
              "      <td>Jamás</td>\n",
              "      <td>Heterosexual</td>\n",
              "      <td>NaN</td>\n",
              "      <td>NaN</td>\n",
              "      <td>201-500</td>\n",
              "      <td>Producto basado en Software</td>\n",
              "      <td>7</td>\n",
              "      <td>9</td>\n",
              "      <td>Capacitaciones y/o cursos, Clases de idiomas, ...</td>\n",
              "      <td>Mercado Libre</td>\n",
              "    </tr>\n",
              "    <tr>\n",
              "      <th>6093</th>\n",
              "      <td>Hombre</td>\n",
              "      <td>28</td>\n",
              "      <td>Argentina</td>\n",
              "      <td>La Pampa</td>\n",
              "      <td>5.0</td>\n",
              "      <td>3.0</td>\n",
              "      <td>2.0</td>\n",
              "      <td>0</td>\n",
              "      <td>Terciario</td>\n",
              "      <td>En curso</td>\n",
              "      <td>...</td>\n",
              "      <td>Jamás</td>\n",
              "      <td>Heterosexual</td>\n",
              "      <td>NaN</td>\n",
              "      <td>No</td>\n",
              "      <td>51-100</td>\n",
              "      <td>Servicios / Consultoría de Software / Digital</td>\n",
              "      <td>5</td>\n",
              "      <td>7</td>\n",
              "      <td>Capacitaciones y/o cursos</td>\n",
              "      <td>Solo Nubity</td>\n",
              "    </tr>\n",
              "    <tr>\n",
              "      <th>6094</th>\n",
              "      <td>Hombre</td>\n",
              "      <td>33</td>\n",
              "      <td>Argentina</td>\n",
              "      <td>GBA</td>\n",
              "      <td>5.0</td>\n",
              "      <td>5.0</td>\n",
              "      <td>3.0</td>\n",
              "      <td>0</td>\n",
              "      <td>Terciario</td>\n",
              "      <td>Incompleto</td>\n",
              "      <td>...</td>\n",
              "      <td>Jamás</td>\n",
              "      <td>Heterosexual</td>\n",
              "      <td>no</td>\n",
              "      <td>No</td>\n",
              "      <td>501-1000</td>\n",
              "      <td>Otras industrias</td>\n",
              "      <td>9</td>\n",
              "      <td>7</td>\n",
              "      <td>Abono de celular, Comidas pagas / subvencionadas</td>\n",
              "      <td>NaN</td>\n",
              "    </tr>\n",
              "  </tbody>\n",
              "</table>\n",
              "<p>6095 rows × 48 columns</p>\n",
              "</div>\n",
              "      <button class=\"colab-df-convert\" onclick=\"convertToInteractive('df-baef1ea6-9216-4c98-9568-6d09ecd516c4')\"\n",
              "              title=\"Convert this dataframe to an interactive table.\"\n",
              "              style=\"display:none;\">\n",
              "        \n",
              "  <svg xmlns=\"http://www.w3.org/2000/svg\" height=\"24px\"viewBox=\"0 0 24 24\"\n",
              "       width=\"24px\">\n",
              "    <path d=\"M0 0h24v24H0V0z\" fill=\"none\"/>\n",
              "    <path d=\"M18.56 5.44l.94 2.06.94-2.06 2.06-.94-2.06-.94-.94-2.06-.94 2.06-2.06.94zm-11 1L8.5 8.5l.94-2.06 2.06-.94-2.06-.94L8.5 2.5l-.94 2.06-2.06.94zm10 10l.94 2.06.94-2.06 2.06-.94-2.06-.94-.94-2.06-.94 2.06-2.06.94z\"/><path d=\"M17.41 7.96l-1.37-1.37c-.4-.4-.92-.59-1.43-.59-.52 0-1.04.2-1.43.59L10.3 9.45l-7.72 7.72c-.78.78-.78 2.05 0 2.83L4 21.41c.39.39.9.59 1.41.59.51 0 1.02-.2 1.41-.59l7.78-7.78 2.81-2.81c.8-.78.8-2.07 0-2.86zM5.41 20L4 18.59l7.72-7.72 1.47 1.35L5.41 20z\"/>\n",
              "  </svg>\n",
              "      </button>\n",
              "      \n",
              "  <style>\n",
              "    .colab-df-container {\n",
              "      display:flex;\n",
              "      flex-wrap:wrap;\n",
              "      gap: 12px;\n",
              "    }\n",
              "\n",
              "    .colab-df-convert {\n",
              "      background-color: #E8F0FE;\n",
              "      border: none;\n",
              "      border-radius: 50%;\n",
              "      cursor: pointer;\n",
              "      display: none;\n",
              "      fill: #1967D2;\n",
              "      height: 32px;\n",
              "      padding: 0 0 0 0;\n",
              "      width: 32px;\n",
              "    }\n",
              "\n",
              "    .colab-df-convert:hover {\n",
              "      background-color: #E2EBFA;\n",
              "      box-shadow: 0px 1px 2px rgba(60, 64, 67, 0.3), 0px 1px 3px 1px rgba(60, 64, 67, 0.15);\n",
              "      fill: #174EA6;\n",
              "    }\n",
              "\n",
              "    [theme=dark] .colab-df-convert {\n",
              "      background-color: #3B4455;\n",
              "      fill: #D2E3FC;\n",
              "    }\n",
              "\n",
              "    [theme=dark] .colab-df-convert:hover {\n",
              "      background-color: #434B5C;\n",
              "      box-shadow: 0px 1px 3px 1px rgba(0, 0, 0, 0.15);\n",
              "      filter: drop-shadow(0px 1px 2px rgba(0, 0, 0, 0.3));\n",
              "      fill: #FFFFFF;\n",
              "    }\n",
              "  </style>\n",
              "\n",
              "      <script>\n",
              "        const buttonEl =\n",
              "          document.querySelector('#df-baef1ea6-9216-4c98-9568-6d09ecd516c4 button.colab-df-convert');\n",
              "        buttonEl.style.display =\n",
              "          google.colab.kernel.accessAllowed ? 'block' : 'none';\n",
              "\n",
              "        async function convertToInteractive(key) {\n",
              "          const element = document.querySelector('#df-baef1ea6-9216-4c98-9568-6d09ecd516c4');\n",
              "          const dataTable =\n",
              "            await google.colab.kernel.invokeFunction('convertToInteractive',\n",
              "                                                     [key], {});\n",
              "          if (!dataTable) return;\n",
              "\n",
              "          const docLinkHtml = 'Like what you see? Visit the ' +\n",
              "            '<a target=\"_blank\" href=https://colab.research.google.com/notebooks/data_table.ipynb>data table notebook</a>'\n",
              "            + ' to learn more about interactive tables.';\n",
              "          element.innerHTML = '';\n",
              "          dataTable['output_type'] = 'display_data';\n",
              "          await google.colab.output.renderOutput(dataTable, element);\n",
              "          const docLink = document.createElement('div');\n",
              "          docLink.innerHTML = docLinkHtml;\n",
              "          element.appendChild(docLink);\n",
              "        }\n",
              "      </script>\n",
              "    </div>\n",
              "  </div>\n",
              "  "
            ]
          },
          "metadata": {},
          "execution_count": 3
        }
      ]
    },
    {
      "cell_type": "markdown",
      "metadata": {
        "id": "-ZSQYANFHHgV"
      },
      "source": [
        "# Ejercicio 1 - Análisis descriptivo\n",
        "\n",
        "Responder a la pregunta: **¿Cuáles son los lenguajes de programación asociados a los mejores salarios?**\n",
        "\n",
        "Para ello:\n",
        "1. Seleccionar las columnas relevantes para analizar.\n",
        "2. Seleccionar las filas relevantes para analizar. Esto incluye la eliminación de valores extremos y erróneos, pero también puede enfocar el análisis en una sub-población. Por ejemplo, se pueden limitar a personas con un salario mayor que 10000 pesos, o a las personas que trabajan sólo en \"Data Science\", pero deben justificar su elección y reformular la pregunta inicial de ser necesario.\n",
        "  * Obtener una lista de los lenguajes de programación más populares. Decidir cuántos y cuáles seleccionan para incluir en el análisis.\n",
        "  * Para cada una de las otras columnas del punto anterior, elegir los rangos o valores seleccionan para incluir en el análisis.\n",
        "3. Seleccionar métricas que ayuden a responder la pregunta, y los métodos para analizarlas. Elegir UNA de las siguientes opciones:\n",
        "  * Comparar las distribuciones de salario para cada lenguaje utilizando visualizaciones. Como la visualización es el producto final, debe ser clara y mostrar información relevante.\n",
        "  * Comparar medidas de estadística descriptiva sobre la distribución de salario para cada lenguaje. Sean creativos, la estadística descriptiva nos permite decir cosas como: \"el 10% de los mejores sueldos los ganan, en su mayoría, programadores que saben kotlin!\" (donde *mayoría* es un término medio engañoso que sólo significa más del 50%). Para comparar múltiples lenguajes, les recomendamos usar también visualizaciones.\n",
        "  * Comparar probabilidades. Por ejemplo: \"Si sabés Python o Java, tenés un 30% más de chances de ganar arriba de 100K\".\n",
        "\n",
        "Si lo consideran necesario, realicen varias iteraciones. Es decir, si encuentran que las distribuciones de los lenguajes de programación que seleccionaron inicialmente no son muy diferentes, pueden re-hacer el análisis usando sólo los lenguajes de programación que son diferentes."
      ]
    },
    {
      "cell_type": "code",
      "metadata": {
        "id": "6dqTEr7cZgvl"
      },
      "source": [
        "# complete here if you want to include more columns\n",
        "relevant_columns = ['tools_programming_languages', 'salary_monthly_NETO']"
      ],
      "execution_count": 4,
      "outputs": []
    },
    {
      "cell_type": "code",
      "source": [
        "s_neto= 'salary_monthly_NETO'\n",
        "max_salario = df1[s_neto].max()\n",
        "med_salario = df1[s_neto].median()\n",
        "mod_salario = df1[s_neto].mode()\n"
      ],
      "metadata": {
        "id": "G3oy_zFWVSDh"
      },
      "execution_count": 5,
      "outputs": []
    },
    {
      "cell_type": "code",
      "source": [
        "df1[s_neto].describe().apply(lambda s: '{0:.3f}'.format(s))"
      ],
      "metadata": {
        "colab": {
          "base_uri": "https://localhost:8080/"
        },
        "id": "UHkqVK9x3WRG",
        "outputId": "0b748ecc-37a7-4664-f150-3c7e219d48d5"
      },
      "execution_count": 6,
      "outputs": [
        {
          "output_type": "execute_result",
          "data": {
            "text/plain": [
              "count       5883.000\n",
              "mean       94907.949\n",
              "std        96862.258\n",
              "min            1.000\n",
              "25%        51480.000\n",
              "50%        78000.000\n",
              "75%       106000.000\n",
              "max      2080000.000\n",
              "Name: salary_monthly_NETO, dtype: object"
            ]
          },
          "metadata": {},
          "execution_count": 6
        }
      ]
    },
    {
      "cell_type": "code",
      "source": [
        "print(\"salario máximo NETO:\",max_salario)\n",
        "print(\"mediana del salario NETO:\",med_salario)\n",
        "print(\"moda del salario NETO:\",mod_salario)"
      ],
      "metadata": {
        "colab": {
          "base_uri": "https://localhost:8080/"
        },
        "id": "zr2OEdHShZaq",
        "outputId": "b3b2545d-0f8b-4147-98dd-f2368ee31c69"
      },
      "execution_count": 7,
      "outputs": [
        {
          "output_type": "stream",
          "name": "stdout",
          "text": [
            "salario máximo NETO: 2080000.0\n",
            "mediana del salario NETO: 78000.0\n",
            "moda del salario NETO: 0    80000.0\n",
            "dtype: float64\n"
          ]
        }
      ]
    },
    {
      "cell_type": "code",
      "source": [
        "#calculo de frecuencias\n",
        "cont1,cont2,cont3,cont3_a,cont3_b,cont4,cont4_a=0,0,0,0,0,0,0\n",
        "cont4_b,cont5=0,0\n",
        "cont6,cont7,cont8,cont9,cont10,cont11 = 0,0,0,0,0,0\n",
        "\n",
        "for i in range(1,len(df1)):\n",
        "  if (df1.loc[i,'salary_monthly_NETO'] ==80000):\n",
        "    cont1 = cont1 + 1\n",
        "\n",
        "for i in range(1,len(df1)):\n",
        "  if df1.loc[i,'salary_monthly_NETO'] == 100000:\n",
        "    cont2 = cont2 + 1  \n",
        "\n",
        "for i in range(1,len(df1)):\n",
        "  if df1.loc[i,'salary_monthly_NETO'] ==200000:\n",
        "    cont3 = cont3 + 1\n",
        "\n",
        "for i in range(1,len(df1)):\n",
        "  if ((df1.loc[i,'salary_monthly_NETO'] >=60000) and (df1.loc[i,'salary_monthly_NETO'] <=70000)):\n",
        "    cont3_a= cont3_a + 1\n",
        "\n",
        "for i in range(1,len(df1)):\n",
        "  if ((df1.loc[i,'salary_monthly_NETO'] >70000) and (df1.loc[i,'salary_monthly_NETO'] <=80000)):\n",
        "    cont3_b= cont3_b + 1\n",
        "\n",
        "for i in range(1,len(df1)):\n",
        "  if ((df1.loc[i,'salary_monthly_NETO'] >80000) and (df1.loc[i,'salary_monthly_NETO'] <=90000)):\n",
        "    cont4= cont4 + 1\n",
        "\n",
        "for i in range(1,len(df1)):\n",
        "  if ((df1.loc[i,'salary_monthly_NETO'] >90000) and (df1.loc[i,'salary_monthly_NETO'] <=100000)):\n",
        "    cont4_a= cont4_a + 1   \n",
        "\n",
        "for i in range(1,len(df1)):\n",
        "  if ((df1.loc[i,'salary_monthly_NETO'] >100000) and (df1.loc[i,'salary_monthly_NETO'] <=200000)):\n",
        "    cont4_b= cont4_b + 1\n",
        "\n",
        "for i in range(1,len(df1)):\n",
        "  if ((df1.loc[i,'salary_monthly_NETO'] >200000) and (df1.loc[i,'salary_monthly_NETO'] <=300000)):\n",
        "    cont5 = cont5 + 1\n",
        "\n",
        "for i in range(1,len(df1)):\n",
        "  if ((df1.loc[i,'salary_monthly_NETO'] >300000) and (df1.loc[i,'salary_monthly_NETO'] <=400000)):\n",
        "    cont6 = cont6 + 1\n",
        "\n",
        "for i in range(1,len(df1)):\n",
        "   if ((df1.loc[i,'salary_monthly_NETO'] >400000) and (df1.loc[i,'salary_monthly_NETO'] <=500000)):\n",
        "     cont7 = cont7 + 1   \n",
        "for i in range(1,len(df1)):\n",
        "  if ((df1.loc[i,'salary_monthly_NETO'] >500000) and (df1.loc[i,'salary_monthly_NETO'] <=600000)):\n",
        "    cont8 = cont8 + 1\n",
        "\n",
        "for i in range(1,len(df1)):\n",
        "  if ((df1.loc[i,'salary_monthly_NETO'] >600000) and (df1.loc[i,'salary_monthly_NETO'] <=700000)):\n",
        "    cont9 = cont9 + 1\n",
        "\n",
        "for i in range(1,len(df1)):\n",
        "  if ((df1.loc[i,'salary_monthly_NETO'] >700000) and (df1.loc[i,'salary_monthly_NETO'] <=800000)):\n",
        "    cont10 =cont10 +1    \n",
        "\n",
        "for i in range(1,len(df1)):\n",
        "  if ((df1.loc[i,'salary_monthly_NETO'] >800000) and (df1.loc[i,'salary_monthly_NETO'] <=900000)):\n",
        "    cont11 = cont11 + 1\n"
      ],
      "metadata": {
        "id": "CdaKipg4-4sC"
      },
      "execution_count": 8,
      "outputs": []
    },
    {
      "cell_type": "code",
      "source": [
        "print(\"moda, Cantidad de personas con sueldos igual a 80mil:\",cont1) \n",
        "print(\"cantidad de personas con salarios igual a 100mil:\",cont2)\n",
        "print(\"Cantidad de personas con sueldos igual a $200mil:\", cont3)\n",
        "print(\"Cantidad de personas con sueldos entre $60mil y $70mil:\", cont3_a)\n",
        "print(\"Cantidad de personas con sueldos entre $70mil y $80mil:\", cont3_b)\n",
        "print(\"Cantidad de personas con sueldos entre $80mil y $90mil:\", cont4)\n",
        "print(\"Cantidad de personas con sueldos entre $90mil y $1000mil:\", cont4_a)\n",
        "print(\"Cantidad de personas con sueldos entre $100mil y $200mil:\", cont4_b)\n",
        "print(\"Cantidad de personas con sueldos entre $200mil y $300mil:\", cont5)\n",
        "print(\"Cantidad de personas con sueldos entre $300mil y $400mil:\", cont6)\n",
        "print(\"Cantidad de personas con sueldos entre $400mil y $500mil:\", cont7)\n",
        "print(\"Cantidad de personas con sueldos entre $500mil y $600mil:\", cont8)\n",
        "print(\"Cantidad de personas con sueldos entre $600mil y $700mil:\", cont9)\n",
        "print(\"Cantidad de personas con sueldos entre $700mil y $800mil:\", cont10)\n",
        "print(\"Cantidad de personas con sueldos entre 800mil y 900mil:\",cont11)"
      ],
      "metadata": {
        "colab": {
          "base_uri": "https://localhost:8080/"
        },
        "id": "_ytb-fzrFZQr",
        "outputId": "42f5f2d9-2b24-41bb-cfec-e440df6a9ad1"
      },
      "execution_count": 9,
      "outputs": [
        {
          "output_type": "stream",
          "name": "stdout",
          "text": [
            "moda, Cantidad de personas con sueldos igual a 80mil: 149\n",
            "cantidad de personas con salarios igual a 100mil: 139\n",
            "Cantidad de personas con sueldos igual a $200mil: 41\n",
            "Cantidad de personas con sueldos entre $60mil y $70mil: 648\n",
            "Cantidad de personas con sueldos entre $70mil y $80mil: 621\n",
            "Cantidad de personas con sueldos entre $80mil y $90mil: 542\n",
            "Cantidad de personas con sueldos entre $90mil y $1000mil: 514\n",
            "Cantidad de personas con sueldos entre $100mil y $200mil: 1341\n",
            "Cantidad de personas con sueldos entre $200mil y $300mil: 154\n",
            "Cantidad de personas con sueldos entre $300mil y $400mil: 73\n",
            "Cantidad de personas con sueldos entre $400mil y $500mil: 41\n",
            "Cantidad de personas con sueldos entre $500mil y $600mil: 17\n",
            "Cantidad de personas con sueldos entre $600mil y $700mil: 5\n",
            "Cantidad de personas con sueldos entre $700mil y $800mil: 6\n",
            "Cantidad de personas con sueldos entre 800mil y 900mil: 7\n"
          ]
        }
      ]
    },
    {
      "cell_type": "code",
      "source": [
        "#considerando el análisis anterior, elijo población entre 90mil y 500mil (filas relevantes)\n",
        "df= df1[(df1['salary_monthly_NETO'] >=80000) & (df1['salary_monthly_NETO'] <= 500000)]\n",
        "\n",
        "sns.displot(df1[s_neto], aspect=2, bins=100) \n",
        "## para evitar la notación científica en las etiquetas\n",
        "plt.ticklabel_format(style='plain', axis='x')\n",
        "plt.xlabel('salario mensual neto', fontsize=16)\n",
        "\n",
        "sns.displot(df[s_neto], aspect=2, bins=100) \n",
        "## para evitar la notación científica en las etiquetas\n",
        "plt.ticklabel_format(style='plain', axis='x')\n",
        "plt.xlabel('salario mensual neto (subpoblación)',fontsize=16)\n",
        "\n",
        "\n"
      ],
      "metadata": {
        "colab": {
          "base_uri": "https://localhost:8080/",
          "height": 747
        },
        "id": "986EZ4S_IO6z",
        "outputId": "6f5357c9-60d5-435f-b4ef-688bf2835cf8"
      },
      "execution_count": 10,
      "outputs": [
        {
          "output_type": "execute_result",
          "data": {
            "text/plain": [
              "Text(0.5, 6.79999999999999, 'salario mensual neto (subpoblación)')"
            ]
          },
          "metadata": {},
          "execution_count": 10
        },
        {
          "output_type": "display_data",
          "data": {
            "text/plain": [
              "<Figure size 720x360 with 1 Axes>"
            ],
            "image/png": "[encoded data removed]"
          },
          "metadata": {
            "needs_background": "light"
          }
        },
        {
          "output_type": "display_data",
          "data": {
            "text/plain": [
              "<Figure size 720x360 with 1 Axes>"
            ],
            "image/png": "[encoded data removed]"
          },
          "metadata": {
            "needs_background": "light"
          }
        }
      ]
    },
    {
      "cell_type": "code",
      "source": [
        "df1.shape"
      ],
      "metadata": {
        "colab": {
          "base_uri": "https://localhost:8080/"
        },
        "id": "Ah6_xHCeQ1NP",
        "outputId": "42580bd5-d1c6-4b47-c3cb-a9aab0e83f44"
      },
      "execution_count": 11,
      "outputs": [
        {
          "output_type": "execute_result",
          "data": {
            "text/plain": [
              "(6095, 48)"
            ]
          },
          "metadata": {},
          "execution_count": 11
        }
      ]
    },
    {
      "cell_type": "code",
      "source": [
        "df.shape"
      ],
      "metadata": {
        "colab": {
          "base_uri": "https://localhost:8080/"
        },
        "id": "Bs5Yyz0nQ4eA",
        "outputId": "b6156f5c-496d-40c0-e87d-892fd5931285"
      },
      "execution_count": 12,
      "outputs": [
        {
          "output_type": "execute_result",
          "data": {
            "text/plain": [
              "(2814, 48)"
            ]
          },
          "metadata": {},
          "execution_count": 12
        }
      ]
    },
    {
      "cell_type": "markdown",
      "metadata": {
        "id": "OoGgzMvuEocM"
      },
      "source": [
        "### Conteo de frecuencias de los lenguajes de programación\n",
        "\n",
        "La columna que contiene información sobre los lenguajes de programación utilizados es `tools_programming_languages`. Sus valores son strings con los lenguajes seleccionados separados por comas.\n",
        "\n"
      ]
    },
    {
      "cell_type": "code",
      "metadata": {
        "colab": {
          "base_uri": "https://localhost:8080/"
        },
        "id": "J7AB2Ty8SvNl",
        "outputId": "7738d60c-9cb6-46fb-cdc5-9bf673a13f13"
      },
      "source": [
        "df.tools_programming_languages[:3]"
      ],
      "execution_count": 13,
      "outputs": [
        {
          "output_type": "execute_result",
          "data": {
            "text/plain": [
              "2                                              Ninguno\n",
              "3    Bash/Shell, C, CSS, HTML, Java, Javascript, PH...\n",
              "4               CSS, HTML, Javascript, SQL, TypeScript\n",
              "Name: tools_programming_languages, dtype: object"
            ]
          },
          "metadata": {},
          "execution_count": 13
        }
      ]
    },
    {
      "cell_type": "markdown",
      "metadata": {
        "id": "l8bYmvMhSroH"
      },
      "source": [
        "Las siguientes celdas de código separan estos lenguajes de programación y cuentan la frecuencia con la que aparecen.\n",
        "\n",
        "No es necesario entender este código en profundidad, aunque sí es un buen ejercicio."
      ]
    },
    {
      "cell_type": "code",
      "metadata": {
        "colab": {
          "base_uri": "https://localhost:8080/",
          "height": 461
        },
        "id": "PAQ81x3iUP_N",
        "outputId": "6a60e9ee-3608-47fd-c3c8-5614fa00d1c8"
      },
      "source": [
        "# Convert the comma-separated string of languages to a list of string.\n",
        "# Remove 'ninguno de los anteriores' option, spaces and training commas.\n",
        "def split_languages(languages_str):\n",
        "  if not isinstance(languages_str, str):\n",
        "    return []\n",
        "  # Remove 'other' option\n",
        "  languages_str = languages_str.lower()\\\n",
        "    .replace('ninguno de los anteriores', '')\n",
        "  # Split string into list of items\n",
        "  # Remove spaces and commas for each item\n",
        "  return [lang.strip().replace(',', '')\n",
        "          for lang in languages_str.split()]\n",
        "\n",
        "# Create a new column with the list of languages\n",
        "df.loc[:, 'cured_programming_languages'] = df.tools_programming_languages\\\n",
        "    .apply(split_languages)\n",
        "if 'cured_programming_languages' not in relevant_columns:\n",
        "    relevant_columns.append('cured_programming_languages') \n",
        "\n",
        "# Duplicate each row of df for each programming language\n",
        "# mentioned in the response.\n",
        "# We only include in df_lang the columns we are going to analyze later, so we\n",
        "# don't duplicate innecesary information.\n",
        "df_lang = df.cured_programming_languages\\\n",
        "    .apply(pd.Series).stack()\\\n",
        "    .reset_index(level=-1, drop=True).to_frame()\\\n",
        "    .join(df[relevant_columns])\\\n",
        "    .rename(columns={0: 'programming_language'})\n",
        "# Horrible programming style! But a lot of data science code can be written with\n",
        "# as concatenations of functions (pipelines), and there's no elegant way of\n",
        "# doing that on Python.\n",
        "df_lang[:10]"
      ],
      "execution_count": 14,
      "outputs": [
        {
          "output_type": "stream",
          "name": "stderr",
          "text": [
            "/usr/local/lib/python3.7/dist-packages/pandas/core/indexing.py:1667: SettingWithCopyWarning: \n",
            "A value is trying to be set on a copy of a slice from a DataFrame.\n",
            "Try using .loc[row_indexer,col_indexer] = value instead\n",
            "\n",
            "See the caveats in the documentation: https://pandas.pydata.org/pandas-docs/stable/user_guide/indexing.html#returning-a-view-versus-a-copy\n",
            "  self.obj[key] = value\n"
          ]
        },
        {
          "output_type": "execute_result",
          "data": {
            "text/plain": [
              "  programming_language                        tools_programming_languages  \\\n",
              "2              ninguno                                            Ninguno   \n",
              "3           bash/shell  Bash/Shell, C, CSS, HTML, Java, Javascript, PH...   \n",
              "3                    c  Bash/Shell, C, CSS, HTML, Java, Javascript, PH...   \n",
              "3                  css  Bash/Shell, C, CSS, HTML, Java, Javascript, PH...   \n",
              "3                 html  Bash/Shell, C, CSS, HTML, Java, Javascript, PH...   \n",
              "3                 java  Bash/Shell, C, CSS, HTML, Java, Javascript, PH...   \n",
              "3           javascript  Bash/Shell, C, CSS, HTML, Java, Javascript, PH...   \n",
              "3                  php  Bash/Shell, C, CSS, HTML, Java, Javascript, PH...   \n",
              "3               python  Bash/Shell, C, CSS, HTML, Java, Javascript, PH...   \n",
              "3                  sql  Bash/Shell, C, CSS, HTML, Java, Javascript, PH...   \n",
              "\n",
              "   salary_monthly_NETO                        cured_programming_languages  \n",
              "2             127000.0                                          [ninguno]  \n",
              "3             102000.0  [bash/shell, c, css, html, java, javascript, p...  \n",
              "3             102000.0  [bash/shell, c, css, html, java, javascript, p...  \n",
              "3             102000.0  [bash/shell, c, css, html, java, javascript, p...  \n",
              "3             102000.0  [bash/shell, c, css, html, java, javascript, p...  \n",
              "3             102000.0  [bash/shell, c, css, html, java, javascript, p...  \n",
              "3             102000.0  [bash/shell, c, css, html, java, javascript, p...  \n",
              "3             102000.0  [bash/shell, c, css, html, java, javascript, p...  \n",
              "3             102000.0  [bash/shell, c, css, html, java, javascript, p...  \n",
              "3             102000.0  [bash/shell, c, css, html, java, javascript, p...  "
            ],
            "text/html": [
              "\n",
              "  <div id=\"df-1adc99af-0439-48b4-9f19-8098432ba9b4\">\n",
              "    <div class=\"colab-df-container\">\n",
              "      <div>\n",
              "<style scoped>\n",
              "    .dataframe tbody tr th:only-of-type {\n",
              "        vertical-align: middle;\n",
              "    }\n",
              "\n",
              "    .dataframe tbody tr th {\n",
              "        vertical-align: top;\n",
              "    }\n",
              "\n",
              "    .dataframe thead th {\n",
              "        text-align: right;\n",
              "    }\n",
              "</style>\n",
              "<table border=\"1\" class=\"dataframe\">\n",
              "  <thead>\n",
              "    <tr style=\"text-align: right;\">\n",
              "      <th></th>\n",
              "      <th>programming_language</th>\n",
              "      <th>tools_programming_languages</th>\n",
              "      <th>salary_monthly_NETO</th>\n",
              "      <th>cured_programming_languages</th>\n",
              "    </tr>\n",
              "  </thead>\n",
              "  <tbody>\n",
              "    <tr>\n",
              "      <th>2</th>\n",
              "      <td>ninguno</td>\n",
              "      <td>Ninguno</td>\n",
              "      <td>127000.0</td>\n",
              "      <td>[ninguno]</td>\n",
              "    </tr>\n",
              "    <tr>\n",
              "      <th>3</th>\n",
              "      <td>bash/shell</td>\n",
              "      <td>Bash/Shell, C, CSS, HTML, Java, Javascript, PH...</td>\n",
              "      <td>102000.0</td>\n",
              "      <td>[bash/shell, c, css, html, java, javascript, p...</td>\n",
              "    </tr>\n",
              "    <tr>\n",
              "      <th>3</th>\n",
              "      <td>c</td>\n",
              "      <td>Bash/Shell, C, CSS, HTML, Java, Javascript, PH...</td>\n",
              "      <td>102000.0</td>\n",
              "      <td>[bash/shell, c, css, html, java, javascript, p...</td>\n",
              "    </tr>\n",
              "    <tr>\n",
              "      <th>3</th>\n",
              "      <td>css</td>\n",
              "      <td>Bash/Shell, C, CSS, HTML, Java, Javascript, PH...</td>\n",
              "      <td>102000.0</td>\n",
              "      <td>[bash/shell, c, css, html, java, javascript, p...</td>\n",
              "    </tr>\n",
              "    <tr>\n",
              "      <th>3</th>\n",
              "      <td>html</td>\n",
              "      <td>Bash/Shell, C, CSS, HTML, Java, Javascript, PH...</td>\n",
              "      <td>102000.0</td>\n",
              "      <td>[bash/shell, c, css, html, java, javascript, p...</td>\n",
              "    </tr>\n",
              "    <tr>\n",
              "      <th>3</th>\n",
              "      <td>java</td>\n",
              "      <td>Bash/Shell, C, CSS, HTML, Java, Javascript, PH...</td>\n",
              "      <td>102000.0</td>\n",
              "      <td>[bash/shell, c, css, html, java, javascript, p...</td>\n",
              "    </tr>\n",
              "    <tr>\n",
              "      <th>3</th>\n",
              "      <td>javascript</td>\n",
              "      <td>Bash/Shell, C, CSS, HTML, Java, Javascript, PH...</td>\n",
              "      <td>102000.0</td>\n",
              "      <td>[bash/shell, c, css, html, java, javascript, p...</td>\n",
              "    </tr>\n",
              "    <tr>\n",
              "      <th>3</th>\n",
              "      <td>php</td>\n",
              "      <td>Bash/Shell, C, CSS, HTML, Java, Javascript, PH...</td>\n",
              "      <td>102000.0</td>\n",
              "      <td>[bash/shell, c, css, html, java, javascript, p...</td>\n",
              "    </tr>\n",
              "    <tr>\n",
              "      <th>3</th>\n",
              "      <td>python</td>\n",
              "      <td>Bash/Shell, C, CSS, HTML, Java, Javascript, PH...</td>\n",
              "      <td>102000.0</td>\n",
              "      <td>[bash/shell, c, css, html, java, javascript, p...</td>\n",
              "    </tr>\n",
              "    <tr>\n",
              "      <th>3</th>\n",
              "      <td>sql</td>\n",
              "      <td>Bash/Shell, C, CSS, HTML, Java, Javascript, PH...</td>\n",
              "      <td>102000.0</td>\n",
              "      <td>[bash/shell, c, css, html, java, javascript, p...</td>\n",
              "    </tr>\n",
              "  </tbody>\n",
              "</table>\n",
              "</div>\n",
              "      <button class=\"colab-df-convert\" onclick=\"convertToInteractive('df-1adc99af-0439-48b4-9f19-8098432ba9b4')\"\n",
              "              title=\"Convert this dataframe to an interactive table.\"\n",
              "              style=\"display:none;\">\n",
              "        \n",
              "  <svg xmlns=\"http://www.w3.org/2000/svg\" height=\"24px\"viewBox=\"0 0 24 24\"\n",
              "       width=\"24px\">\n",
              "    <path d=\"M0 0h24v24H0V0z\" fill=\"none\"/>\n",
              "    <path d=\"M18.56 5.44l.94 2.06.94-2.06 2.06-.94-2.06-.94-.94-2.06-.94 2.06-2.06.94zm-11 1L8.5 8.5l.94-2.06 2.06-.94-2.06-.94L8.5 2.5l-.94 2.06-2.06.94zm10 10l.94 2.06.94-2.06 2.06-.94-2.06-.94-.94-2.06-.94 2.06-2.06.94z\"/><path d=\"M17.41 7.96l-1.37-1.37c-.4-.4-.92-.59-1.43-.59-.52 0-1.04.2-1.43.59L10.3 9.45l-7.72 7.72c-.78.78-.78 2.05 0 2.83L4 21.41c.39.39.9.59 1.41.59.51 0 1.02-.2 1.41-.59l7.78-7.78 2.81-2.81c.8-.78.8-2.07 0-2.86zM5.41 20L4 18.59l7.72-7.72 1.47 1.35L5.41 20z\"/>\n",
              "  </svg>\n",
              "      </button>\n",
              "      \n",
              "  <style>\n",
              "    .colab-df-container {\n",
              "      display:flex;\n",
              "      flex-wrap:wrap;\n",
              "      gap: 12px;\n",
              "    }\n",
              "\n",
              "    .colab-df-convert {\n",
              "      background-color: #E8F0FE;\n",
              "      border: none;\n",
              "      border-radius: 50%;\n",
              "      cursor: pointer;\n",
              "      display: none;\n",
              "      fill: #1967D2;\n",
              "      height: 32px;\n",
              "      padding: 0 0 0 0;\n",
              "      width: 32px;\n",
              "    }\n",
              "\n",
              "    .colab-df-convert:hover {\n",
              "      background-color: #E2EBFA;\n",
              "      box-shadow: 0px 1px 2px rgba(60, 64, 67, 0.3), 0px 1px 3px 1px rgba(60, 64, 67, 0.15);\n",
              "      fill: #174EA6;\n",
              "    }\n",
              "\n",
              "    [theme=dark] .colab-df-convert {\n",
              "      background-color: #3B4455;\n",
              "      fill: #D2E3FC;\n",
              "    }\n",
              "\n",
              "    [theme=dark] .colab-df-convert:hover {\n",
              "      background-color: #434B5C;\n",
              "      box-shadow: 0px 1px 3px 1px rgba(0, 0, 0, 0.15);\n",
              "      filter: drop-shadow(0px 1px 2px rgba(0, 0, 0, 0.3));\n",
              "      fill: #FFFFFF;\n",
              "    }\n",
              "  </style>\n",
              "\n",
              "      <script>\n",
              "        const buttonEl =\n",
              "          document.querySelector('#df-1adc99af-0439-48b4-9f19-8098432ba9b4 button.colab-df-convert');\n",
              "        buttonEl.style.display =\n",
              "          google.colab.kernel.accessAllowed ? 'block' : 'none';\n",
              "\n",
              "        async function convertToInteractive(key) {\n",
              "          const element = document.querySelector('#df-1adc99af-0439-48b4-9f19-8098432ba9b4');\n",
              "          const dataTable =\n",
              "            await google.colab.kernel.invokeFunction('convertToInteractive',\n",
              "                                                     [key], {});\n",
              "          if (!dataTable) return;\n",
              "\n",
              "          const docLinkHtml = 'Like what you see? Visit the ' +\n",
              "            '<a target=\"_blank\" href=https://colab.research.google.com/notebooks/data_table.ipynb>data table notebook</a>'\n",
              "            + ' to learn more about interactive tables.';\n",
              "          element.innerHTML = '';\n",
              "          dataTable['output_type'] = 'display_data';\n",
              "          await google.colab.output.renderOutput(dataTable, element);\n",
              "          const docLink = document.createElement('div');\n",
              "          docLink.innerHTML = docLinkHtml;\n",
              "          element.appendChild(docLink);\n",
              "        }\n",
              "      </script>\n",
              "    </div>\n",
              "  </div>\n",
              "  "
            ]
          },
          "metadata": {},
          "execution_count": 14
        }
      ]
    },
    {
      "cell_type": "markdown",
      "metadata": {
        "id": "qm8NUg-7UEue"
      },
      "source": [
        "En la columna `programming_language` se encuentra cada lenguaje por separado. Notar que si una respuesta contenía 3 lenguajes, como `\"HTML, Javascript, Python\"`, la fila ha sido replicada 3 veces. Por ello, hay tres filas con índice 1."
      ]
    },
    {
      "cell_type": "code",
      "metadata": {
        "colab": {
          "base_uri": "https://localhost:8080/",
          "height": 204
        },
        "id": "lNPb4tTvWCwv",
        "outputId": "a858f363-b0e6-40ed-8544-e22cf6fcef6c"
      },
      "source": [
        "language_count = df_lang.programming_language.value_counts()\\\n",
        "    .reset_index()\\\n",
        "    .rename(columns={'index': 'language', 'programming_language': 'frequency'})\n",
        "language_count[:5]"
      ],
      "execution_count": 15,
      "outputs": [
        {
          "output_type": "execute_result",
          "data": {
            "text/plain": [
              "     language  frequency\n",
              "0  javascript       1197\n",
              "1         sql        990\n",
              "2      python        841\n",
              "3        java        803\n",
              "4        html        787"
            ],
            "text/html": [
              "\n",
              "  <div id=\"df-ff3bd4d9-1665-4b1b-b1c5-25b63159213c\">\n",
              "    <div class=\"colab-df-container\">\n",
              "      <div>\n",
              "<style scoped>\n",
              "    .dataframe tbody tr th:only-of-type {\n",
              "        vertical-align: middle;\n",
              "    }\n",
              "\n",
              "    .dataframe tbody tr th {\n",
              "        vertical-align: top;\n",
              "    }\n",
              "\n",
              "    .dataframe thead th {\n",
              "        text-align: right;\n",
              "    }\n",
              "</style>\n",
              "<table border=\"1\" class=\"dataframe\">\n",
              "  <thead>\n",
              "    <tr style=\"text-align: right;\">\n",
              "      <th></th>\n",
              "      <th>language</th>\n",
              "      <th>frequency</th>\n",
              "    </tr>\n",
              "  </thead>\n",
              "  <tbody>\n",
              "    <tr>\n",
              "      <th>0</th>\n",
              "      <td>javascript</td>\n",
              "      <td>1197</td>\n",
              "    </tr>\n",
              "    <tr>\n",
              "      <th>1</th>\n",
              "      <td>sql</td>\n",
              "      <td>990</td>\n",
              "    </tr>\n",
              "    <tr>\n",
              "      <th>2</th>\n",
              "      <td>python</td>\n",
              "      <td>841</td>\n",
              "    </tr>\n",
              "    <tr>\n",
              "      <th>3</th>\n",
              "      <td>java</td>\n",
              "      <td>803</td>\n",
              "    </tr>\n",
              "    <tr>\n",
              "      <th>4</th>\n",
              "      <td>html</td>\n",
              "      <td>787</td>\n",
              "    </tr>\n",
              "  </tbody>\n",
              "</table>\n",
              "</div>\n",
              "      <button class=\"colab-df-convert\" onclick=\"convertToInteractive('df-ff3bd4d9-1665-4b1b-b1c5-25b63159213c')\"\n",
              "              title=\"Convert this dataframe to an interactive table.\"\n",
              "              style=\"display:none;\">\n",
              "        \n",
              "  <svg xmlns=\"http://www.w3.org/2000/svg\" height=\"24px\"viewBox=\"0 0 24 24\"\n",
              "       width=\"24px\">\n",
              "    <path d=\"M0 0h24v24H0V0z\" fill=\"none\"/>\n",
              "    <path d=\"M18.56 5.44l.94 2.06.94-2.06 2.06-.94-2.06-.94-.94-2.06-.94 2.06-2.06.94zm-11 1L8.5 8.5l.94-2.06 2.06-.94-2.06-.94L8.5 2.5l-.94 2.06-2.06.94zm10 10l.94 2.06.94-2.06 2.06-.94-2.06-.94-.94-2.06-.94 2.06-2.06.94z\"/><path d=\"M17.41 7.96l-1.37-1.37c-.4-.4-.92-.59-1.43-.59-.52 0-1.04.2-1.43.59L10.3 9.45l-7.72 7.72c-.78.78-.78 2.05 0 2.83L4 21.41c.39.39.9.59 1.41.59.51 0 1.02-.2 1.41-.59l7.78-7.78 2.81-2.81c.8-.78.8-2.07 0-2.86zM5.41 20L4 18.59l7.72-7.72 1.47 1.35L5.41 20z\"/>\n",
              "  </svg>\n",
              "      </button>\n",
              "      \n",
              "  <style>\n",
              "    .colab-df-container {\n",
              "      display:flex;\n",
              "      flex-wrap:wrap;\n",
              "      gap: 12px;\n",
              "    }\n",
              "\n",
              "    .colab-df-convert {\n",
              "      background-color: #E8F0FE;\n",
              "      border: none;\n",
              "      border-radius: 50%;\n",
              "      cursor: pointer;\n",
              "      display: none;\n",
              "      fill: #1967D2;\n",
              "      height: 32px;\n",
              "      padding: 0 0 0 0;\n",
              "      width: 32px;\n",
              "    }\n",
              "\n",
              "    .colab-df-convert:hover {\n",
              "      background-color: #E2EBFA;\n",
              "      box-shadow: 0px 1px 2px rgba(60, 64, 67, 0.3), 0px 1px 3px 1px rgba(60, 64, 67, 0.15);\n",
              "      fill: #174EA6;\n",
              "    }\n",
              "\n",
              "    [theme=dark] .colab-df-convert {\n",
              "      background-color: #3B4455;\n",
              "      fill: #D2E3FC;\n",
              "    }\n",
              "\n",
              "    [theme=dark] .colab-df-convert:hover {\n",
              "      background-color: #434B5C;\n",
              "      box-shadow: 0px 1px 3px 1px rgba(0, 0, 0, 0.15);\n",
              "      filter: drop-shadow(0px 1px 2px rgba(0, 0, 0, 0.3));\n",
              "      fill: #FFFFFF;\n",
              "    }\n",
              "  </style>\n",
              "\n",
              "      <script>\n",
              "        const buttonEl =\n",
              "          document.querySelector('#df-ff3bd4d9-1665-4b1b-b1c5-25b63159213c button.colab-df-convert');\n",
              "        buttonEl.style.display =\n",
              "          google.colab.kernel.accessAllowed ? 'block' : 'none';\n",
              "\n",
              "        async function convertToInteractive(key) {\n",
              "          const element = document.querySelector('#df-ff3bd4d9-1665-4b1b-b1c5-25b63159213c');\n",
              "          const dataTable =\n",
              "            await google.colab.kernel.invokeFunction('convertToInteractive',\n",
              "                                                     [key], {});\n",
              "          if (!dataTable) return;\n",
              "\n",
              "          const docLinkHtml = 'Like what you see? Visit the ' +\n",
              "            '<a target=\"_blank\" href=https://colab.research.google.com/notebooks/data_table.ipynb>data table notebook</a>'\n",
              "            + ' to learn more about interactive tables.';\n",
              "          element.innerHTML = '';\n",
              "          dataTable['output_type'] = 'display_data';\n",
              "          await google.colab.output.renderOutput(dataTable, element);\n",
              "          const docLink = document.createElement('div');\n",
              "          docLink.innerHTML = docLinkHtml;\n",
              "          element.appendChild(docLink);\n",
              "        }\n",
              "      </script>\n",
              "    </div>\n",
              "  </div>\n",
              "  "
            ]
          },
          "metadata": {},
          "execution_count": 15
        }
      ]
    },
    {
      "cell_type": "markdown",
      "metadata": {
        "id": "nThbJ1KeUgDo"
      },
      "source": [
        "## Filtrado de lenguajes relevantes\n",
        "\n",
        "El siguiente código permite seleccionar sólo las filas donde el valor de la columna `programming_language` se encuentre en la lista `interesting_languages`."
      ]
    },
    {
      "cell_type": "code",
      "metadata": {
        "colab": {
          "base_uri": "https://localhost:8080/",
          "height": 204
        },
        "id": "DEpVptnLZUQU",
        "outputId": "dc4eb586-b8ba-4f31-d3a2-817c3b2e6fa3"
      },
      "source": [
        "# El criterio de selección para los lenguajes es respecto a los 5 más frecuentes \n",
        "# obtenidos de la sección anterior\n",
        "\n",
        "interesting_languages = [\"javascript\", \"sql\", \"html\", \"python\", \"java\" ]\n",
        "filtered_df_lang = df_lang[df_lang.programming_language.isin(interesting_languages)]\n",
        "filtered_df_lang[:5]\n"
      ],
      "execution_count": 16,
      "outputs": [
        {
          "output_type": "execute_result",
          "data": {
            "text/plain": [
              "  programming_language                        tools_programming_languages  \\\n",
              "3                 html  Bash/Shell, C, CSS, HTML, Java, Javascript, PH...   \n",
              "3                 java  Bash/Shell, C, CSS, HTML, Java, Javascript, PH...   \n",
              "3           javascript  Bash/Shell, C, CSS, HTML, Java, Javascript, PH...   \n",
              "3               python  Bash/Shell, C, CSS, HTML, Java, Javascript, PH...   \n",
              "3                  sql  Bash/Shell, C, CSS, HTML, Java, Javascript, PH...   \n",
              "\n",
              "   salary_monthly_NETO                        cured_programming_languages  \n",
              "3             102000.0  [bash/shell, c, css, html, java, javascript, p...  \n",
              "3             102000.0  [bash/shell, c, css, html, java, javascript, p...  \n",
              "3             102000.0  [bash/shell, c, css, html, java, javascript, p...  \n",
              "3             102000.0  [bash/shell, c, css, html, java, javascript, p...  \n",
              "3             102000.0  [bash/shell, c, css, html, java, javascript, p...  "
            ],
            "text/html": [
              "\n",
              "  <div id=\"df-5a2a0160-0b3e-4cc6-a7de-f3e76720a79e\">\n",
              "    <div class=\"colab-df-container\">\n",
              "      <div>\n",
              "<style scoped>\n",
              "    .dataframe tbody tr th:only-of-type {\n",
              "        vertical-align: middle;\n",
              "    }\n",
              "\n",
              "    .dataframe tbody tr th {\n",
              "        vertical-align: top;\n",
              "    }\n",
              "\n",
              "    .dataframe thead th {\n",
              "        text-align: right;\n",
              "    }\n",
              "</style>\n",
              "<table border=\"1\" class=\"dataframe\">\n",
              "  <thead>\n",
              "    <tr style=\"text-align: right;\">\n",
              "      <th></th>\n",
              "      <th>programming_language</th>\n",
              "      <th>tools_programming_languages</th>\n",
              "      <th>salary_monthly_NETO</th>\n",
              "      <th>cured_programming_languages</th>\n",
              "    </tr>\n",
              "  </thead>\n",
              "  <tbody>\n",
              "    <tr>\n",
              "      <th>3</th>\n",
              "      <td>html</td>\n",
              "      <td>Bash/Shell, C, CSS, HTML, Java, Javascript, PH...</td>\n",
              "      <td>102000.0</td>\n",
              "      <td>[bash/shell, c, css, html, java, javascript, p...</td>\n",
              "    </tr>\n",
              "    <tr>\n",
              "      <th>3</th>\n",
              "      <td>java</td>\n",
              "      <td>Bash/Shell, C, CSS, HTML, Java, Javascript, PH...</td>\n",
              "      <td>102000.0</td>\n",
              "      <td>[bash/shell, c, css, html, java, javascript, p...</td>\n",
              "    </tr>\n",
              "    <tr>\n",
              "      <th>3</th>\n",
              "      <td>javascript</td>\n",
              "      <td>Bash/Shell, C, CSS, HTML, Java, Javascript, PH...</td>\n",
              "      <td>102000.0</td>\n",
              "      <td>[bash/shell, c, css, html, java, javascript, p...</td>\n",
              "    </tr>\n",
              "    <tr>\n",
              "      <th>3</th>\n",
              "      <td>python</td>\n",
              "      <td>Bash/Shell, C, CSS, HTML, Java, Javascript, PH...</td>\n",
              "      <td>102000.0</td>\n",
              "      <td>[bash/shell, c, css, html, java, javascript, p...</td>\n",
              "    </tr>\n",
              "    <tr>\n",
              "      <th>3</th>\n",
              "      <td>sql</td>\n",
              "      <td>Bash/Shell, C, CSS, HTML, Java, Javascript, PH...</td>\n",
              "      <td>102000.0</td>\n",
              "      <td>[bash/shell, c, css, html, java, javascript, p...</td>\n",
              "    </tr>\n",
              "  </tbody>\n",
              "</table>\n",
              "</div>\n",
              "      <button class=\"colab-df-convert\" onclick=\"convertToInteractive('df-5a2a0160-0b3e-4cc6-a7de-f3e76720a79e')\"\n",
              "              title=\"Convert this dataframe to an interactive table.\"\n",
              "              style=\"display:none;\">\n",
              "        \n",
              "  <svg xmlns=\"http://www.w3.org/2000/svg\" height=\"24px\"viewBox=\"0 0 24 24\"\n",
              "       width=\"24px\">\n",
              "    <path d=\"M0 0h24v24H0V0z\" fill=\"none\"/>\n",
              "    <path d=\"M18.56 5.44l.94 2.06.94-2.06 2.06-.94-2.06-.94-.94-2.06-.94 2.06-2.06.94zm-11 1L8.5 8.5l.94-2.06 2.06-.94-2.06-.94L8.5 2.5l-.94 2.06-2.06.94zm10 10l.94 2.06.94-2.06 2.06-.94-2.06-.94-.94-2.06-.94 2.06-2.06.94z\"/><path d=\"M17.41 7.96l-1.37-1.37c-.4-.4-.92-.59-1.43-.59-.52 0-1.04.2-1.43.59L10.3 9.45l-7.72 7.72c-.78.78-.78 2.05 0 2.83L4 21.41c.39.39.9.59 1.41.59.51 0 1.02-.2 1.41-.59l7.78-7.78 2.81-2.81c.8-.78.8-2.07 0-2.86zM5.41 20L4 18.59l7.72-7.72 1.47 1.35L5.41 20z\"/>\n",
              "  </svg>\n",
              "      </button>\n",
              "      \n",
              "  <style>\n",
              "    .colab-df-container {\n",
              "      display:flex;\n",
              "      flex-wrap:wrap;\n",
              "      gap: 12px;\n",
              "    }\n",
              "\n",
              "    .colab-df-convert {\n",
              "      background-color: #E8F0FE;\n",
              "      border: none;\n",
              "      border-radius: 50%;\n",
              "      cursor: pointer;\n",
              "      display: none;\n",
              "      fill: #1967D2;\n",
              "      height: 32px;\n",
              "      padding: 0 0 0 0;\n",
              "      width: 32px;\n",
              "    }\n",
              "\n",
              "    .colab-df-convert:hover {\n",
              "      background-color: #E2EBFA;\n",
              "      box-shadow: 0px 1px 2px rgba(60, 64, 67, 0.3), 0px 1px 3px 1px rgba(60, 64, 67, 0.15);\n",
              "      fill: #174EA6;\n",
              "    }\n",
              "\n",
              "    [theme=dark] .colab-df-convert {\n",
              "      background-color: #3B4455;\n",
              "      fill: #D2E3FC;\n",
              "    }\n",
              "\n",
              "    [theme=dark] .colab-df-convert:hover {\n",
              "      background-color: #434B5C;\n",
              "      box-shadow: 0px 1px 3px 1px rgba(0, 0, 0, 0.15);\n",
              "      filter: drop-shadow(0px 1px 2px rgba(0, 0, 0, 0.3));\n",
              "      fill: #FFFFFF;\n",
              "    }\n",
              "  </style>\n",
              "\n",
              "      <script>\n",
              "        const buttonEl =\n",
              "          document.querySelector('#df-5a2a0160-0b3e-4cc6-a7de-f3e76720a79e button.colab-df-convert');\n",
              "        buttonEl.style.display =\n",
              "          google.colab.kernel.accessAllowed ? 'block' : 'none';\n",
              "\n",
              "        async function convertToInteractive(key) {\n",
              "          const element = document.querySelector('#df-5a2a0160-0b3e-4cc6-a7de-f3e76720a79e');\n",
              "          const dataTable =\n",
              "            await google.colab.kernel.invokeFunction('convertToInteractive',\n",
              "                                                     [key], {});\n",
              "          if (!dataTable) return;\n",
              "\n",
              "          const docLinkHtml = 'Like what you see? Visit the ' +\n",
              "            '<a target=\"_blank\" href=https://colab.research.google.com/notebooks/data_table.ipynb>data table notebook</a>'\n",
              "            + ' to learn more about interactive tables.';\n",
              "          element.innerHTML = '';\n",
              "          dataTable['output_type'] = 'display_data';\n",
              "          await google.colab.output.renderOutput(dataTable, element);\n",
              "          const docLink = document.createElement('div');\n",
              "          docLink.innerHTML = docLinkHtml;\n",
              "          element.appendChild(docLink);\n",
              "        }\n",
              "      </script>\n",
              "    </div>\n",
              "  </div>\n",
              "  "
            ]
          },
          "metadata": {},
          "execution_count": 16
        }
      ]
    },
    {
      "cell_type": "code",
      "source": [
        "plt.figure(figsize=(10, 6))\n",
        "sns.boxplot(data=filtered_df_lang, x=s_neto, y='programming_language',\n",
        "                color='magenta')\n",
        "plt.ticklabel_format(style='plain', axis='x')"
      ],
      "metadata": {
        "colab": {
          "base_uri": "https://localhost:8080/",
          "height": 389
        },
        "id": "YxK5hwlvhSIY",
        "outputId": "f32a5d78-ba76-4207-d77a-148514f8a83a"
      },
      "execution_count": 17,
      "outputs": [
        {
          "output_type": "display_data",
          "data": {
            "text/plain": [
              "<Figure size 720x432 with 1 Axes>"
            ],
            "image/png": "[encoded data removed]"
          },
          "metadata": {
            "needs_background": "light"
          }
        }
      ]
    },
    {
      "cell_type": "code",
      "source": [
        "plt.figure(figsize=(10,6))\n",
        "sns.boxplot(x=\"programming_language\",y=s_neto,  data=filtered_df_lang)"
      ],
      "metadata": {
        "colab": {
          "base_uri": "https://localhost:8080/",
          "height": 406
        },
        "id": "4NoVaLix_o13",
        "outputId": "710cd668-5d4d-46cf-f082-6b123d219108"
      },
      "execution_count": 18,
      "outputs": [
        {
          "output_type": "execute_result",
          "data": {
            "text/plain": [
              "<matplotlib.axes._subplots.AxesSubplot at 0x7f05a573ee10>"
            ]
          },
          "metadata": {},
          "execution_count": 18
        },
        {
          "output_type": "display_data",
          "data": {
            "text/plain": [
              "<Figure size 720x432 with 1 Axes>"
            ],
            "image/png": "[encoded data removed]"
          },
          "metadata": {
            "needs_background": "light"
          }
        }
      ]
    },
    {
      "cell_type": "code",
      "source": [
        "plot = filtered_df_lang['programming_language'].value_counts().plot(kind='bar', title='Lenguajes populares', color='magenta') "
      ],
      "metadata": {
        "id": "TNm3ogawPX6W",
        "outputId": "75443c4a-2a5e-4fd1-bedc-5c8f2073fc42",
        "colab": {
          "base_uri": "https://localhost:8080/",
          "height": 320
        }
      },
      "execution_count": 19,
      "outputs": [
        {
          "output_type": "display_data",
          "data": {
            "text/plain": [
              "<Figure size 432x288 with 1 Axes>"
            ],
            "image/png": "[encoded data removed]"
          },
          "metadata": {
            "needs_background": "light"
          }
        }
      ]
    },
    {
      "cell_type": "markdown",
      "metadata": {
        "id": "tWo8SmmC9FAk"
      },
      "source": [
        "# Ejercicio 2 - Densidades y varias variables\n",
        "\n",
        "Responder a la pregunta general: **¿Qué herramientas (prácticas y teóricas) son útiles para explorar la base, descubrir patrones, asociaciones?**\n",
        "\n",
        "Para ello considere (igual al ejercicio Anterior):\n",
        "1. Seleccionar las columnas relevantes para analizar.\n",
        "2. Seleccionar las filas relevantes para analizar. Esto incluye la eliminación de valores extremos y erróneos, pero también puede enfocar el análisis en sub-poblaciones. \n"
      ]
    },
    {
      "cell_type": "markdown",
      "metadata": {
        "id": "5baYhH0XHM3S"
      },
      "source": [
        "## a) Densidad conjunta\n",
        "\n",
        "Qué herramientas visuales y modelos puede utilizar para estudiar la distribución y comportamiento de sus datos?\n",
        "\n",
        "Elija tres variables numéricas y 2 variables categóricas. Visualice la base según varias de las variables elegidas. Puede describir de alguna forma el comportamiento de sus datos? Qué herramientas utilizaría? Describa\n"
      ]
    },
    {
      "cell_type": "code",
      "source": [
        "# Enfoco mi análisis en la sub-población seleccionada anteriormente\n",
        "# Para la elección de variables numéricas y categóricas utilizamos el método dtype para conocer el tipo de variable de c/columna\n",
        "print(df.dtypes)\n",
        "\n",
        "# Elijo 3 variables numéricas y 2 categóricas\n",
        "numeric_columns = [\"profile_age\", \"profile_years_experience\", \"salary_monthly_NETO\"]\n",
        "categorical_columns = [\"profile_gender\", \"profile_career\"]\n",
        "\n",
        "# Le paso una función describe a las columnas numéricas seleccionadas\n",
        "print(df[numeric_columns].describe())"
      ],
      "metadata": {
        "id": "wRv3N54TsdQu",
        "outputId": "a134cacd-52de-4f07-8ad2-aea25bd9acd1",
        "colab": {
          "base_uri": "https://localhost:8080/"
        }
      },
      "execution_count": 142,
      "outputs": [
        {
          "output_type": "stream",
          "name": "stdout",
          "text": [
            "profile_gender                                   object\n",
            "profile_age                                       int64\n",
            "work_country                                     object\n",
            "work_province                                    object\n",
            "profile_years_experience                        float64\n",
            "work_years_in_company                           float64\n",
            "work_years_in_current_position                  float64\n",
            "work_people_in_charge_of                          int64\n",
            "profile_studies_level                            object\n",
            "profile_studies_level_state                      object\n",
            "profile_career                                   object\n",
            "profile_university                               object\n",
            "profile_specialization_courses                   object\n",
            "profile_open_source_contributions                object\n",
            "profile_programming_as_hobby                     object\n",
            "work_role                                        object\n",
            "tools_platform                                   object\n",
            "tools_programming_languages                      object\n",
            "tools_frameworks                                 object\n",
            "tools_data_bases                                 object\n",
            "tools_qa_testing                                 object\n",
            "tools_IDEs                                       object\n",
            "tools_work_pc_os                                 object\n",
            "tools_cellphone_os                               object\n",
            "work_on_call_duty                                object\n",
            "salary_on_call_duty_charge                      float64\n",
            "work_on_call_duty_charge_type                    object\n",
            "work_contract_type                               object\n",
            "salary_monthly_BRUTO                            float64\n",
            "salary_monthly_NETO                             float64\n",
            "salary_in_usd                                    object\n",
            "salary_satisfaction                               int64\n",
            "salary_comparison_last_semester                   int64\n",
            "salary_has_bonus                                 object\n",
            "salary_bonus_tied_to                             object\n",
            "salary_inflation_adjustment_2020                 object\n",
            "salary_percentage_inflation_adjustment_2020     float64\n",
            "salary_month_last_inflation_adjustment            int64\n",
            "work_has_violence_situations                     object\n",
            "profile_sexual_orientation                       object\n",
            "profile_has_disabilities                         object\n",
            "profile_has_disabilities_hiring_difficulties     object\n",
            "company_employee_number                          object\n",
            "company_main_activity                            object\n",
            "company_recommended                               int64\n",
            "company_diversity_policies                        int64\n",
            "company_extra_benefits                           object\n",
            "company_best_companies_city                      object\n",
            "cured_programming_languages                      object\n",
            "dtype: object\n",
            "       profile_age  profile_years_experience  salary_monthly_NETO\n",
            "count  2814.000000               2814.000000          2814.000000\n",
            "mean     34.794243                 11.329318        131048.985952\n",
            "std      12.177118                  7.014129         70340.368067\n",
            "min      19.000000                  0.000000         80000.000000\n",
            "25%      29.000000                  6.000000         91000.000000\n",
            "50%      34.000000                 10.000000        106000.000000\n",
            "75%      39.000000                 15.000000        137000.000000\n",
            "max     567.000000                115.000000        500000.000000\n"
          ]
        }
      ]
    },
    {
      "cell_type": "markdown",
      "metadata": {
        "id": "lkuHE2aZGHMO"
      },
      "source": [
        "## b) Asociación\n",
        "\n",
        "* Necesitamos decidir si sacar o no la columna de salario bruto. Para hacer la encuesta más simple. ¿Existe una correlación entre el salario bruto y el neto? ¿Qué abordaje y medidas usaría?"
      ]
    },
    {
      "cell_type": "markdown",
      "metadata": {
        "id": "7MZrbRJCm-ae"
      },
      "source": [
        "## c) Densidad condicional \n",
        "\n",
        "Estudie la distribución del salario según el nivel de estudio.\n",
        "\n",
        "Separe la población según el nivel de estudio (elija dos subpoblaciones numerosas) y grafique de manera comparativa ambos histogramas de la variable `'salary_monthly_NETO'`\n",
        "¿Considera que ambas variables son independientes?\n",
        "¿Qué analizaría al respecto?\n",
        "\n",
        "Calcule medidas de centralización y dispersión para cada subpoblación\n",
        "\n",
        "\n",
        "\n",
        "\n"
      ]
    },
    {
      "cell_type": "markdown",
      "metadata": {
        "id": "u8wgYxNiqVpE"
      },
      "source": [
        "## d) Densidad Conjunta condicional\n",
        "\n",
        "Elija dos variables numéricas y una categórica. \n",
        "Estudie la dispersión (scatterplot) de las dos variables discriminando en color por la variable categórica (ayuda: hue en seaborn)\n"
      ]
    }
  ]
}