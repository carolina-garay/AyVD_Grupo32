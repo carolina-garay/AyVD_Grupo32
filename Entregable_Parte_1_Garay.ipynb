{
  "nbformat": 4,
  "nbformat_minor": 0,
  "metadata": {
    "colab": {
      "name": "Entregable_Parte_1.ipynb",
      "provenance": [],
      "collapsed_sections": [],
      "include_colab_link": true
    },
    "kernelspec": {
      "name": "python3",
      "display_name": "Python 3"
    }
  },
  "cells": [
    {
      "cell_type": "markdown",
      "metadata": {
        "id": "view-in-github",
        "colab_type": "text"
      },
      "source": [
        "<a href=\"https://colab.research.google.com/github/carolina-garay/grupo_32/blob/main/Entregable_Parte_1_Garay.ipynb\" target=\"_parent\"><img src=\"https://colab.research.google.com/assets/colab-badge.svg\" alt=\"Open In Colab\"/></a>"
      ]
    },
    {
      "cell_type": "markdown",
      "metadata": {
        "id": "LYvAOR2VzHmW"
      },
      "source": [
        "\n",
        "**Diplomatura en Ciencia de Datos, Aprendizaje Automático y sus Aplicaciones**\n",
        "\n",
        "**Edición 2022**\n",
        "\n",
        "---\n",
        "## Trabajo práctico entregable - Parte 1"
      ]
    },
    {
      "cell_type": "markdown",
      "source": [
        "Carolina Garay\n"
      ],
      "metadata": {
        "id": "-ly-bOG44Itt"
      }
    },
    {
      "cell_type": "markdown",
      "source": [
        ""
      ],
      "metadata": {
        "id": "rcqmW8CG-v_G"
      }
    },
    {
      "cell_type": "code",
      "metadata": {
        "id": "Xwdfo7z20TUK"
      },
      "source": [
        "import io\n",
        "import matplotlib\n",
        "import matplotlib.pyplot as plt\n",
        "import numpy\n",
        "import pandas as pd\n",
        "import seaborn\n",
        "import plotly.express as px\n",
        "#from statistics import mode \n",
        "\n",
        "seaborn.set_context('talk')"
      ],
      "execution_count": 34,
      "outputs": []
    },
    {
      "cell_type": "markdown",
      "metadata": {
        "id": "XY2Hl-Ma07Nn"
      },
      "source": [
        "## Lectura del dataset\n",
        "\n",
        "En la notebook 00 se explican los detalles de la siguiente sección."
      ]
    },
    {
      "cell_type": "code",
      "metadata": {
        "id": "Vviv_sqXdR5W"
      },
      "source": [
        "url = 'https://cs.famaf.unc.edu.ar/~mteruel/datasets/diplodatos/sysarmy_survey_2020_processed.csv'\n",
        "df1 = pd.read_csv(url)"
      ],
      "execution_count": 35,
      "outputs": []
    },
    {
      "cell_type": "code",
      "metadata": {
        "id": "gckNHXXLktJ4"
      },
      "source": [
        ""
      ],
      "execution_count": 35,
      "outputs": []
    },
    {
      "cell_type": "code",
      "source": [
        "df1"
      ],
      "metadata": {
        "colab": {
          "base_uri": "https://localhost:8080/",
          "height": 772
        },
        "id": "2IBDrX4T-oM-",
        "outputId": "c318a7ed-463b-418f-928c-b448d19aee10"
      },
      "execution_count": 36,
      "outputs": [
        {
          "output_type": "execute_result",
          "data": {
            "text/plain": [
              "     profile_gender  profile_age work_country  \\\n",
              "0             Mujer           26    Argentina   \n",
              "1            Hombre           29    Argentina   \n",
              "2             Mujer           22    Argentina   \n",
              "3            Hombre           39    Argentina   \n",
              "4            Hombre           32    Argentina   \n",
              "...             ...          ...          ...   \n",
              "6090         Hombre           37    Argentina   \n",
              "6091         Hombre           38    Argentina   \n",
              "6092         Hombre           24    Argentina   \n",
              "6093         Hombre           28    Argentina   \n",
              "6094         Hombre           33    Argentina   \n",
              "\n",
              "                        work_province  profile_years_experience  \\\n",
              "0     Ciudad Autónoma de Buenos Aires                       3.0   \n",
              "1                          Corrientes                       5.0   \n",
              "2     Ciudad Autónoma de Buenos Aires                       2.0   \n",
              "3                          Corrientes                      15.0   \n",
              "4     Ciudad Autónoma de Buenos Aires                       9.0   \n",
              "...                               ...                       ...   \n",
              "6090  Ciudad Autónoma de Buenos Aires                      13.0   \n",
              "6091  Ciudad Autónoma de Buenos Aires                      12.0   \n",
              "6092  Ciudad Autónoma de Buenos Aires                       2.0   \n",
              "6093                         La Pampa                       5.0   \n",
              "6094                              GBA                       5.0   \n",
              "\n",
              "      work_years_in_company  work_years_in_current_position  \\\n",
              "0                       3.0                             3.0   \n",
              "1                       2.0                             2.0   \n",
              "2                       0.0                             0.0   \n",
              "3                      15.0                            13.0   \n",
              "4                       6.0                             6.0   \n",
              "...                     ...                             ...   \n",
              "6090                    6.0                             6.0   \n",
              "6091                    5.0                             5.0   \n",
              "6092                    2.0                             2.0   \n",
              "6093                    3.0                             2.0   \n",
              "6094                    5.0                             3.0   \n",
              "\n",
              "      work_people_in_charge_of profile_studies_level  \\\n",
              "0                            0         Universitario   \n",
              "1                            4         Universitario   \n",
              "2                            0            Secundario   \n",
              "3                            5              Posgrado   \n",
              "4                            0         Universitario   \n",
              "...                        ...                   ...   \n",
              "6090                         0             Terciario   \n",
              "6091                         0         Universitario   \n",
              "6092                         0             Terciario   \n",
              "6093                         0             Terciario   \n",
              "6094                         0             Terciario   \n",
              "\n",
              "     profile_studies_level_state  ... work_has_violence_situations  \\\n",
              "0                       En curso  ...         En mi trabajo actual   \n",
              "1                       En curso  ...                        Jamás   \n",
              "2                     Completado  ...       En un trabajo anterior   \n",
              "3                     Incompleto  ...         En mi trabajo actual   \n",
              "4                       En curso  ...                        Jamás   \n",
              "...                          ...  ...                          ...   \n",
              "6090                  Completado  ...         En mi trabajo actual   \n",
              "6091                    En curso  ...                        Jamás   \n",
              "6092                    En curso  ...                        Jamás   \n",
              "6093                    En curso  ...                        Jamás   \n",
              "6094                  Incompleto  ...                        Jamás   \n",
              "\n",
              "     profile_sexual_orientation profile_has_disabilities  \\\n",
              "0                    Homosexual                      NaN   \n",
              "1                  Heterosexual                   Visual   \n",
              "2              Bisexual o queer                      NaN   \n",
              "3                  Heterosexual                      NaN   \n",
              "4                  Heterosexual                      NaN   \n",
              "...                         ...                      ...   \n",
              "6090               Heterosexual                      NaN   \n",
              "6091               Heterosexual                      NaN   \n",
              "6092               Heterosexual                      NaN   \n",
              "6093               Heterosexual                      NaN   \n",
              "6094               Heterosexual                       no   \n",
              "\n",
              "     profile_has_disabilities_hiring_difficulties company_employee_number  \\\n",
              "0                                             NaN                501-1000   \n",
              "1                                              No                 201-500   \n",
              "2                                              No               2001-5000   \n",
              "3                                             NaN                501-1000   \n",
              "4                                             NaN                   11-50   \n",
              "...                                           ...                     ...   \n",
              "6090                                           No                501-1000   \n",
              "6091                                          NaN               2001-5000   \n",
              "6092                                          NaN                 201-500   \n",
              "6093                                           No                  51-100   \n",
              "6094                                           No                501-1000   \n",
              "\n",
              "                              company_main_activity company_recommended  \\\n",
              "0     Servicios / Consultoría de Software / Digital                   7   \n",
              "1                                  Otras industrias                   8   \n",
              "2                                  Otras industrias                   6   \n",
              "3                                  Otras industrias                   7   \n",
              "4     Servicios / Consultoría de Software / Digital                   6   \n",
              "...                                             ...                 ...   \n",
              "6090                               Otras industrias                   7   \n",
              "6091                               Otras industrias                   8   \n",
              "6092                    Producto basado en Software                   7   \n",
              "6093  Servicios / Consultoría de Software / Digital                   5   \n",
              "6094                               Otras industrias                   9   \n",
              "\n",
              "     company_diversity_policies  \\\n",
              "0                             2   \n",
              "1                             9   \n",
              "2                             9   \n",
              "3                             6   \n",
              "4                             6   \n",
              "...                         ...   \n",
              "6090                          8   \n",
              "6091                         10   \n",
              "6092                          9   \n",
              "6093                          7   \n",
              "6094                          7   \n",
              "\n",
              "                                 company_extra_benefits  \\\n",
              "0     Capacitaciones y/o cursos, Comidas pagas / sub...   \n",
              "1     Horarios flexibles, Stock options / RSUs, Viát...   \n",
              "2     Clases de gimnasia online, Comidas pagas / sub...   \n",
              "3     Abono de celular, Capacitaciones y/o cursos, C...   \n",
              "4     Clases de idiomas, Horarios flexibles, Vacacio...   \n",
              "...                                                 ...   \n",
              "6090                                           Viáticos   \n",
              "6091  Abono de celular, Capacitaciones y/o cursos, D...   \n",
              "6092  Capacitaciones y/o cursos, Clases de idiomas, ...   \n",
              "6093                          Capacitaciones y/o cursos   \n",
              "6094   Abono de celular, Comidas pagas / subvencionadas   \n",
              "\n",
              "     company_best_companies_city  \n",
              "0                            NaN  \n",
              "1                            NaN  \n",
              "2                            NaN  \n",
              "3                            NaN  \n",
              "4                            NaN  \n",
              "...                          ...  \n",
              "6090                         NaN  \n",
              "6091                         NaN  \n",
              "6092               Mercado Libre  \n",
              "6093                 Solo Nubity  \n",
              "6094                         NaN  \n",
              "\n",
              "[6095 rows x 48 columns]"
            ],
            "text/html": [
              "\n",
              "  <div id=\"df-dea15a6d-3a9b-4f93-ae10-6f4e18b21a2d\">\n",
              "    <div class=\"colab-df-container\">\n",
              "      <div>\n",
              "<style scoped>\n",
              "    .dataframe tbody tr th:only-of-type {\n",
              "        vertical-align: middle;\n",
              "    }\n",
              "\n",
              "    .dataframe tbody tr th {\n",
              "        vertical-align: top;\n",
              "    }\n",
              "\n",
              "    .dataframe thead th {\n",
              "        text-align: right;\n",
              "    }\n",
              "</style>\n",
              "<table border=\"1\" class=\"dataframe\">\n",
              "  <thead>\n",
              "    <tr style=\"text-align: right;\">\n",
              "      <th></th>\n",
              "      <th>profile_gender</th>\n",
              "      <th>profile_age</th>\n",
              "      <th>work_country</th>\n",
              "      <th>work_province</th>\n",
              "      <th>profile_years_experience</th>\n",
              "      <th>work_years_in_company</th>\n",
              "      <th>work_years_in_current_position</th>\n",
              "      <th>work_people_in_charge_of</th>\n",
              "      <th>profile_studies_level</th>\n",
              "      <th>profile_studies_level_state</th>\n",
              "      <th>...</th>\n",
              "      <th>work_has_violence_situations</th>\n",
              "      <th>profile_sexual_orientation</th>\n",
              "      <th>profile_has_disabilities</th>\n",
              "      <th>profile_has_disabilities_hiring_difficulties</th>\n",
              "      <th>company_employee_number</th>\n",
              "      <th>company_main_activity</th>\n",
              "      <th>company_recommended</th>\n",
              "      <th>company_diversity_policies</th>\n",
              "      <th>company_extra_benefits</th>\n",
              "      <th>company_best_companies_city</th>\n",
              "    </tr>\n",
              "  </thead>\n",
              "  <tbody>\n",
              "    <tr>\n",
              "      <th>0</th>\n",
              "      <td>Mujer</td>\n",
              "      <td>26</td>\n",
              "      <td>Argentina</td>\n",
              "      <td>Ciudad Autónoma de Buenos Aires</td>\n",
              "      <td>3.0</td>\n",
              "      <td>3.0</td>\n",
              "      <td>3.0</td>\n",
              "      <td>0</td>\n",
              "      <td>Universitario</td>\n",
              "      <td>En curso</td>\n",
              "      <td>...</td>\n",
              "      <td>En mi trabajo actual</td>\n",
              "      <td>Homosexual</td>\n",
              "      <td>NaN</td>\n",
              "      <td>NaN</td>\n",
              "      <td>501-1000</td>\n",
              "      <td>Servicios / Consultoría de Software / Digital</td>\n",
              "      <td>7</td>\n",
              "      <td>2</td>\n",
              "      <td>Capacitaciones y/o cursos, Comidas pagas / sub...</td>\n",
              "      <td>NaN</td>\n",
              "    </tr>\n",
              "    <tr>\n",
              "      <th>1</th>\n",
              "      <td>Hombre</td>\n",
              "      <td>29</td>\n",
              "      <td>Argentina</td>\n",
              "      <td>Corrientes</td>\n",
              "      <td>5.0</td>\n",
              "      <td>2.0</td>\n",
              "      <td>2.0</td>\n",
              "      <td>4</td>\n",
              "      <td>Universitario</td>\n",
              "      <td>En curso</td>\n",
              "      <td>...</td>\n",
              "      <td>Jamás</td>\n",
              "      <td>Heterosexual</td>\n",
              "      <td>Visual</td>\n",
              "      <td>No</td>\n",
              "      <td>201-500</td>\n",
              "      <td>Otras industrias</td>\n",
              "      <td>8</td>\n",
              "      <td>9</td>\n",
              "      <td>Horarios flexibles, Stock options / RSUs, Viát...</td>\n",
              "      <td>NaN</td>\n",
              "    </tr>\n",
              "    <tr>\n",
              "      <th>2</th>\n",
              "      <td>Mujer</td>\n",
              "      <td>22</td>\n",
              "      <td>Argentina</td>\n",
              "      <td>Ciudad Autónoma de Buenos Aires</td>\n",
              "      <td>2.0</td>\n",
              "      <td>0.0</td>\n",
              "      <td>0.0</td>\n",
              "      <td>0</td>\n",
              "      <td>Secundario</td>\n",
              "      <td>Completado</td>\n",
              "      <td>...</td>\n",
              "      <td>En un trabajo anterior</td>\n",
              "      <td>Bisexual o queer</td>\n",
              "      <td>NaN</td>\n",
              "      <td>No</td>\n",
              "      <td>2001-5000</td>\n",
              "      <td>Otras industrias</td>\n",
              "      <td>6</td>\n",
              "      <td>9</td>\n",
              "      <td>Clases de gimnasia online, Comidas pagas / sub...</td>\n",
              "      <td>NaN</td>\n",
              "    </tr>\n",
              "    <tr>\n",
              "      <th>3</th>\n",
              "      <td>Hombre</td>\n",
              "      <td>39</td>\n",
              "      <td>Argentina</td>\n",
              "      <td>Corrientes</td>\n",
              "      <td>15.0</td>\n",
              "      <td>15.0</td>\n",
              "      <td>13.0</td>\n",
              "      <td>5</td>\n",
              "      <td>Posgrado</td>\n",
              "      <td>Incompleto</td>\n",
              "      <td>...</td>\n",
              "      <td>En mi trabajo actual</td>\n",
              "      <td>Heterosexual</td>\n",
              "      <td>NaN</td>\n",
              "      <td>NaN</td>\n",
              "      <td>501-1000</td>\n",
              "      <td>Otras industrias</td>\n",
              "      <td>7</td>\n",
              "      <td>6</td>\n",
              "      <td>Abono de celular, Capacitaciones y/o cursos, C...</td>\n",
              "      <td>NaN</td>\n",
              "    </tr>\n",
              "    <tr>\n",
              "      <th>4</th>\n",
              "      <td>Hombre</td>\n",
              "      <td>32</td>\n",
              "      <td>Argentina</td>\n",
              "      <td>Ciudad Autónoma de Buenos Aires</td>\n",
              "      <td>9.0</td>\n",
              "      <td>6.0</td>\n",
              "      <td>6.0</td>\n",
              "      <td>0</td>\n",
              "      <td>Universitario</td>\n",
              "      <td>En curso</td>\n",
              "      <td>...</td>\n",
              "      <td>Jamás</td>\n",
              "      <td>Heterosexual</td>\n",
              "      <td>NaN</td>\n",
              "      <td>NaN</td>\n",
              "      <td>11-50</td>\n",
              "      <td>Servicios / Consultoría de Software / Digital</td>\n",
              "      <td>6</td>\n",
              "      <td>6</td>\n",
              "      <td>Clases de idiomas, Horarios flexibles, Vacacio...</td>\n",
              "      <td>NaN</td>\n",
              "    </tr>\n",
              "    <tr>\n",
              "      <th>...</th>\n",
              "      <td>...</td>\n",
              "      <td>...</td>\n",
              "      <td>...</td>\n",
              "      <td>...</td>\n",
              "      <td>...</td>\n",
              "      <td>...</td>\n",
              "      <td>...</td>\n",
              "      <td>...</td>\n",
              "      <td>...</td>\n",
              "      <td>...</td>\n",
              "      <td>...</td>\n",
              "      <td>...</td>\n",
              "      <td>...</td>\n",
              "      <td>...</td>\n",
              "      <td>...</td>\n",
              "      <td>...</td>\n",
              "      <td>...</td>\n",
              "      <td>...</td>\n",
              "      <td>...</td>\n",
              "      <td>...</td>\n",
              "      <td>...</td>\n",
              "    </tr>\n",
              "    <tr>\n",
              "      <th>6090</th>\n",
              "      <td>Hombre</td>\n",
              "      <td>37</td>\n",
              "      <td>Argentina</td>\n",
              "      <td>Ciudad Autónoma de Buenos Aires</td>\n",
              "      <td>13.0</td>\n",
              "      <td>6.0</td>\n",
              "      <td>6.0</td>\n",
              "      <td>0</td>\n",
              "      <td>Terciario</td>\n",
              "      <td>Completado</td>\n",
              "      <td>...</td>\n",
              "      <td>En mi trabajo actual</td>\n",
              "      <td>Heterosexual</td>\n",
              "      <td>NaN</td>\n",
              "      <td>No</td>\n",
              "      <td>501-1000</td>\n",
              "      <td>Otras industrias</td>\n",
              "      <td>7</td>\n",
              "      <td>8</td>\n",
              "      <td>Viáticos</td>\n",
              "      <td>NaN</td>\n",
              "    </tr>\n",
              "    <tr>\n",
              "      <th>6091</th>\n",
              "      <td>Hombre</td>\n",
              "      <td>38</td>\n",
              "      <td>Argentina</td>\n",
              "      <td>Ciudad Autónoma de Buenos Aires</td>\n",
              "      <td>12.0</td>\n",
              "      <td>5.0</td>\n",
              "      <td>5.0</td>\n",
              "      <td>0</td>\n",
              "      <td>Universitario</td>\n",
              "      <td>En curso</td>\n",
              "      <td>...</td>\n",
              "      <td>Jamás</td>\n",
              "      <td>Heterosexual</td>\n",
              "      <td>NaN</td>\n",
              "      <td>NaN</td>\n",
              "      <td>2001-5000</td>\n",
              "      <td>Otras industrias</td>\n",
              "      <td>8</td>\n",
              "      <td>10</td>\n",
              "      <td>Abono de celular, Capacitaciones y/o cursos, D...</td>\n",
              "      <td>NaN</td>\n",
              "    </tr>\n",
              "    <tr>\n",
              "      <th>6092</th>\n",
              "      <td>Hombre</td>\n",
              "      <td>24</td>\n",
              "      <td>Argentina</td>\n",
              "      <td>Ciudad Autónoma de Buenos Aires</td>\n",
              "      <td>2.0</td>\n",
              "      <td>2.0</td>\n",
              "      <td>2.0</td>\n",
              "      <td>0</td>\n",
              "      <td>Terciario</td>\n",
              "      <td>En curso</td>\n",
              "      <td>...</td>\n",
              "      <td>Jamás</td>\n",
              "      <td>Heterosexual</td>\n",
              "      <td>NaN</td>\n",
              "      <td>NaN</td>\n",
              "      <td>201-500</td>\n",
              "      <td>Producto basado en Software</td>\n",
              "      <td>7</td>\n",
              "      <td>9</td>\n",
              "      <td>Capacitaciones y/o cursos, Clases de idiomas, ...</td>\n",
              "      <td>Mercado Libre</td>\n",
              "    </tr>\n",
              "    <tr>\n",
              "      <th>6093</th>\n",
              "      <td>Hombre</td>\n",
              "      <td>28</td>\n",
              "      <td>Argentina</td>\n",
              "      <td>La Pampa</td>\n",
              "      <td>5.0</td>\n",
              "      <td>3.0</td>\n",
              "      <td>2.0</td>\n",
              "      <td>0</td>\n",
              "      <td>Terciario</td>\n",
              "      <td>En curso</td>\n",
              "      <td>...</td>\n",
              "      <td>Jamás</td>\n",
              "      <td>Heterosexual</td>\n",
              "      <td>NaN</td>\n",
              "      <td>No</td>\n",
              "      <td>51-100</td>\n",
              "      <td>Servicios / Consultoría de Software / Digital</td>\n",
              "      <td>5</td>\n",
              "      <td>7</td>\n",
              "      <td>Capacitaciones y/o cursos</td>\n",
              "      <td>Solo Nubity</td>\n",
              "    </tr>\n",
              "    <tr>\n",
              "      <th>6094</th>\n",
              "      <td>Hombre</td>\n",
              "      <td>33</td>\n",
              "      <td>Argentina</td>\n",
              "      <td>GBA</td>\n",
              "      <td>5.0</td>\n",
              "      <td>5.0</td>\n",
              "      <td>3.0</td>\n",
              "      <td>0</td>\n",
              "      <td>Terciario</td>\n",
              "      <td>Incompleto</td>\n",
              "      <td>...</td>\n",
              "      <td>Jamás</td>\n",
              "      <td>Heterosexual</td>\n",
              "      <td>no</td>\n",
              "      <td>No</td>\n",
              "      <td>501-1000</td>\n",
              "      <td>Otras industrias</td>\n",
              "      <td>9</td>\n",
              "      <td>7</td>\n",
              "      <td>Abono de celular, Comidas pagas / subvencionadas</td>\n",
              "      <td>NaN</td>\n",
              "    </tr>\n",
              "  </tbody>\n",
              "</table>\n",
              "<p>6095 rows × 48 columns</p>\n",
              "</div>\n",
              "      <button class=\"colab-df-convert\" onclick=\"convertToInteractive('df-dea15a6d-3a9b-4f93-ae10-6f4e18b21a2d')\"\n",
              "              title=\"Convert this dataframe to an interactive table.\"\n",
              "              style=\"display:none;\">\n",
              "        \n",
              "  <svg xmlns=\"http://www.w3.org/2000/svg\" height=\"24px\"viewBox=\"0 0 24 24\"\n",
              "       width=\"24px\">\n",
              "    <path d=\"M0 0h24v24H0V0z\" fill=\"none\"/>\n",
              "    <path d=\"M18.56 5.44l.94 2.06.94-2.06 2.06-.94-2.06-.94-.94-2.06-.94 2.06-2.06.94zm-11 1L8.5 8.5l.94-2.06 2.06-.94-2.06-.94L8.5 2.5l-.94 2.06-2.06.94zm10 10l.94 2.06.94-2.06 2.06-.94-2.06-.94-.94-2.06-.94 2.06-2.06.94z\"/><path d=\"M17.41 7.96l-1.37-1.37c-.4-.4-.92-.59-1.43-.59-.52 0-1.04.2-1.43.59L10.3 9.45l-7.72 7.72c-.78.78-.78 2.05 0 2.83L4 21.41c.39.39.9.59 1.41.59.51 0 1.02-.2 1.41-.59l7.78-7.78 2.81-2.81c.8-.78.8-2.07 0-2.86zM5.41 20L4 18.59l7.72-7.72 1.47 1.35L5.41 20z\"/>\n",
              "  </svg>\n",
              "      </button>\n",
              "      \n",
              "  <style>\n",
              "    .colab-df-container {\n",
              "      display:flex;\n",
              "      flex-wrap:wrap;\n",
              "      gap: 12px;\n",
              "    }\n",
              "\n",
              "    .colab-df-convert {\n",
              "      background-color: #E8F0FE;\n",
              "      border: none;\n",
              "      border-radius: 50%;\n",
              "      cursor: pointer;\n",
              "      display: none;\n",
              "      fill: #1967D2;\n",
              "      height: 32px;\n",
              "      padding: 0 0 0 0;\n",
              "      width: 32px;\n",
              "    }\n",
              "\n",
              "    .colab-df-convert:hover {\n",
              "      background-color: #E2EBFA;\n",
              "      box-shadow: 0px 1px 2px rgba(60, 64, 67, 0.3), 0px 1px 3px 1px rgba(60, 64, 67, 0.15);\n",
              "      fill: #174EA6;\n",
              "    }\n",
              "\n",
              "    [theme=dark] .colab-df-convert {\n",
              "      background-color: #3B4455;\n",
              "      fill: #D2E3FC;\n",
              "    }\n",
              "\n",
              "    [theme=dark] .colab-df-convert:hover {\n",
              "      background-color: #434B5C;\n",
              "      box-shadow: 0px 1px 3px 1px rgba(0, 0, 0, 0.15);\n",
              "      filter: drop-shadow(0px 1px 2px rgba(0, 0, 0, 0.3));\n",
              "      fill: #FFFFFF;\n",
              "    }\n",
              "  </style>\n",
              "\n",
              "      <script>\n",
              "        const buttonEl =\n",
              "          document.querySelector('#df-dea15a6d-3a9b-4f93-ae10-6f4e18b21a2d button.colab-df-convert');\n",
              "        buttonEl.style.display =\n",
              "          google.colab.kernel.accessAllowed ? 'block' : 'none';\n",
              "\n",
              "        async function convertToInteractive(key) {\n",
              "          const element = document.querySelector('#df-dea15a6d-3a9b-4f93-ae10-6f4e18b21a2d');\n",
              "          const dataTable =\n",
              "            await google.colab.kernel.invokeFunction('convertToInteractive',\n",
              "                                                     [key], {});\n",
              "          if (!dataTable) return;\n",
              "\n",
              "          const docLinkHtml = 'Like what you see? Visit the ' +\n",
              "            '<a target=\"_blank\" href=https://colab.research.google.com/notebooks/data_table.ipynb>data table notebook</a>'\n",
              "            + ' to learn more about interactive tables.';\n",
              "          element.innerHTML = '';\n",
              "          dataTable['output_type'] = 'display_data';\n",
              "          await google.colab.output.renderOutput(dataTable, element);\n",
              "          const docLink = document.createElement('div');\n",
              "          docLink.innerHTML = docLinkHtml;\n",
              "          element.appendChild(docLink);\n",
              "        }\n",
              "      </script>\n",
              "    </div>\n",
              "  </div>\n",
              "  "
            ]
          },
          "metadata": {},
          "execution_count": 36
        }
      ]
    },
    {
      "cell_type": "markdown",
      "metadata": {
        "id": "-ZSQYANFHHgV"
      },
      "source": [
        "# Ejercicio 1 - Análisis descriptivo\n",
        "\n",
        "Responder a la pregunta: **¿Cuáles son los lenguajes de programación asociados a los mejores salarios?**\n",
        "\n",
        "Para ello:\n",
        "1. Seleccionar las columnas relevantes para analizar.\n",
        "2. Seleccionar las filas relevantes para analizar. Esto incluye la eliminación de valores extremos y erróneos, pero también puede enfocar el análisis en una sub-población. Por ejemplo, se pueden limitar a personas con un salario mayor que 10000 pesos, o a las personas que trabajan sólo en \"Data Science\", pero deben justificar su elección y reformular la pregunta inicial de ser necesario.\n",
        "  * Obtener una lista de los lenguajes de programación más populares. Decidir cuántos y cuáles seleccionan para incluir en el análisis.\n",
        "  * Para cada una de las otras columnas del punto anterior, elegir los rangos o valores seleccionan para incluir en el análisis.\n",
        "3. Seleccionar métricas que ayuden a responder la pregunta, y los métodos para analizarlas. Elegir UNA de las siguientes opciones:\n",
        "  * Comparar las distribuciones de salario para cada lenguaje utilizando visualizaciones. Como la visualización es el producto final, debe ser clara y mostrar información relevante.\n",
        "  * Comparar medidas de estadística descriptiva sobre la distribución de salario para cada lenguaje. Sean creativos, la estadística descriptiva nos permite decir cosas como: \"el 10% de los mejores sueldos los ganan, en su mayoría, programadores que saben kotlin!\" (donde *mayoría* es un término medio engañoso que sólo significa más del 50%). Para comparar múltiples lenguajes, les recomendamos usar también visualizaciones.\n",
        "  * Comparar probabilidades. Por ejemplo: \"Si sabés Python o Java, tenés un 30% más de chances de ganar arriba de 100K\".\n",
        "\n",
        "Si lo consideran necesario, realicen varias iteraciones. Es decir, si encuentran que las distribuciones de los lenguajes de programación que seleccionaron inicialmente no son muy diferentes, pueden re-hacer el análisis usando sólo los lenguajes de programación que son diferentes."
      ]
    },
    {
      "cell_type": "code",
      "metadata": {
        "id": "6dqTEr7cZgvl"
      },
      "source": [
        "# complete here if you want to include more columns\n",
        "relevant_columns = ['tools_programming_languages', 'salary_monthly_NETO']"
      ],
      "execution_count": 37,
      "outputs": []
    },
    {
      "cell_type": "code",
      "source": [
        "s_neto= 'salary_monthly_NETO'\n",
        "max_salario = df1[s_neto].max()\n",
        "med_salario = df1[s_neto].median()\n",
        "mod_salario = df1[s_neto].mode()\n"
      ],
      "metadata": {
        "id": "G3oy_zFWVSDh"
      },
      "execution_count": 38,
      "outputs": []
    },
    {
      "cell_type": "code",
      "source": [
        "df1.salary_monthly_NETO.mode()"
      ],
      "metadata": {
        "colab": {
          "base_uri": "https://localhost:8080/"
        },
        "id": "UHkqVK9x3WRG",
        "outputId": "f9a4aaf4-cfa8-41e3-abaf-3c7b42437723"
      },
      "execution_count": 39,
      "outputs": [
        {
          "output_type": "execute_result",
          "data": {
            "text/plain": [
              "0    80000.0\n",
              "dtype: float64"
            ]
          },
          "metadata": {},
          "execution_count": 39
        }
      ]
    },
    {
      "cell_type": "code",
      "source": [
        "print(\"salario máximo NETO:\",max_salario)\n",
        "print(\"mediana del salario NETO:\",med_salario)\n",
        "print(\"moda del salario NETO:\",mod_salario)"
      ],
      "metadata": {
        "colab": {
          "base_uri": "https://localhost:8080/"
        },
        "id": "zr2OEdHShZaq",
        "outputId": "cb3a8c2b-5961-47d7-ae9b-aecac8e47757"
      },
      "execution_count": 40,
      "outputs": [
        {
          "output_type": "stream",
          "name": "stdout",
          "text": [
            "salario máximo NETO: 2080000.0\n",
            "mediana del salario NETO: 78000.0\n",
            "moda del salario NETO: 0    80000.0\n",
            "dtype: float64\n"
          ]
        }
      ]
    },
    {
      "cell_type": "code",
      "source": [
        "#calculo de frecuencias\n",
        "cont1,cont2,cont3,cont4,cont4_a,cont4_b,cont5,cont6,cont7,cont8,cont9,cont10 = 0,0,0,0,0,0,0,0,0,0,0,0\n",
        "\n",
        "for i in range(1,len(df1)):\n",
        "  if (df1.loc[i,'salary_monthly_NETO'] ==80000):\n",
        "    cont1 = cont1 + 1\n",
        "\n",
        "for i in range(1,len(df1)):\n",
        "  if df1.loc[i,'salary_monthly_NETO'] == 1000000:\n",
        "    cont2 = cont2 + 1  \n",
        "\n",
        "for i in range(1,len(df1)):\n",
        "  if df1.loc[i,'salary_monthly_NETO'] ==200000:\n",
        "    cont3 = cont3 + 1\n",
        "\n",
        "for i in range(1,len(df1)):\n",
        "  if ((df1.loc[i,'salary_monthly_NETO'] >=80000) and (df1.loc[i,'salary_monthly_NETO'] <=90000)):\n",
        "    cont4= cont4 + 1\n",
        "\n",
        "for i in range(1,len(df1)):\n",
        "  if ((df1.loc[i,'salary_monthly_NETO'] >=90000) and (df1.loc[i,'salary_monthly_NETO'] <=100000)):\n",
        "    cont4_a= cont4_a + 1   \n",
        "\n",
        "for i in range(1,len(df1)):\n",
        "  if ((df1.loc[i,'salary_monthly_NETO'] >=100000) and (df1.loc[i,'salary_monthly_NETO'] <=200000)):\n",
        "    cont4_b= cont4_b + 1\n",
        "\n",
        "for i in range(1,len(df1)):\n",
        "  if ((df1.loc[i,'salary_monthly_NETO'] >=200000) and (df1.loc[i,'salary_monthly_NETO'] <=300000)):\n",
        "    cont5 = cont5 + 1\n",
        "\n",
        "for i in range(1,len(df1)):\n",
        "  if ((df1.loc[i,'salary_monthly_NETO'] >=300000) and (df1.loc[i,'salary_monthly_NETO'] <=400000)):\n",
        "    cont6 = cont6 + 1\n",
        "\n",
        "for i in range(1,len(df1)):\n",
        "   if ((df1.loc[i,'salary_monthly_NETO'] >=400000) and (df1.loc[i,'salary_monthly_NETO'] <=500000)):\n",
        "     cont7 = cont7 + 1   \n",
        "for i in range(1,len(df1)):\n",
        "  if ((df1.loc[i,'salary_monthly_NETO'] >=500000) and (df1.loc[i,'salary_monthly_NETO'] <=600000)):\n",
        "    cont8 = cont8 + 1\n",
        "\n",
        "for i in range(1,len(df1)):\n",
        "  if ((df1.loc[i,'salary_monthly_NETO'] >=600000) and (df1.loc[i,'salary_monthly_NETO'] <=700000)):\n",
        "    cont9 = cont9 + 1\n",
        "\n",
        "for i in range(1,len(df1)):\n",
        "  if ((df1.loc[i,'salary_monthly_NETO'] >=700000) and (df1.loc[i,'salary_monthly_NETO'] <=800000)):\n",
        "    cont10 =cont10 +1    "
      ],
      "metadata": {
        "id": "CdaKipg4-4sC"
      },
      "execution_count": 62,
      "outputs": []
    },
    {
      "cell_type": "code",
      "source": [
        "print(\"moda, Cantidad de personas con sueldos igual a 80mil:\",cont1) \n",
        "print(\"cantidad de personas con salarios igual a 100mil:\",cont2)\n",
        "print(\"Cantidad de personas con sueldos igual a $200mil:\", cont3)\n",
        "print(\"Cantidad de personas con sueldos entre $80mil y $90mil:\", cont4)\n",
        "print(\"Cantidad de personas con sueldos entre $90mil y $1000mil:\", cont4_a)\n",
        "print(\"Cantidad de personas con sueldos entre $100mil y $200mil:\", cont4_b)\n",
        "print(\"Cantidad de personas con sueldos entre $200mil y $300mil:\", cont5)\n",
        "print(\"Cantidad de personas con sueldos entre $300mil y $400mil:\", cont6)\n",
        "print(\"Cantidad de personas con sueldos entre $400mil y $500mil:\", cont7)\n",
        "print(\"Cantidad de personas con sueldos entre $500mil y $600mil:\", cont8)\n",
        "print(\"Cantidad de personas con sueldos entre $600mil y $700mil:\", cont9)\n",
        "print(\"Cantidad de personas con sueldos entre $700mil y $800mil:\", cont10)"
      ],
      "metadata": {
        "colab": {
          "base_uri": "https://localhost:8080/"
        },
        "id": "_ytb-fzrFZQr",
        "outputId": "6efd7b78-c3fd-4534-9a1e-05efae8a008d"
      },
      "execution_count": 63,
      "outputs": [
        {
          "output_type": "stream",
          "name": "stdout",
          "text": [
            "moda, Cantidad de personas con sueldos igual a 80mil: 149\n",
            "cantidad de personas con salarios igual a 100mil: 3\n",
            "Cantidad de personas con sueldos igual a $200mil: 41\n",
            "Cantidad de personas con sueldos entre $80mil y $90mil: 691\n",
            "Cantidad de personas con sueldos entre $90mil y $1000mil: 630\n",
            "Cantidad de personas con sueldos entre $100mil y $200mil: 1480\n",
            "Cantidad de personas con sueldos entre $200mil y $300mil: 195\n",
            "Cantidad de personas con sueldos entre $300mil y $400mil: 92\n",
            "Cantidad de personas con sueldos entre $400mil y $500mil: 52\n",
            "Cantidad de personas con sueldos entre $500mil y $600mil: 28\n",
            "Cantidad de personas con sueldos entre $600mil y $700mil: 9\n",
            "Cantidad de personas con sueldos entre $700mil y $800mil: 6\n"
          ]
        }
      ]
    },
    {
      "cell_type": "code",
      "source": [
        "#considerando el análisis anterior, elijo población entre 100mil y 500mil (filas relevantes)\n",
        "df= df1[(df1['salary_monthly_NETO'] >=100000) & (df1['salary_monthly_NETO'] <= 500000)]\n",
        "\n",
        "seaborn.displot(df1[s_neto], aspect=2, bins=100) \n",
        "## para evitar la notación científica en las etiquetas\n",
        "plt.ticklabel_format(style='plain', axis='x')\n",
        "plt.xlabel('salario mensual neto', fontsize=16)\n",
        "\n",
        "seaborn.displot(df[s_neto], aspect=2, bins=100) \n",
        "## para evitar la notación científica en las etiquetas\n",
        "plt.ticklabel_format(style='plain', axis='x')\n",
        "plt.xlabel('salario mensual neto (subpoblación)',fontsize=16)\n",
        "\n",
        "\n"
      ],
      "metadata": {
        "colab": {
          "base_uri": "https://localhost:8080/",
          "height": 699
        },
        "id": "986EZ4S_IO6z",
        "outputId": "1f45d4f3-5106-4122-b35e-cf6f8cd288b3"
      },
      "execution_count": 43,
      "outputs": [
        {
          "output_type": "execute_result",
          "data": {
            "text/plain": [
              "Text(0.5, 15.440000000000026, 'salario mensual neto (subpoblación)')"
            ]
          },
          "metadata": {},
          "execution_count": 43
        },
        {
          "output_type": "display_data",
          "data": {
            "text/plain": [
              "<Figure size 720x360 with 1 Axes>"
            ],
            "image/png": "[encoded data removed]"
          },
          "metadata": {
            "needs_background": "light"
          }
        },
        {
          "output_type": "display_data",
          "data": {
            "text/plain": [
              "<Figure size 720x360 with 1 Axes>"
            ],
            "image/png": "[encoded data removed]"
          },
          "metadata": {
            "needs_background": "light"
          }
        }
      ]
    },
    {
      "cell_type": "code",
      "source": [
        "df1.shape"
      ],
      "metadata": {
        "colab": {
          "base_uri": "https://localhost:8080/"
        },
        "id": "Ah6_xHCeQ1NP",
        "outputId": "7eba374f-08c7-4d35-f4cd-6d6ccfc7ae45"
      },
      "execution_count": 44,
      "outputs": [
        {
          "output_type": "execute_result",
          "data": {
            "text/plain": [
              "(6095, 48)"
            ]
          },
          "metadata": {},
          "execution_count": 44
        }
      ]
    },
    {
      "cell_type": "code",
      "source": [
        "df.shape"
      ],
      "metadata": {
        "colab": {
          "base_uri": "https://localhost:8080/"
        },
        "id": "Bs5Yyz0nQ4eA",
        "outputId": "d3f8c3b5-8884-40c5-f4b9-75994bc91e38"
      },
      "execution_count": 45,
      "outputs": [
        {
          "output_type": "execute_result",
          "data": {
            "text/plain": [
              "(1748, 48)"
            ]
          },
          "metadata": {},
          "execution_count": 45
        }
      ]
    },
    {
      "cell_type": "markdown",
      "metadata": {
        "id": "OoGgzMvuEocM"
      },
      "source": [
        "### Conteo de frecuencias de los lenguajes de programación\n",
        "\n",
        "La columna que contiene información sobre los lenguajes de programación utilizados es `tools_programming_languages`. Sus valores son strings con los lenguajes seleccionados separados por comas.\n",
        "\n"
      ]
    },
    {
      "cell_type": "code",
      "metadata": {
        "colab": {
          "base_uri": "https://localhost:8080/"
        },
        "id": "J7AB2Ty8SvNl",
        "outputId": "028821b8-01a1-42d9-b499-d194849dd356"
      },
      "source": [
        "df.tools_programming_languages[:3]"
      ],
      "execution_count": 46,
      "outputs": [
        {
          "output_type": "execute_result",
          "data": {
            "text/plain": [
              "2                                              Ninguno\n",
              "3    Bash/Shell, C, CSS, HTML, Java, Javascript, PH...\n",
              "4               CSS, HTML, Javascript, SQL, TypeScript\n",
              "Name: tools_programming_languages, dtype: object"
            ]
          },
          "metadata": {},
          "execution_count": 46
        }
      ]
    },
    {
      "cell_type": "markdown",
      "metadata": {
        "id": "l8bYmvMhSroH"
      },
      "source": [
        "Las siguientes celdas de código separan estos lenguajes de programación y cuentan la frecuencia con la que aparecen.\n",
        "\n",
        "No es necesario entender este código en profundidad, aunque sí es un buen ejercicio."
      ]
    },
    {
      "cell_type": "code",
      "metadata": {
        "colab": {
          "base_uri": "https://localhost:8080/",
          "height": 495
        },
        "id": "PAQ81x3iUP_N",
        "outputId": "2263ba0f-7154-4855-e66c-0db38121b32f"
      },
      "source": [
        "# Convert the comma-separated string of languages to a list of string.\n",
        "# Remove 'ninguno de los anteriores' option, spaces and training commas.\n",
        "def split_languages(languages_str):\n",
        "  if not isinstance(languages_str, str):\n",
        "    return []\n",
        "  # Remove 'other' option\n",
        "  languages_str = languages_str.lower()\\\n",
        "    .replace('ninguno de los anteriores', '')\n",
        "  # Split string into list of items\n",
        "  # Remove spaces and commas for each item\n",
        "  return [lang.strip().replace(',', '')\n",
        "          for lang in languages_str.split()]\n",
        "\n",
        "# Create a new column with the list of languages\n",
        "df.loc[:, 'cured_programming_languages'] = df.tools_programming_languages\\\n",
        "    .apply(split_languages)\n",
        "if 'cured_programming_languages' not in relevant_columns:\n",
        "    relevant_columns.append('cured_programming_languages') \n",
        "\n",
        "# Duplicate each row of df for each programming language\n",
        "# mentioned in the response.\n",
        "# We only include in df_lang the columns we are going to analyze later, so we\n",
        "# don't duplicate innecesary information.\n",
        "df_lang = df.cured_programming_languages\\\n",
        "    .apply(pd.Series).stack()\\\n",
        "    .reset_index(level=-1, drop=True).to_frame()\\\n",
        "    .join(df[relevant_columns])\\\n",
        "    .rename(columns={0: 'programming_language'})\n",
        "# Horrible programming style! But a lot of data science code can be written with\n",
        "# as concatenations of functions (pipelines), and there's no elegant way of\n",
        "# doing that on Python.\n",
        "df_lang[:10]"
      ],
      "execution_count": 47,
      "outputs": [
        {
          "output_type": "stream",
          "name": "stderr",
          "text": [
            "/usr/local/lib/python3.7/dist-packages/pandas/core/indexing.py:1667: SettingWithCopyWarning:\n",
            "\n",
            "\n",
            "A value is trying to be set on a copy of a slice from a DataFrame.\n",
            "Try using .loc[row_indexer,col_indexer] = value instead\n",
            "\n",
            "See the caveats in the documentation: https://pandas.pydata.org/pandas-docs/stable/user_guide/indexing.html#returning-a-view-versus-a-copy\n",
            "\n"
          ]
        },
        {
          "output_type": "execute_result",
          "data": {
            "text/plain": [
              "  programming_language                        tools_programming_languages  \\\n",
              "2              ninguno                                            Ninguno   \n",
              "3           bash/shell  Bash/Shell, C, CSS, HTML, Java, Javascript, PH...   \n",
              "3                    c  Bash/Shell, C, CSS, HTML, Java, Javascript, PH...   \n",
              "3                  css  Bash/Shell, C, CSS, HTML, Java, Javascript, PH...   \n",
              "3                 html  Bash/Shell, C, CSS, HTML, Java, Javascript, PH...   \n",
              "3                 java  Bash/Shell, C, CSS, HTML, Java, Javascript, PH...   \n",
              "3           javascript  Bash/Shell, C, CSS, HTML, Java, Javascript, PH...   \n",
              "3                  php  Bash/Shell, C, CSS, HTML, Java, Javascript, PH...   \n",
              "3               python  Bash/Shell, C, CSS, HTML, Java, Javascript, PH...   \n",
              "3                  sql  Bash/Shell, C, CSS, HTML, Java, Javascript, PH...   \n",
              "\n",
              "   salary_monthly_NETO                        cured_programming_languages  \n",
              "2             127000.0                                          [ninguno]  \n",
              "3             102000.0  [bash/shell, c, css, html, java, javascript, p...  \n",
              "3             102000.0  [bash/shell, c, css, html, java, javascript, p...  \n",
              "3             102000.0  [bash/shell, c, css, html, java, javascript, p...  \n",
              "3             102000.0  [bash/shell, c, css, html, java, javascript, p...  \n",
              "3             102000.0  [bash/shell, c, css, html, java, javascript, p...  \n",
              "3             102000.0  [bash/shell, c, css, html, java, javascript, p...  \n",
              "3             102000.0  [bash/shell, c, css, html, java, javascript, p...  \n",
              "3             102000.0  [bash/shell, c, css, html, java, javascript, p...  \n",
              "3             102000.0  [bash/shell, c, css, html, java, javascript, p...  "
            ],
            "text/html": [
              "\n",
              "  <div id=\"df-ff9f1db0-0b62-4d37-b210-34072b057227\">\n",
              "    <div class=\"colab-df-container\">\n",
              "      <div>\n",
              "<style scoped>\n",
              "    .dataframe tbody tr th:only-of-type {\n",
              "        vertical-align: middle;\n",
              "    }\n",
              "\n",
              "    .dataframe tbody tr th {\n",
              "        vertical-align: top;\n",
              "    }\n",
              "\n",
              "    .dataframe thead th {\n",
              "        text-align: right;\n",
              "    }\n",
              "</style>\n",
              "<table border=\"1\" class=\"dataframe\">\n",
              "  <thead>\n",
              "    <tr style=\"text-align: right;\">\n",
              "      <th></th>\n",
              "      <th>programming_language</th>\n",
              "      <th>tools_programming_languages</th>\n",
              "      <th>salary_monthly_NETO</th>\n",
              "      <th>cured_programming_languages</th>\n",
              "    </tr>\n",
              "  </thead>\n",
              "  <tbody>\n",
              "    <tr>\n",
              "      <th>2</th>\n",
              "      <td>ninguno</td>\n",
              "      <td>Ninguno</td>\n",
              "      <td>127000.0</td>\n",
              "      <td>[ninguno]</td>\n",
              "    </tr>\n",
              "    <tr>\n",
              "      <th>3</th>\n",
              "      <td>bash/shell</td>\n",
              "      <td>Bash/Shell, C, CSS, HTML, Java, Javascript, PH...</td>\n",
              "      <td>102000.0</td>\n",
              "      <td>[bash/shell, c, css, html, java, javascript, p...</td>\n",
              "    </tr>\n",
              "    <tr>\n",
              "      <th>3</th>\n",
              "      <td>c</td>\n",
              "      <td>Bash/Shell, C, CSS, HTML, Java, Javascript, PH...</td>\n",
              "      <td>102000.0</td>\n",
              "      <td>[bash/shell, c, css, html, java, javascript, p...</td>\n",
              "    </tr>\n",
              "    <tr>\n",
              "      <th>3</th>\n",
              "      <td>css</td>\n",
              "      <td>Bash/Shell, C, CSS, HTML, Java, Javascript, PH...</td>\n",
              "      <td>102000.0</td>\n",
              "      <td>[bash/shell, c, css, html, java, javascript, p...</td>\n",
              "    </tr>\n",
              "    <tr>\n",
              "      <th>3</th>\n",
              "      <td>html</td>\n",
              "      <td>Bash/Shell, C, CSS, HTML, Java, Javascript, PH...</td>\n",
              "      <td>102000.0</td>\n",
              "      <td>[bash/shell, c, css, html, java, javascript, p...</td>\n",
              "    </tr>\n",
              "    <tr>\n",
              "      <th>3</th>\n",
              "      <td>java</td>\n",
              "      <td>Bash/Shell, C, CSS, HTML, Java, Javascript, PH...</td>\n",
              "      <td>102000.0</td>\n",
              "      <td>[bash/shell, c, css, html, java, javascript, p...</td>\n",
              "    </tr>\n",
              "    <tr>\n",
              "      <th>3</th>\n",
              "      <td>javascript</td>\n",
              "      <td>Bash/Shell, C, CSS, HTML, Java, Javascript, PH...</td>\n",
              "      <td>102000.0</td>\n",
              "      <td>[bash/shell, c, css, html, java, javascript, p...</td>\n",
              "    </tr>\n",
              "    <tr>\n",
              "      <th>3</th>\n",
              "      <td>php</td>\n",
              "      <td>Bash/Shell, C, CSS, HTML, Java, Javascript, PH...</td>\n",
              "      <td>102000.0</td>\n",
              "      <td>[bash/shell, c, css, html, java, javascript, p...</td>\n",
              "    </tr>\n",
              "    <tr>\n",
              "      <th>3</th>\n",
              "      <td>python</td>\n",
              "      <td>Bash/Shell, C, CSS, HTML, Java, Javascript, PH...</td>\n",
              "      <td>102000.0</td>\n",
              "      <td>[bash/shell, c, css, html, java, javascript, p...</td>\n",
              "    </tr>\n",
              "    <tr>\n",
              "      <th>3</th>\n",
              "      <td>sql</td>\n",
              "      <td>Bash/Shell, C, CSS, HTML, Java, Javascript, PH...</td>\n",
              "      <td>102000.0</td>\n",
              "      <td>[bash/shell, c, css, html, java, javascript, p...</td>\n",
              "    </tr>\n",
              "  </tbody>\n",
              "</table>\n",
              "</div>\n",
              "      <button class=\"colab-df-convert\" onclick=\"convertToInteractive('df-ff9f1db0-0b62-4d37-b210-34072b057227')\"\n",
              "              title=\"Convert this dataframe to an interactive table.\"\n",
              "              style=\"display:none;\">\n",
              "        \n",
              "  <svg xmlns=\"http://www.w3.org/2000/svg\" height=\"24px\"viewBox=\"0 0 24 24\"\n",
              "       width=\"24px\">\n",
              "    <path d=\"M0 0h24v24H0V0z\" fill=\"none\"/>\n",
              "    <path d=\"M18.56 5.44l.94 2.06.94-2.06 2.06-.94-2.06-.94-.94-2.06-.94 2.06-2.06.94zm-11 1L8.5 8.5l.94-2.06 2.06-.94-2.06-.94L8.5 2.5l-.94 2.06-2.06.94zm10 10l.94 2.06.94-2.06 2.06-.94-2.06-.94-.94-2.06-.94 2.06-2.06.94z\"/><path d=\"M17.41 7.96l-1.37-1.37c-.4-.4-.92-.59-1.43-.59-.52 0-1.04.2-1.43.59L10.3 9.45l-7.72 7.72c-.78.78-.78 2.05 0 2.83L4 21.41c.39.39.9.59 1.41.59.51 0 1.02-.2 1.41-.59l7.78-7.78 2.81-2.81c.8-.78.8-2.07 0-2.86zM5.41 20L4 18.59l7.72-7.72 1.47 1.35L5.41 20z\"/>\n",
              "  </svg>\n",
              "      </button>\n",
              "      \n",
              "  <style>\n",
              "    .colab-df-container {\n",
              "      display:flex;\n",
              "      flex-wrap:wrap;\n",
              "      gap: 12px;\n",
              "    }\n",
              "\n",
              "    .colab-df-convert {\n",
              "      background-color: #E8F0FE;\n",
              "      border: none;\n",
              "      border-radius: 50%;\n",
              "      cursor: pointer;\n",
              "      display: none;\n",
              "      fill: #1967D2;\n",
              "      height: 32px;\n",
              "      padding: 0 0 0 0;\n",
              "      width: 32px;\n",
              "    }\n",
              "\n",
              "    .colab-df-convert:hover {\n",
              "      background-color: #E2EBFA;\n",
              "      box-shadow: 0px 1px 2px rgba(60, 64, 67, 0.3), 0px 1px 3px 1px rgba(60, 64, 67, 0.15);\n",
              "      fill: #174EA6;\n",
              "    }\n",
              "\n",
              "    [theme=dark] .colab-df-convert {\n",
              "      background-color: #3B4455;\n",
              "      fill: #D2E3FC;\n",
              "    }\n",
              "\n",
              "    [theme=dark] .colab-df-convert:hover {\n",
              "      background-color: #434B5C;\n",
              "      box-shadow: 0px 1px 3px 1px rgba(0, 0, 0, 0.15);\n",
              "      filter: drop-shadow(0px 1px 2px rgba(0, 0, 0, 0.3));\n",
              "      fill: #FFFFFF;\n",
              "    }\n",
              "  </style>\n",
              "\n",
              "      <script>\n",
              "        const buttonEl =\n",
              "          document.querySelector('#df-ff9f1db0-0b62-4d37-b210-34072b057227 button.colab-df-convert');\n",
              "        buttonEl.style.display =\n",
              "          google.colab.kernel.accessAllowed ? 'block' : 'none';\n",
              "\n",
              "        async function convertToInteractive(key) {\n",
              "          const element = document.querySelector('#df-ff9f1db0-0b62-4d37-b210-34072b057227');\n",
              "          const dataTable =\n",
              "            await google.colab.kernel.invokeFunction('convertToInteractive',\n",
              "                                                     [key], {});\n",
              "          if (!dataTable) return;\n",
              "\n",
              "          const docLinkHtml = 'Like what you see? Visit the ' +\n",
              "            '<a target=\"_blank\" href=https://colab.research.google.com/notebooks/data_table.ipynb>data table notebook</a>'\n",
              "            + ' to learn more about interactive tables.';\n",
              "          element.innerHTML = '';\n",
              "          dataTable['output_type'] = 'display_data';\n",
              "          await google.colab.output.renderOutput(dataTable, element);\n",
              "          const docLink = document.createElement('div');\n",
              "          docLink.innerHTML = docLinkHtml;\n",
              "          element.appendChild(docLink);\n",
              "        }\n",
              "      </script>\n",
              "    </div>\n",
              "  </div>\n",
              "  "
            ]
          },
          "metadata": {},
          "execution_count": 47
        }
      ]
    },
    {
      "cell_type": "markdown",
      "metadata": {
        "id": "qm8NUg-7UEue"
      },
      "source": [
        "En la columna `programming_language` se encuentra cada lenguaje por separado. Notar que si una respuesta contenía 3 lenguajes, como `\"HTML, Javascript, Python\"`, la fila ha sido replicada 3 veces. Por ello, hay tres filas con índice 1."
      ]
    },
    {
      "cell_type": "code",
      "metadata": {
        "colab": {
          "base_uri": "https://localhost:8080/",
          "height": 204
        },
        "id": "lNPb4tTvWCwv",
        "outputId": "ffddabd9-9a7f-49f5-c435-5bbbdcae825b"
      },
      "source": [
        "language_count = df_lang.programming_language.value_counts()\\\n",
        "    .reset_index()\\\n",
        "    .rename(columns={'index': 'language', 'programming_language': 'frequency'})\n",
        "language_count[:5]"
      ],
      "execution_count": 48,
      "outputs": [
        {
          "output_type": "execute_result",
          "data": {
            "text/plain": [
              "     language  frequency\n",
              "0  javascript        759\n",
              "1         sql        599\n",
              "2      python        548\n",
              "3        java        536\n",
              "4        html        475"
            ],
            "text/html": [
              "\n",
              "  <div id=\"df-98ee41b4-532e-4a03-8a09-35a168b6fc80\">\n",
              "    <div class=\"colab-df-container\">\n",
              "      <div>\n",
              "<style scoped>\n",
              "    .dataframe tbody tr th:only-of-type {\n",
              "        vertical-align: middle;\n",
              "    }\n",
              "\n",
              "    .dataframe tbody tr th {\n",
              "        vertical-align: top;\n",
              "    }\n",
              "\n",
              "    .dataframe thead th {\n",
              "        text-align: right;\n",
              "    }\n",
              "</style>\n",
              "<table border=\"1\" class=\"dataframe\">\n",
              "  <thead>\n",
              "    <tr style=\"text-align: right;\">\n",
              "      <th></th>\n",
              "      <th>language</th>\n",
              "      <th>frequency</th>\n",
              "    </tr>\n",
              "  </thead>\n",
              "  <tbody>\n",
              "    <tr>\n",
              "      <th>0</th>\n",
              "      <td>javascript</td>\n",
              "      <td>759</td>\n",
              "    </tr>\n",
              "    <tr>\n",
              "      <th>1</th>\n",
              "      <td>sql</td>\n",
              "      <td>599</td>\n",
              "    </tr>\n",
              "    <tr>\n",
              "      <th>2</th>\n",
              "      <td>python</td>\n",
              "      <td>548</td>\n",
              "    </tr>\n",
              "    <tr>\n",
              "      <th>3</th>\n",
              "      <td>java</td>\n",
              "      <td>536</td>\n",
              "    </tr>\n",
              "    <tr>\n",
              "      <th>4</th>\n",
              "      <td>html</td>\n",
              "      <td>475</td>\n",
              "    </tr>\n",
              "  </tbody>\n",
              "</table>\n",
              "</div>\n",
              "      <button class=\"colab-df-convert\" onclick=\"convertToInteractive('df-98ee41b4-532e-4a03-8a09-35a168b6fc80')\"\n",
              "              title=\"Convert this dataframe to an interactive table.\"\n",
              "              style=\"display:none;\">\n",
              "        \n",
              "  <svg xmlns=\"http://www.w3.org/2000/svg\" height=\"24px\"viewBox=\"0 0 24 24\"\n",
              "       width=\"24px\">\n",
              "    <path d=\"M0 0h24v24H0V0z\" fill=\"none\"/>\n",
              "    <path d=\"M18.56 5.44l.94 2.06.94-2.06 2.06-.94-2.06-.94-.94-2.06-.94 2.06-2.06.94zm-11 1L8.5 8.5l.94-2.06 2.06-.94-2.06-.94L8.5 2.5l-.94 2.06-2.06.94zm10 10l.94 2.06.94-2.06 2.06-.94-2.06-.94-.94-2.06-.94 2.06-2.06.94z\"/><path d=\"M17.41 7.96l-1.37-1.37c-.4-.4-.92-.59-1.43-.59-.52 0-1.04.2-1.43.59L10.3 9.45l-7.72 7.72c-.78.78-.78 2.05 0 2.83L4 21.41c.39.39.9.59 1.41.59.51 0 1.02-.2 1.41-.59l7.78-7.78 2.81-2.81c.8-.78.8-2.07 0-2.86zM5.41 20L4 18.59l7.72-7.72 1.47 1.35L5.41 20z\"/>\n",
              "  </svg>\n",
              "      </button>\n",
              "      \n",
              "  <style>\n",
              "    .colab-df-container {\n",
              "      display:flex;\n",
              "      flex-wrap:wrap;\n",
              "      gap: 12px;\n",
              "    }\n",
              "\n",
              "    .colab-df-convert {\n",
              "      background-color: #E8F0FE;\n",
              "      border: none;\n",
              "      border-radius: 50%;\n",
              "      cursor: pointer;\n",
              "      display: none;\n",
              "      fill: #1967D2;\n",
              "      height: 32px;\n",
              "      padding: 0 0 0 0;\n",
              "      width: 32px;\n",
              "    }\n",
              "\n",
              "    .colab-df-convert:hover {\n",
              "      background-color: #E2EBFA;\n",
              "      box-shadow: 0px 1px 2px rgba(60, 64, 67, 0.3), 0px 1px 3px 1px rgba(60, 64, 67, 0.15);\n",
              "      fill: #174EA6;\n",
              "    }\n",
              "\n",
              "    [theme=dark] .colab-df-convert {\n",
              "      background-color: #3B4455;\n",
              "      fill: #D2E3FC;\n",
              "    }\n",
              "\n",
              "    [theme=dark] .colab-df-convert:hover {\n",
              "      background-color: #434B5C;\n",
              "      box-shadow: 0px 1px 3px 1px rgba(0, 0, 0, 0.15);\n",
              "      filter: drop-shadow(0px 1px 2px rgba(0, 0, 0, 0.3));\n",
              "      fill: #FFFFFF;\n",
              "    }\n",
              "  </style>\n",
              "\n",
              "      <script>\n",
              "        const buttonEl =\n",
              "          document.querySelector('#df-98ee41b4-532e-4a03-8a09-35a168b6fc80 button.colab-df-convert');\n",
              "        buttonEl.style.display =\n",
              "          google.colab.kernel.accessAllowed ? 'block' : 'none';\n",
              "\n",
              "        async function convertToInteractive(key) {\n",
              "          const element = document.querySelector('#df-98ee41b4-532e-4a03-8a09-35a168b6fc80');\n",
              "          const dataTable =\n",
              "            await google.colab.kernel.invokeFunction('convertToInteractive',\n",
              "                                                     [key], {});\n",
              "          if (!dataTable) return;\n",
              "\n",
              "          const docLinkHtml = 'Like what you see? Visit the ' +\n",
              "            '<a target=\"_blank\" href=https://colab.research.google.com/notebooks/data_table.ipynb>data table notebook</a>'\n",
              "            + ' to learn more about interactive tables.';\n",
              "          element.innerHTML = '';\n",
              "          dataTable['output_type'] = 'display_data';\n",
              "          await google.colab.output.renderOutput(dataTable, element);\n",
              "          const docLink = document.createElement('div');\n",
              "          docLink.innerHTML = docLinkHtml;\n",
              "          element.appendChild(docLink);\n",
              "        }\n",
              "      </script>\n",
              "    </div>\n",
              "  </div>\n",
              "  "
            ]
          },
          "metadata": {},
          "execution_count": 48
        }
      ]
    },
    {
      "cell_type": "markdown",
      "metadata": {
        "id": "nThbJ1KeUgDo"
      },
      "source": [
        "## Filtrado de lenguajes relevantes\n",
        "\n",
        "El siguiente código permite seleccionar sólo las filas donde el valor de la columna `programming_language` se encuentre en la lista `interesting_languages`."
      ]
    },
    {
      "cell_type": "code",
      "metadata": {
        "colab": {
          "base_uri": "https://localhost:8080/",
          "height": 204
        },
        "id": "DEpVptnLZUQU",
        "outputId": "36aa0159-4310-414e-e4a2-6eff021b09f3"
      },
      "source": [
        "# El criterio de selección para los lenguajes es respecto a los 5 más frecuentes \n",
        "# obtenidos de la sección anterior\n",
        "\n",
        "interesting_languages = [\"javascript\", \"sql\", \"html\", \"python\", \"java\" ]\n",
        "filtered_df_lang = df_lang[df_lang.programming_language.isin(interesting_languages)]\n",
        "filtered_df_lang[:5]\n"
      ],
      "execution_count": 49,
      "outputs": [
        {
          "output_type": "execute_result",
          "data": {
            "text/plain": [
              "  programming_language                        tools_programming_languages  \\\n",
              "3                 html  Bash/Shell, C, CSS, HTML, Java, Javascript, PH...   \n",
              "3                 java  Bash/Shell, C, CSS, HTML, Java, Javascript, PH...   \n",
              "3           javascript  Bash/Shell, C, CSS, HTML, Java, Javascript, PH...   \n",
              "3               python  Bash/Shell, C, CSS, HTML, Java, Javascript, PH...   \n",
              "3                  sql  Bash/Shell, C, CSS, HTML, Java, Javascript, PH...   \n",
              "\n",
              "   salary_monthly_NETO                        cured_programming_languages  \n",
              "3             102000.0  [bash/shell, c, css, html, java, javascript, p...  \n",
              "3             102000.0  [bash/shell, c, css, html, java, javascript, p...  \n",
              "3             102000.0  [bash/shell, c, css, html, java, javascript, p...  \n",
              "3             102000.0  [bash/shell, c, css, html, java, javascript, p...  \n",
              "3             102000.0  [bash/shell, c, css, html, java, javascript, p...  "
            ],
            "text/html": [
              "\n",
              "  <div id=\"df-1c6c8e9d-46ad-4eb7-86b2-b5e7f9ca82be\">\n",
              "    <div class=\"colab-df-container\">\n",
              "      <div>\n",
              "<style scoped>\n",
              "    .dataframe tbody tr th:only-of-type {\n",
              "        vertical-align: middle;\n",
              "    }\n",
              "\n",
              "    .dataframe tbody tr th {\n",
              "        vertical-align: top;\n",
              "    }\n",
              "\n",
              "    .dataframe thead th {\n",
              "        text-align: right;\n",
              "    }\n",
              "</style>\n",
              "<table border=\"1\" class=\"dataframe\">\n",
              "  <thead>\n",
              "    <tr style=\"text-align: right;\">\n",
              "      <th></th>\n",
              "      <th>programming_language</th>\n",
              "      <th>tools_programming_languages</th>\n",
              "      <th>salary_monthly_NETO</th>\n",
              "      <th>cured_programming_languages</th>\n",
              "    </tr>\n",
              "  </thead>\n",
              "  <tbody>\n",
              "    <tr>\n",
              "      <th>3</th>\n",
              "      <td>html</td>\n",
              "      <td>Bash/Shell, C, CSS, HTML, Java, Javascript, PH...</td>\n",
              "      <td>102000.0</td>\n",
              "      <td>[bash/shell, c, css, html, java, javascript, p...</td>\n",
              "    </tr>\n",
              "    <tr>\n",
              "      <th>3</th>\n",
              "      <td>java</td>\n",
              "      <td>Bash/Shell, C, CSS, HTML, Java, Javascript, PH...</td>\n",
              "      <td>102000.0</td>\n",
              "      <td>[bash/shell, c, css, html, java, javascript, p...</td>\n",
              "    </tr>\n",
              "    <tr>\n",
              "      <th>3</th>\n",
              "      <td>javascript</td>\n",
              "      <td>Bash/Shell, C, CSS, HTML, Java, Javascript, PH...</td>\n",
              "      <td>102000.0</td>\n",
              "      <td>[bash/shell, c, css, html, java, javascript, p...</td>\n",
              "    </tr>\n",
              "    <tr>\n",
              "      <th>3</th>\n",
              "      <td>python</td>\n",
              "      <td>Bash/Shell, C, CSS, HTML, Java, Javascript, PH...</td>\n",
              "      <td>102000.0</td>\n",
              "      <td>[bash/shell, c, css, html, java, javascript, p...</td>\n",
              "    </tr>\n",
              "    <tr>\n",
              "      <th>3</th>\n",
              "      <td>sql</td>\n",
              "      <td>Bash/Shell, C, CSS, HTML, Java, Javascript, PH...</td>\n",
              "      <td>102000.0</td>\n",
              "      <td>[bash/shell, c, css, html, java, javascript, p...</td>\n",
              "    </tr>\n",
              "  </tbody>\n",
              "</table>\n",
              "</div>\n",
              "      <button class=\"colab-df-convert\" onclick=\"convertToInteractive('df-1c6c8e9d-46ad-4eb7-86b2-b5e7f9ca82be')\"\n",
              "              title=\"Convert this dataframe to an interactive table.\"\n",
              "              style=\"display:none;\">\n",
              "        \n",
              "  <svg xmlns=\"http://www.w3.org/2000/svg\" height=\"24px\"viewBox=\"0 0 24 24\"\n",
              "       width=\"24px\">\n",
              "    <path d=\"M0 0h24v24H0V0z\" fill=\"none\"/>\n",
              "    <path d=\"M18.56 5.44l.94 2.06.94-2.06 2.06-.94-2.06-.94-.94-2.06-.94 2.06-2.06.94zm-11 1L8.5 8.5l.94-2.06 2.06-.94-2.06-.94L8.5 2.5l-.94 2.06-2.06.94zm10 10l.94 2.06.94-2.06 2.06-.94-2.06-.94-.94-2.06-.94 2.06-2.06.94z\"/><path d=\"M17.41 7.96l-1.37-1.37c-.4-.4-.92-.59-1.43-.59-.52 0-1.04.2-1.43.59L10.3 9.45l-7.72 7.72c-.78.78-.78 2.05 0 2.83L4 21.41c.39.39.9.59 1.41.59.51 0 1.02-.2 1.41-.59l7.78-7.78 2.81-2.81c.8-.78.8-2.07 0-2.86zM5.41 20L4 18.59l7.72-7.72 1.47 1.35L5.41 20z\"/>\n",
              "  </svg>\n",
              "      </button>\n",
              "      \n",
              "  <style>\n",
              "    .colab-df-container {\n",
              "      display:flex;\n",
              "      flex-wrap:wrap;\n",
              "      gap: 12px;\n",
              "    }\n",
              "\n",
              "    .colab-df-convert {\n",
              "      background-color: #E8F0FE;\n",
              "      border: none;\n",
              "      border-radius: 50%;\n",
              "      cursor: pointer;\n",
              "      display: none;\n",
              "      fill: #1967D2;\n",
              "      height: 32px;\n",
              "      padding: 0 0 0 0;\n",
              "      width: 32px;\n",
              "    }\n",
              "\n",
              "    .colab-df-convert:hover {\n",
              "      background-color: #E2EBFA;\n",
              "      box-shadow: 0px 1px 2px rgba(60, 64, 67, 0.3), 0px 1px 3px 1px rgba(60, 64, 67, 0.15);\n",
              "      fill: #174EA6;\n",
              "    }\n",
              "\n",
              "    [theme=dark] .colab-df-convert {\n",
              "      background-color: #3B4455;\n",
              "      fill: #D2E3FC;\n",
              "    }\n",
              "\n",
              "    [theme=dark] .colab-df-convert:hover {\n",
              "      background-color: #434B5C;\n",
              "      box-shadow: 0px 1px 3px 1px rgba(0, 0, 0, 0.15);\n",
              "      filter: drop-shadow(0px 1px 2px rgba(0, 0, 0, 0.3));\n",
              "      fill: #FFFFFF;\n",
              "    }\n",
              "  </style>\n",
              "\n",
              "      <script>\n",
              "        const buttonEl =\n",
              "          document.querySelector('#df-1c6c8e9d-46ad-4eb7-86b2-b5e7f9ca82be button.colab-df-convert');\n",
              "        buttonEl.style.display =\n",
              "          google.colab.kernel.accessAllowed ? 'block' : 'none';\n",
              "\n",
              "        async function convertToInteractive(key) {\n",
              "          const element = document.querySelector('#df-1c6c8e9d-46ad-4eb7-86b2-b5e7f9ca82be');\n",
              "          const dataTable =\n",
              "            await google.colab.kernel.invokeFunction('convertToInteractive',\n",
              "                                                     [key], {});\n",
              "          if (!dataTable) return;\n",
              "\n",
              "          const docLinkHtml = 'Like what you see? Visit the ' +\n",
              "            '<a target=\"_blank\" href=https://colab.research.google.com/notebooks/data_table.ipynb>data table notebook</a>'\n",
              "            + ' to learn more about interactive tables.';\n",
              "          element.innerHTML = '';\n",
              "          dataTable['output_type'] = 'display_data';\n",
              "          await google.colab.output.renderOutput(dataTable, element);\n",
              "          const docLink = document.createElement('div');\n",
              "          docLink.innerHTML = docLinkHtml;\n",
              "          element.appendChild(docLink);\n",
              "        }\n",
              "      </script>\n",
              "    </div>\n",
              "  </div>\n",
              "  "
            ]
          },
          "metadata": {},
          "execution_count": 49
        }
      ]
    },
    {
      "cell_type": "code",
      "source": [
        "plt.figure(figsize=(12, 4))\n",
        "seaborn.boxenplot(data=filtered_df_lang, x=s_neto, y='programming_language',\n",
        "                color='orangered')\n",
        "plt.ticklabel_format(style='plain', axis='x')"
      ],
      "metadata": {
        "colab": {
          "base_uri": "https://localhost:8080/",
          "height": 301
        },
        "id": "CQDu4ug0mwzk",
        "outputId": "e1ba2512-d38d-4fa6-dd0f-bf304d58a909"
      },
      "execution_count": 50,
      "outputs": [
        {
          "output_type": "display_data",
          "data": {
            "text/plain": [
              "<Figure size 864x288 with 1 Axes>"
            ],
            "image/png": "[encoded data removed]"
          },
          "metadata": {
            "needs_background": "light"
          }
        }
      ]
    },
    {
      "cell_type": "code",
      "source": [
        "# No entiendo porque no me los ordena de menor a mayor, si le especifiqué ascending True\n",
        "plt.figure(figsize=(12, 4))\n",
        "seaborn.barplot(data=filtered_df_lang.sort_values(by=[s_neto], ascending=True), x=s_neto, y='programming_language',\n",
        "                color='orangered')\n",
        "plt.ticklabel_format(style='plain', axis='x')"
      ],
      "metadata": {
        "colab": {
          "base_uri": "https://localhost:8080/",
          "height": 301
        },
        "id": "-oXKBRVDP1x8",
        "outputId": "004820d9-ed81-4367-c101-e291a72e9b53"
      },
      "execution_count": 51,
      "outputs": [
        {
          "output_type": "display_data",
          "data": {
            "text/plain": [
              "<Figure size 864x288 with 1 Axes>"
            ],
            "image/png": "[encoded data removed]"
          },
          "metadata": {
            "needs_background": "light"
          }
        }
      ]
    },
    {
      "cell_type": "code",
      "source": [
        "fig=px.histogram(filtered_df_lang, 'programming_language', title='histograma')\n",
        "fig.update_layout(bargap=0.4)\n",
        "fig.show()"
      ],
      "metadata": {
        "colab": {
          "base_uri": "https://localhost:8080/",
          "height": 542
        },
        "id": "YxK5hwlvhSIY",
        "outputId": "38a8195d-fcf7-4c2c-bec2-1c7026d38a90"
      },
      "execution_count": 57,
      "outputs": [
        {
          "output_type": "display_data",
          "data": {
            "text/html": [
              "<html>\n",
              "<head><meta charset=\"utf-8\" /></head>\n",
              "<body>\n",
              "    <div>            <script src=\"https://cdnjs.cloudflare.com/ajax/libs/mathjax/2.7.5/MathJax.js?config=TeX-AMS-MML_SVG\"></script><script type=\"text/javascript\">if (window.MathJax) {MathJax.Hub.Config({SVG: {font: \"STIX-Web\"}});}</script>                <script type=\"text/javascript\">window.PlotlyConfig = {MathJaxConfig: 'local'};</script>\n",
              "        <script src=\"https://cdn.plot.ly/plotly-2.8.3.min.js\"></script>                <div id=\"3e2111a8-241b-4b0d-930b-1ada7aa6ab2d\" class=\"plotly-graph-div\" style=\"height:525px; width:100%;\"></div>            <script type=\"text/javascript\">                                    window.PLOTLYENV=window.PLOTLYENV || {};                                    if (document.getElementById(\"3e2111a8-241b-4b0d-930b-1ada7aa6ab2d\")) {                    Plotly.newPlot(                        \"3e2111a8-241b-4b0d-930b-1ada7aa6ab2d\",                        [{\"alignmentgroup\":\"True\",\"bingroup\":\"x\",\"hovertemplate\":\"programming_language=%{x}<br>count=%{y}<extra></extra>\",\"legendgroup\":\"\",\"marker\":{\"color\":\"#636efa\",\"pattern\":{\"shape\":\"\"}},\"name\":\"\",\"offsetgroup\":\"\",\"orientation\":\"v\",\"showlegend\":false,\"x\":[\"html\",\"java\",\"javascript\",\"python\",\"sql\",\"html\",\"javascript\",\"sql\",\"html\",\"javascript\",\"sql\",\"java\",\"javascript\",\"javascript\",\"python\",\"sql\",\"python\",\"python\",\"java\",\"javascript\",\"python\",\"java\",\"java\",\"python\",\"javascript\",\"python\",\"html\",\"javascript\",\"sql\",\"python\",\"html\",\"javascript\",\"html\",\"java\",\"sql\",\"html\",\"java\",\"javascript\",\"python\",\"sql\",\"javascript\",\"html\",\"java\",\"javascript\",\"python\",\"sql\",\"html\",\"javascript\",\"html\",\"javascript\",\"sql\",\"java\",\"sql\",\"html\",\"python\",\"python\",\"python\",\"html\",\"javascript\",\"sql\",\"sql\",\"python\",\"python\",\"javascript\",\"sql\",\"java\",\"javascript\",\"sql\",\"java\",\"javascript\",\"html\",\"java\",\"javascript\",\"python\",\"html\",\"java\",\"python\",\"python\",\"java\",\"java\",\"javascript\",\"python\",\"python\",\"sql\",\"html\",\"java\",\"javascript\",\"python\",\"html\",\"java\",\"javascript\",\"python\",\"sql\",\"html\",\"javascript\",\"html\",\"java\",\"javascript\",\"python\",\"sql\",\"html\",\"javascript\",\"html\",\"javascript\",\"python\",\"html\",\"javascript\",\"python\",\"sql\",\"html\",\"javascript\",\"python\",\"sql\",\"javascript\",\"javascript\",\"python\",\"sql\",\"java\",\"javascript\",\"html\",\"javascript\",\"python\",\"html\",\"javascript\",\"python\",\"sql\",\"html\",\"javascript\",\"python\",\"python\",\"python\",\"html\",\"javascript\",\"python\",\"sql\",\"java\",\"javascript\",\"python\",\"python\",\"sql\",\"java\",\"html\",\"javascript\",\"python\",\"sql\",\"python\",\"python\",\"sql\",\"python\",\"python\",\"sql\",\"javascript\",\"python\",\"sql\",\"java\",\"javascript\",\"python\",\"java\",\"javascript\",\"python\",\"python\",\"javascript\",\"python\",\"sql\",\"python\",\"javascript\",\"python\",\"python\",\"html\",\"javascript\",\"java\",\"sql\",\"java\",\"java\",\"python\",\"sql\",\"python\",\"html\",\"javascript\",\"sql\",\"java\",\"html\",\"javascript\",\"java\",\"python\",\"javascript\",\"python\",\"sql\",\"python\",\"sql\",\"java\",\"python\",\"python\",\"java\",\"html\",\"javascript\",\"sql\",\"javascript\",\"python\",\"sql\",\"java\",\"javascript\",\"python\",\"html\",\"javascript\",\"sql\",\"javascript\",\"sql\",\"html\",\"javascript\",\"python\",\"html\",\"javascript\",\"java\",\"sql\",\"javascript\",\"javascript\",\"java\",\"javascript\",\"sql\",\"java\",\"java\",\"javascript\",\"python\",\"python\",\"sql\",\"html\",\"javascript\",\"sql\",\"java\",\"javascript\",\"java\",\"java\",\"python\",\"sql\",\"html\",\"javascript\",\"sql\",\"html\",\"javascript\",\"html\",\"javascript\",\"html\",\"java\",\"javascript\",\"html\",\"java\",\"javascript\",\"html\",\"java\",\"javascript\",\"sql\",\"python\",\"javascript\",\"python\",\"sql\",\"python\",\"sql\",\"javascript\",\"python\",\"java\",\"sql\",\"java\",\"python\",\"python\",\"sql\",\"java\",\"javascript\",\"html\",\"javascript\",\"sql\",\"sql\",\"html\",\"javascript\",\"sql\",\"python\",\"java\",\"java\",\"javascript\",\"python\",\"java\",\"java\",\"html\",\"javascript\",\"javascript\",\"sql\",\"html\",\"javascript\",\"python\",\"html\",\"java\",\"javascript\",\"sql\",\"html\",\"javascript\",\"python\",\"sql\",\"javascript\",\"sql\",\"java\",\"html\",\"javascript\",\"python\",\"sql\",\"javascript\",\"python\",\"html\",\"java\",\"javascript\",\"sql\",\"html\",\"javascript\",\"javascript\",\"python\",\"sql\",\"python\",\"sql\",\"java\",\"python\",\"java\",\"python\",\"python\",\"javascript\",\"python\",\"javascript\",\"python\",\"html\",\"java\",\"javascript\",\"html\",\"java\",\"javascript\",\"sql\",\"html\",\"javascript\",\"python\",\"sql\",\"java\",\"html\",\"javascript\",\"html\",\"java\",\"javascript\",\"html\",\"javascript\",\"python\",\"python\",\"html\",\"javascript\",\"javascript\",\"python\",\"javascript\",\"python\",\"html\",\"sql\",\"python\",\"python\",\"java\",\"javascript\",\"java\",\"javascript\",\"html\",\"sql\",\"html\",\"java\",\"javascript\",\"python\",\"sql\",\"python\",\"python\",\"sql\",\"html\",\"javascript\",\"html\",\"javascript\",\"sql\",\"java\",\"python\",\"sql\",\"javascript\",\"python\",\"javascript\",\"python\",\"html\",\"javascript\",\"python\",\"javascript\",\"html\",\"javascript\",\"python\",\"sql\",\"html\",\"javascript\",\"java\",\"python\",\"sql\",\"html\",\"python\",\"html\",\"javascript\",\"python\",\"sql\",\"sql\",\"javascript\",\"python\",\"html\",\"java\",\"javascript\",\"html\",\"java\",\"javascript\",\"python\",\"sql\",\"java\",\"javascript\",\"javascript\",\"html\",\"javascript\",\"sql\",\"java\",\"javascript\",\"html\",\"java\",\"javascript\",\"python\",\"sql\",\"java\",\"javascript\",\"sql\",\"html\",\"java\",\"javascript\",\"sql\",\"python\",\"html\",\"java\",\"javascript\",\"sql\",\"java\",\"sql\",\"html\",\"java\",\"javascript\",\"sql\",\"javascript\",\"python\",\"sql\",\"html\",\"java\",\"javascript\",\"sql\",\"sql\",\"javascript\",\"python\",\"html\",\"java\",\"javascript\",\"sql\",\"python\",\"sql\",\"java\",\"python\",\"sql\",\"html\",\"javascript\",\"sql\",\"sql\",\"java\",\"javascript\",\"sql\",\"python\",\"python\",\"python\",\"sql\",\"python\",\"javascript\",\"python\",\"sql\",\"javascript\",\"python\",\"sql\",\"javascript\",\"java\",\"javascript\",\"sql\",\"html\",\"java\",\"javascript\",\"sql\",\"java\",\"javascript\",\"sql\",\"javascript\",\"java\",\"python\",\"html\",\"sql\",\"html\",\"javascript\",\"html\",\"java\",\"javascript\",\"python\",\"html\",\"javascript\",\"sql\",\"python\",\"sql\",\"python\",\"sql\",\"java\",\"java\",\"html\",\"java\",\"javascript\",\"sql\",\"java\",\"java\",\"python\",\"sql\",\"javascript\",\"javascript\",\"sql\",\"java\",\"javascript\",\"python\",\"html\",\"javascript\",\"sql\",\"html\",\"javascript\",\"html\",\"javascript\",\"python\",\"javascript\",\"python\",\"java\",\"javascript\",\"java\",\"python\",\"html\",\"java\",\"javascript\",\"python\",\"sql\",\"html\",\"javascript\",\"java\",\"javascript\",\"sql\",\"javascript\",\"html\",\"java\",\"python\",\"javascript\",\"html\",\"javascript\",\"python\",\"sql\",\"html\",\"java\",\"javascript\",\"sql\",\"javascript\",\"html\",\"javascript\",\"sql\",\"html\",\"javascript\",\"python\",\"html\",\"javascript\",\"python\",\"sql\",\"html\",\"javascript\",\"sql\",\"html\",\"javascript\",\"java\",\"html\",\"javascript\",\"javascript\",\"python\",\"sql\",\"java\",\"sql\",\"html\",\"javascript\",\"sql\",\"html\",\"javascript\",\"python\",\"sql\",\"html\",\"javascript\",\"sql\",\"javascript\",\"javascript\",\"sql\",\"javascript\",\"sql\",\"java\",\"javascript\",\"python\",\"sql\",\"java\",\"javascript\",\"sql\",\"html\",\"javascript\",\"html\",\"java\",\"javascript\",\"sql\",\"java\",\"javascript\",\"html\",\"javascript\",\"python\",\"java\",\"html\",\"java\",\"javascript\",\"sql\",\"python\",\"java\",\"javascript\",\"sql\",\"html\",\"java\",\"javascript\",\"python\",\"java\",\"python\",\"sql\",\"java\",\"python\",\"python\",\"sql\",\"python\",\"java\",\"python\",\"javascript\",\"sql\",\"java\",\"sql\",\"sql\",\"html\",\"java\",\"javascript\",\"python\",\"python\",\"sql\",\"sql\",\"html\",\"javascript\",\"html\",\"java\",\"sql\",\"html\",\"java\",\"javascript\",\"python\",\"javascript\",\"javascript\",\"python\",\"sql\",\"javascript\",\"javascript\",\"javascript\",\"html\",\"javascript\",\"sql\",\"html\",\"javascript\",\"html\",\"javascript\",\"sql\",\"html\",\"java\",\"javascript\",\"python\",\"java\",\"sql\",\"python\",\"sql\",\"java\",\"python\",\"html\",\"javascript\",\"sql\",\"javascript\",\"sql\",\"html\",\"javascript\",\"html\",\"sql\",\"java\",\"sql\",\"html\",\"javascript\",\"sql\",\"html\",\"javascript\",\"java\",\"java\",\"python\",\"python\",\"java\",\"javascript\",\"sql\",\"html\",\"javascript\",\"sql\",\"python\",\"html\",\"javascript\",\"sql\",\"html\",\"javascript\",\"sql\",\"java\",\"html\",\"java\",\"sql\",\"javascript\",\"sql\",\"java\",\"java\",\"javascript\",\"python\",\"sql\",\"html\",\"javascript\",\"html\",\"javascript\",\"python\",\"sql\",\"html\",\"javascript\",\"python\",\"java\",\"javascript\",\"python\",\"sql\",\"java\",\"javascript\",\"html\",\"javascript\",\"sql\",\"python\",\"sql\",\"html\",\"javascript\",\"sql\",\"html\",\"javascript\",\"html\",\"javascript\",\"python\",\"python\",\"sql\",\"sql\",\"python\",\"sql\",\"java\",\"javascript\",\"sql\",\"python\",\"java\",\"python\",\"python\",\"sql\",\"python\",\"java\",\"html\",\"java\",\"javascript\",\"sql\",\"javascript\",\"python\",\"sql\",\"javascript\",\"html\",\"javascript\",\"html\",\"javascript\",\"sql\",\"html\",\"python\",\"sql\",\"python\",\"html\",\"javascript\",\"sql\",\"python\",\"html\",\"javascript\",\"java\",\"python\",\"python\",\"javascript\",\"javascript\",\"python\",\"sql\",\"html\",\"javascript\",\"sql\",\"java\",\"java\",\"javascript\",\"sql\",\"html\",\"java\",\"javascript\",\"sql\",\"html\",\"javascript\",\"sql\",\"javascript\",\"javascript\",\"javascript\",\"html\",\"javascript\",\"java\",\"python\",\"html\",\"javascript\",\"python\",\"javascript\",\"python\",\"python\",\"java\",\"html\",\"python\",\"sql\",\"python\",\"html\",\"javascript\",\"sql\",\"javascript\",\"html\",\"javascript\",\"html\",\"javascript\",\"html\",\"javascript\",\"python\",\"javascript\",\"html\",\"java\",\"javascript\",\"sql\",\"python\",\"sql\",\"python\",\"java\",\"python\",\"sql\",\"html\",\"javascript\",\"html\",\"javascript\",\"sql\",\"python\",\"java\",\"java\",\"python\",\"java\",\"java\",\"python\",\"sql\",\"java\",\"python\",\"java\",\"python\",\"sql\",\"javascript\",\"html\",\"java\",\"javascript\",\"sql\",\"html\",\"javascript\",\"python\",\"java\",\"java\",\"sql\",\"java\",\"sql\",\"html\",\"javascript\",\"sql\",\"python\",\"javascript\",\"html\",\"javascript\",\"sql\",\"html\",\"javascript\",\"python\",\"sql\",\"html\",\"java\",\"javascript\",\"python\",\"sql\",\"sql\",\"html\",\"sql\",\"python\",\"html\",\"javascript\",\"python\",\"sql\",\"python\",\"java\",\"javascript\",\"python\",\"javascript\",\"html\",\"java\",\"javascript\",\"python\",\"sql\",\"html\",\"javascript\",\"python\",\"sql\",\"java\",\"javascript\",\"javascript\",\"html\",\"javascript\",\"sql\",\"java\",\"html\",\"javascript\",\"sql\",\"python\",\"javascript\",\"sql\",\"html\",\"java\",\"javascript\",\"html\",\"java\",\"javascript\",\"python\",\"sql\",\"java\",\"javascript\",\"sql\",\"html\",\"javascript\",\"python\",\"sql\",\"java\",\"html\",\"javascript\",\"sql\",\"javascript\",\"sql\",\"java\",\"python\",\"html\",\"javascript\",\"sql\",\"python\",\"html\",\"javascript\",\"java\",\"python\",\"sql\",\"java\",\"python\",\"sql\",\"java\",\"javascript\",\"java\",\"javascript\",\"java\",\"html\",\"html\",\"javascript\",\"javascript\",\"python\",\"sql\",\"html\",\"javascript\",\"sql\",\"python\",\"javascript\",\"python\",\"javascript\",\"html\",\"java\",\"javascript\",\"python\",\"sql\",\"java\",\"javascript\",\"python\",\"html\",\"javascript\",\"sql\",\"html\",\"javascript\",\"python\",\"html\",\"javascript\",\"python\",\"javascript\",\"python\",\"javascript\",\"python\",\"sql\",\"html\",\"javascript\",\"sql\",\"javascript\",\"python\",\"javascript\",\"html\",\"java\",\"javascript\",\"sql\",\"java\",\"python\",\"python\",\"python\",\"python\",\"python\",\"java\",\"python\",\"sql\",\"python\",\"sql\",\"java\",\"javascript\",\"python\",\"python\",\"sql\",\"html\",\"python\",\"java\",\"javascript\",\"python\",\"python\",\"javascript\",\"html\",\"javascript\",\"sql\",\"python\",\"sql\",\"html\",\"javascript\",\"java\",\"javascript\",\"python\",\"sql\",\"javascript\",\"python\",\"sql\",\"java\",\"javascript\",\"sql\",\"html\",\"javascript\",\"javascript\",\"java\",\"html\",\"javascript\",\"python\",\"sql\",\"javascript\",\"python\",\"java\",\"javascript\",\"python\",\"sql\",\"sql\",\"java\",\"java\",\"javascript\",\"sql\",\"html\",\"javascript\",\"javascript\",\"html\",\"javascript\",\"python\",\"sql\",\"javascript\",\"sql\",\"html\",\"javascript\",\"python\",\"python\",\"sql\",\"html\",\"javascript\",\"javascript\",\"sql\",\"java\",\"python\",\"javascript\",\"python\",\"sql\",\"java\",\"javascript\",\"python\",\"java\",\"html\",\"java\",\"python\",\"sql\",\"html\",\"java\",\"javascript\",\"sql\",\"javascript\",\"html\",\"javascript\",\"sql\",\"sql\",\"html\",\"java\",\"javascript\",\"sql\",\"java\",\"sql\",\"javascript\",\"python\",\"html\",\"javascript\",\"python\",\"sql\",\"java\",\"python\",\"java\",\"javascript\",\"python\",\"sql\",\"java\",\"html\",\"javascript\",\"java\",\"html\",\"java\",\"javascript\",\"sql\",\"html\",\"javascript\",\"sql\",\"javascript\",\"html\",\"javascript\",\"sql\",\"java\",\"python\",\"sql\",\"html\",\"java\",\"javascript\",\"sql\",\"html\",\"javascript\",\"java\",\"html\",\"javascript\",\"sql\",\"java\",\"sql\",\"java\",\"javascript\",\"html\",\"javascript\",\"sql\",\"javascript\",\"sql\",\"python\",\"python\",\"sql\",\"python\",\"python\",\"java\",\"javascript\",\"sql\",\"html\",\"java\",\"javascript\",\"python\",\"html\",\"java\",\"python\",\"java\",\"python\",\"java\",\"python\",\"html\",\"javascript\",\"html\",\"java\",\"javascript\",\"java\",\"javascript\",\"python\",\"sql\",\"javascript\",\"python\",\"sql\",\"java\",\"javascript\",\"sql\",\"html\",\"javascript\",\"javascript\",\"python\",\"html\",\"javascript\",\"html\",\"java\",\"javascript\",\"python\",\"python\",\"sql\",\"javascript\",\"python\",\"python\",\"javascript\",\"python\",\"javascript\",\"sql\",\"html\",\"java\",\"javascript\",\"sql\",\"javascript\",\"html\",\"javascript\",\"sql\",\"java\",\"javascript\",\"python\",\"sql\",\"sql\",\"java\",\"javascript\",\"python\",\"java\",\"python\",\"java\",\"javascript\",\"python\",\"javascript\",\"python\",\"javascript\",\"javascript\",\"html\",\"javascript\",\"sql\",\"html\",\"javascript\",\"python\",\"sql\",\"javascript\",\"java\",\"html\",\"javascript\",\"sql\",\"python\",\"sql\",\"java\",\"javascript\",\"sql\",\"html\",\"javascript\",\"java\",\"javascript\",\"python\",\"java\",\"javascript\",\"java\",\"java\",\"java\",\"javascript\",\"python\",\"html\",\"javascript\",\"sql\",\"java\",\"javascript\",\"sql\",\"java\",\"html\",\"javascript\",\"sql\",\"python\",\"javascript\",\"html\",\"java\",\"javascript\",\"java\",\"javascript\",\"sql\",\"javascript\",\"html\",\"javascript\",\"javascript\",\"html\",\"javascript\",\"java\",\"html\",\"java\",\"javascript\",\"sql\",\"html\",\"javascript\",\"sql\",\"python\",\"sql\",\"html\",\"java\",\"javascript\",\"python\",\"sql\",\"python\",\"html\",\"java\",\"javascript\",\"sql\",\"sql\",\"html\",\"javascript\",\"html\",\"java\",\"javascript\",\"sql\",\"python\",\"java\",\"javascript\",\"python\",\"sql\",\"javascript\",\"sql\",\"python\",\"python\",\"python\",\"java\",\"sql\",\"javascript\",\"html\",\"javascript\",\"sql\",\"java\",\"javascript\",\"html\",\"javascript\",\"sql\",\"html\",\"javascript\",\"java\",\"javascript\",\"python\",\"javascript\",\"python\",\"html\",\"javascript\",\"html\",\"javascript\",\"sql\",\"html\",\"java\",\"javascript\",\"python\",\"sql\",\"javascript\",\"javascript\",\"sql\",\"javascript\",\"python\",\"html\",\"java\",\"python\",\"sql\",\"python\",\"html\",\"java\",\"javascript\",\"python\",\"python\",\"sql\",\"python\",\"sql\",\"javascript\",\"python\",\"java\",\"javascript\",\"java\",\"javascript\",\"java\",\"java\",\"html\",\"javascript\",\"python\",\"sql\",\"sql\",\"java\",\"html\",\"java\",\"javascript\",\"sql\",\"html\",\"javascript\",\"java\",\"javascript\",\"sql\",\"html\",\"java\",\"javascript\",\"sql\",\"html\",\"javascript\",\"java\",\"javascript\",\"java\",\"python\",\"sql\",\"html\",\"javascript\",\"javascript\",\"javascript\",\"sql\",\"java\",\"javascript\",\"python\",\"sql\",\"html\",\"javascript\",\"python\",\"sql\",\"java\",\"javascript\",\"sql\",\"html\",\"java\",\"javascript\",\"javascript\",\"sql\",\"python\",\"html\",\"java\",\"javascript\",\"sql\",\"html\",\"java\",\"javascript\",\"sql\",\"html\",\"javascript\",\"python\",\"javascript\",\"html\",\"javascript\",\"sql\",\"python\",\"sql\",\"html\",\"java\",\"javascript\",\"python\",\"sql\",\"python\",\"sql\",\"sql\",\"html\",\"javascript\",\"sql\",\"java\",\"python\",\"html\",\"javascript\",\"sql\",\"javascript\",\"python\",\"sql\",\"python\",\"sql\",\"java\",\"javascript\",\"python\",\"sql\",\"java\",\"html\",\"javascript\",\"sql\",\"html\",\"javascript\",\"python\",\"sql\",\"python\",\"java\",\"python\",\"sql\",\"sql\",\"java\",\"javascript\",\"sql\",\"sql\",\"html\",\"java\",\"javascript\",\"sql\",\"html\",\"java\",\"javascript\",\"python\",\"sql\",\"java\",\"javascript\",\"python\",\"python\",\"html\",\"javascript\",\"python\",\"java\",\"sql\",\"python\",\"java\",\"javascript\",\"html\",\"java\",\"javascript\",\"python\",\"html\",\"javascript\",\"sql\",\"java\",\"sql\",\"sql\",\"python\",\"html\",\"javascript\",\"java\",\"javascript\",\"python\",\"sql\",\"html\",\"java\",\"javascript\",\"python\",\"sql\",\"python\",\"python\",\"html\",\"javascript\",\"html\",\"java\",\"javascript\",\"python\",\"sql\",\"python\",\"html\",\"javascript\",\"sql\",\"java\",\"html\",\"javascript\",\"python\",\"sql\",\"html\",\"java\",\"javascript\",\"python\",\"java\",\"sql\",\"python\",\"java\",\"javascript\",\"javascript\",\"python\",\"sql\",\"java\",\"javascript\",\"sql\",\"java\",\"python\",\"html\",\"java\",\"javascript\",\"sql\",\"python\",\"javascript\",\"python\",\"java\",\"java\",\"javascript\",\"python\",\"sql\",\"html\",\"javascript\",\"python\",\"sql\",\"html\",\"java\",\"javascript\",\"java\",\"python\",\"sql\",\"html\",\"javascript\",\"html\",\"javascript\",\"html\",\"javascript\",\"java\",\"javascript\",\"python\",\"sql\",\"java\",\"javascript\",\"javascript\",\"python\",\"sql\",\"html\",\"java\",\"javascript\",\"sql\",\"python\",\"java\",\"javascript\",\"python\",\"html\",\"java\",\"javascript\",\"sql\",\"java\",\"sql\",\"html\",\"javascript\",\"html\",\"javascript\",\"html\",\"java\",\"javascript\",\"sql\",\"sql\",\"html\",\"javascript\",\"python\",\"html\",\"java\",\"javascript\",\"python\",\"sql\",\"html\",\"sql\",\"java\",\"html\",\"javascript\",\"sql\",\"html\",\"java\",\"python\",\"java\",\"python\",\"sql\",\"java\",\"html\",\"javascript\",\"javascript\",\"sql\",\"java\",\"python\",\"sql\",\"javascript\",\"sql\",\"java\",\"python\",\"python\",\"java\",\"sql\",\"java\",\"sql\",\"sql\",\"java\",\"javascript\",\"java\",\"java\",\"html\",\"java\",\"javascript\",\"python\",\"sql\",\"java\",\"javascript\",\"java\",\"java\",\"html\",\"javascript\",\"java\",\"sql\",\"html\",\"java\",\"javascript\",\"sql\",\"javascript\",\"java\",\"javascript\",\"javascript\",\"sql\",\"html\",\"java\",\"javascript\",\"sql\",\"python\",\"java\",\"sql\",\"html\",\"javascript\",\"sql\",\"java\",\"javascript\",\"sql\",\"java\",\"javascript\",\"sql\",\"javascript\",\"python\",\"python\",\"sql\",\"java\",\"javascript\",\"python\",\"sql\",\"javascript\",\"java\",\"sql\",\"java\",\"javascript\",\"javascript\",\"sql\",\"html\",\"java\",\"sql\",\"html\",\"javascript\",\"sql\",\"java\",\"python\",\"java\",\"javascript\",\"sql\",\"html\",\"javascript\",\"html\",\"java\",\"javascript\",\"html\",\"java\",\"javascript\",\"java\",\"javascript\",\"html\",\"java\",\"javascript\",\"python\",\"sql\",\"java\",\"python\",\"java\",\"javascript\",\"python\",\"sql\",\"java\",\"javascript\",\"html\",\"java\",\"javascript\",\"html\",\"javascript\",\"python\",\"python\",\"java\",\"javascript\",\"python\",\"html\",\"javascript\",\"sql\",\"javascript\",\"python\",\"javascript\",\"java\",\"javascript\",\"html\",\"java\",\"javascript\",\"sql\",\"javascript\",\"python\",\"html\",\"java\",\"javascript\",\"sql\",\"html\",\"java\",\"javascript\",\"sql\",\"java\",\"java\",\"sql\",\"java\",\"javascript\",\"html\",\"javascript\",\"sql\",\"html\",\"javascript\",\"sql\",\"java\",\"python\",\"sql\",\"java\",\"sql\",\"java\",\"html\",\"java\",\"javascript\",\"sql\",\"python\",\"java\",\"python\",\"sql\",\"java\",\"html\",\"sql\",\"java\",\"java\",\"javascript\",\"javascript\",\"python\",\"java\",\"sql\",\"java\",\"javascript\",\"sql\",\"python\",\"javascript\",\"html\",\"java\",\"javascript\",\"sql\",\"html\",\"java\",\"javascript\",\"sql\",\"python\",\"sql\",\"javascript\",\"python\",\"html\",\"javascript\",\"python\",\"sql\",\"html\",\"java\",\"javascript\",\"sql\",\"javascript\",\"java\",\"javascript\",\"javascript\",\"sql\",\"java\",\"java\",\"html\",\"java\",\"javascript\",\"sql\",\"python\",\"sql\",\"html\",\"javascript\",\"java\",\"html\",\"java\",\"javascript\",\"java\",\"javascript\",\"sql\",\"html\",\"javascript\",\"java\",\"python\",\"sql\",\"html\",\"java\",\"javascript\",\"html\",\"java\",\"javascript\",\"java\",\"java\",\"python\",\"python\",\"sql\",\"html\",\"javascript\",\"html\",\"java\",\"javascript\",\"sql\",\"java\",\"javascript\",\"java\",\"python\",\"html\",\"javascript\",\"sql\",\"html\",\"javascript\",\"sql\",\"html\",\"javascript\",\"python\",\"sql\",\"html\",\"javascript\",\"sql\",\"java\",\"python\",\"sql\",\"python\",\"html\",\"javascript\",\"sql\",\"javascript\",\"sql\",\"java\",\"python\",\"sql\",\"html\",\"java\",\"javascript\",\"python\",\"sql\",\"java\",\"python\",\"sql\",\"python\",\"java\",\"sql\",\"html\",\"javascript\",\"sql\",\"sql\",\"html\",\"javascript\",\"java\",\"sql\",\"python\",\"sql\",\"javascript\",\"html\",\"javascript\",\"sql\",\"html\",\"javascript\",\"java\",\"javascript\",\"python\",\"sql\",\"java\",\"python\",\"java\",\"sql\",\"java\",\"javascript\",\"sql\",\"html\",\"javascript\",\"sql\",\"python\",\"javascript\",\"python\",\"html\",\"java\",\"sql\",\"html\",\"javascript\",\"python\",\"sql\",\"html\",\"javascript\",\"sql\",\"java\",\"html\",\"java\",\"javascript\",\"python\",\"sql\",\"python\",\"python\",\"html\",\"python\",\"sql\",\"python\",\"python\",\"java\",\"python\",\"java\",\"javascript\",\"html\",\"java\",\"javascript\",\"python\",\"sql\",\"html\",\"java\",\"javascript\",\"python\",\"sql\",\"java\",\"javascript\",\"sql\",\"sql\",\"python\",\"sql\",\"javascript\",\"python\",\"java\",\"python\",\"javascript\",\"python\",\"java\",\"html\",\"java\",\"javascript\",\"python\",\"sql\",\"html\",\"javascript\",\"python\",\"javascript\",\"python\",\"python\",\"python\",\"sql\",\"html\",\"javascript\",\"sql\",\"javascript\",\"html\",\"java\",\"javascript\",\"sql\",\"html\",\"javascript\",\"html\",\"java\",\"javascript\",\"html\",\"javascript\",\"sql\",\"html\",\"javascript\",\"sql\",\"java\",\"python\",\"javascript\",\"python\",\"javascript\",\"javascript\",\"java\",\"javascript\",\"python\",\"html\",\"javascript\",\"python\",\"sql\",\"html\",\"java\",\"python\",\"sql\",\"java\",\"javascript\",\"javascript\",\"sql\",\"java\",\"sql\",\"javascript\",\"html\",\"javascript\",\"python\",\"sql\",\"python\",\"sql\",\"java\",\"javascript\",\"python\",\"java\",\"python\",\"html\",\"javascript\",\"python\",\"sql\",\"java\",\"sql\",\"sql\",\"java\",\"html\",\"java\",\"javascript\",\"sql\",\"javascript\",\"python\",\"sql\",\"java\",\"html\",\"javascript\",\"python\",\"sql\",\"javascript\",\"python\",\"sql\",\"java\",\"javascript\",\"python\",\"sql\",\"html\",\"javascript\",\"python\",\"sql\",\"javascript\",\"html\",\"java\",\"javascript\",\"sql\",\"python\",\"html\",\"java\",\"javascript\",\"python\",\"sql\",\"python\",\"java\",\"javascript\",\"python\",\"html\",\"javascript\",\"python\",\"java\",\"python\",\"java\",\"javascript\",\"python\",\"sql\",\"python\",\"sql\",\"html\",\"javascript\",\"python\",\"html\",\"java\",\"javascript\",\"sql\",\"java\",\"sql\",\"html\",\"javascript\",\"python\",\"java\",\"python\",\"html\",\"java\",\"javascript\",\"sql\",\"python\",\"html\",\"javascript\",\"python\",\"sql\",\"html\",\"java\",\"javascript\",\"sql\",\"sql\",\"html\",\"javascript\",\"sql\",\"python\",\"java\",\"python\",\"html\",\"java\",\"sql\",\"java\",\"python\",\"python\",\"javascript\",\"python\",\"html\",\"javascript\",\"python\",\"sql\",\"java\",\"javascript\",\"python\",\"html\",\"java\",\"python\",\"sql\",\"java\",\"java\",\"javascript\",\"sql\",\"python\",\"javascript\",\"html\",\"java\",\"javascript\",\"sql\",\"html\",\"javascript\",\"html\",\"java\",\"javascript\",\"sql\",\"java\",\"javascript\",\"html\",\"javascript\",\"python\",\"sql\",\"python\",\"html\",\"java\",\"javascript\",\"javascript\",\"html\",\"javascript\",\"sql\",\"java\",\"javascript\",\"html\",\"javascript\",\"sql\",\"html\",\"javascript\",\"javascript\",\"html\",\"javascript\",\"sql\",\"java\",\"java\",\"sql\",\"javascript\",\"python\",\"sql\",\"javascript\",\"sql\",\"html\",\"javascript\",\"sql\",\"sql\",\"java\",\"javascript\",\"python\",\"sql\",\"html\",\"javascript\",\"python\",\"sql\",\"html\",\"java\",\"javascript\",\"java\",\"python\",\"sql\",\"html\",\"javascript\",\"python\",\"html\",\"javascript\",\"python\",\"sql\",\"javascript\",\"html\",\"python\",\"javascript\",\"python\",\"sql\",\"html\",\"javascript\",\"java\",\"python\",\"html\",\"javascript\",\"python\",\"html\",\"java\",\"javascript\",\"sql\",\"html\",\"javascript\",\"python\",\"java\",\"javascript\",\"python\",\"sql\",\"java\",\"python\",\"javascript\",\"python\",\"java\",\"python\",\"javascript\",\"sql\",\"python\",\"html\",\"java\",\"sql\",\"java\",\"java\",\"python\",\"java\",\"python\",\"html\",\"javascript\",\"java\",\"html\",\"java\",\"javascript\",\"python\",\"javascript\",\"html\",\"javascript\",\"sql\",\"html\",\"java\",\"javascript\",\"sql\",\"java\",\"javascript\",\"python\",\"html\",\"javascript\",\"java\",\"python\",\"sql\",\"html\",\"javascript\",\"sql\",\"html\",\"javascript\",\"python\",\"sql\",\"html\",\"javascript\",\"sql\",\"html\",\"javascript\",\"html\",\"javascript\",\"html\",\"sql\",\"html\",\"javascript\",\"python\",\"sql\",\"python\",\"sql\",\"python\",\"sql\",\"html\",\"javascript\",\"sql\",\"java\",\"javascript\",\"java\",\"javascript\",\"sql\",\"html\",\"javascript\",\"python\",\"sql\",\"javascript\",\"sql\",\"html\",\"java\",\"javascript\",\"python\",\"python\",\"sql\",\"java\",\"python\",\"python\",\"sql\",\"html\",\"javascript\",\"sql\",\"html\",\"java\",\"html\",\"javascript\",\"python\",\"html\",\"java\",\"javascript\",\"java\",\"javascript\",\"python\",\"java\",\"javascript\",\"python\",\"sql\",\"javascript\",\"sql\",\"html\",\"java\",\"javascript\",\"sql\",\"sql\",\"html\",\"java\",\"javascript\",\"html\",\"java\",\"javascript\",\"python\",\"sql\",\"java\",\"sql\",\"java\",\"javascript\",\"sql\",\"html\",\"javascript\",\"sql\",\"html\",\"javascript\",\"sql\",\"html\",\"javascript\",\"sql\",\"sql\",\"html\",\"javascript\",\"sql\",\"python\",\"javascript\",\"html\",\"javascript\",\"sql\",\"javascript\",\"python\",\"sql\",\"sql\",\"java\",\"javascript\",\"java\",\"java\",\"javascript\",\"python\",\"sql\",\"javascript\",\"sql\",\"python\",\"sql\",\"java\",\"sql\",\"html\",\"java\",\"html\",\"javascript\",\"sql\",\"html\",\"javascript\",\"sql\",\"html\",\"javascript\",\"python\",\"sql\",\"javascript\",\"python\",\"javascript\",\"sql\",\"html\",\"javascript\",\"sql\",\"javascript\",\"sql\",\"html\",\"javascript\",\"sql\",\"java\",\"javascript\",\"sql\",\"html\",\"java\",\"javascript\",\"python\",\"sql\",\"html\",\"java\",\"javascript\",\"python\",\"sql\",\"html\",\"java\",\"javascript\",\"python\",\"html\",\"java\",\"python\",\"sql\",\"java\",\"python\",\"html\",\"javascript\",\"python\",\"sql\",\"java\",\"python\",\"html\",\"javascript\",\"java\",\"javascript\",\"python\",\"html\",\"javascript\",\"python\",\"sql\",\"java\",\"python\",\"sql\",\"python\",\"sql\",\"html\",\"javascript\",\"java\",\"sql\",\"javascript\",\"html\",\"javascript\",\"sql\",\"java\",\"html\",\"javascript\",\"javascript\",\"sql\",\"html\",\"javascript\",\"html\",\"javascript\",\"python\",\"sql\",\"javascript\",\"python\",\"javascript\",\"python\",\"java\",\"javascript\",\"java\",\"python\",\"javascript\",\"sql\",\"java\",\"python\",\"sql\",\"html\",\"javascript\",\"python\",\"python\",\"sql\",\"javascript\",\"python\",\"html\",\"python\",\"sql\",\"html\",\"javascript\",\"sql\",\"html\",\"java\",\"javascript\",\"python\",\"sql\",\"javascript\",\"html\",\"javascript\",\"sql\",\"python\",\"html\",\"javascript\",\"python\",\"sql\",\"java\",\"javascript\",\"sql\",\"java\",\"html\",\"java\",\"sql\",\"html\",\"java\",\"javascript\",\"html\",\"javascript\",\"sql\",\"java\",\"python\",\"html\",\"javascript\",\"javascript\",\"java\",\"python\",\"sql\",\"python\",\"sql\",\"html\",\"javascript\",\"sql\",\"javascript\",\"python\",\"java\",\"javascript\",\"html\",\"sql\",\"html\",\"javascript\",\"python\",\"javascript\",\"java\",\"javascript\",\"java\",\"java\",\"java\",\"javascript\",\"java\",\"java\",\"sql\",\"java\",\"javascript\",\"html\",\"java\",\"javascript\",\"java\",\"java\",\"javascript\",\"sql\",\"java\",\"python\",\"sql\",\"python\",\"java\",\"sql\",\"sql\",\"html\",\"java\",\"javascript\",\"python\",\"sql\",\"java\",\"python\",\"sql\",\"python\",\"html\",\"javascript\",\"python\",\"java\",\"javascript\",\"python\",\"python\",\"javascript\",\"java\",\"java\",\"java\",\"sql\",\"sql\",\"html\",\"java\",\"javascript\",\"python\",\"sql\",\"html\",\"javascript\",\"sql\",\"java\",\"java\",\"javascript\",\"python\",\"sql\",\"html\",\"html\",\"java\",\"javascript\",\"python\",\"python\",\"html\",\"javascript\",\"sql\",\"java\",\"html\",\"javascript\",\"javascript\",\"sql\",\"javascript\",\"javascript\",\"python\",\"html\",\"javascript\",\"sql\",\"python\",\"sql\",\"python\",\"javascript\",\"python\",\"sql\",\"sql\",\"python\",\"html\",\"javascript\",\"python\",\"java\",\"java\",\"python\",\"java\",\"html\",\"javascript\",\"sql\",\"java\",\"java\",\"javascript\",\"python\",\"html\",\"javascript\",\"python\",\"sql\",\"java\",\"java\",\"javascript\",\"java\",\"python\",\"sql\",\"javascript\",\"java\",\"python\",\"html\",\"javascript\",\"sql\",\"html\",\"java\",\"javascript\",\"python\",\"sql\",\"sql\",\"java\",\"javascript\",\"sql\",\"java\",\"javascript\",\"python\",\"python\",\"java\",\"sql\",\"python\",\"sql\",\"html\",\"java\",\"sql\",\"java\",\"javascript\",\"java\",\"python\",\"sql\",\"html\",\"javascript\",\"python\",\"sql\",\"python\",\"javascript\",\"python\",\"sql\",\"python\",\"sql\",\"java\",\"javascript\",\"java\",\"html\",\"javascript\",\"sql\",\"java\",\"sql\",\"html\",\"java\",\"javascript\",\"sql\",\"java\",\"java\",\"python\",\"java\",\"javascript\",\"javascript\",\"html\",\"javascript\",\"python\",\"java\",\"javascript\",\"sql\",\"java\",\"html\",\"java\",\"javascript\",\"html\",\"java\",\"python\",\"sql\",\"html\",\"javascript\",\"python\",\"sql\",\"html\",\"python\",\"sql\",\"java\",\"javascript\",\"python\",\"sql\",\"java\",\"javascript\",\"html\",\"java\",\"sql\",\"javascript\",\"python\",\"java\",\"html\",\"java\",\"sql\",\"java\",\"javascript\",\"python\",\"sql\",\"python\",\"html\",\"java\",\"javascript\",\"html\",\"javascript\",\"python\",\"html\",\"python\",\"sql\",\"html\",\"java\",\"javascript\",\"html\",\"python\",\"sql\",\"sql\",\"sql\",\"sql\",\"html\",\"java\",\"html\",\"javascript\",\"sql\",\"java\",\"java\",\"javascript\",\"sql\",\"sql\",\"html\",\"sql\",\"python\",\"html\",\"java\",\"sql\",\"html\",\"sql\",\"java\",\"html\",\"java\",\"javascript\",\"java\",\"python\",\"sql\",\"html\",\"java\",\"javascript\",\"sql\",\"html\",\"java\",\"javascript\",\"python\",\"java\",\"html\",\"javascript\",\"sql\",\"python\",\"java\",\"java\",\"javascript\",\"html\",\"javascript\",\"html\",\"javascript\",\"html\",\"java\",\"python\",\"sql\",\"python\",\"python\",\"sql\"],\"xaxis\":\"x\",\"yaxis\":\"y\",\"type\":\"histogram\"}],                        {\"template\":{\"data\":{\"bar\":[{\"error_x\":{\"color\":\"#2a3f5f\"},\"error_y\":{\"color\":\"#2a3f5f\"},\"marker\":{\"line\":{\"color\":\"#E5ECF6\",\"width\":0.5},\"pattern\":{\"fillmode\":\"overlay\",\"size\":10,\"solidity\":0.2}},\"type\":\"bar\"}],\"barpolar\":[{\"marker\":{\"line\":{\"color\":\"#E5ECF6\",\"width\":0.5},\"pattern\":{\"fillmode\":\"overlay\",\"size\":10,\"solidity\":0.2}},\"type\":\"barpolar\"}],\"carpet\":[{\"aaxis\":{\"endlinecolor\":\"#2a3f5f\",\"gridcolor\":\"white\",\"linecolor\":\"white\",\"minorgridcolor\":\"white\",\"startlinecolor\":\"#2a3f5f\"},\"baxis\":{\"endlinecolor\":\"#2a3f5f\",\"gridcolor\":\"white\",\"linecolor\":\"white\",\"minorgridcolor\":\"white\",\"startlinecolor\":\"#2a3f5f\"},\"type\":\"carpet\"}],\"choropleth\":[{\"colorbar\":{\"outlinewidth\":0,\"ticks\":\"\"},\"type\":\"choropleth\"}],\"contour\":[{\"colorbar\":{\"outlinewidth\":0,\"ticks\":\"\"},\"colorscale\":[[0.0,\"#0d0887\"],[0.1111111111111111,\"#46039f\"],[0.2222222222222222,\"#7201a8\"],[0.3333333333333333,\"#9c179e\"],[0.4444444444444444,\"#bd3786\"],[0.5555555555555556,\"#d8576b\"],[0.6666666666666666,\"#ed7953\"],[0.7777777777777778,\"#fb9f3a\"],[0.8888888888888888,\"#fdca26\"],[1.0,\"#f0f921\"]],\"type\":\"contour\"}],\"contourcarpet\":[{\"colorbar\":{\"outlinewidth\":0,\"ticks\":\"\"},\"type\":\"contourcarpet\"}],\"heatmap\":[{\"colorbar\":{\"outlinewidth\":0,\"ticks\":\"\"},\"colorscale\":[[0.0,\"#0d0887\"],[0.1111111111111111,\"#46039f\"],[0.2222222222222222,\"#7201a8\"],[0.3333333333333333,\"#9c179e\"],[0.4444444444444444,\"#bd3786\"],[0.5555555555555556,\"#d8576b\"],[0.6666666666666666,\"#ed7953\"],[0.7777777777777778,\"#fb9f3a\"],[0.8888888888888888,\"#fdca26\"],[1.0,\"#f0f921\"]],\"type\":\"heatmap\"}],\"heatmapgl\":[{\"colorbar\":{\"outlinewidth\":0,\"ticks\":\"\"},\"colorscale\":[[0.0,\"#0d0887\"],[0.1111111111111111,\"#46039f\"],[0.2222222222222222,\"#7201a8\"],[0.3333333333333333,\"#9c179e\"],[0.4444444444444444,\"#bd3786\"],[0.5555555555555556,\"#d8576b\"],[0.6666666666666666,\"#ed7953\"],[0.7777777777777778,\"#fb9f3a\"],[0.8888888888888888,\"#fdca26\"],[1.0,\"#f0f921\"]],\"type\":\"heatmapgl\"}],\"histogram\":[{\"marker\":{\"pattern\":{\"fillmode\":\"overlay\",\"size\":10,\"solidity\":0.2}},\"type\":\"histogram\"}],\"histogram2d\":[{\"colorbar\":{\"outlinewidth\":0,\"ticks\":\"\"},\"colorscale\":[[0.0,\"#0d0887\"],[0.1111111111111111,\"#46039f\"],[0.2222222222222222,\"#7201a8\"],[0.3333333333333333,\"#9c179e\"],[0.4444444444444444,\"#bd3786\"],[0.5555555555555556,\"#d8576b\"],[0.6666666666666666,\"#ed7953\"],[0.7777777777777778,\"#fb9f3a\"],[0.8888888888888888,\"#fdca26\"],[1.0,\"#f0f921\"]],\"type\":\"histogram2d\"}],\"histogram2dcontour\":[{\"colorbar\":{\"outlinewidth\":0,\"ticks\":\"\"},\"colorscale\":[[0.0,\"#0d0887\"],[0.1111111111111111,\"#46039f\"],[0.2222222222222222,\"#7201a8\"],[0.3333333333333333,\"#9c179e\"],[0.4444444444444444,\"#bd3786\"],[0.5555555555555556,\"#d8576b\"],[0.6666666666666666,\"#ed7953\"],[0.7777777777777778,\"#fb9f3a\"],[0.8888888888888888,\"#fdca26\"],[1.0,\"#f0f921\"]],\"type\":\"histogram2dcontour\"}],\"mesh3d\":[{\"colorbar\":{\"outlinewidth\":0,\"ticks\":\"\"},\"type\":\"mesh3d\"}],\"parcoords\":[{\"line\":{\"colorbar\":{\"outlinewidth\":0,\"ticks\":\"\"}},\"type\":\"parcoords\"}],\"pie\":[{\"automargin\":true,\"type\":\"pie\"}],\"scatter\":[{\"marker\":{\"colorbar\":{\"outlinewidth\":0,\"ticks\":\"\"}},\"type\":\"scatter\"}],\"scatter3d\":[{\"line\":{\"colorbar\":{\"outlinewidth\":0,\"ticks\":\"\"}},\"marker\":{\"colorbar\":{\"outlinewidth\":0,\"ticks\":\"\"}},\"type\":\"scatter3d\"}],\"scattercarpet\":[{\"marker\":{\"colorbar\":{\"outlinewidth\":0,\"ticks\":\"\"}},\"type\":\"scattercarpet\"}],\"scattergeo\":[{\"marker\":{\"colorbar\":{\"outlinewidth\":0,\"ticks\":\"\"}},\"type\":\"scattergeo\"}],\"scattergl\":[{\"marker\":{\"colorbar\":{\"outlinewidth\":0,\"ticks\":\"\"}},\"type\":\"scattergl\"}],\"scattermapbox\":[{\"marker\":{\"colorbar\":{\"outlinewidth\":0,\"ticks\":\"\"}},\"type\":\"scattermapbox\"}],\"scatterpolar\":[{\"marker\":{\"colorbar\":{\"outlinewidth\":0,\"ticks\":\"\"}},\"type\":\"scatterpolar\"}],\"scatterpolargl\":[{\"marker\":{\"colorbar\":{\"outlinewidth\":0,\"ticks\":\"\"}},\"type\":\"scatterpolargl\"}],\"scatterternary\":[{\"marker\":{\"colorbar\":{\"outlinewidth\":0,\"ticks\":\"\"}},\"type\":\"scatterternary\"}],\"surface\":[{\"colorbar\":{\"outlinewidth\":0,\"ticks\":\"\"},\"colorscale\":[[0.0,\"#0d0887\"],[0.1111111111111111,\"#46039f\"],[0.2222222222222222,\"#7201a8\"],[0.3333333333333333,\"#9c179e\"],[0.4444444444444444,\"#bd3786\"],[0.5555555555555556,\"#d8576b\"],[0.6666666666666666,\"#ed7953\"],[0.7777777777777778,\"#fb9f3a\"],[0.8888888888888888,\"#fdca26\"],[1.0,\"#f0f921\"]],\"type\":\"surface\"}],\"table\":[{\"cells\":{\"fill\":{\"color\":\"#EBF0F8\"},\"line\":{\"color\":\"white\"}},\"header\":{\"fill\":{\"color\":\"#C8D4E3\"},\"line\":{\"color\":\"white\"}},\"type\":\"table\"}]},\"layout\":{\"annotationdefaults\":{\"arrowcolor\":\"#2a3f5f\",\"arrowhead\":0,\"arrowwidth\":1},\"autotypenumbers\":\"strict\",\"coloraxis\":{\"colorbar\":{\"outlinewidth\":0,\"ticks\":\"\"}},\"colorscale\":{\"diverging\":[[0,\"#8e0152\"],[0.1,\"#c51b7d\"],[0.2,\"#de77ae\"],[0.3,\"#f1b6da\"],[0.4,\"#fde0ef\"],[0.5,\"#f7f7f7\"],[0.6,\"#e6f5d0\"],[0.7,\"#b8e186\"],[0.8,\"#7fbc41\"],[0.9,\"#4d9221\"],[1,\"#276419\"]],\"sequential\":[[0.0,\"#0d0887\"],[0.1111111111111111,\"#46039f\"],[0.2222222222222222,\"#7201a8\"],[0.3333333333333333,\"#9c179e\"],[0.4444444444444444,\"#bd3786\"],[0.5555555555555556,\"#d8576b\"],[0.6666666666666666,\"#ed7953\"],[0.7777777777777778,\"#fb9f3a\"],[0.8888888888888888,\"#fdca26\"],[1.0,\"#f0f921\"]],\"sequentialminus\":[[0.0,\"#0d0887\"],[0.1111111111111111,\"#46039f\"],[0.2222222222222222,\"#7201a8\"],[0.3333333333333333,\"#9c179e\"],[0.4444444444444444,\"#bd3786\"],[0.5555555555555556,\"#d8576b\"],[0.6666666666666666,\"#ed7953\"],[0.7777777777777778,\"#fb9f3a\"],[0.8888888888888888,\"#fdca26\"],[1.0,\"#f0f921\"]]},\"colorway\":[\"#636efa\",\"#EF553B\",\"#00cc96\",\"#ab63fa\",\"#FFA15A\",\"#19d3f3\",\"#FF6692\",\"#B6E880\",\"#FF97FF\",\"#FECB52\"],\"font\":{\"color\":\"#2a3f5f\"},\"geo\":{\"bgcolor\":\"white\",\"lakecolor\":\"white\",\"landcolor\":\"#E5ECF6\",\"showlakes\":true,\"showland\":true,\"subunitcolor\":\"white\"},\"hoverlabel\":{\"align\":\"left\"},\"hovermode\":\"closest\",\"mapbox\":{\"style\":\"light\"},\"paper_bgcolor\":\"white\",\"plot_bgcolor\":\"#E5ECF6\",\"polar\":{\"angularaxis\":{\"gridcolor\":\"white\",\"linecolor\":\"white\",\"ticks\":\"\"},\"bgcolor\":\"#E5ECF6\",\"radialaxis\":{\"gridcolor\":\"white\",\"linecolor\":\"white\",\"ticks\":\"\"}},\"scene\":{\"xaxis\":{\"backgroundcolor\":\"#E5ECF6\",\"gridcolor\":\"white\",\"gridwidth\":2,\"linecolor\":\"white\",\"showbackground\":true,\"ticks\":\"\",\"zerolinecolor\":\"white\"},\"yaxis\":{\"backgroundcolor\":\"#E5ECF6\",\"gridcolor\":\"white\",\"gridwidth\":2,\"linecolor\":\"white\",\"showbackground\":true,\"ticks\":\"\",\"zerolinecolor\":\"white\"},\"zaxis\":{\"backgroundcolor\":\"#E5ECF6\",\"gridcolor\":\"white\",\"gridwidth\":2,\"linecolor\":\"white\",\"showbackground\":true,\"ticks\":\"\",\"zerolinecolor\":\"white\"}},\"shapedefaults\":{\"line\":{\"color\":\"#2a3f5f\"}},\"ternary\":{\"aaxis\":{\"gridcolor\":\"white\",\"linecolor\":\"white\",\"ticks\":\"\"},\"baxis\":{\"gridcolor\":\"white\",\"linecolor\":\"white\",\"ticks\":\"\"},\"bgcolor\":\"#E5ECF6\",\"caxis\":{\"gridcolor\":\"white\",\"linecolor\":\"white\",\"ticks\":\"\"}},\"title\":{\"x\":0.05},\"xaxis\":{\"automargin\":true,\"gridcolor\":\"white\",\"linecolor\":\"white\",\"ticks\":\"\",\"title\":{\"standoff\":15},\"zerolinecolor\":\"white\",\"zerolinewidth\":2},\"yaxis\":{\"automargin\":true,\"gridcolor\":\"white\",\"linecolor\":\"white\",\"ticks\":\"\",\"title\":{\"standoff\":15},\"zerolinecolor\":\"white\",\"zerolinewidth\":2}}},\"xaxis\":{\"anchor\":\"y\",\"domain\":[0.0,1.0],\"title\":{\"text\":\"programming_language\"}},\"yaxis\":{\"anchor\":\"x\",\"domain\":[0.0,1.0],\"title\":{\"text\":\"count\"}},\"legend\":{\"tracegroupgap\":0},\"title\":{\"text\":\"histograma\"},\"barmode\":\"relative\",\"bargap\":0.4},                        {\"responsive\": true}                    ).then(function(){\n",
              "                            \n",
              "var gd = document.getElementById('3e2111a8-241b-4b0d-930b-1ada7aa6ab2d');\n",
              "var x = new MutationObserver(function (mutations, observer) {{\n",
              "        var display = window.getComputedStyle(gd).display;\n",
              "        if (!display || display === 'none') {{\n",
              "            console.log([gd, 'removed!']);\n",
              "            Plotly.purge(gd);\n",
              "            observer.disconnect();\n",
              "        }}\n",
              "}});\n",
              "\n",
              "// Listen for the removal of the full notebook cells\n",
              "var notebookContainer = gd.closest('#notebook-container');\n",
              "if (notebookContainer) {{\n",
              "    x.observe(notebookContainer, {childList: true});\n",
              "}}\n",
              "\n",
              "// Listen for the clearing of the current output cell\n",
              "var outputEl = gd.closest('.output');\n",
              "if (outputEl) {{\n",
              "    x.observe(outputEl, {childList: true});\n",
              "}}\n",
              "\n",
              "                        })                };                            </script>        </div>\n",
              "</body>\n",
              "</html>"
            ]
          },
          "metadata": {}
        }
      ]
    },
    {
      "cell_type": "code",
      "source": [
        "px.box(filtered_df_lang ,x = 'programming_language',y='salary_monthly_NETO', \n",
        "       boxmode='overlay',\n",
        "       title = 'Boxplots de programas y salario neto cobrado ')"
      ],
      "metadata": {
        "colab": {
          "base_uri": "https://localhost:8080/",
          "height": 542
        },
        "id": "UCv0AoPgnsVT",
        "outputId": "c77a497f-42bc-46d1-964f-6d8ebe2b07b2"
      },
      "execution_count": 59,
      "outputs": [
        {
          "output_type": "display_data",
          "data": {
            "text/html": [
              "<html>\n",
              "<head><meta charset=\"utf-8\" /></head>\n",
              "<body>\n",
              "    <div>            <script src=\"https://cdnjs.cloudflare.com/ajax/libs/mathjax/2.7.5/MathJax.js?config=TeX-AMS-MML_SVG\"></script><script type=\"text/javascript\">if (window.MathJax) {MathJax.Hub.Config({SVG: {font: \"STIX-Web\"}});}</script>                <script type=\"text/javascript\">window.PlotlyConfig = {MathJaxConfig: 'local'};</script>\n",
              "        <script src=\"https://cdn.plot.ly/plotly-2.8.3.min.js\"></script>                <div id=\"4ef68e71-a045-4a77-86b9-d77a192aa580\" class=\"plotly-graph-div\" style=\"height:525px; width:100%;\"></div>            <script type=\"text/javascript\">                                    window.PLOTLYENV=window.PLOTLYENV || {};                                    if (document.getElementById(\"4ef68e71-a045-4a77-86b9-d77a192aa580\")) {                    Plotly.newPlot(                        \"4ef68e71-a045-4a77-86b9-d77a192aa580\",                        [{\"alignmentgroup\":\"True\",\"hovertemplate\":\"programming_language=%{x}<br>salary_monthly_NETO=%{y}<extra></extra>\",\"legendgroup\":\"\",\"marker\":{\"color\":\"#636efa\"},\"name\":\"\",\"notched\":false,\"offsetgroup\":\"\",\"orientation\":\"v\",\"showlegend\":false,\"x\":[\"html\",\"java\",\"javascript\",\"python\",\"sql\",\"html\",\"javascript\",\"sql\",\"html\",\"javascript\",\"sql\",\"java\",\"javascript\",\"javascript\",\"python\",\"sql\",\"python\",\"python\",\"java\",\"javascript\",\"python\",\"java\",\"java\",\"python\",\"javascript\",\"python\",\"html\",\"javascript\",\"sql\",\"python\",\"html\",\"javascript\",\"html\",\"java\",\"sql\",\"html\",\"java\",\"javascript\",\"python\",\"sql\",\"javascript\",\"html\",\"java\",\"javascript\",\"python\",\"sql\",\"html\",\"javascript\",\"html\",\"javascript\",\"sql\",\"java\",\"sql\",\"html\",\"python\",\"python\",\"python\",\"html\",\"javascript\",\"sql\",\"sql\",\"python\",\"python\",\"javascript\",\"sql\",\"java\",\"javascript\",\"sql\",\"java\",\"javascript\",\"html\",\"java\",\"javascript\",\"python\",\"html\",\"java\",\"python\",\"python\",\"java\",\"java\",\"javascript\",\"python\",\"python\",\"sql\",\"html\",\"java\",\"javascript\",\"python\",\"html\",\"java\",\"javascript\",\"python\",\"sql\",\"html\",\"javascript\",\"html\",\"java\",\"javascript\",\"python\",\"sql\",\"html\",\"javascript\",\"html\",\"javascript\",\"python\",\"html\",\"javascript\",\"python\",\"sql\",\"html\",\"javascript\",\"python\",\"sql\",\"javascript\",\"javascript\",\"python\",\"sql\",\"java\",\"javascript\",\"html\",\"javascript\",\"python\",\"html\",\"javascript\",\"python\",\"sql\",\"html\",\"javascript\",\"python\",\"python\",\"python\",\"html\",\"javascript\",\"python\",\"sql\",\"java\",\"javascript\",\"python\",\"python\",\"sql\",\"java\",\"html\",\"javascript\",\"python\",\"sql\",\"python\",\"python\",\"sql\",\"python\",\"python\",\"sql\",\"javascript\",\"python\",\"sql\",\"java\",\"javascript\",\"python\",\"java\",\"javascript\",\"python\",\"python\",\"javascript\",\"python\",\"sql\",\"python\",\"javascript\",\"python\",\"python\",\"html\",\"javascript\",\"java\",\"sql\",\"java\",\"java\",\"python\",\"sql\",\"python\",\"html\",\"javascript\",\"sql\",\"java\",\"html\",\"javascript\",\"java\",\"python\",\"javascript\",\"python\",\"sql\",\"python\",\"sql\",\"java\",\"python\",\"python\",\"java\",\"html\",\"javascript\",\"sql\",\"javascript\",\"python\",\"sql\",\"java\",\"javascript\",\"python\",\"html\",\"javascript\",\"sql\",\"javascript\",\"sql\",\"html\",\"javascript\",\"python\",\"html\",\"javascript\",\"java\",\"sql\",\"javascript\",\"javascript\",\"java\",\"javascript\",\"sql\",\"java\",\"java\",\"javascript\",\"python\",\"python\",\"sql\",\"html\",\"javascript\",\"sql\",\"java\",\"javascript\",\"java\",\"java\",\"python\",\"sql\",\"html\",\"javascript\",\"sql\",\"html\",\"javascript\",\"html\",\"javascript\",\"html\",\"java\",\"javascript\",\"html\",\"java\",\"javascript\",\"html\",\"java\",\"javascript\",\"sql\",\"python\",\"javascript\",\"python\",\"sql\",\"python\",\"sql\",\"javascript\",\"python\",\"java\",\"sql\",\"java\",\"python\",\"python\",\"sql\",\"java\",\"javascript\",\"html\",\"javascript\",\"sql\",\"sql\",\"html\",\"javascript\",\"sql\",\"python\",\"java\",\"java\",\"javascript\",\"python\",\"java\",\"java\",\"html\",\"javascript\",\"javascript\",\"sql\",\"html\",\"javascript\",\"python\",\"html\",\"java\",\"javascript\",\"sql\",\"html\",\"javascript\",\"python\",\"sql\",\"javascript\",\"sql\",\"java\",\"html\",\"javascript\",\"python\",\"sql\",\"javascript\",\"python\",\"html\",\"java\",\"javascript\",\"sql\",\"html\",\"javascript\",\"javascript\",\"python\",\"sql\",\"python\",\"sql\",\"java\",\"python\",\"java\",\"python\",\"python\",\"javascript\",\"python\",\"javascript\",\"python\",\"html\",\"java\",\"javascript\",\"html\",\"java\",\"javascript\",\"sql\",\"html\",\"javascript\",\"python\",\"sql\",\"java\",\"html\",\"javascript\",\"html\",\"java\",\"javascript\",\"html\",\"javascript\",\"python\",\"python\",\"html\",\"javascript\",\"javascript\",\"python\",\"javascript\",\"python\",\"html\",\"sql\",\"python\",\"python\",\"java\",\"javascript\",\"java\",\"javascript\",\"html\",\"sql\",\"html\",\"java\",\"javascript\",\"python\",\"sql\",\"python\",\"python\",\"sql\",\"html\",\"javascript\",\"html\",\"javascript\",\"sql\",\"java\",\"python\",\"sql\",\"javascript\",\"python\",\"javascript\",\"python\",\"html\",\"javascript\",\"python\",\"javascript\",\"html\",\"javascript\",\"python\",\"sql\",\"html\",\"javascript\",\"java\",\"python\",\"sql\",\"html\",\"python\",\"html\",\"javascript\",\"python\",\"sql\",\"sql\",\"javascript\",\"python\",\"html\",\"java\",\"javascript\",\"html\",\"java\",\"javascript\",\"python\",\"sql\",\"java\",\"javascript\",\"javascript\",\"html\",\"javascript\",\"sql\",\"java\",\"javascript\",\"html\",\"java\",\"javascript\",\"python\",\"sql\",\"java\",\"javascript\",\"sql\",\"html\",\"java\",\"javascript\",\"sql\",\"python\",\"html\",\"java\",\"javascript\",\"sql\",\"java\",\"sql\",\"html\",\"java\",\"javascript\",\"sql\",\"javascript\",\"python\",\"sql\",\"html\",\"java\",\"javascript\",\"sql\",\"sql\",\"javascript\",\"python\",\"html\",\"java\",\"javascript\",\"sql\",\"python\",\"sql\",\"java\",\"python\",\"sql\",\"html\",\"javascript\",\"sql\",\"sql\",\"java\",\"javascript\",\"sql\",\"python\",\"python\",\"python\",\"sql\",\"python\",\"javascript\",\"python\",\"sql\",\"javascript\",\"python\",\"sql\",\"javascript\",\"java\",\"javascript\",\"sql\",\"html\",\"java\",\"javascript\",\"sql\",\"java\",\"javascript\",\"sql\",\"javascript\",\"java\",\"python\",\"html\",\"sql\",\"html\",\"javascript\",\"html\",\"java\",\"javascript\",\"python\",\"html\",\"javascript\",\"sql\",\"python\",\"sql\",\"python\",\"sql\",\"java\",\"java\",\"html\",\"java\",\"javascript\",\"sql\",\"java\",\"java\",\"python\",\"sql\",\"javascript\",\"javascript\",\"sql\",\"java\",\"javascript\",\"python\",\"html\",\"javascript\",\"sql\",\"html\",\"javascript\",\"html\",\"javascript\",\"python\",\"javascript\",\"python\",\"java\",\"javascript\",\"java\",\"python\",\"html\",\"java\",\"javascript\",\"python\",\"sql\",\"html\",\"javascript\",\"java\",\"javascript\",\"sql\",\"javascript\",\"html\",\"java\",\"python\",\"javascript\",\"html\",\"javascript\",\"python\",\"sql\",\"html\",\"java\",\"javascript\",\"sql\",\"javascript\",\"html\",\"javascript\",\"sql\",\"html\",\"javascript\",\"python\",\"html\",\"javascript\",\"python\",\"sql\",\"html\",\"javascript\",\"sql\",\"html\",\"javascript\",\"java\",\"html\",\"javascript\",\"javascript\",\"python\",\"sql\",\"java\",\"sql\",\"html\",\"javascript\",\"sql\",\"html\",\"javascript\",\"python\",\"sql\",\"html\",\"javascript\",\"sql\",\"javascript\",\"javascript\",\"sql\",\"javascript\",\"sql\",\"java\",\"javascript\",\"python\",\"sql\",\"java\",\"javascript\",\"sql\",\"html\",\"javascript\",\"html\",\"java\",\"javascript\",\"sql\",\"java\",\"javascript\",\"html\",\"javascript\",\"python\",\"java\",\"html\",\"java\",\"javascript\",\"sql\",\"python\",\"java\",\"javascript\",\"sql\",\"html\",\"java\",\"javascript\",\"python\",\"java\",\"python\",\"sql\",\"java\",\"python\",\"python\",\"sql\",\"python\",\"java\",\"python\",\"javascript\",\"sql\",\"java\",\"sql\",\"sql\",\"html\",\"java\",\"javascript\",\"python\",\"python\",\"sql\",\"sql\",\"html\",\"javascript\",\"html\",\"java\",\"sql\",\"html\",\"java\",\"javascript\",\"python\",\"javascript\",\"javascript\",\"python\",\"sql\",\"javascript\",\"javascript\",\"javascript\",\"html\",\"javascript\",\"sql\",\"html\",\"javascript\",\"html\",\"javascript\",\"sql\",\"html\",\"java\",\"javascript\",\"python\",\"java\",\"sql\",\"python\",\"sql\",\"java\",\"python\",\"html\",\"javascript\",\"sql\",\"javascript\",\"sql\",\"html\",\"javascript\",\"html\",\"sql\",\"java\",\"sql\",\"html\",\"javascript\",\"sql\",\"html\",\"javascript\",\"java\",\"java\",\"python\",\"python\",\"java\",\"javascript\",\"sql\",\"html\",\"javascript\",\"sql\",\"python\",\"html\",\"javascript\",\"sql\",\"html\",\"javascript\",\"sql\",\"java\",\"html\",\"java\",\"sql\",\"javascript\",\"sql\",\"java\",\"java\",\"javascript\",\"python\",\"sql\",\"html\",\"javascript\",\"html\",\"javascript\",\"python\",\"sql\",\"html\",\"javascript\",\"python\",\"java\",\"javascript\",\"python\",\"sql\",\"java\",\"javascript\",\"html\",\"javascript\",\"sql\",\"python\",\"sql\",\"html\",\"javascript\",\"sql\",\"html\",\"javascript\",\"html\",\"javascript\",\"python\",\"python\",\"sql\",\"sql\",\"python\",\"sql\",\"java\",\"javascript\",\"sql\",\"python\",\"java\",\"python\",\"python\",\"sql\",\"python\",\"java\",\"html\",\"java\",\"javascript\",\"sql\",\"javascript\",\"python\",\"sql\",\"javascript\",\"html\",\"javascript\",\"html\",\"javascript\",\"sql\",\"html\",\"python\",\"sql\",\"python\",\"html\",\"javascript\",\"sql\",\"python\",\"html\",\"javascript\",\"java\",\"python\",\"python\",\"javascript\",\"javascript\",\"python\",\"sql\",\"html\",\"javascript\",\"sql\",\"java\",\"java\",\"javascript\",\"sql\",\"html\",\"java\",\"javascript\",\"sql\",\"html\",\"javascript\",\"sql\",\"javascript\",\"javascript\",\"javascript\",\"html\",\"javascript\",\"java\",\"python\",\"html\",\"javascript\",\"python\",\"javascript\",\"python\",\"python\",\"java\",\"html\",\"python\",\"sql\",\"python\",\"html\",\"javascript\",\"sql\",\"javascript\",\"html\",\"javascript\",\"html\",\"javascript\",\"html\",\"javascript\",\"python\",\"javascript\",\"html\",\"java\",\"javascript\",\"sql\",\"python\",\"sql\",\"python\",\"java\",\"python\",\"sql\",\"html\",\"javascript\",\"html\",\"javascript\",\"sql\",\"python\",\"java\",\"java\",\"python\",\"java\",\"java\",\"python\",\"sql\",\"java\",\"python\",\"java\",\"python\",\"sql\",\"javascript\",\"html\",\"java\",\"javascript\",\"sql\",\"html\",\"javascript\",\"python\",\"java\",\"java\",\"sql\",\"java\",\"sql\",\"html\",\"javascript\",\"sql\",\"python\",\"javascript\",\"html\",\"javascript\",\"sql\",\"html\",\"javascript\",\"python\",\"sql\",\"html\",\"java\",\"javascript\",\"python\",\"sql\",\"sql\",\"html\",\"sql\",\"python\",\"html\",\"javascript\",\"python\",\"sql\",\"python\",\"java\",\"javascript\",\"python\",\"javascript\",\"html\",\"java\",\"javascript\",\"python\",\"sql\",\"html\",\"javascript\",\"python\",\"sql\",\"java\",\"javascript\",\"javascript\",\"html\",\"javascript\",\"sql\",\"java\",\"html\",\"javascript\",\"sql\",\"python\",\"javascript\",\"sql\",\"html\",\"java\",\"javascript\",\"html\",\"java\",\"javascript\",\"python\",\"sql\",\"java\",\"javascript\",\"sql\",\"html\",\"javascript\",\"python\",\"sql\",\"java\",\"html\",\"javascript\",\"sql\",\"javascript\",\"sql\",\"java\",\"python\",\"html\",\"javascript\",\"sql\",\"python\",\"html\",\"javascript\",\"java\",\"python\",\"sql\",\"java\",\"python\",\"sql\",\"java\",\"javascript\",\"java\",\"javascript\",\"java\",\"html\",\"html\",\"javascript\",\"javascript\",\"python\",\"sql\",\"html\",\"javascript\",\"sql\",\"python\",\"javascript\",\"python\",\"javascript\",\"html\",\"java\",\"javascript\",\"python\",\"sql\",\"java\",\"javascript\",\"python\",\"html\",\"javascript\",\"sql\",\"html\",\"javascript\",\"python\",\"html\",\"javascript\",\"python\",\"javascript\",\"python\",\"javascript\",\"python\",\"sql\",\"html\",\"javascript\",\"sql\",\"javascript\",\"python\",\"javascript\",\"html\",\"java\",\"javascript\",\"sql\",\"java\",\"python\",\"python\",\"python\",\"python\",\"python\",\"java\",\"python\",\"sql\",\"python\",\"sql\",\"java\",\"javascript\",\"python\",\"python\",\"sql\",\"html\",\"python\",\"java\",\"javascript\",\"python\",\"python\",\"javascript\",\"html\",\"javascript\",\"sql\",\"python\",\"sql\",\"html\",\"javascript\",\"java\",\"javascript\",\"python\",\"sql\",\"javascript\",\"python\",\"sql\",\"java\",\"javascript\",\"sql\",\"html\",\"javascript\",\"javascript\",\"java\",\"html\",\"javascript\",\"python\",\"sql\",\"javascript\",\"python\",\"java\",\"javascript\",\"python\",\"sql\",\"sql\",\"java\",\"java\",\"javascript\",\"sql\",\"html\",\"javascript\",\"javascript\",\"html\",\"javascript\",\"python\",\"sql\",\"javascript\",\"sql\",\"html\",\"javascript\",\"python\",\"python\",\"sql\",\"html\",\"javascript\",\"javascript\",\"sql\",\"java\",\"python\",\"javascript\",\"python\",\"sql\",\"java\",\"javascript\",\"python\",\"java\",\"html\",\"java\",\"python\",\"sql\",\"html\",\"java\",\"javascript\",\"sql\",\"javascript\",\"html\",\"javascript\",\"sql\",\"sql\",\"html\",\"java\",\"javascript\",\"sql\",\"java\",\"sql\",\"javascript\",\"python\",\"html\",\"javascript\",\"python\",\"sql\",\"java\",\"python\",\"java\",\"javascript\",\"python\",\"sql\",\"java\",\"html\",\"javascript\",\"java\",\"html\",\"java\",\"javascript\",\"sql\",\"html\",\"javascript\",\"sql\",\"javascript\",\"html\",\"javascript\",\"sql\",\"java\",\"python\",\"sql\",\"html\",\"java\",\"javascript\",\"sql\",\"html\",\"javascript\",\"java\",\"html\",\"javascript\",\"sql\",\"java\",\"sql\",\"java\",\"javascript\",\"html\",\"javascript\",\"sql\",\"javascript\",\"sql\",\"python\",\"python\",\"sql\",\"python\",\"python\",\"java\",\"javascript\",\"sql\",\"html\",\"java\",\"javascript\",\"python\",\"html\",\"java\",\"python\",\"java\",\"python\",\"java\",\"python\",\"html\",\"javascript\",\"html\",\"java\",\"javascript\",\"java\",\"javascript\",\"python\",\"sql\",\"javascript\",\"python\",\"sql\",\"java\",\"javascript\",\"sql\",\"html\",\"javascript\",\"javascript\",\"python\",\"html\",\"javascript\",\"html\",\"java\",\"javascript\",\"python\",\"python\",\"sql\",\"javascript\",\"python\",\"python\",\"javascript\",\"python\",\"javascript\",\"sql\",\"html\",\"java\",\"javascript\",\"sql\",\"javascript\",\"html\",\"javascript\",\"sql\",\"java\",\"javascript\",\"python\",\"sql\",\"sql\",\"java\",\"javascript\",\"python\",\"java\",\"python\",\"java\",\"javascript\",\"python\",\"javascript\",\"python\",\"javascript\",\"javascript\",\"html\",\"javascript\",\"sql\",\"html\",\"javascript\",\"python\",\"sql\",\"javascript\",\"java\",\"html\",\"javascript\",\"sql\",\"python\",\"sql\",\"java\",\"javascript\",\"sql\",\"html\",\"javascript\",\"java\",\"javascript\",\"python\",\"java\",\"javascript\",\"java\",\"java\",\"java\",\"javascript\",\"python\",\"html\",\"javascript\",\"sql\",\"java\",\"javascript\",\"sql\",\"java\",\"html\",\"javascript\",\"sql\",\"python\",\"javascript\",\"html\",\"java\",\"javascript\",\"java\",\"javascript\",\"sql\",\"javascript\",\"html\",\"javascript\",\"javascript\",\"html\",\"javascript\",\"java\",\"html\",\"java\",\"javascript\",\"sql\",\"html\",\"javascript\",\"sql\",\"python\",\"sql\",\"html\",\"java\",\"javascript\",\"python\",\"sql\",\"python\",\"html\",\"java\",\"javascript\",\"sql\",\"sql\",\"html\",\"javascript\",\"html\",\"java\",\"javascript\",\"sql\",\"python\",\"java\",\"javascript\",\"python\",\"sql\",\"javascript\",\"sql\",\"python\",\"python\",\"python\",\"java\",\"sql\",\"javascript\",\"html\",\"javascript\",\"sql\",\"java\",\"javascript\",\"html\",\"javascript\",\"sql\",\"html\",\"javascript\",\"java\",\"javascript\",\"python\",\"javascript\",\"python\",\"html\",\"javascript\",\"html\",\"javascript\",\"sql\",\"html\",\"java\",\"javascript\",\"python\",\"sql\",\"javascript\",\"javascript\",\"sql\",\"javascript\",\"python\",\"html\",\"java\",\"python\",\"sql\",\"python\",\"html\",\"java\",\"javascript\",\"python\",\"python\",\"sql\",\"python\",\"sql\",\"javascript\",\"python\",\"java\",\"javascript\",\"java\",\"javascript\",\"java\",\"java\",\"html\",\"javascript\",\"python\",\"sql\",\"sql\",\"java\",\"html\",\"java\",\"javascript\",\"sql\",\"html\",\"javascript\",\"java\",\"javascript\",\"sql\",\"html\",\"java\",\"javascript\",\"sql\",\"html\",\"javascript\",\"java\",\"javascript\",\"java\",\"python\",\"sql\",\"html\",\"javascript\",\"javascript\",\"javascript\",\"sql\",\"java\",\"javascript\",\"python\",\"sql\",\"html\",\"javascript\",\"python\",\"sql\",\"java\",\"javascript\",\"sql\",\"html\",\"java\",\"javascript\",\"javascript\",\"sql\",\"python\",\"html\",\"java\",\"javascript\",\"sql\",\"html\",\"java\",\"javascript\",\"sql\",\"html\",\"javascript\",\"python\",\"javascript\",\"html\",\"javascript\",\"sql\",\"python\",\"sql\",\"html\",\"java\",\"javascript\",\"python\",\"sql\",\"python\",\"sql\",\"sql\",\"html\",\"javascript\",\"sql\",\"java\",\"python\",\"html\",\"javascript\",\"sql\",\"javascript\",\"python\",\"sql\",\"python\",\"sql\",\"java\",\"javascript\",\"python\",\"sql\",\"java\",\"html\",\"javascript\",\"sql\",\"html\",\"javascript\",\"python\",\"sql\",\"python\",\"java\",\"python\",\"sql\",\"sql\",\"java\",\"javascript\",\"sql\",\"sql\",\"html\",\"java\",\"javascript\",\"sql\",\"html\",\"java\",\"javascript\",\"python\",\"sql\",\"java\",\"javascript\",\"python\",\"python\",\"html\",\"javascript\",\"python\",\"java\",\"sql\",\"python\",\"java\",\"javascript\",\"html\",\"java\",\"javascript\",\"python\",\"html\",\"javascript\",\"sql\",\"java\",\"sql\",\"sql\",\"python\",\"html\",\"javascript\",\"java\",\"javascript\",\"python\",\"sql\",\"html\",\"java\",\"javascript\",\"python\",\"sql\",\"python\",\"python\",\"html\",\"javascript\",\"html\",\"java\",\"javascript\",\"python\",\"sql\",\"python\",\"html\",\"javascript\",\"sql\",\"java\",\"html\",\"javascript\",\"python\",\"sql\",\"html\",\"java\",\"javascript\",\"python\",\"java\",\"sql\",\"python\",\"java\",\"javascript\",\"javascript\",\"python\",\"sql\",\"java\",\"javascript\",\"sql\",\"java\",\"python\",\"html\",\"java\",\"javascript\",\"sql\",\"python\",\"javascript\",\"python\",\"java\",\"java\",\"javascript\",\"python\",\"sql\",\"html\",\"javascript\",\"python\",\"sql\",\"html\",\"java\",\"javascript\",\"java\",\"python\",\"sql\",\"html\",\"javascript\",\"html\",\"javascript\",\"html\",\"javascript\",\"java\",\"javascript\",\"python\",\"sql\",\"java\",\"javascript\",\"javascript\",\"python\",\"sql\",\"html\",\"java\",\"javascript\",\"sql\",\"python\",\"java\",\"javascript\",\"python\",\"html\",\"java\",\"javascript\",\"sql\",\"java\",\"sql\",\"html\",\"javascript\",\"html\",\"javascript\",\"html\",\"java\",\"javascript\",\"sql\",\"sql\",\"html\",\"javascript\",\"python\",\"html\",\"java\",\"javascript\",\"python\",\"sql\",\"html\",\"sql\",\"java\",\"html\",\"javascript\",\"sql\",\"html\",\"java\",\"python\",\"java\",\"python\",\"sql\",\"java\",\"html\",\"javascript\",\"javascript\",\"sql\",\"java\",\"python\",\"sql\",\"javascript\",\"sql\",\"java\",\"python\",\"python\",\"java\",\"sql\",\"java\",\"sql\",\"sql\",\"java\",\"javascript\",\"java\",\"java\",\"html\",\"java\",\"javascript\",\"python\",\"sql\",\"java\",\"javascript\",\"java\",\"java\",\"html\",\"javascript\",\"java\",\"sql\",\"html\",\"java\",\"javascript\",\"sql\",\"javascript\",\"java\",\"javascript\",\"javascript\",\"sql\",\"html\",\"java\",\"javascript\",\"sql\",\"python\",\"java\",\"sql\",\"html\",\"javascript\",\"sql\",\"java\",\"javascript\",\"sql\",\"java\",\"javascript\",\"sql\",\"javascript\",\"python\",\"python\",\"sql\",\"java\",\"javascript\",\"python\",\"sql\",\"javascript\",\"java\",\"sql\",\"java\",\"javascript\",\"javascript\",\"sql\",\"html\",\"java\",\"sql\",\"html\",\"javascript\",\"sql\",\"java\",\"python\",\"java\",\"javascript\",\"sql\",\"html\",\"javascript\",\"html\",\"java\",\"javascript\",\"html\",\"java\",\"javascript\",\"java\",\"javascript\",\"html\",\"java\",\"javascript\",\"python\",\"sql\",\"java\",\"python\",\"java\",\"javascript\",\"python\",\"sql\",\"java\",\"javascript\",\"html\",\"java\",\"javascript\",\"html\",\"javascript\",\"python\",\"python\",\"java\",\"javascript\",\"python\",\"html\",\"javascript\",\"sql\",\"javascript\",\"python\",\"javascript\",\"java\",\"javascript\",\"html\",\"java\",\"javascript\",\"sql\",\"javascript\",\"python\",\"html\",\"java\",\"javascript\",\"sql\",\"html\",\"java\",\"javascript\",\"sql\",\"java\",\"java\",\"sql\",\"java\",\"javascript\",\"html\",\"javascript\",\"sql\",\"html\",\"javascript\",\"sql\",\"java\",\"python\",\"sql\",\"java\",\"sql\",\"java\",\"html\",\"java\",\"javascript\",\"sql\",\"python\",\"java\",\"python\",\"sql\",\"java\",\"html\",\"sql\",\"java\",\"java\",\"javascript\",\"javascript\",\"python\",\"java\",\"sql\",\"java\",\"javascript\",\"sql\",\"python\",\"javascript\",\"html\",\"java\",\"javascript\",\"sql\",\"html\",\"java\",\"javascript\",\"sql\",\"python\",\"sql\",\"javascript\",\"python\",\"html\",\"javascript\",\"python\",\"sql\",\"html\",\"java\",\"javascript\",\"sql\",\"javascript\",\"java\",\"javascript\",\"javascript\",\"sql\",\"java\",\"java\",\"html\",\"java\",\"javascript\",\"sql\",\"python\",\"sql\",\"html\",\"javascript\",\"java\",\"html\",\"java\",\"javascript\",\"java\",\"javascript\",\"sql\",\"html\",\"javascript\",\"java\",\"python\",\"sql\",\"html\",\"java\",\"javascript\",\"html\",\"java\",\"javascript\",\"java\",\"java\",\"python\",\"python\",\"sql\",\"html\",\"javascript\",\"html\",\"java\",\"javascript\",\"sql\",\"java\",\"javascript\",\"java\",\"python\",\"html\",\"javascript\",\"sql\",\"html\",\"javascript\",\"sql\",\"html\",\"javascript\",\"python\",\"sql\",\"html\",\"javascript\",\"sql\",\"java\",\"python\",\"sql\",\"python\",\"html\",\"javascript\",\"sql\",\"javascript\",\"sql\",\"java\",\"python\",\"sql\",\"html\",\"java\",\"javascript\",\"python\",\"sql\",\"java\",\"python\",\"sql\",\"python\",\"java\",\"sql\",\"html\",\"javascript\",\"sql\",\"sql\",\"html\",\"javascript\",\"java\",\"sql\",\"python\",\"sql\",\"javascript\",\"html\",\"javascript\",\"sql\",\"html\",\"javascript\",\"java\",\"javascript\",\"python\",\"sql\",\"java\",\"python\",\"java\",\"sql\",\"java\",\"javascript\",\"sql\",\"html\",\"javascript\",\"sql\",\"python\",\"javascript\",\"python\",\"html\",\"java\",\"sql\",\"html\",\"javascript\",\"python\",\"sql\",\"html\",\"javascript\",\"sql\",\"java\",\"html\",\"java\",\"javascript\",\"python\",\"sql\",\"python\",\"python\",\"html\",\"python\",\"sql\",\"python\",\"python\",\"java\",\"python\",\"java\",\"javascript\",\"html\",\"java\",\"javascript\",\"python\",\"sql\",\"html\",\"java\",\"javascript\",\"python\",\"sql\",\"java\",\"javascript\",\"sql\",\"sql\",\"python\",\"sql\",\"javascript\",\"python\",\"java\",\"python\",\"javascript\",\"python\",\"java\",\"html\",\"java\",\"javascript\",\"python\",\"sql\",\"html\",\"javascript\",\"python\",\"javascript\",\"python\",\"python\",\"python\",\"sql\",\"html\",\"javascript\",\"sql\",\"javascript\",\"html\",\"java\",\"javascript\",\"sql\",\"html\",\"javascript\",\"html\",\"java\",\"javascript\",\"html\",\"javascript\",\"sql\",\"html\",\"javascript\",\"sql\",\"java\",\"python\",\"javascript\",\"python\",\"javascript\",\"javascript\",\"java\",\"javascript\",\"python\",\"html\",\"javascript\",\"python\",\"sql\",\"html\",\"java\",\"python\",\"sql\",\"java\",\"javascript\",\"javascript\",\"sql\",\"java\",\"sql\",\"javascript\",\"html\",\"javascript\",\"python\",\"sql\",\"python\",\"sql\",\"java\",\"javascript\",\"python\",\"java\",\"python\",\"html\",\"javascript\",\"python\",\"sql\",\"java\",\"sql\",\"sql\",\"java\",\"html\",\"java\",\"javascript\",\"sql\",\"javascript\",\"python\",\"sql\",\"java\",\"html\",\"javascript\",\"python\",\"sql\",\"javascript\",\"python\",\"sql\",\"java\",\"javascript\",\"python\",\"sql\",\"html\",\"javascript\",\"python\",\"sql\",\"javascript\",\"html\",\"java\",\"javascript\",\"sql\",\"python\",\"html\",\"java\",\"javascript\",\"python\",\"sql\",\"python\",\"java\",\"javascript\",\"python\",\"html\",\"javascript\",\"python\",\"java\",\"python\",\"java\",\"javascript\",\"python\",\"sql\",\"python\",\"sql\",\"html\",\"javascript\",\"python\",\"html\",\"java\",\"javascript\",\"sql\",\"java\",\"sql\",\"html\",\"javascript\",\"python\",\"java\",\"python\",\"html\",\"java\",\"javascript\",\"sql\",\"python\",\"html\",\"javascript\",\"python\",\"sql\",\"html\",\"java\",\"javascript\",\"sql\",\"sql\",\"html\",\"javascript\",\"sql\",\"python\",\"java\",\"python\",\"html\",\"java\",\"sql\",\"java\",\"python\",\"python\",\"javascript\",\"python\",\"html\",\"javascript\",\"python\",\"sql\",\"java\",\"javascript\",\"python\",\"html\",\"java\",\"python\",\"sql\",\"java\",\"java\",\"javascript\",\"sql\",\"python\",\"javascript\",\"html\",\"java\",\"javascript\",\"sql\",\"html\",\"javascript\",\"html\",\"java\",\"javascript\",\"sql\",\"java\",\"javascript\",\"html\",\"javascript\",\"python\",\"sql\",\"python\",\"html\",\"java\",\"javascript\",\"javascript\",\"html\",\"javascript\",\"sql\",\"java\",\"javascript\",\"html\",\"javascript\",\"sql\",\"html\",\"javascript\",\"javascript\",\"html\",\"javascript\",\"sql\",\"java\",\"java\",\"sql\",\"javascript\",\"python\",\"sql\",\"javascript\",\"sql\",\"html\",\"javascript\",\"sql\",\"sql\",\"java\",\"javascript\",\"python\",\"sql\",\"html\",\"javascript\",\"python\",\"sql\",\"html\",\"java\",\"javascript\",\"java\",\"python\",\"sql\",\"html\",\"javascript\",\"python\",\"html\",\"javascript\",\"python\",\"sql\",\"javascript\",\"html\",\"python\",\"javascript\",\"python\",\"sql\",\"html\",\"javascript\",\"java\",\"python\",\"html\",\"javascript\",\"python\",\"html\",\"java\",\"javascript\",\"sql\",\"html\",\"javascript\",\"python\",\"java\",\"javascript\",\"python\",\"sql\",\"java\",\"python\",\"javascript\",\"python\",\"java\",\"python\",\"javascript\",\"sql\",\"python\",\"html\",\"java\",\"sql\",\"java\",\"java\",\"python\",\"java\",\"python\",\"html\",\"javascript\",\"java\",\"html\",\"java\",\"javascript\",\"python\",\"javascript\",\"html\",\"javascript\",\"sql\",\"html\",\"java\",\"javascript\",\"sql\",\"java\",\"javascript\",\"python\",\"html\",\"javascript\",\"java\",\"python\",\"sql\",\"html\",\"javascript\",\"sql\",\"html\",\"javascript\",\"python\",\"sql\",\"html\",\"javascript\",\"sql\",\"html\",\"javascript\",\"html\",\"javascript\",\"html\",\"sql\",\"html\",\"javascript\",\"python\",\"sql\",\"python\",\"sql\",\"python\",\"sql\",\"html\",\"javascript\",\"sql\",\"java\",\"javascript\",\"java\",\"javascript\",\"sql\",\"html\",\"javascript\",\"python\",\"sql\",\"javascript\",\"sql\",\"html\",\"java\",\"javascript\",\"python\",\"python\",\"sql\",\"java\",\"python\",\"python\",\"sql\",\"html\",\"javascript\",\"sql\",\"html\",\"java\",\"html\",\"javascript\",\"python\",\"html\",\"java\",\"javascript\",\"java\",\"javascript\",\"python\",\"java\",\"javascript\",\"python\",\"sql\",\"javascript\",\"sql\",\"html\",\"java\",\"javascript\",\"sql\",\"sql\",\"html\",\"java\",\"javascript\",\"html\",\"java\",\"javascript\",\"python\",\"sql\",\"java\",\"sql\",\"java\",\"javascript\",\"sql\",\"html\",\"javascript\",\"sql\",\"html\",\"javascript\",\"sql\",\"html\",\"javascript\",\"sql\",\"sql\",\"html\",\"javascript\",\"sql\",\"python\",\"javascript\",\"html\",\"javascript\",\"sql\",\"javascript\",\"python\",\"sql\",\"sql\",\"java\",\"javascript\",\"java\",\"java\",\"javascript\",\"python\",\"sql\",\"javascript\",\"sql\",\"python\",\"sql\",\"java\",\"sql\",\"html\",\"java\",\"html\",\"javascript\",\"sql\",\"html\",\"javascript\",\"sql\",\"html\",\"javascript\",\"python\",\"sql\",\"javascript\",\"python\",\"javascript\",\"sql\",\"html\",\"javascript\",\"sql\",\"javascript\",\"sql\",\"html\",\"javascript\",\"sql\",\"java\",\"javascript\",\"sql\",\"html\",\"java\",\"javascript\",\"python\",\"sql\",\"html\",\"java\",\"javascript\",\"python\",\"sql\",\"html\",\"java\",\"javascript\",\"python\",\"html\",\"java\",\"python\",\"sql\",\"java\",\"python\",\"html\",\"javascript\",\"python\",\"sql\",\"java\",\"python\",\"html\",\"javascript\",\"java\",\"javascript\",\"python\",\"html\",\"javascript\",\"python\",\"sql\",\"java\",\"python\",\"sql\",\"python\",\"sql\",\"html\",\"javascript\",\"java\",\"sql\",\"javascript\",\"html\",\"javascript\",\"sql\",\"java\",\"html\",\"javascript\",\"javascript\",\"sql\",\"html\",\"javascript\",\"html\",\"javascript\",\"python\",\"sql\",\"javascript\",\"python\",\"javascript\",\"python\",\"java\",\"javascript\",\"java\",\"python\",\"javascript\",\"sql\",\"java\",\"python\",\"sql\",\"html\",\"javascript\",\"python\",\"python\",\"sql\",\"javascript\",\"python\",\"html\",\"python\",\"sql\",\"html\",\"javascript\",\"sql\",\"html\",\"java\",\"javascript\",\"python\",\"sql\",\"javascript\",\"html\",\"javascript\",\"sql\",\"python\",\"html\",\"javascript\",\"python\",\"sql\",\"java\",\"javascript\",\"sql\",\"java\",\"html\",\"java\",\"sql\",\"html\",\"java\",\"javascript\",\"html\",\"javascript\",\"sql\",\"java\",\"python\",\"html\",\"javascript\",\"javascript\",\"java\",\"python\",\"sql\",\"python\",\"sql\",\"html\",\"javascript\",\"sql\",\"javascript\",\"python\",\"java\",\"javascript\",\"html\",\"sql\",\"html\",\"javascript\",\"python\",\"javascript\",\"java\",\"javascript\",\"java\",\"java\",\"java\",\"javascript\",\"java\",\"java\",\"sql\",\"java\",\"javascript\",\"html\",\"java\",\"javascript\",\"java\",\"java\",\"javascript\",\"sql\",\"java\",\"python\",\"sql\",\"python\",\"java\",\"sql\",\"sql\",\"html\",\"java\",\"javascript\",\"python\",\"sql\",\"java\",\"python\",\"sql\",\"python\",\"html\",\"javascript\",\"python\",\"java\",\"javascript\",\"python\",\"python\",\"javascript\",\"java\",\"java\",\"java\",\"sql\",\"sql\",\"html\",\"java\",\"javascript\",\"python\",\"sql\",\"html\",\"javascript\",\"sql\",\"java\",\"java\",\"javascript\",\"python\",\"sql\",\"html\",\"html\",\"java\",\"javascript\",\"python\",\"python\",\"html\",\"javascript\",\"sql\",\"java\",\"html\",\"javascript\",\"javascript\",\"sql\",\"javascript\",\"javascript\",\"python\",\"html\",\"javascript\",\"sql\",\"python\",\"sql\",\"python\",\"javascript\",\"python\",\"sql\",\"sql\",\"python\",\"html\",\"javascript\",\"python\",\"java\",\"java\",\"python\",\"java\",\"html\",\"javascript\",\"sql\",\"java\",\"java\",\"javascript\",\"python\",\"html\",\"javascript\",\"python\",\"sql\",\"java\",\"java\",\"javascript\",\"java\",\"python\",\"sql\",\"javascript\",\"java\",\"python\",\"html\",\"javascript\",\"sql\",\"html\",\"java\",\"javascript\",\"python\",\"sql\",\"sql\",\"java\",\"javascript\",\"sql\",\"java\",\"javascript\",\"python\",\"python\",\"java\",\"sql\",\"python\",\"sql\",\"html\",\"java\",\"sql\",\"java\",\"javascript\",\"java\",\"python\",\"sql\",\"html\",\"javascript\",\"python\",\"sql\",\"python\",\"javascript\",\"python\",\"sql\",\"python\",\"sql\",\"java\",\"javascript\",\"java\",\"html\",\"javascript\",\"sql\",\"java\",\"sql\",\"html\",\"java\",\"javascript\",\"sql\",\"java\",\"java\",\"python\",\"java\",\"javascript\",\"javascript\",\"html\",\"javascript\",\"python\",\"java\",\"javascript\",\"sql\",\"java\",\"html\",\"java\",\"javascript\",\"html\",\"java\",\"python\",\"sql\",\"html\",\"javascript\",\"python\",\"sql\",\"html\",\"python\",\"sql\",\"java\",\"javascript\",\"python\",\"sql\",\"java\",\"javascript\",\"html\",\"java\",\"sql\",\"javascript\",\"python\",\"java\",\"html\",\"java\",\"sql\",\"java\",\"javascript\",\"python\",\"sql\",\"python\",\"html\",\"java\",\"javascript\",\"html\",\"javascript\",\"python\",\"html\",\"python\",\"sql\",\"html\",\"java\",\"javascript\",\"html\",\"python\",\"sql\",\"sql\",\"sql\",\"sql\",\"html\",\"java\",\"html\",\"javascript\",\"sql\",\"java\",\"java\",\"javascript\",\"sql\",\"sql\",\"html\",\"sql\",\"python\",\"html\",\"java\",\"sql\",\"html\",\"sql\",\"java\",\"html\",\"java\",\"javascript\",\"java\",\"python\",\"sql\",\"html\",\"java\",\"javascript\",\"sql\",\"html\",\"java\",\"javascript\",\"python\",\"java\",\"html\",\"javascript\",\"sql\",\"python\",\"java\",\"java\",\"javascript\",\"html\",\"javascript\",\"html\",\"javascript\",\"html\",\"java\",\"python\",\"sql\",\"python\",\"python\",\"sql\"],\"x0\":\" \",\"xaxis\":\"x\",\"y\":[102000.0,102000.0,102000.0,102000.0,102000.0,106000.0,106000.0,106000.0,100000.0,100000.0,100000.0,200000.0,200000.0,137000.0,137000.0,137000.0,168000.0,132000.0,122000.0,122000.0,280000.0,168000.0,345420.0,345420.0,130000.0,130000.0,265000.0,265000.0,265000.0,111000.0,300000.0,300000.0,106000.0,106000.0,106000.0,120000.0,120000.0,120000.0,120000.0,120000.0,280000.0,199000.0,199000.0,199000.0,199000.0,199000.0,140000.0,140000.0,117000.0,117000.0,117000.0,220000.0,230000.0,170000.0,170000.0,106000.0,100000.0,200000.0,200000.0,200000.0,150000.0,120000.0,101000.0,104000.0,104000.0,108000.0,108000.0,108000.0,150000.0,150000.0,155000.0,155000.0,155000.0,155000.0,170000.0,170000.0,100000.0,153000.0,105000.0,121000.0,200000.0,200000.0,115000.0,115000.0,110000.0,110000.0,110000.0,110000.0,130000.0,130000.0,130000.0,130000.0,130000.0,100000.0,100000.0,185000.0,185000.0,185000.0,165000.0,165000.0,169000.0,169000.0,105000.0,105000.0,105000.0,500000.0,500000.0,500000.0,500000.0,230000.0,230000.0,380000.0,380000.0,300000.0,340099.0,103330.0,103330.0,120000.0,120000.0,115000.0,115000.0,115000.0,122000.0,122000.0,122000.0,122000.0,167033.0,167033.0,167033.0,120000.0,210000.0,135000.0,135000.0,135000.0,135000.0,103057.0,103057.0,103057.0,140000.0,140000.0,120000.0,138500.0,138500.0,138500.0,138500.0,144000.0,105000.0,105000.0,110000.0,165000.0,165000.0,130000.0,130000.0,130000.0,113000.0,113000.0,104000.0,140000.0,140000.0,100000.0,270000.0,110000.0,275000.0,275000.0,130000.0,220000.0,115000.0,130000.0,130000.0,130000.0,200000.0,200000.0,380000.0,100000.0,100000.0,100000.0,180000.0,160000.0,160000.0,160000.0,110000.0,147497.0,147497.0,110000.0,113000.0,125000.0,125000.0,125000.0,165000.0,165000.0,149000.0,112000.0,104580.0,130000.0,330000.0,330000.0,330000.0,100600.0,100600.0,100600.0,140000.0,140000.0,134000.0,110000.0,110000.0,110000.0,109000.0,109000.0,250000.0,250000.0,175000.0,130000.0,130000.0,141000.0,141000.0,202380.0,110000.0,100000.0,100000.0,100000.0,125000.0,175000.0,175000.0,175000.0,108000.0,108000.0,130000.0,130000.0,130000.0,165000.0,165000.0,120000.0,140000.0,140000.0,140000.0,136000.0,136000.0,136000.0,102000.0,102000.0,160000.0,160000.0,101000.0,101000.0,101000.0,101000.0,101000.0,101000.0,100000.0,100000.0,100000.0,100000.0,130000.0,100000.0,100000.0,100000.0,160000.0,160000.0,100000.0,108000.0,130000.0,130000.0,134000.0,110000.0,237500.0,125000.0,100000.0,100000.0,115000.0,115000.0,115000.0,102000.0,110000.0,110000.0,115000.0,108000.0,120000.0,140000.0,140000.0,140000.0,121000.0,115000.0,193000.0,193000.0,101000.0,101000.0,330000.0,330000.0,330000.0,108000.0,108000.0,108000.0,108000.0,116000.0,116000.0,116000.0,116000.0,115000.0,115000.0,105000.0,143000.0,143000.0,143000.0,143000.0,416500.0,416500.0,107500.0,107500.0,107500.0,107500.0,152000.0,152000.0,150000.0,150000.0,150000.0,110000.0,110000.0,105000.0,105000.0,170000.0,105000.0,123000.0,102000.0,102000.0,248000.0,248000.0,146000.0,146000.0,146000.0,207000.0,207000.0,207000.0,207000.0,109720.0,109720.0,109720.0,109720.0,117000.0,111000.0,111000.0,200962.0,200962.0,200962.0,100000.0,100000.0,100000.0,106000.0,300000.0,300000.0,120000.0,280000.0,480000.0,480000.0,100000.0,100000.0,150000.0,111127.0,121000.0,121000.0,127000.0,127000.0,180000.0,180000.0,110000.0,110000.0,110000.0,110000.0,110000.0,280000.0,107024.0,107024.0,240000.0,240000.0,100000.0,100000.0,100000.0,170000.0,200000.0,200000.0,110000.0,102000.0,135000.0,110000.0,320000.0,320000.0,114085.0,137000.0,400000.0,400000.0,400000.0,400000.0,110000.0,110000.0,200000.0,350000.0,350000.0,178000.0,178000.0,100000.0,100000.0,153130.0,153130.0,100000.0,135000.0,135000.0,130000.0,130000.0,130000.0,135000.0,135000.0,135000.0,135000.0,135000.0,107000.0,107000.0,164000.0,112000.0,112000.0,112000.0,120000.0,120000.0,100000.0,100000.0,100000.0,100000.0,100000.0,106000.0,106000.0,106000.0,106000.0,106000.0,106000.0,106000.0,132000.0,264550.0,264550.0,264550.0,264550.0,168000.0,168000.0,140000.0,140000.0,140000.0,140000.0,120000.0,120000.0,120000.0,112000.0,112000.0,112000.0,112000.0,100000.0,106000.0,106000.0,170000.0,170000.0,170000.0,170000.0,188000.0,188000.0,105500.0,105500.0,105500.0,102000.0,102000.0,102000.0,106000.0,100000.0,100000.0,101000.0,118000.0,121900.0,100000.0,100000.0,270000.0,145000.0,145000.0,145000.0,122000.0,122000.0,122000.0,105359.0,110000.0,110000.0,110000.0,105000.0,105000.0,105000.0,105000.0,158000.0,158000.0,158000.0,108015.0,290000.0,290000.0,120000.0,120000.0,185000.0,185000.0,140000.0,140000.0,140000.0,140000.0,120000.0,120000.0,120000.0,120000.0,120000.0,100000.0,100000.0,100000.0,123000.0,112000.0,112000.0,112000.0,112000.0,130000.0,260000.0,107000.0,107000.0,130000.0,105000.0,105000.0,160000.0,160000.0,160000.0,170000.0,170000.0,170000.0,170000.0,170000.0,109214.0,109214.0,360000.0,120000.0,120000.0,105000.0,110000.0,120000.0,120000.0,131000.0,131000.0,131000.0,131000.0,131000.0,330000.0,330000.0,150000.0,251000.0,251000.0,100000.0,115000.0,115000.0,115000.0,105000.0,103000.0,103000.0,103000.0,103000.0,160000.0,160000.0,160000.0,160000.0,213870.0,150000.0,150000.0,150000.0,475000.0,475000.0,475000.0,155000.0,155000.0,155000.0,155000.0,100000.0,100000.0,100000.0,140000.0,140000.0,500000.0,100500.0,100500.0,130401.0,107000.0,107000.0,190000.0,190000.0,135000.0,135000.0,135000.0,142000.0,142000.0,142000.0,142000.0,150000.0,150000.0,150000.0,210000.0,165000.0,165000.0,100000.0,100000.0,132000.0,132000.0,132000.0,132000.0,107800.0,110000.0,110000.0,124127.0,124127.0,115000.0,115000.0,115000.0,115000.0,100000.0,100000.0,350000.0,350000.0,350000.0,150000.0,102000.0,102000.0,102000.0,102000.0,107000.0,115000.0,109000.0,109000.0,100000.0,100000.0,100000.0,100000.0,150000.0,150000.0,150000.0,120000.0,120000.0,220000.0,220000.0,270000.0,189000.0,189000.0,116472.0,116472.0,122000.0,122000.0,105000.0,278000.0,278000.0,278000.0,278000.0,100000.0,100000.0,135000.0,103000.0,103000.0,375021.0,375021.0,375021.0,180000.0,180000.0,180000.0,180000.0,135000.0,108197.0,180000.0,180000.0,280000.0,300000.0,140000.0,105000.0,105000.0,105000.0,110000.0,110000.0,105000.0,105000.0,105000.0,195000.0,195000.0,195000.0,132000.0,120000.0,120000.0,130000.0,130000.0,150000.0,150000.0,128690.0,128690.0,128690.0,237000.0,237000.0,100000.0,100000.0,105000.0,105000.0,110000.0,110000.0,360000.0,360000.0,360000.0,317800.0,317800.0,220000.0,102000.0,105000.0,126000.0,165000.0,150000.0,380000.0,120000.0,120000.0,120000.0,150000.0,108516.39,108516.39,108516.39,140000.0,140000.0,140000.0,105000.0,110000.0,110000.0,110000.0,127387.0,127387.0,162000.0,300000.0,300000.0,300000.0,300000.0,110000.0,110000.0,117000.0,117000.0,117000.0,117000.0,110000.0,110000.0,110000.0,130000.0,130000.0,120000.0,120000.0,123888.0,123888.0,140000.0,140000.0,140000.0,125000.0,125000.0,124000.0,124000.0,124000.0,180000.0,180000.0,140000.0,140000.0,140000.0,110000.0,110000.0,150000.0,110000.0,110000.0,110000.0,110000.0,110000.0,110000.0,127000.0,115000.0,415000.0,415000.0,100000.0,280000.0,142000.0,142000.0,142000.0,142000.0,120000.0,120000.0,120000.0,122000.0,105000.0,105000.0,420000.0,420000.0,420000.0,100000.0,100000.0,130000.0,207020.0,444000.0,444000.0,444000.0,215000.0,129968.0,129968.0,135000.0,135000.0,165000.0,160000.0,250000.0,250000.0,250000.0,205000.0,205000.0,205000.0,115000.0,260000.0,260000.0,260000.0,225000.0,225000.0,225000.0,225000.0,145000.0,145000.0,103000.0,203000.0,280000.0,114000.0,110000.0,110000.0,300000.0,300000.0,300000.0,300000.0,300000.0,106000.0,106000.0,100866.79,100000.0,130000.0,130000.0,130000.0,188000.0,100000.0,100000.0,100000.0,105000.0,385000.0,385000.0,115000.0,115000.0,447000.0,447000.0,447000.0,102000.0,122000.0,122000.0,122000.0,122000.0,105000.0,105000.0,115000.0,220000.0,220000.0,220000.0,165000.0,165000.0,500000.0,500000.0,500000.0,150000.0,132000.0,170000.0,170000.0,122000.0,103000.0,103000.0,103000.0,113000.0,140000.0,145000.0,145000.0,145000.0,200000.0,298000.0,298000.0,298000.0,298000.0,169720.25,169720.25,169720.25,110000.0,125000.0,125000.0,191000.0,191000.0,100000.0,100000.0,100000.0,200000.0,140000.0,130000.0,130000.0,130000.0,140000.0,140000.0,140000.0,140000.0,130000.0,130000.0,130000.0,130000.0,130000.0,110000.0,127300.0,127300.0,108000.0,120000.0,120000.0,120000.0,120000.0,490000.0,177707.0,177707.0,320000.0,145000.0,126000.0,126000.0,126000.0,126000.0,126000.0,265000.0,265000.0,265000.0,265000.0,110000.0,110000.0,100000.0,195000.0,195000.0,195000.0,170000.0,127000.0,127000.0,127000.0,100000.0,130000.0,130000.0,140658.0,140658.0,140658.0,125000.0,125000.0,125000.0,125000.0,125000.0,120000.0,120000.0,120000.0,240000.0,240000.0,240000.0,240000.0,104000.0,120000.0,120000.0,120000.0,332100.0,332100.0,140000.0,140000.0,120000.0,120000.0,120000.0,200000.0,175000.0,175000.0,187000.0,127000.0,127000.0,105000.0,105000.0,105000.0,210000.0,210000.0,170000.0,130000.0,105000.0,200000.0,103000.0,103000.0,100000.0,100000.0,100000.0,157336.0,157336.0,120000.0,100000.0,130000.0,130000.0,100000.0,125000.0,125000.0,125000.0,125000.0,125000.0,350000.0,350000.0,105000.0,125000.0,125000.0,125000.0,180000.0,180000.0,180000.0,168750.0,168750.0,168750.0,230000.0,230000.0,150000.0,150000.0,150000.0,345000.0,345000.0,345000.0,108000.0,130000.0,200000.0,190000.0,190000.0,190000.0,190000.0,110000.0,110000.0,320000.0,100000.0,150000.0,100000.0,133476.0,133476.0,133476.0,160000.0,160000.0,168300.0,115000.0,115000.0,110000.0,110000.0,110000.0,110000.0,230000.0,230000.0,230000.0,105000.0,200000.0,150000.0,150000.0,150000.0,279000.0,279000.0,120000.0,120000.0,118000.0,118000.0,118000.0,118000.0,110000.0,110000.0,120000.0,135000.0,135000.0,135000.0,150000.0,150000.0,267452.0,220000.0,130000.0,130000.0,117500.0,117500.0,112000.0,112000.0,140000.0,140000.0,140000.0,140000.0,110000.0,125000.0,105000.0,105000.0,105000.0,142000.0,142000.0,190000.0,115000.0,115000.0,115000.0,115000.0,475000.0,475000.0,160000.0,160000.0,160000.0,105000.0,105000.0,125000.0,125000.0,112000.0,112000.0,145000.0,145000.0,100000.0,100000.0,100000.0,150000.0,150000.0,150000.0,100000.0,105000.0,105000.0,105000.0,105000.0,145000.0,145000.0,145000.0,145000.0,180000.0,180000.0,180000.0,180000.0,140000.0,135000.0,135000.0,135000.0,135000.0,112000.0,112000.0,100000.0,100000.0,450000.0,450000.0,450000.0,450000.0,150000.0,150000.0,150000.0,150000.0,150000.0,150000.0,168000.0,250000.0,250000.0,110000.0,100000.0,100000.0,100000.0,100000.0,265000.0,265000.0,265000.0,110000.0,400000.0,400000.0,400000.0,100000.0,100000.0,100000.0,138000.0,138000.0,138000.0,138000.0,200000.0,200000.0,130000.0,100000.0,100000.0,100000.0,220000.0,220000.0,216000.0,216000.0,120000.0,120000.0,120000.0,120000.0,120000.0,320000.0,105000.0,105000.0,122000.0,122000.0,115000.0,115000.0,115000.0,197000.0,197000.0,197000.0,197000.0,136000.0,136000.0,136000.0,120000.0,120000.0,130000.0,130000.0,470000.0,470000.0,105000.0,105000.0,105000.0,101410.0,101410.0,147000.0,147000.0,185000.0,185000.0,185000.0,121000.0,121000.0,121000.0,180000.0,180000.0,135000.0,135000.0,120000.0,120000.0,175000.0,175000.0,175000.0,175000.0,103000.0,103000.0,200000.0,200000.0,181951.0,135000.0,122000.0,102000.0,102000.0,350000.0,350000.0,350000.0,350000.0,100000.0,102000.0,102000.0,102000.0,110000.0,110000.0,110000.0,110000.0,100000.0,150000.0,150000.0,150000.0,173000.0,173000.0,167000.0,167000.0,167000.0,210000.0,210000.0,164000.0,135000.0,131000.0,131000.0,131000.0,300000.0,300000.0,300000.0,300000.0,128000.0,153800.0,114000.0,114000.0,114000.0,196000.0,196000.0,230000.0,230000.0,230000.0,340000.0,340000.0,105000.0,105000.0,215000.0,104654.0,104654.0,126000.0,102000.0,275000.0,275000.0,275000.0,105000.0,105000.0,105000.0,102866.0,102866.0,102866.0,260000.0,105000.0,105000.0,105000.0,110000.0,110000.0,107908.0,107908.0,107908.0,240000.0,240000.0,240000.0,200000.0,280000.0,280000.0,100171.0,300000.0,300000.0,160000.0,200000.0,200000.0,200000.0,200000.0,450000.0,450000.0,450000.0,135000.0,135000.0,170000.0,170000.0,170000.0,170000.0,170000.0,105000.0,117000.0,117000.0,117000.0,117000.0,104000.0,125000.0,125000.0,123000.0,123000.0,123000.0,123000.0,135000.0,105000.0,160000.0,160000.0,160000.0,127000.0,127000.0,100000.0,368300.0,111465.0,136500.0,136500.0,320000.0,138000.0,138000.0,138000.0,105500.0,105500.0,101000.0,101000.0,101000.0,100000.0,150000.0,177000.0,177000.0,177000.0,315000.0,315000.0,103833.0,103833.0,180000.0,180000.0,180000.0,170000.0,170000.0,170000.0,170000.0,170000.0,500000.0,270000.0,110000.0,210000.0,210000.0,400000.0,400000.0,400000.0,400000.0,180000.0,128000.0,128000.0,128000.0,128000.0,100000.0,100000.0,199000.0,114000.0,100000.0,100000.0,120000.0,120000.0,180000.0,180000.0,130000.0,130000.0,106000.0,106000.0,106000.0,106000.0,105000.0,116000.0,130000.0,130000.0,130000.0,130000.0,300000.0,300000.0,117000.0,117000.0,117000.0,123000.0,123000.0,123000.0,123000.0,350000.0,350000.0,125231.0,125231.0,172000.0,172000.0,172000.0,120000.0,120000.0,121000.0,114000.0,114000.0,150000.0,150000.0,150000.0,150000.0,260000.0,260000.0,260000.0,260000.0,270000.0,270000.0,270000.0,110000.0,110000.0,130000.0,113000.0,125000.0,105000.0,102000.0,102000.0,102000.0,102000.0,200000.0,200000.0,200000.0,200000.0,310000.0,310000.0,310000.0,112000.0,118318.0,118318.0,118318.0,125000.0,125000.0,105000.0,105000.0,105000.0,105000.0,105000.0,130000.0,130000.0,175200.0,106000.0,106000.0,106000.0,100000.0,100000.0,126900.0,126900.0,126900.0,130000.0,130000.0,135000.0,105000.0,105000.0,110000.0,110000.0,110000.0,110000.0,119000.0,113000.0,113000.0,113000.0,455000.0,455000.0,455000.0,455000.0,112000.0,109000.0,109000.0,106000.0,110000.0,110000.0,110000.0,123160.0,103750.0,101440.0,101440.0,101440.0,101440.0,190000.0,190000.0,190000.0,190000.0,190000.0,150000.0,150000.0,150000.0,140000.0,135000.0,135000.0,135000.0,123000.0,123000.0,189000.0,357000.0,357000.0,160000.0,160000.0,160000.0,160000.0,150000.0,150000.0,150000.0,190000.0,190000.0,290000.0,115000.0,285000.0,285000.0,131000.0,131000.0,131000.0,131000.0,101760.0,101760.0,101760.0,101760.0,101760.0,115000.0,103000.0,106000.0,106000.0,100000.0,100000.0,100000.0,100000.0,140000.0,181000.0,200000.0,200000.0,200000.0,190000.0,394375.0,394375.0,394375.0,394375.0,100000.0,100000.0,100000.0,100000.0,100000.0,100000.0,120000.0,179000.0,179000.0,200000.0,200000.0,100000.0,141000.0,141000.0,141000.0,107000.0,107000.0,196000.0,196000.0,196000.0,196000.0,140000.0,500000.0,500000.0,159000.0,159000.0,110000.0,110000.0,110000.0,380000.0,380000.0,380000.0,380000.0,105000.0,105000.0,105000.0,100000.0,100000.0,100000.0,370000.0,370000.0,156000.0,156000.0,130000.0,130000.0,200000.0,200000.0,200000.0,200000.0,110000.0,397000.0,397000.0,130000.0,130000.0,140000.0,140000.0,140000.0,140000.0,110000.0,185000.0,185000.0,185000.0,150000.0,150000.0,150000.0,150000.0,180000.0,180000.0,175000.0,175000.0,150000.0,150000.0,140000.0,140000.0,140000.0,140000.0,124000.0,175000.0,175000.0,125000.0,112000.0,112000.0,112000.0,112000.0,112000.0,115000.0,115000.0,180000.0,380000.0,380000.0,380000.0,108000.0,108000.0,108000.0,101000.0,101000.0,101000.0,141304.0,100000.0,100000.0,160000.0,155000.0,130000.0,130000.0,130000.0,100000.0,100000.0,130000.0,130000.0,106000.0,106000.0,106000.0,121000.0,121000.0,145000.0,190000.0,132000.0,100000.0,119835.0,109000.0,109000.0,109000.0,109000.0,109000.0,125000.0,125000.0,122000.0,127000.0,110000.0,110000.0,120000.0,120000.0,123000.0,123000.0,123000.0,123000.0,100000.0,127000.0,127000.0,105000.0,105000.0,120000.0,120000.0,120000.0,120000.0,120000.0,190000.0,100000.0,130000.0,130000.0,130000.0,110000.0,110000.0,110000.0,102000.0,109000.0,109000.0,117000.0,117000.0,350000.0,350000.0,100000.0,100000.0,100000.0,100000.0,107000.0,123242.0,123242.0,110000.0,110000.0,110000.0,110000.0,120000.0,120000.0,120000.0,100000.0,100000.0,100000.0,195000.0,195000.0,100000.0,100000.0,100000.0,100000.0,100000.0,110000.0,110000.0,110000.0,110000.0,110000.0,110000.0,100000.0,100000.0,136000.0,136000.0,136000.0,136000.0,136000.0,135000.0,144000.0,103000.0,103000.0,103000.0,103000.0,120000.0,370000.0,102472.12,102472.12,102472.12,155000.0,155000.0,155000.0,112000.0,157000.0,157000.0,157000.0,102000.0,102000.0,102000.0,312000.0,312000.0,400000.0,155000.0,155000.0,101000.0,101000.0,101000.0,101000.0,125000.0,125000.0,108269.0,108269.0,108269.0,108269.0,125000.0,125000.0,125000.0,125000.0,165000.0,120000.0,120000.0,120000.0,120000.0,135000.0,135000.0,135000.0,150000.0,150000.0,150000.0,255000.0,255000.0,255000.0,113000.0,113000.0,130000.0,103000.0,103000.0,103000.0,106000.0,116000.0,180000.0,180000.0,180000.0,163000.0,104000.0,104000.0,170000.0,110000.0,160000.0,110000.0,110000.0,105000.0,132000.0,115000.0,110000.0,110000.0,150000.0,162000.0,105000.0,105000.0,105000.0,105000.0,123000.0,123000.0,123000.0,123000.0,190000.0,190000.0,113000.0,113000.0,118000.0,118000.0,118000.0,118000.0,110000.0,110000.0,110000.0,110000.0,455000.0,110000.0,110000.0,126000.0,126000.0,130000.0,119000.0,110000.0,110000.0,110000.0,110000.0,325000.0,120000.0,188938.0,188938.0,105000.0,297000.0,297000.0,297000.0,114000.0,114000.0,114000.0,112000.0,112000.0,125484.46,125484.46,125484.46,105500.0,105500.0,105500.0,100000.0,100000.0,100000.0,112000.0,150000.0,150000.0,113000.0,113000.0,100000.0,100000.0,103000.0,103000.0,103000.0,103000.0,104000.0,104000.0,125000.0,110000.0,120000.0,120000.0,120000.0,171000.0,171000.0,171000.0,105000.0,105000.0,160000.0,160000.0,115000.0,115000.0,115000.0,105000.0,114000.0,114000.0,123902.0,120000.0,120000.0,120000.0,105000.0,105000.0,120000.0,120000.0,120000.0,150000.0,150000.0,150000.0,150000.0,150000.0,130000.0,120000.0,120000.0,150000.0,100000.0,100000.0,200000.0,200000.0,200000.0,115000.0,100000.0,100000.0,170000.0,170000.0,144000.0,144000.0,170000.0,155000.0,155000.0,155000.0,103000.0,103000.0,175000.0,150000.0,150000.0,150000.0,150000.0,150000.0,110000.0,110000.0,100000.0,100000.0,100000.0,197000.0,197000.0,197000.0,140000.0,118000.0,118000.0,150000.0,150000.0,110000.0,110000.0,110000.0,110000.0,110000.0,130000.0,130000.0,130000.0,110000.0,150000.0,150000.0,150000.0,150000.0,150000.0,400000.0,248000.0,105000.0,105000.0,105000.0,105000.0,180000.0,260000.0,260000.0,115000.0,115000.0,186000.0,186000.0,186000.0,186000.0,186000.0,186000.0,186000.0,186000.0,186000.0,186000.0,186000.0,186000.0,186000.0,140000.0,130000.0,130000.0,100000.0,100000.0,260000.0,260000.0,100000.0,100000.0,150000.0,129573.0,129573.0,129573.0,129573.0,129573.0,200000.0,200000.0,220000.0,123000.0,123000.0,220000.0,188888.0,188888.0,130000.0,130000.0,130000.0,324075.0,180000.0,180000.0,180000.0,180000.0,280000.0,280000.0,250000.0,250000.0,250000.0,150000.0,150000.0,150000.0,117000.0,117000.0,180000.0,490000.0,490000.0,230000.0,230000.0,210000.0,135000.0,127000.0,127000.0,127000.0,118000.0,118000.0,118000.0,118000.0,450000.0,450000.0,450000.0,450000.0,106000.0,106000.0,108576.0,140000.0,396000.0,396000.0,183000.0,115000.0,115000.0,140000.0,140000.0,108000.0,108000.0,118813.0,118813.0,102000.0,120000.0,120000.0,277000.0,277000.0,277000.0,277000.0,107900.0,107900.0,107000.0,125000.0,127000.0,127000.0,127000.0,127000.0,108740.0,108740.0,108740.0,110000.0,101000.0,101000.0,120000.0,120000.0,300000.0,175000.0,175000.0,155000.0,130000.0,130000.0,130000.0,113000.0,113000.0,113000.0,113000.0,124671.0,140000.0,140000.0,140000.0,140000.0,400000.0,240000.0,240000.0,240000.0,240000.0,240000.0,121000.0,110000.0,110000.0,150000.0,135000.0,135000.0,135000.0,150000.0,150000.0,140000.0,140000.0,140000.0,140000.0,117000.0,117000.0,378000.0,378000.0,378000.0,104000.0,104000.0,104000.0,107000.0,116400.0,116400.0,162000.0,162000.0,162000.0,137000.0,110000.0,160000.0,160000.0,160000.0,160000.0,140000.0,180000.0,180000.0,180000.0,180000.0,290000.0,290000.0,290000.0,290000.0,105000.0,118000.0,118000.0,118000.0,118000.0,153000.0,153000.0,115750.0,115750.0,115750.0,210000.0,210000.0,120000.0,125000.0,125000.0,290000.0,290000.0,290000.0,290000.0,350000.0,350000.0,120000.0,120000.0,120000.0,120000.0,120000.0,370000.0,128000.0,128000.0,128000.0,110000.0,205000.0,120000.0,120000.0,120000.0,120000.0,131000.0,131000.0,350000.0,350000.0,350000.0,350000.0,260000.0,260000.0,170000.0,170000.0,170000.0,170000.0,120000.0,102000.0,102000.0,102000.0,250000.0,137000.0,137000.0,130000.0,134000.0,134000.0,300000.0,300000.0,300000.0,140000.0,140000.0,115000.0,118000.0,118000.0,118000.0,125000.0,105000.0,105000.0,300000.0,300000.0,300000.0,400000.0,400000.0,102000.0,102000.0,102000.0,180000.0,189000.0,189000.0,189000.0,189000.0,210600.0,210600.0,210600.0,210600.0,170000.0,170000.0,170000.0,130000.0,130000.0,102000.0,110000.0,110000.0,200000.0,250000.0,250000.0,250000.0,250000.0,340000.0,110000.0,180000.0,122000.0,122000.0,122000.0,130000.0,130000.0,155800.0,155800.0,257000.0,257000.0,257000.0,112000.0,112000.0,112000.0,112000.0,300000.0,300000.0,103000.0,150000.0,150000.0,150000.0,150000.0,111000.0,130000.0,195000.0,195000.0,120000.0,120000.0,380000.0,380000.0,140000.0,113000.0,113000.0,113000.0,125000.0,100000.0,100000.0,145000.0,280000.0,100000.0,100000.0,209480.0,192072.0,192072.0,192072.0,192072.0,162000.0,149000.0,149000.0,149000.0,200000.0,200000.0,200000.0,200000.0,280000.0,280000.0,105000.0,160000.0,160000.0,120000.0,180000.0,180000.0,210000.0,210000.0,210000.0,100000.0,100000.0,100000.0,100000.0,167776.0,167776.0,167776.0,105000.0,105000.0,260000.0,260000.0,125000.0,125000.0,120000.0,120000.0,120000.0,120000.0,300000.0,300000.0,105000.0,105000.0,320000.0,320000.0,320000.0,118000.0,118000.0,117000.0,117000.0,117000.0,122000.0,122000.0,122000.0,122000.0,110000.0,110000.0,100000.0,100000.0,100000.0,100000.0,120000.0,120000.0,100000.0,100000.0,125000.0,125000.0,110000.0,110000.0,110000.0,117000.0,117000.0,250000.0,250000.0,250000.0,120000.0,120000.0,120000.0,149000.0,140000.0,140000.0,104600.0,104600.0,104600.0,104600.0,120000.0,120000.0,100000.0,100000.0,100000.0,100000.0,105000.0,100000.0,100000.0,100000.0,130000.0,130000.0,130000.0,130000.0,130000.0,110000.0,110000.0,127834.0,127834.0,127834.0,115000.0,115000.0,115000.0,246000.0,246000.0,246000.0,105000.0,105000.0,105000.0,100000.0,450000.0,450000.0,450000.0,250000.0,105675.0,130000.0,130000.0,130000.0,120000.0,120000.0,120000.0,100000.0,135000.0,135000.0,100000.0,170000.0,170000.0,170000.0,170000.0,115000.0,115000.0,130000.0,130000.0,130000.0,130000.0,106000.0,106000.0,133000.0,133000.0,133000.0,123000.0,123000.0,123000.0,200000.0,200000.0,200000.0,100000.0,100000.0,100000.0,108000.0,108000.0,140000.0,140000.0,140000.0,115000.0,115000.0,290000.0,290000.0,290000.0,310000.0,310000.0,310000.0,150000.0,150000.0,150000.0,150000.0,150000.0,152950.0,152950.0,152950.0,152950.0,152950.0,200000.0,200000.0,200000.0,200000.0,150000.0,150000.0,150000.0,150000.0,118000.0,118000.0,133000.0,133000.0,110000.0,110000.0,124000.0,124000.0,160000.0,160000.0,110000.0,110000.0,122000.0,170000.0,170000.0,170000.0,170000.0,135000.0,135000.0,135000.0,128000.0,128000.0,100000.0,100000.0,280000.0,280000.0,330000.0,120000.0,120000.0,120000.0,154000.0,100000.0,100000.0,110000.0,104000.0,113000.0,113000.0,105000.0,105000.0,105000.0,105000.0,300000.0,300000.0,170000.0,100000.0,105000.0,105000.0,200000.0,200000.0,150000.0,150000.0,100000.0,100000.0,100000.0,100000.0,100000.0,100000.0,100000.0,100000.0,205000.0,205000.0,156000.0,156000.0,156000.0,145000.0,145000.0,145000.0,200000.0,200000.0,200000.0,200000.0,200000.0,107000.0,200000.0,200000.0,200000.0,101500.0,110971.0,110971.0,110971.0,110971.0,110000.0,110000.0,110000.0,125000.0,100000.0,100000.0,100000.0,100000.0,100000.0,100000.0,103000.0,103000.0,103000.0,102000.0,102000.0,120000.0,120000.0,127000.0,110000.0,110000.0,110000.0,167000.0,167000.0,104000.0,104000.0,104000.0,112000.0,112000.0,230000.0,400000.0,102000.0,102000.0,190000.0,190000.0,190000.0,390000.0,350000.0,350000.0,106000.0,115000.0,133000.0,133000.0,139762.0,107000.0,107000.0,100000.0,100000.0,120000.0,120000.0,120000.0,120000.0,180000.0,101000.0,101000.0,119000.0,119000.0,119000.0,150000.0,107000.0,107000.0,170000.0,105000.0,105000.0,105000.0,105000.0,105000.0,135000.0,100000.0,100000.0,130000.0,170000.0,170000.0,170000.0,107000.0,220000.0,220000.0,220000.0,348585.0,130988.0,130988.0,130988.0,150000.0,120000.0,170000.0,170000.0,170000.0,170000.0,170000.0,424000.0,424000.0,424000.0,120000.0,105000.0,105000.0,105000.0,105000.0,101000.0,100000.0,100000.0,100000.0,100000.0,101000.0,235000.0,235000.0,235000.0,126300.0,117000.0,117000.0,112000.0,112000.0,163000.0,240000.0,240000.0,100000.0,100000.0,100000.0,280000.0,280000.0,115000.0,230000.0,280000.0,280000.0,116000.0,105000.0,130000.0,130000.0,130000.0,140000.0,250000.0,250000.0,105000.0,116000.0,116000.0,116000.0,100000.0,300000.0,300000.0,300000.0,108000.0,108000.0,108000.0,108000.0,180000.0,105000.0,105000.0,143000.0,143000.0,143000.0,135000.0,119114.0,135953.0,120000.0,120000.0,120000.0,120000.0,120000.0,120000.0,120000.0,120000.0,100000.0,120000.0,120000.0,120000.0,104000.0,130000.0,130000.0,130000.0,300000.0,300000.0,111000.0,150000.0,110000.0,110000.0,110000.0,122000.0,122000.0,190000.0,190000.0,190000.0,110000.0,110000.0,120000.0,120000.0,107000.0,140000.0,140000.0,140000.0,120000.0,120000.0,200000.0,200000.0,107000.0,120000.0,120000.0,120000.0,280000.0,280000.0,170000.0,170000.0,170000.0,170000.0,137614.0,117000.0,117000.0,130000.0,130000.0,110000.0,105000.0,105000.0,105000.0,180000.0,180000.0,180000.0,235000.0,140000.0,140000.0,140000.0,130000.0,130000.0,130000.0,130000.0,135000.0,135000.0,135000.0,135000.0,125000.0,125000.0,125000.0,105000.0,105000.0,105000.0,105000.0,140000.0,140000.0,480000.0,480000.0,480000.0,170000.0,170000.0,320000.0,110000.0,110000.0,131840.0,175000.0,175000.0,175000.0,175000.0,140000.0,145000.0,145000.0,145000.0,180000.0,180000.0,220000.0,115000.0,115000.0,115000.0,160000.0,160000.0,160000.0,110000.0,110000.0,110000.0,120000.0,130000.0,170282.0,128000.0,125000.0,120000.0,120000.0,120000.0,112000.0,140000.0,360000.0,360000.0,144946.0,105000.0,105000.0,145760.0,100000.0,100000.0,100000.0,150000.0,150000.0,210000.0,400000.0,400000.0,400000.0,120000.0,160000.0,160000.0,115000.0,115000.0,115000.0,115000.0,160000.0,160000.0,160000.0,160000.0,140000.0,120000.0,120000.0,120000.0,100000.0,106000.0,101200.0,101200.0,157000.0,157000.0,102000.0,102000.0,391000.0,391000.0,391000.0,391000.0,120000.0,130000.0,130000.0],\"y0\":\" \",\"yaxis\":\"y\",\"type\":\"box\"}],                        {\"template\":{\"data\":{\"bar\":[{\"error_x\":{\"color\":\"#2a3f5f\"},\"error_y\":{\"color\":\"#2a3f5f\"},\"marker\":{\"line\":{\"color\":\"#E5ECF6\",\"width\":0.5},\"pattern\":{\"fillmode\":\"overlay\",\"size\":10,\"solidity\":0.2}},\"type\":\"bar\"}],\"barpolar\":[{\"marker\":{\"line\":{\"color\":\"#E5ECF6\",\"width\":0.5},\"pattern\":{\"fillmode\":\"overlay\",\"size\":10,\"solidity\":0.2}},\"type\":\"barpolar\"}],\"carpet\":[{\"aaxis\":{\"endlinecolor\":\"#2a3f5f\",\"gridcolor\":\"white\",\"linecolor\":\"white\",\"minorgridcolor\":\"white\",\"startlinecolor\":\"#2a3f5f\"},\"baxis\":{\"endlinecolor\":\"#2a3f5f\",\"gridcolor\":\"white\",\"linecolor\":\"white\",\"minorgridcolor\":\"white\",\"startlinecolor\":\"#2a3f5f\"},\"type\":\"carpet\"}],\"choropleth\":[{\"colorbar\":{\"outlinewidth\":0,\"ticks\":\"\"},\"type\":\"choropleth\"}],\"contour\":[{\"colorbar\":{\"outlinewidth\":0,\"ticks\":\"\"},\"colorscale\":[[0.0,\"#0d0887\"],[0.1111111111111111,\"#46039f\"],[0.2222222222222222,\"#7201a8\"],[0.3333333333333333,\"#9c179e\"],[0.4444444444444444,\"#bd3786\"],[0.5555555555555556,\"#d8576b\"],[0.6666666666666666,\"#ed7953\"],[0.7777777777777778,\"#fb9f3a\"],[0.8888888888888888,\"#fdca26\"],[1.0,\"#f0f921\"]],\"type\":\"contour\"}],\"contourcarpet\":[{\"colorbar\":{\"outlinewidth\":0,\"ticks\":\"\"},\"type\":\"contourcarpet\"}],\"heatmap\":[{\"colorbar\":{\"outlinewidth\":0,\"ticks\":\"\"},\"colorscale\":[[0.0,\"#0d0887\"],[0.1111111111111111,\"#46039f\"],[0.2222222222222222,\"#7201a8\"],[0.3333333333333333,\"#9c179e\"],[0.4444444444444444,\"#bd3786\"],[0.5555555555555556,\"#d8576b\"],[0.6666666666666666,\"#ed7953\"],[0.7777777777777778,\"#fb9f3a\"],[0.8888888888888888,\"#fdca26\"],[1.0,\"#f0f921\"]],\"type\":\"heatmap\"}],\"heatmapgl\":[{\"colorbar\":{\"outlinewidth\":0,\"ticks\":\"\"},\"colorscale\":[[0.0,\"#0d0887\"],[0.1111111111111111,\"#46039f\"],[0.2222222222222222,\"#7201a8\"],[0.3333333333333333,\"#9c179e\"],[0.4444444444444444,\"#bd3786\"],[0.5555555555555556,\"#d8576b\"],[0.6666666666666666,\"#ed7953\"],[0.7777777777777778,\"#fb9f3a\"],[0.8888888888888888,\"#fdca26\"],[1.0,\"#f0f921\"]],\"type\":\"heatmapgl\"}],\"histogram\":[{\"marker\":{\"pattern\":{\"fillmode\":\"overlay\",\"size\":10,\"solidity\":0.2}},\"type\":\"histogram\"}],\"histogram2d\":[{\"colorbar\":{\"outlinewidth\":0,\"ticks\":\"\"},\"colorscale\":[[0.0,\"#0d0887\"],[0.1111111111111111,\"#46039f\"],[0.2222222222222222,\"#7201a8\"],[0.3333333333333333,\"#9c179e\"],[0.4444444444444444,\"#bd3786\"],[0.5555555555555556,\"#d8576b\"],[0.6666666666666666,\"#ed7953\"],[0.7777777777777778,\"#fb9f3a\"],[0.8888888888888888,\"#fdca26\"],[1.0,\"#f0f921\"]],\"type\":\"histogram2d\"}],\"histogram2dcontour\":[{\"colorbar\":{\"outlinewidth\":0,\"ticks\":\"\"},\"colorscale\":[[0.0,\"#0d0887\"],[0.1111111111111111,\"#46039f\"],[0.2222222222222222,\"#7201a8\"],[0.3333333333333333,\"#9c179e\"],[0.4444444444444444,\"#bd3786\"],[0.5555555555555556,\"#d8576b\"],[0.6666666666666666,\"#ed7953\"],[0.7777777777777778,\"#fb9f3a\"],[0.8888888888888888,\"#fdca26\"],[1.0,\"#f0f921\"]],\"type\":\"histogram2dcontour\"}],\"mesh3d\":[{\"colorbar\":{\"outlinewidth\":0,\"ticks\":\"\"},\"type\":\"mesh3d\"}],\"parcoords\":[{\"line\":{\"colorbar\":{\"outlinewidth\":0,\"ticks\":\"\"}},\"type\":\"parcoords\"}],\"pie\":[{\"automargin\":true,\"type\":\"pie\"}],\"scatter\":[{\"marker\":{\"colorbar\":{\"outlinewidth\":0,\"ticks\":\"\"}},\"type\":\"scatter\"}],\"scatter3d\":[{\"line\":{\"colorbar\":{\"outlinewidth\":0,\"ticks\":\"\"}},\"marker\":{\"colorbar\":{\"outlinewidth\":0,\"ticks\":\"\"}},\"type\":\"scatter3d\"}],\"scattercarpet\":[{\"marker\":{\"colorbar\":{\"outlinewidth\":0,\"ticks\":\"\"}},\"type\":\"scattercarpet\"}],\"scattergeo\":[{\"marker\":{\"colorbar\":{\"outlinewidth\":0,\"ticks\":\"\"}},\"type\":\"scattergeo\"}],\"scattergl\":[{\"marker\":{\"colorbar\":{\"outlinewidth\":0,\"ticks\":\"\"}},\"type\":\"scattergl\"}],\"scattermapbox\":[{\"marker\":{\"colorbar\":{\"outlinewidth\":0,\"ticks\":\"\"}},\"type\":\"scattermapbox\"}],\"scatterpolar\":[{\"marker\":{\"colorbar\":{\"outlinewidth\":0,\"ticks\":\"\"}},\"type\":\"scatterpolar\"}],\"scatterpolargl\":[{\"marker\":{\"colorbar\":{\"outlinewidth\":0,\"ticks\":\"\"}},\"type\":\"scatterpolargl\"}],\"scatterternary\":[{\"marker\":{\"colorbar\":{\"outlinewidth\":0,\"ticks\":\"\"}},\"type\":\"scatterternary\"}],\"surface\":[{\"colorbar\":{\"outlinewidth\":0,\"ticks\":\"\"},\"colorscale\":[[0.0,\"#0d0887\"],[0.1111111111111111,\"#46039f\"],[0.2222222222222222,\"#7201a8\"],[0.3333333333333333,\"#9c179e\"],[0.4444444444444444,\"#bd3786\"],[0.5555555555555556,\"#d8576b\"],[0.6666666666666666,\"#ed7953\"],[0.7777777777777778,\"#fb9f3a\"],[0.8888888888888888,\"#fdca26\"],[1.0,\"#f0f921\"]],\"type\":\"surface\"}],\"table\":[{\"cells\":{\"fill\":{\"color\":\"#EBF0F8\"},\"line\":{\"color\":\"white\"}},\"header\":{\"fill\":{\"color\":\"#C8D4E3\"},\"line\":{\"color\":\"white\"}},\"type\":\"table\"}]},\"layout\":{\"annotationdefaults\":{\"arrowcolor\":\"#2a3f5f\",\"arrowhead\":0,\"arrowwidth\":1},\"autotypenumbers\":\"strict\",\"coloraxis\":{\"colorbar\":{\"outlinewidth\":0,\"ticks\":\"\"}},\"colorscale\":{\"diverging\":[[0,\"#8e0152\"],[0.1,\"#c51b7d\"],[0.2,\"#de77ae\"],[0.3,\"#f1b6da\"],[0.4,\"#fde0ef\"],[0.5,\"#f7f7f7\"],[0.6,\"#e6f5d0\"],[0.7,\"#b8e186\"],[0.8,\"#7fbc41\"],[0.9,\"#4d9221\"],[1,\"#276419\"]],\"sequential\":[[0.0,\"#0d0887\"],[0.1111111111111111,\"#46039f\"],[0.2222222222222222,\"#7201a8\"],[0.3333333333333333,\"#9c179e\"],[0.4444444444444444,\"#bd3786\"],[0.5555555555555556,\"#d8576b\"],[0.6666666666666666,\"#ed7953\"],[0.7777777777777778,\"#fb9f3a\"],[0.8888888888888888,\"#fdca26\"],[1.0,\"#f0f921\"]],\"sequentialminus\":[[0.0,\"#0d0887\"],[0.1111111111111111,\"#46039f\"],[0.2222222222222222,\"#7201a8\"],[0.3333333333333333,\"#9c179e\"],[0.4444444444444444,\"#bd3786\"],[0.5555555555555556,\"#d8576b\"],[0.6666666666666666,\"#ed7953\"],[0.7777777777777778,\"#fb9f3a\"],[0.8888888888888888,\"#fdca26\"],[1.0,\"#f0f921\"]]},\"colorway\":[\"#636efa\",\"#EF553B\",\"#00cc96\",\"#ab63fa\",\"#FFA15A\",\"#19d3f3\",\"#FF6692\",\"#B6E880\",\"#FF97FF\",\"#FECB52\"],\"font\":{\"color\":\"#2a3f5f\"},\"geo\":{\"bgcolor\":\"white\",\"lakecolor\":\"white\",\"landcolor\":\"#E5ECF6\",\"showlakes\":true,\"showland\":true,\"subunitcolor\":\"white\"},\"hoverlabel\":{\"align\":\"left\"},\"hovermode\":\"closest\",\"mapbox\":{\"style\":\"light\"},\"paper_bgcolor\":\"white\",\"plot_bgcolor\":\"#E5ECF6\",\"polar\":{\"angularaxis\":{\"gridcolor\":\"white\",\"linecolor\":\"white\",\"ticks\":\"\"},\"bgcolor\":\"#E5ECF6\",\"radialaxis\":{\"gridcolor\":\"white\",\"linecolor\":\"white\",\"ticks\":\"\"}},\"scene\":{\"xaxis\":{\"backgroundcolor\":\"#E5ECF6\",\"gridcolor\":\"white\",\"gridwidth\":2,\"linecolor\":\"white\",\"showbackground\":true,\"ticks\":\"\",\"zerolinecolor\":\"white\"},\"yaxis\":{\"backgroundcolor\":\"#E5ECF6\",\"gridcolor\":\"white\",\"gridwidth\":2,\"linecolor\":\"white\",\"showbackground\":true,\"ticks\":\"\",\"zerolinecolor\":\"white\"},\"zaxis\":{\"backgroundcolor\":\"#E5ECF6\",\"gridcolor\":\"white\",\"gridwidth\":2,\"linecolor\":\"white\",\"showbackground\":true,\"ticks\":\"\",\"zerolinecolor\":\"white\"}},\"shapedefaults\":{\"line\":{\"color\":\"#2a3f5f\"}},\"ternary\":{\"aaxis\":{\"gridcolor\":\"white\",\"linecolor\":\"white\",\"ticks\":\"\"},\"baxis\":{\"gridcolor\":\"white\",\"linecolor\":\"white\",\"ticks\":\"\"},\"bgcolor\":\"#E5ECF6\",\"caxis\":{\"gridcolor\":\"white\",\"linecolor\":\"white\",\"ticks\":\"\"}},\"title\":{\"x\":0.05},\"xaxis\":{\"automargin\":true,\"gridcolor\":\"white\",\"linecolor\":\"white\",\"ticks\":\"\",\"title\":{\"standoff\":15},\"zerolinecolor\":\"white\",\"zerolinewidth\":2},\"yaxis\":{\"automargin\":true,\"gridcolor\":\"white\",\"linecolor\":\"white\",\"ticks\":\"\",\"title\":{\"standoff\":15},\"zerolinecolor\":\"white\",\"zerolinewidth\":2}}},\"xaxis\":{\"anchor\":\"y\",\"domain\":[0.0,1.0],\"title\":{\"text\":\"programming_language\"}},\"yaxis\":{\"anchor\":\"x\",\"domain\":[0.0,1.0],\"title\":{\"text\":\"salary_monthly_NETO\"}},\"legend\":{\"tracegroupgap\":0},\"title\":{\"text\":\"Boxplots de programas y salario neto cobrado \"},\"boxmode\":\"overlay\"},                        {\"responsive\": true}                    ).then(function(){\n",
              "                            \n",
              "var gd = document.getElementById('4ef68e71-a045-4a77-86b9-d77a192aa580');\n",
              "var x = new MutationObserver(function (mutations, observer) {{\n",
              "        var display = window.getComputedStyle(gd).display;\n",
              "        if (!display || display === 'none') {{\n",
              "            console.log([gd, 'removed!']);\n",
              "            Plotly.purge(gd);\n",
              "            observer.disconnect();\n",
              "        }}\n",
              "}});\n",
              "\n",
              "// Listen for the removal of the full notebook cells\n",
              "var notebookContainer = gd.closest('#notebook-container');\n",
              "if (notebookContainer) {{\n",
              "    x.observe(notebookContainer, {childList: true});\n",
              "}}\n",
              "\n",
              "// Listen for the clearing of the current output cell\n",
              "var outputEl = gd.closest('.output');\n",
              "if (outputEl) {{\n",
              "    x.observe(outputEl, {childList: true});\n",
              "}}\n",
              "\n",
              "                        })                };                            </script>        </div>\n",
              "</body>\n",
              "</html>"
            ]
          },
          "metadata": {}
        }
      ]
    },
    {
      "cell_type": "markdown",
      "metadata": {
        "id": "tWo8SmmC9FAk"
      },
      "source": [
        "# Ejercicio 2 - Densidades y varias variables\n",
        "\n",
        "Responder a la pregunta general: **¿Qué herramientas (prácticas y teóricas) son útiles para explorar la base, descubrir patrones, asociaciones?**\n",
        "\n",
        "Para ello considere (igual al ejercicio Anterior):\n",
        "1. Seleccionar las columnas relevantes para analizar.\n",
        "2. Seleccionar las filas relevantes para analizar. Esto incluye la eliminación de valores extremos y erróneos, pero también puede enfocar el análisis en sub-poblaciones. "
      ]
    },
    {
      "cell_type": "markdown",
      "metadata": {
        "id": "5baYhH0XHM3S"
      },
      "source": [
        "## a) Densidad conjunta\n",
        "\n",
        "Que herramientas visuales y modelos puede utilizar para estudiar la distribución y comportamiento de sus datos? \n",
        "\n",
        "Elija tres variables numéricas y 2 variables categóricas. Visualice la base según varias de las variables elegidas. Puede describir de alguna forma el comportamiento de sus datos? Que herramientas utilizaría? Describa\n",
        "\n",
        "\n"
      ]
    },
    {
      "cell_type": "markdown",
      "metadata": {
        "id": "lkuHE2aZGHMO"
      },
      "source": [
        "## b) Asociación\n",
        "\n",
        "* Necesitamos decidir si sacar o no la columna de salario NETO. Para hacer la encuesta más simple.\n",
        "¿Existe una correlación entre el salario NETO y el neto? Que abordaje y medidas usaría\n",
        "\n"
      ]
    },
    {
      "cell_type": "markdown",
      "metadata": {
        "id": "7MZrbRJCm-ae"
      },
      "source": [
        "## c) Densidad condicional \n",
        "\n",
        "Estudie la distribución del salario según el nivel de estudio.\n",
        "\n",
        "Separe la población según el nivel de estudio (elija dos subpoblaciones numerosas) y grafique de manera comparativa ambos histogramas de la variable `'salary_monthly_NETO'`\n",
        "¿Considera que ambas variables son independientes?\n",
        "¿Qué analizaría al respecto?\n",
        "\n",
        "Calcule medidas de centralización y dispersión para cada subpoblación\n",
        "\n",
        "\n",
        "\n",
        "\n"
      ]
    },
    {
      "cell_type": "markdown",
      "metadata": {
        "id": "u8wgYxNiqVpE"
      },
      "source": [
        "## d) Densidad Conjunta condicional\n",
        "\n",
        "Elija dos variables numéricas y una categórica. \n",
        "Estudie la dispersión (scatterplot) de las dos variables discriminando en color por la variable categórica (ayuda: hue en seaborn)\n"
      ]
    }
  ]
}