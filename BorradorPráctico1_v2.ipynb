{
  "cells": [
    {
      "cell_type": "markdown",
      "metadata": {
        "id": "view-in-github",
        "colab_type": "text"
      },
      "source": [
        "<a href=\"https://colab.research.google.com/github/carolina-garay/grupo_32/blob/SebastianOrmaechea-patch-1/BorradorPr%C3%A1ctico1_v2.ipynb\" target=\"_parent\"><img src=\"https://colab.research.google.com/assets/colab-badge.svg\" alt=\"Open In Colab\"/></a>"
      ]
    },
    {
      "cell_type": "markdown",
      "metadata": {
        "id": "LYvAOR2VzHmW"
      },
      "source": [
        "\n",
        "**Diplomatura en Ciencia de Datos, Aprendizaje Automático y sus Aplicaciones**\n",
        "\n",
        "**Edición 2022**\n",
        "\n",
        "---\n",
        "# Trabajo práctico entregable - Parte 1\n",
        "\n",
        "*Grupo 32*\n",
        "\n",
        "Integrantes: \n",
        "- Garay, Carolina del Valle\n",
        "- Ormaechea, Sebastián Gabriel\n",
        "- Ramos, Pablo Nicolás\n",
        "- Reviglio, Valentín\n",
        "- Siner, Magalí\n",
        "             \n",
        "Introducción:\n",
        "\n",
        "En el presente documento se exploran y analizan los resultados de la encuesta de salarios 2020 de sysarmy, a fin de resolver los siguientes interrogantes: \n",
        "\n",
        "- ¿Cuáles son los lenguajes de programación asociados a los mejores salarios?\n",
        "\n",
        "- ¿Que herramientas (prácticas y teóricas) són útiles para explorar la base, descubrir patrones, asociaciones?"
      ]
    },
    {
      "cell_type": "markdown",
      "metadata": {
        "id": "DV2aF9bnv7yy"
      },
      "source": [
        "## Exploración de la base de datos\n",
        "\n",
        "###   Importación de librerías necesarias"
      ]
    },
    {
      "cell_type": "code",
      "execution_count": 4,
      "metadata": {
        "id": "Xwdfo7z20TUK"
      },
      "outputs": [],
      "source": [
        "import io\n",
        "import matplotlib\n",
        "import matplotlib.pyplot as plt\n",
        "import numpy\n",
        "import pandas as pd\n",
        "import seaborn as sns\n",
        "\n",
        "sns.set_context('talk')"
      ]
    },
    {
      "cell_type": "markdown",
      "metadata": {
        "id": "XY2Hl-Ma07Nn"
      },
      "source": [
        "### Lectura del dataset"
      ]
    },
    {
      "cell_type": "code",
      "execution_count": 5,
      "metadata": {
        "id": "Vviv_sqXdR5W",
        "scrolled": false,
        "colab": {
          "base_uri": "https://localhost:8080/"
        },
        "outputId": "090f42b0-9e8f-4647-b1b6-b9fe76254007"
      },
      "outputs": [
        {
          "output_type": "execute_result",
          "data": {
            "text/plain": [
              "(6095, 48)"
            ]
          },
          "metadata": {},
          "execution_count": 5
        }
      ],
      "source": [
        "url = 'https://cs.famaf.unc.edu.ar/~mteruel/datasets/diplodatos/sysarmy_survey_2020_processed.csv'\n",
        "df_orig = pd.read_csv(url)\n",
        "df_orig.shape"
      ]
    },
    {
      "cell_type": "markdown",
      "metadata": {
        "id": "SRXnODk1v7y1"
      },
      "source": [
        "La base de datos cuenta con 6095 respuestas a la encuesta, donde se consultó por 48 variables diferentes.\n",
        "A continuación, se exploran las columnas a fin de detectar las variables relevantes para el análisis."
      ]
    },
    {
      "cell_type": "code",
      "execution_count": 6,
      "metadata": {
        "scrolled": true,
        "colab": {
          "base_uri": "https://localhost:8080/"
        },
        "id": "0NhQKJkPv7y2",
        "outputId": "b74c8db5-3a28-4bee-93b2-9fd07ab10b5f"
      },
      "outputs": [
        {
          "output_type": "execute_result",
          "data": {
            "text/plain": [
              "Index(['profile_gender', 'profile_age', 'work_country', 'work_province',\n",
              "       'profile_years_experience', 'work_years_in_company',\n",
              "       'work_years_in_current_position', 'work_people_in_charge_of',\n",
              "       'profile_studies_level', 'profile_studies_level_state',\n",
              "       'profile_career', 'profile_university',\n",
              "       'profile_specialization_courses', 'profile_open_source_contributions',\n",
              "       'profile_programming_as_hobby', 'work_role', 'tools_platform',\n",
              "       'tools_programming_languages', 'tools_frameworks', 'tools_data_bases',\n",
              "       'tools_qa_testing', 'tools_IDEs', 'tools_work_pc_os',\n",
              "       'tools_cellphone_os', 'work_on_call_duty', 'salary_on_call_duty_charge',\n",
              "       'work_on_call_duty_charge_type', 'work_contract_type',\n",
              "       'salary_monthly_BRUTO', 'salary_monthly_NETO', 'salary_in_usd',\n",
              "       'salary_satisfaction', 'salary_comparison_last_semester',\n",
              "       'salary_has_bonus', 'salary_bonus_tied_to',\n",
              "       'salary_inflation_adjustment_2020',\n",
              "       'salary_percentage_inflation_adjustment_2020',\n",
              "       'salary_month_last_inflation_adjustment',\n",
              "       'work_has_violence_situations', 'profile_sexual_orientation',\n",
              "       'profile_has_disabilities',\n",
              "       'profile_has_disabilities_hiring_difficulties',\n",
              "       'company_employee_number', 'company_main_activity',\n",
              "       'company_recommended', 'company_diversity_policies',\n",
              "       'company_extra_benefits', 'company_best_companies_city'],\n",
              "      dtype='object')"
            ]
          },
          "metadata": {},
          "execution_count": 6
        }
      ],
      "source": [
        "df_orig.columns"
      ]
    },
    {
      "cell_type": "markdown",
      "metadata": {
        "id": "MAs38P5dv7y3"
      },
      "source": [
        "Seleccionamos las siguientes variables como relevantes:\n",
        "\n",
        "Variable RESPUESTA:\n",
        "\n",
        "    - Salario mensual neto :'salary_monthly_NETO'. Tipo: cuantitativa\n",
        "    \n",
        "Variables EXPLICATIVAS:\n",
        "    \n",
        "    - Lenguajes de programación utilizados: 'tools_programming_languages'. Tipo: categórica\n",
        "    \n",
        "    - Nivel de estudios: 'profile_studies_level'. Tipo: categórica\n",
        "    \n",
        "    - Años de experiencia: 'profile_years_experience'. Tipo: cuantitativa\n",
        "    \n",
        "    - Rol de trabajo: 'work_role'. Tipo: categórica\n",
        "    \n",
        "    - Tipo de contrato de trabajo: 'work_contract_type'. Tipo: categórica \n",
        "    \n",
        "*Nota: El tipo de variable se corroboró mediante la inspección de la columna con el método \"df[\"column_name\"].unique()\""
      ]
    },
    {
      "cell_type": "markdown",
      "metadata": {
        "id": "-ZSQYANFHHgV"
      },
      "source": [
        "### Selección de las filas relevantes para los análisis. "
      ]
    },
    {
      "cell_type": "code",
      "execution_count": 7,
      "metadata": {
        "scrolled": false,
        "colab": {
          "base_uri": "https://localhost:8080/"
        },
        "id": "sKrFzMipv7y4",
        "outputId": "833dd979-7d2f-4847-c125-ccd0bf03bae5"
      },
      "outputs": [
        {
          "output_type": "stream",
          "name": "stdout",
          "text": [
            "Salario máximo NETO: 2080000.0 $ARS\n",
            "Mediana del salario NETO: 78000.0 $ARS\n",
            "Moda del salario NETO: 0    80000.0\n",
            "dtype: float64 $ARS\n"
          ]
        }
      ],
      "source": [
        "s_neto= 'salary_monthly_NETO'\n",
        "\n",
        "# Cálculo de medidas de centralización\n",
        "max_salario = df_orig[s_neto].max()\n",
        "med_salario = df_orig[s_neto].median()\n",
        "mod_salario = df_orig[s_neto].mode()\n",
        "\n",
        "print(\"Salario máximo NETO:\",max_salario, \"$ARS\")\n",
        "print(\"Mediana del salario NETO:\",med_salario, \"$ARS\")\n",
        "print(\"Moda del salario NETO:\",mod_salario,\"$ARS\") \n",
        "# Habría que ver cómo quitar el \"0\" que aparece antes de 80000 y que aparezca el \"$ ARS\" luego de 80000"
      ]
    },
    {
      "cell_type": "code",
      "execution_count": 8,
      "metadata": {
        "scrolled": true,
        "colab": {
          "base_uri": "https://localhost:8080/"
        },
        "id": "cPdevo4Ov7y5",
        "outputId": "414c6138-352a-467c-9d62-9f0edab78918"
      },
      "outputs": [
        {
          "output_type": "stream",
          "name": "stdout",
          "text": [
            "Cantidad de personas con sueldos igual a 80mil $ARS (Moda): 149\n",
            "Cantidad de personas con salarios igual a 100mil $ARS: 139\n",
            "Cantidad de personas con sueldos igual a 200mil $ARS: 41\n",
            "Cantidad de personas con sueldos entre 60mil y 70mil $ARS: 648\n",
            "Cantidad de personas con sueldos entre 70mil y 80mil $ARS: 621\n",
            "Cantidad de personas con sueldos entre 80mil y 90mil $ARS: 542\n",
            "Cantidad de personas con sueldos entre 90mil y 1000mil $ARS: 514\n",
            "Cantidad de personas con sueldos entre 100mil y 200mil $ARS: 1341\n",
            "Cantidad de personas con sueldos entre 200mil y 300mil $ARS: 154\n",
            "Cantidad de personas con sueldos entre 300mil y 400mil $ARS: 73\n",
            "Cantidad de personas con sueldos entre 400mil y 500mil $ARS: 41\n",
            "Cantidad de personas con sueldos entre 500mil y 600mil $ARS: 17\n",
            "Cantidad de personas con sueldos entre 600mil y 700mil $ARS: 5\n",
            "Cantidad de personas con sueldos entre 700mil y 800mil $ARS: 6\n",
            "Cantidad de personas con sueldos entre 800mil y 900mil $ARS: 7\n"
          ]
        }
      ],
      "source": [
        "#Cálculo de frecuencias para diferentes salarios y rangos de salario\n",
        "\n",
        "cont1,cont2,cont3=0,0,0\n",
        "cont3_a,cont3_b,cont4,cont4_a,cont4_b,cont5, cont6,cont7,cont8,cont9,cont10,cont11=0,0,0,0,0,0,0,0,0,0,0,0 \n",
        "\n",
        "for i in range(1,len(df_orig)):\n",
        "  if (df_orig.loc[i,s_neto] ==80000):\n",
        "    cont1 = cont1 + 1\n",
        "\n",
        "for i in range(1,len(df_orig)):\n",
        "  if df_orig.loc[i,s_neto] == 100000:\n",
        "    cont2 = cont2 + 1  \n",
        "\n",
        "for i in range(1,len(df_orig)):\n",
        "  if df_orig.loc[i,s_neto] ==200000:\n",
        "    cont3 = cont3 + 1\n",
        "\n",
        "for i in range(1,len(df_orig)):\n",
        "  if ((df_orig.loc[i,s_neto] >=60000) and (df_orig.loc[i,s_neto] <=70000)):\n",
        "    cont3_a= cont3_a + 1\n",
        "\n",
        "for i in range(1,len(df_orig)):\n",
        "  if ((df_orig.loc[i,s_neto] >70000) and (df_orig.loc[i,s_neto] <=80000)):\n",
        "    cont3_b= cont3_b + 1\n",
        "\n",
        "for i in range(1,len(df_orig)):\n",
        "  if ((df_orig.loc[i,s_neto] >80000) and (df_orig.loc[i,s_neto] <=90000)):\n",
        "    cont4= cont4 + 1\n",
        "\n",
        "for i in range(1,len(df_orig)):\n",
        "  if ((df_orig.loc[i,s_neto] >90000) and (df_orig.loc[i,s_neto] <=100000)):\n",
        "    cont4_a= cont4_a + 1   \n",
        "\n",
        "for i in range(1,len(df_orig)):\n",
        "  if ((df_orig.loc[i,s_neto] >100000) and (df_orig.loc[i,s_neto] <=200000)):\n",
        "    cont4_b= cont4_b + 1\n",
        "\n",
        "for i in range(1,len(df_orig)):\n",
        "  if ((df_orig.loc[i,s_neto] >200000) and (df_orig.loc[i,s_neto] <=300000)):\n",
        "    cont5 = cont5 + 1\n",
        "\n",
        "for i in range(1,len(df_orig)):\n",
        "  if ((df_orig.loc[i,s_neto] >300000) and (df_orig.loc[i,s_neto] <=400000)):\n",
        "    cont6 = cont6 + 1\n",
        "\n",
        "for i in range(1,len(df_orig)):\n",
        "   if ((df_orig.loc[i,s_neto] >400000) and (df_orig.loc[i,s_neto] <=500000)):\n",
        "     cont7 = cont7 + 1   \n",
        "for i in range(1,len(df_orig)):\n",
        "  if ((df_orig.loc[i,s_neto] >500000) and (df_orig.loc[i,s_neto] <=600000)):\n",
        "    cont8 = cont8 + 1\n",
        "\n",
        "for i in range(1,len(df_orig)):\n",
        "  if ((df_orig.loc[i,s_neto] >600000) and (df_orig.loc[i,s_neto] <=700000)):\n",
        "    cont9 = cont9 + 1\n",
        "\n",
        "for i in range(1,len(df_orig)):\n",
        "  if ((df_orig.loc[i,s_neto] >700000) and (df_orig.loc[i,s_neto] <=800000)):\n",
        "    cont10 =cont10 +1    \n",
        "\n",
        "for i in range(1,len(df_orig)):\n",
        "  if ((df_orig.loc[i,s_neto] >800000) and (df_orig.loc[i,s_neto] <=900000)):\n",
        "    cont11 = cont11 + 1\n",
        "\n",
        "print(\"Cantidad de personas con sueldos igual a 80mil $ARS (Moda):\",cont1) \n",
        "print(\"Cantidad de personas con salarios igual a 100mil $ARS:\",cont2)\n",
        "print(\"Cantidad de personas con sueldos igual a 200mil $ARS:\", cont3)\n",
        "print(\"Cantidad de personas con sueldos entre 60mil y 70mil $ARS:\", cont3_a)\n",
        "print(\"Cantidad de personas con sueldos entre 70mil y 80mil $ARS:\", cont3_b)\n",
        "print(\"Cantidad de personas con sueldos entre 80mil y 90mil $ARS:\", cont4)\n",
        "print(\"Cantidad de personas con sueldos entre 90mil y 1000mil $ARS:\", cont4_a)\n",
        "print(\"Cantidad de personas con sueldos entre 100mil y 200mil $ARS:\", cont4_b)\n",
        "print(\"Cantidad de personas con sueldos entre 200mil y 300mil $ARS:\", cont5)\n",
        "print(\"Cantidad de personas con sueldos entre 300mil y 400mil $ARS:\", cont6)\n",
        "print(\"Cantidad de personas con sueldos entre 400mil y 500mil $ARS:\", cont7)\n",
        "print(\"Cantidad de personas con sueldos entre 500mil y 600mil $ARS:\", cont8)\n",
        "print(\"Cantidad de personas con sueldos entre 600mil y 700mil $ARS:\", cont9)\n",
        "print(\"Cantidad de personas con sueldos entre 700mil y 800mil $ARS:\", cont10)\n",
        "print(\"Cantidad de personas con sueldos entre 800mil y 900mil $ARS:\",cont11)"
      ]
    },
    {
      "cell_type": "markdown",
      "metadata": {
        "id": "YcNBQJ8vv7y6"
      },
      "source": [
        "Considerando la distribución de salarios, se decidió filtrar la base de datos mediante un valor mínimo y un valor máximo. \n",
        "\n",
        "El valor mínimo se estableció en 54.207 `$`ARS que corresponde a la Canasta Básica Total (CBT) en diciembre de 2020 (Fte:INDEC). Se considera que valores por debajo de la CBT posiblemente correspondan a trabajos part-time o ad-honorem, los cuales no nos interesa que se incorporen al análisis. En el apéndice se desarrolla un breve análisis de los contratos part_time. \n",
        "\n",
        "El valor máximo se estableció en 542.070 `$`ARS, correspondiente a 10 CBT. Este valor parece adecuado considerando que en el análisis previo se observa una fuerte caída en la cantidad de entrevistados a partir de salarios de 500.000 `$`ARS. Cabe comentar que el valor máximo corresponde al cuartil de 75% mas 8 veces el intercuartil. "
      ]
    },
    {
      "cell_type": "code",
      "execution_count": 9,
      "metadata": {
        "scrolled": false,
        "colab": {
          "base_uri": "https://localhost:8080/"
        },
        "id": "b2I9ZiG5v7y7",
        "outputId": "149efe0c-1aa7-42a9-c3d6-e31c3e89dc82"
      },
      "outputs": [
        {
          "output_type": "execute_result",
          "data": {
            "text/plain": [
              "7.998349229640499"
            ]
          },
          "metadata": {},
          "execution_count": 9
        }
      ],
      "source": [
        "q1 = df_orig[s_neto].quantile(0.25)\n",
        "q3 = df_orig[s_neto].quantile(0.75)\n",
        "iqr = q3 - q1\n",
        "n= (542070 - q3)/iqr \n",
        "n"
      ]
    },
    {
      "cell_type": "code",
      "execution_count": 10,
      "metadata": {
        "scrolled": false,
        "colab": {
          "base_uri": "https://localhost:8080/"
        },
        "id": "2lJbPCrbv7y8",
        "outputId": "09db042b-f979-47de-a429-f4bd295887bc"
      },
      "outputs": [
        {
          "output_type": "stream",
          "name": "stdout",
          "text": [
            "(4206, 48)\n",
            "(4159, 48)\n"
          ]
        }
      ],
      "source": [
        "# Filtrado de la base de datos original (df_orig) y generación de la nueva base de datos (df_new)\n",
        "df_new=  df_orig[(df_orig[s_neto] > 54207) & (df_orig[s_neto] < 542070)]\n",
        "print(df_new.shape)\n",
        "\n",
        "# Reviso si hay filas duplicadas\n",
        "df_new.duplicated().any() # Si, hay filas duplicadas, ya que aparece True.\n",
        "\n",
        "# Lo siguiente  me permite observar ambas filas de cada fila duplicada. El total es 89 filas. ¿No debería ser par?\n",
        "df_new[df_new.duplicated(keep=False)]\n",
        "\n",
        "# Lo siguiente me permite observar solo una fila de cada fila duplicada. \n",
        "# Hay 47 filas duplicadas. ¿No debería ser la mitad de 89?\n",
        "df_new[df_new.duplicated()]  \n",
        "\n",
        "# Elimino las filas duplicadas\n",
        "df_final = df_new.drop_duplicates()\n",
        "print(df_final.shape)"
      ]
    },
    {
      "cell_type": "code",
      "execution_count": 11,
      "metadata": {
        "colab": {
          "base_uri": "https://localhost:8080/",
          "height": 738
        },
        "id": "CF9_2JCWv7y8",
        "outputId": "e3a82761-51e9-4528-a996-4bc39d38fc61"
      },
      "outputs": [
        {
          "output_type": "execute_result",
          "data": {
            "text/plain": [
              "Text(0.5, 1.0, 'Base de datos procesada')"
            ]
          },
          "metadata": {},
          "execution_count": 11
        },
        {
          "output_type": "display_data",
          "data": {
            "text/plain": [
              "<Figure size 720x360 with 1 Axes>"
            ],
            "image/png": "[encoded data removed]"
          },
          "metadata": {
            "needs_background": "light"
          }
        },
        {
          "output_type": "display_data",
          "data": {
            "text/plain": [
              "<Figure size 720x360 with 1 Axes>"
            ],
            "image/png": "[encoded data removed]"
          },
          "metadata": {
            "needs_background": "light"
          }
        }
      ],
      "source": [
        "# Comparación gráfica de las bases de datos\n",
        "sns.displot(df_orig[s_neto], aspect=2, bins=100) \n",
        "plt.ticklabel_format(style='plain')\n",
        "plt.ylabel(\"Frecuencia\")\n",
        "plt.xlabel('Salario mensual neto ($ARS)', fontsize=16)\n",
        "plt.title(\"Base de datos original\")\n",
        "\n",
        "sns.displot(df_final[s_neto], aspect=2, bins=100) \n",
        "plt.ticklabel_format(style='plain')\n",
        "plt.ylabel(\"Frecuencia\")\n",
        "plt.xlabel('Salario mensual neto ($ARS)',fontsize=16)\n",
        "plt.title(\"Base de datos procesada\")"
      ]
    },
    {
      "cell_type": "markdown",
      "metadata": {
        "id": "FNjoafqWv7y8"
      },
      "source": [
        "La nueva base de datos conserva una alta proporción de los datos totales de la encuesta (68%), descartando valores extremos mínimos y máximos, y valores duplicados. Se observa que la mayor proporción de los encuestados declara un salario en torno a los 100.000 $ARS."
      ]
    },
    {
      "cell_type": "markdown",
      "metadata": {
        "id": "OoGgzMvuEocM"
      },
      "source": [
        "## Análisis de lenguajes de programación\n",
        "\n",
        "Se realizó un análisis de los salarios en función del lenguaje de programación utilizado por los encuestados. El objetivo fue responder a la pregunta: **¿Cuáles son los lenguajes de programación asociados a los mejores salarios?**"
      ]
    },
    {
      "cell_type": "code",
      "execution_count": 41,
      "metadata": {
        "colab": {
          "base_uri": "https://localhost:8080/"
        },
        "id": "3TouENlVv7y9",
        "outputId": "82ce842d-180c-4899-8457-cbcd4ae2545f"
      },
      "outputs": [
        {
          "output_type": "execute_result",
          "data": {
            "text/plain": [
              "0                             HTML, Javascript, Python\n",
              "1                                              Ninguno\n",
              "2    Bash/Shell, C, CSS, HTML, Java, Javascript, PH...\n",
              "3               CSS, HTML, Javascript, SQL, TypeScript\n",
              "4                                           Javascript\n",
              "Name: tools_programming_languages, dtype: object"
            ]
          },
          "metadata": {},
          "execution_count": 41
        }
      ],
      "source": [
        "# Selecciono las columnas relevantes\n",
        "relevant_columns = ['tools_programming_languages', 'salary_monthly_NETO']\n",
        "\n",
        "# Genero un nuevo dataframe con las columnas relevantes y elimino los valores NaN\n",
        "\n",
        "df2 = df_final[relevant_columns]\n",
        "df2 = df2[df2['salary_monthly_NETO'].notna()]\n",
        "df2 = df2.reset_index(drop=True) # Este método permite indexar desde cero\n",
        "df2.tools_programming_languages[:5]"
      ]
    },
    {
      "cell_type": "markdown",
      "metadata": {
        "id": "l8bYmvMhSroH"
      },
      "source": [
        "**A continuación se separan los lenguajes de programación y se cuenta la frecuencia con la que aparecen dichos lenguajes.**"
      ]
    },
    {
      "cell_type": "code",
      "execution_count": 40,
      "metadata": {
        "colab": {
          "base_uri": "https://localhost:8080/",
          "height": 206
        },
        "id": "PAQ81x3iUP_N",
        "outputId": "7a3c9cbc-6801-4b1d-dfed-ddeb682beccb",
        "scrolled": true
      },
      "outputs": [
        {
          "output_type": "execute_result",
          "data": {
            "text/plain": [
              "  programming_language                        tools_programming_languages  \\\n",
              "0                 html                           HTML, Javascript, Python   \n",
              "0           javascript                           HTML, Javascript, Python   \n",
              "0               python                           HTML, Javascript, Python   \n",
              "1              ninguno                                            Ninguno   \n",
              "2           bash/shell  Bash/Shell, C, CSS, HTML, Java, Javascript, PH...   \n",
              "\n",
              "   salary_monthly_NETO                        cured_programming_languages  \n",
              "0              63000.0                         [html, javascript, python]  \n",
              "0              63000.0                         [html, javascript, python]  \n",
              "0              63000.0                         [html, javascript, python]  \n",
              "1             127000.0                                          [ninguno]  \n",
              "2             102000.0  [bash/shell, c, css, html, java, javascript, p...  "
            ],
            "text/html": [
              "\n",
              "  <div id=\"df-4aecc682-07b6-4290-9597-3e14c8354b4f\">\n",
              "    <div class=\"colab-df-container\">\n",
              "      <div>\n",
              "<style scoped>\n",
              "    .dataframe tbody tr th:only-of-type {\n",
              "        vertical-align: middle;\n",
              "    }\n",
              "\n",
              "    .dataframe tbody tr th {\n",
              "        vertical-align: top;\n",
              "    }\n",
              "\n",
              "    .dataframe thead th {\n",
              "        text-align: right;\n",
              "    }\n",
              "</style>\n",
              "<table border=\"1\" class=\"dataframe\">\n",
              "  <thead>\n",
              "    <tr style=\"text-align: right;\">\n",
              "      <th></th>\n",
              "      <th>programming_language</th>\n",
              "      <th>tools_programming_languages</th>\n",
              "      <th>salary_monthly_NETO</th>\n",
              "      <th>cured_programming_languages</th>\n",
              "    </tr>\n",
              "  </thead>\n",
              "  <tbody>\n",
              "    <tr>\n",
              "      <th>0</th>\n",
              "      <td>html</td>\n",
              "      <td>HTML, Javascript, Python</td>\n",
              "      <td>63000.0</td>\n",
              "      <td>[html, javascript, python]</td>\n",
              "    </tr>\n",
              "    <tr>\n",
              "      <th>0</th>\n",
              "      <td>javascript</td>\n",
              "      <td>HTML, Javascript, Python</td>\n",
              "      <td>63000.0</td>\n",
              "      <td>[html, javascript, python]</td>\n",
              "    </tr>\n",
              "    <tr>\n",
              "      <th>0</th>\n",
              "      <td>python</td>\n",
              "      <td>HTML, Javascript, Python</td>\n",
              "      <td>63000.0</td>\n",
              "      <td>[html, javascript, python]</td>\n",
              "    </tr>\n",
              "    <tr>\n",
              "      <th>1</th>\n",
              "      <td>ninguno</td>\n",
              "      <td>Ninguno</td>\n",
              "      <td>127000.0</td>\n",
              "      <td>[ninguno]</td>\n",
              "    </tr>\n",
              "    <tr>\n",
              "      <th>2</th>\n",
              "      <td>bash/shell</td>\n",
              "      <td>Bash/Shell, C, CSS, HTML, Java, Javascript, PH...</td>\n",
              "      <td>102000.0</td>\n",
              "      <td>[bash/shell, c, css, html, java, javascript, p...</td>\n",
              "    </tr>\n",
              "  </tbody>\n",
              "</table>\n",
              "</div>\n",
              "      <button class=\"colab-df-convert\" onclick=\"convertToInteractive('df-4aecc682-07b6-4290-9597-3e14c8354b4f')\"\n",
              "              title=\"Convert this dataframe to an interactive table.\"\n",
              "              style=\"display:none;\">\n",
              "        \n",
              "  <svg xmlns=\"http://www.w3.org/2000/svg\" height=\"24px\"viewBox=\"0 0 24 24\"\n",
              "       width=\"24px\">\n",
              "    <path d=\"M0 0h24v24H0V0z\" fill=\"none\"/>\n",
              "    <path d=\"M18.56 5.44l.94 2.06.94-2.06 2.06-.94-2.06-.94-.94-2.06-.94 2.06-2.06.94zm-11 1L8.5 8.5l.94-2.06 2.06-.94-2.06-.94L8.5 2.5l-.94 2.06-2.06.94zm10 10l.94 2.06.94-2.06 2.06-.94-2.06-.94-.94-2.06-.94 2.06-2.06.94z\"/><path d=\"M17.41 7.96l-1.37-1.37c-.4-.4-.92-.59-1.43-.59-.52 0-1.04.2-1.43.59L10.3 9.45l-7.72 7.72c-.78.78-.78 2.05 0 2.83L4 21.41c.39.39.9.59 1.41.59.51 0 1.02-.2 1.41-.59l7.78-7.78 2.81-2.81c.8-.78.8-2.07 0-2.86zM5.41 20L4 18.59l7.72-7.72 1.47 1.35L5.41 20z\"/>\n",
              "  </svg>\n",
              "      </button>\n",
              "      \n",
              "  <style>\n",
              "    .colab-df-container {\n",
              "      display:flex;\n",
              "      flex-wrap:wrap;\n",
              "      gap: 12px;\n",
              "    }\n",
              "\n",
              "    .colab-df-convert {\n",
              "      background-color: #E8F0FE;\n",
              "      border: none;\n",
              "      border-radius: 50%;\n",
              "      cursor: pointer;\n",
              "      display: none;\n",
              "      fill: #1967D2;\n",
              "      height: 32px;\n",
              "      padding: 0 0 0 0;\n",
              "      width: 32px;\n",
              "    }\n",
              "\n",
              "    .colab-df-convert:hover {\n",
              "      background-color: #E2EBFA;\n",
              "      box-shadow: 0px 1px 2px rgba(60, 64, 67, 0.3), 0px 1px 3px 1px rgba(60, 64, 67, 0.15);\n",
              "      fill: #174EA6;\n",
              "    }\n",
              "\n",
              "    [theme=dark] .colab-df-convert {\n",
              "      background-color: #3B4455;\n",
              "      fill: #D2E3FC;\n",
              "    }\n",
              "\n",
              "    [theme=dark] .colab-df-convert:hover {\n",
              "      background-color: #434B5C;\n",
              "      box-shadow: 0px 1px 3px 1px rgba(0, 0, 0, 0.15);\n",
              "      filter: drop-shadow(0px 1px 2px rgba(0, 0, 0, 0.3));\n",
              "      fill: #FFFFFF;\n",
              "    }\n",
              "  </style>\n",
              "\n",
              "      <script>\n",
              "        const buttonEl =\n",
              "          document.querySelector('#df-4aecc682-07b6-4290-9597-3e14c8354b4f button.colab-df-convert');\n",
              "        buttonEl.style.display =\n",
              "          google.colab.kernel.accessAllowed ? 'block' : 'none';\n",
              "\n",
              "        async function convertToInteractive(key) {\n",
              "          const element = document.querySelector('#df-4aecc682-07b6-4290-9597-3e14c8354b4f');\n",
              "          const dataTable =\n",
              "            await google.colab.kernel.invokeFunction('convertToInteractive',\n",
              "                                                     [key], {});\n",
              "          if (!dataTable) return;\n",
              "\n",
              "          const docLinkHtml = 'Like what you see? Visit the ' +\n",
              "            '<a target=\"_blank\" href=https://colab.research.google.com/notebooks/data_table.ipynb>data table notebook</a>'\n",
              "            + ' to learn more about interactive tables.';\n",
              "          element.innerHTML = '';\n",
              "          dataTable['output_type'] = 'display_data';\n",
              "          await google.colab.output.renderOutput(dataTable, element);\n",
              "          const docLink = document.createElement('div');\n",
              "          docLink.innerHTML = docLinkHtml;\n",
              "          element.appendChild(docLink);\n",
              "        }\n",
              "      </script>\n",
              "    </div>\n",
              "  </div>\n",
              "  "
            ]
          },
          "metadata": {},
          "execution_count": 40
        }
      ],
      "source": [
        "# Se convierten las cadenas de texto (strings) de la columna lenguajes de programación a una lista de strings.\n",
        "# Se remueve el string 'ninguno de los anteriores', los espacios y las comas.\n",
        "def split_languages(languages_str):\n",
        "  if not isinstance(languages_str, str):\n",
        "    return []\n",
        "  # Remoción de la opción 'other'\n",
        "  languages_str = languages_str.lower()\\\n",
        "    .replace('ninguno de los anteriores', '')\n",
        "  # Se separan los string en una lista de items\n",
        "  # Se remueven los espacios y comas de cada item\n",
        "  return [lang.strip().replace(',', '')\n",
        "          for lang in languages_str.split()]\n",
        "\n",
        "# Se crea una nueva columna con la lista de lenguajes\n",
        "df2.loc[:, 'cured_programming_languages'] = df2.tools_programming_languages\\\n",
        "    .apply(split_languages)\n",
        "if 'cured_programming_languages' not in relevant_columns:\n",
        "    relevant_columns.append('cured_programming_languages') \n",
        "\n",
        "# Se REPLICA cada fila del dataframe por cada lenguaje de programación mencionado en la respuesta \n",
        "df_lang = df2.cured_programming_languages\\\n",
        "    .apply(pd.Series).stack()\\\n",
        "    .reset_index(level=-1, drop=True).to_frame()\\\n",
        "    .join(df2[relevant_columns])\\\n",
        "    .rename(columns={0: 'programming_language'})\n",
        "df_lang[:5]"
      ]
    },
    {
      "cell_type": "markdown",
      "metadata": {
        "id": "qm8NUg-7UEue"
      },
      "source": [
        "**En la columna `programming_language` se encuentra cada lenguaje por separado. Notar que si una respuesta contenía 3 lenguajes, como `\"HTML, Javascript, Python\"`, la fila ha sido replicada 3 veces.**"
      ]
    },
    {
      "cell_type": "code",
      "execution_count": 15,
      "metadata": {
        "colab": {
          "base_uri": "https://localhost:8080/",
          "height": 779
        },
        "id": "lNPb4tTvWCwv",
        "outputId": "b2a0c3f0-4595-45ab-9cd2-bbe202a623d0",
        "scrolled": true
      },
      "outputs": [
        {
          "output_type": "stream",
          "name": "stdout",
          "text": [
            "    Lenguaje de programación  Frecuencia\n",
            "0                 javascript        1711\n",
            "1                        sql        1483\n",
            "2                       html        1216\n",
            "3                     python        1130\n",
            "4                       java        1074\n",
            "..                       ...         ...\n",
            "158                  mongodb           1\n",
            "159                    boomi           1\n",
            "160                     dell           1\n",
            "161                      x++           1\n",
            "162                infobasic           1\n",
            "\n",
            "[163 rows x 2 columns]\n"
          ]
        },
        {
          "output_type": "execute_result",
          "data": {
            "text/plain": [
              "<matplotlib.axes._subplots.AxesSubplot at 0x7f8371b6e350>"
            ]
          },
          "metadata": {},
          "execution_count": 15
        },
        {
          "output_type": "display_data",
          "data": {
            "text/plain": [
              "<Figure size 1440x576 with 1 Axes>"
            ],
            "image/png": "[encoded data removed]"
          },
          "metadata": {
            "needs_background": "light"
          }
        }
      ],
      "source": [
        "language_count = df_lang.programming_language.value_counts()\\\n",
        "    .reset_index()\\\n",
        "    .rename(columns={'index': 'Lenguaje de programación', 'programming_language': 'Frecuencia'})\n",
        "print(language_count)\n",
        "\n",
        "# Consideramos unicamente como lenguajes populares aquellos que tengan más del 1.5% de votos. Mismo criterio que las PASO\n",
        "required_votes = language_count.Frecuencia.sum() * 0.015\n",
        "language_count = language_count[language_count.Frecuencia > required_votes]\n",
        "\n",
        "plt.figure(figsize=(20,8))\n",
        "sns.barplot(x=\"Lenguaje de programación\", y=\"Frecuencia\" , palette=\"pastel\", edgecolor=\".6\", data=language_count)\n"
      ]
    },
    {
      "cell_type": "markdown",
      "metadata": {
        "id": "nThbJ1KeUgDo"
      },
      "source": [
        "### Filtrado de lenguajes relevantes\n",
        "\n",
        "**El siguiente código permite seleccionar sólo las filas donde el valor de la columna `programming_language` se encuentre en la lista `popular_languages`.**"
      ]
    },
    {
      "cell_type": "code",
      "execution_count": 18,
      "metadata": {
        "id": "DEpVptnLZUQU"
      },
      "outputs": [],
      "source": [
        "popular_languages = language_count[\"Lenguaje de programación\"] # Utilizamos la columna de lenguajes del dataframe ya filtrado, para obtener la lista de lenguajes populares \n",
        "filtered_df_lang = df_lang[df_lang.programming_language.isin(popular_languages)]\n",
        "filtered_df_lang = filtered_df_lang[['programming_language', 'salary_monthly_NETO']]"
      ]
    },
    {
      "cell_type": "code",
      "execution_count": 42,
      "metadata": {
        "colab": {
          "base_uri": "https://localhost:8080/"
        },
        "id": "WoieZtRbePY6",
        "outputId": "ac8cdbf3-923c-488f-f0df-2ee0dda849aa",
        "scrolled": false
      },
      "outputs": [
        {
          "output_type": "execute_result",
          "data": {
            "text/plain": [
              "count     10881.0\n",
              "mean     113720.6\n",
              "std       70089.9\n",
              "min       54310.0\n",
              "25%       74655.0\n",
              "50%       93000.0\n",
              "75%      122000.0\n",
              "max      535000.0\n",
              "Name: salary_monthly_NETO, dtype: object"
            ]
          },
          "metadata": {},
          "execution_count": 42
        }
      ],
      "source": [
        "# Calculamos los valores de la base de datos final sobre lenguajes de programación\n",
        "filtered_df_lang[\"salary_monthly_NETO\"].describe().apply(lambda s: '{0:.1f}'.format(s)) \n",
        "# La función apply se usó para especificar el número de decimales"
      ]
    },
    {
      "cell_type": "markdown",
      "metadata": {
        "id": "zc1-KsZGv7y_"
      },
      "source": [
        "**Luego del filtrado, buscamos responder que tan probable es tener un sueldo mayor a la media, dada la elección de un determinado lenguaje.**"
      ]
    },
    {
      "cell_type": "code",
      "execution_count": 20,
      "metadata": {
        "scrolled": true,
        "colab": {
          "base_uri": "https://localhost:8080/"
        },
        "id": "6BjGvrl4v7y_",
        "outputId": "c9fa2e0c-372e-47a3-987a-e7cad5a52d49"
      },
      "outputs": [
        {
          "output_type": "stream",
          "name": "stdout",
          "text": [
            "A continuación se lista el porcentaje de personas que ganan más de: 113720.6 $ARS (media)\n",
            "El 30.8% de las personas que programan en javascript ganan más de la media\n",
            "El 27.2% de las personas que programan en sql ganan más de la media\n",
            "El 27.1% de las personas que programan en html ganan más de la media\n",
            "El 34.3% de las personas que programan en python ganan más de la media\n",
            "El 33.5% de las personas que programan en java ganan más de la media\n",
            "El 26.3% de las personas que programan en css ganan más de la media\n",
            "El 33.9% de las personas que programan en bash/shell ganan más de la media\n",
            "El 32.0% de las personas que programan en php ganan más de la media\n",
            "El 28.3% de las personas que programan en .net ganan más de la media\n",
            "El 34.2% de las personas que programan en typescript ganan más de la media\n",
            "El 27.0% de las personas que programan en c# ganan más de la media\n",
            "El 49.4% de las personas que programan en go ganan más de la media\n",
            "El 23.4% de las personas que programan en ninguno ganan más de la media\n"
          ]
        }
      ],
      "source": [
        "salary_mean = filtered_df_lang.salary_monthly_NETO.mean()\n",
        "print(\"A continuación se lista el porcentaje de personas que ganan más de: {} $ARS (media)\".format('%.1f'%salary_mean))\n",
        "for language in popular_languages:\n",
        "    specific_lang_df = filtered_df_lang[filtered_df_lang.programming_language == language]\n",
        "    specific_lang_and_higher_mean = specific_lang_df[specific_lang_df.salary_monthly_NETO > salary_mean]\n",
        "    print(\"El {}% de las personas que programan en {} ganan más de la media\".format('%.1f'% ((len(specific_lang_and_higher_mean)/len(specific_lang_df))*100), language))\n"
      ]
    },
    {
      "cell_type": "code",
      "execution_count": 21,
      "metadata": {
        "scrolled": true,
        "colab": {
          "base_uri": "https://localhost:8080/",
          "height": 753
        },
        "id": "mO1vyg8Dv7y_",
        "outputId": "8a09655f-7fe1-46fc-d022-0126edf6f647"
      },
      "outputs": [
        {
          "output_type": "execute_result",
          "data": {
            "text/plain": [
              "Text(0, 0.5, 'Lenguaje de programación')"
            ]
          },
          "metadata": {},
          "execution_count": 21
        },
        {
          "output_type": "display_data",
          "data": {
            "text/plain": [
              "<Figure size 936x864 with 1 Axes>"
            ],
            "image/png": "[encoded data removed]"
          },
          "metadata": {
            "needs_background": "light"
          }
        }
      ],
      "source": [
        "# Graficamos la distribución de los salarios para lenguaje de programación\n",
        "plt.figure(figsize=(13, 12))\n",
        "sns.boxplot(data=filtered_df_lang, x=s_neto, y='programming_language',\n",
        "                color='magenta')\n",
        "plt.ticklabel_format(style='plain', axis='x')\n",
        "plt.xlabel(\"Salario mensual neto  ($ARS)\")\n",
        "plt.ylabel(\"Lenguaje de programación\")"
      ]
    },
    {
      "cell_type": "markdown",
      "source": [
        "Describir la gráfica precedente de boxplot!!!"
      ],
      "metadata": {
        "id": "FpOdm5LkD-lc"
      }
    },
    {
      "cell_type": "markdown",
      "metadata": {
        "id": "7wKaGkf6v7zA"
      },
      "source": [
        "### Conclusiones sobre el análisis de los lenguajes de programación\n",
        "Los análisis precedentes revelan que aquellos que utilizan el lenguaje de programación \"Go\", son los que tienen mayor probabilidad (49,4%) de ganar un salario por encima de la media de 113.720 $ARS. En un lejano segundo (34,3%) y tercer (34,2%) puesto se encuentran aquellos que programan con Python y Tapescript respectivamente. \n",
        "Por otra parte, es interesante observar en la gráfica que, independientemente del lenguaje de programación utilizado, una importante cantidad de programadores logran pactar salarios muy por encima de la media (outliers). "
      ]
    },
    {
      "cell_type": "markdown",
      "source": [
        ""
      ],
      "metadata": {
        "id": "AgXs6OIxD-Hi"
      }
    },
    {
      "cell_type": "markdown",
      "metadata": {
        "id": "Ufqs-wVxv7zA"
      },
      "source": [
        "##  Análisis de densidad conjunta, asociación, densidad condicional y densidad conjunta condicional.\n",
        "\n",
        "Para estos análisis se contemplan el resto de las variables explicativas: \n",
        "\n",
        "    - Nivel de estudios: 'profile_studies_level'. Tipo: categórica\n",
        "    \n",
        "    - Años de experiencia: 'profile_years_experience'. Tipo: cuantitativa\n",
        "    \n",
        "    - Rol de trabajo: 'work_role'. Tipo: categórica"
      ]
    },
    {
      "cell_type": "markdown",
      "metadata": {
        "id": "5baYhH0XHM3S"
      },
      "source": [
        "## a) Densidad conjunta\n",
        "\n",
        "La densidad conjunta es la distribución de probabilidad que forman dos o más variables aleatorias cuando sus realizaciones se producen simultáneamente. Dicho de otro modo, la densidad o probabilidad conjunta es una medida estadística que indica la probabilidad de que dos sucesos ocurran al mismo tiempo. \n",
        "\n",
        "Para el caso de nuestra base de datos, analizaremos la probabilidad conjunta del género y el nivel de estudio mediante una tabla de contingencia. Responderemos a la pregunta ¿Qué probabilidad hay de encontrar en la base una mujer con estudios de posgrado? "
      ]
    },
    {
      "cell_type": "code",
      "execution_count": 22,
      "metadata": {
        "scrolled": true,
        "colab": {
          "base_uri": "https://localhost:8080/"
        },
        "id": "R_XKlNr-v7zA",
        "outputId": "295ea60b-ded1-48db-a42a-1523425eb791"
      },
      "outputs": [
        {
          "output_type": "execute_result",
          "data": {
            "text/plain": [
              "Universitario    2880\n",
              "Terciario         719\n",
              "Posgrado          275\n",
              "Secundario        262\n",
              "Doctorado          18\n",
              "Posdoctorado        3\n",
              "Primario            2\n",
              "Name: profile_studies_level, dtype: int64"
            ]
          },
          "metadata": {},
          "execution_count": 22
        }
      ],
      "source": [
        "df_final.profile_studies_level.value_counts()"
      ]
    },
    {
      "cell_type": "code",
      "execution_count": 24,
      "metadata": {
        "scrolled": true,
        "colab": {
          "base_uri": "https://localhost:8080/"
        },
        "id": "yZLhAKPxv7zA",
        "outputId": "160c50fb-99a5-406a-8fea-1676c99e21c8"
      },
      "outputs": [
        {
          "output_type": "stream",
          "name": "stdout",
          "text": [
            "                                                                                 \n",
            "*************************CÁLCULO DE PROBABILIDADES CONJUNTAS*************************************\n",
            "profile_gender         Hombre  Mujer  Otros  subtotal\n",
            "profile_studies_level                                \n",
            "Doctorado                  13      4      1        18\n",
            "Posdoctorado                3      0      0         3\n",
            "Posgrado                  211     63      1       275\n",
            "Primario                    2      0      0         2\n",
            "Secundario                246     15      1       262\n",
            "Terciario                 631     85      3       719\n",
            "Universitario            2476    393     11      2880\n",
            "subtotal                 3582    560     17      4159\n",
            "                                                                                 \n",
            "                                                                                   \n"
          ]
        }
      ],
      "source": [
        "## Tablas de contingencia\n",
        "print(\"                                                                                 \")\n",
        "print(\"*************************CÁLCULO DE PROBABILIDADES CONJUNTAS*************************************\")\n",
        "print(pd.crosstab(df_final.profile_studies_level, df_final.profile_gender,margins = True, margins_name= \"subtotal\"))\n",
        "print(\"                                                                                 \")\n",
        "print(\"                                                                                   \")"
      ]
    },
    {
      "cell_type": "code",
      "execution_count": 25,
      "metadata": {
        "scrolled": true,
        "colab": {
          "base_uri": "https://localhost:8080/"
        },
        "id": "puEBjit9v7zA",
        "outputId": "b351df0b-505c-41a0-f07d-c1d175f50c6a"
      },
      "outputs": [
        {
          "output_type": "stream",
          "name": "stdout",
          "text": [
            "Probabilidad de que sea mujer y tenga estudios de posgrado: 1.5  %\n"
          ]
        }
      ],
      "source": [
        "total_personas = len(df_final.profile_gender)\n",
        "print(\"Probabilidad de que sea mujer y tenga estudios de posgrado:\",round(63/total_personas,3)*100,\" %\")"
      ]
    },
    {
      "cell_type": "code",
      "execution_count": 27,
      "metadata": {
        "colab": {
          "base_uri": "https://localhost:8080/",
          "height": 449
        },
        "id": "KtN-Rhe-v7zB",
        "outputId": "5ba947c7-e366-44cc-bb4f-9a548f5ed269"
      },
      "outputs": [
        {
          "output_type": "display_data",
          "data": {
            "text/plain": [
              "<Figure size 576x360 with 2 Axes>"
            ],
            "image/png": "[encoded data removed]"
          },
          "metadata": {
            "needs_background": "light"
          }
        }
      ],
      "source": [
        "sorted_studies_levels = ['Primario', 'Secundario', 'Terciario', 'Universitario',\n",
        "                         'Posgrado', 'Doctorado', 'Posdoctorado']\n",
        "fig = plt.figure(figsize=(8,5))\n",
        "exp = pd.crosstab(df_final.profile_gender,\n",
        "                  df_final.profile_studies_level)[sorted_studies_levels]\n",
        "sns.heatmap(exp, annot=True, fmt='g', cmap='cool')\n",
        "plt.xticks(rotation=90)\n",
        "plt.xlabel(\"Nivel de estudios\")\n",
        "plt.yticks(rotation=0)\n",
        "plt.ylabel(\"Género\")\n",
        "sns.despine()"
      ]
    },
    {
      "cell_type": "markdown",
      "metadata": {
        "id": "lkuHE2aZGHMO"
      },
      "source": [
        "## b) Asociación\n",
        "\n",
        "La asociación es una medida que determina el grado de vinculación entre dos variables. Para variables cuantitativas, las medidas de asociación más utilizadas son la covarianza y el coeficiente de correlación de Pearson.\n",
        "\n",
        "En el ejercicio original se plantea la comparación de salario bruto y neto. Tal vez podamos utilizar el análisis que realizó Pablo\n"
      ]
    },
    {
      "cell_type": "markdown",
      "metadata": {
        "id": "7MZrbRJCm-ae"
      },
      "source": [
        "## c) Densidad condicional \n",
        "\n",
        "La diferencia entre probabilidad conjunta y probabilidad condicional es que en la probabilidad conjunta, los dos eventos tienen que ocurrir al mismo tiempo, en cambio, la probabilidad condicional se refiere a la probabilidad de que suceda un evento si otro evento ya se ha cumplido.\n",
        "\n",
        "Para el caso de nuestra base de datos, analizaremos la distribución del salario según el nivel de estudio. La pregunta que densidad condicional que buscaremos responder será ¿Cuál es la probabilidad de ganar un salario mayor a la media, dado que el nivel de estudios alcanzado es de secundario?"
      ]
    },
    {
      "cell_type": "code",
      "execution_count": 72,
      "metadata": {
        "scrolled": true,
        "colab": {
          "base_uri": "https://localhost:8080/"
        },
        "id": "tZ8gbqoSv7zB",
        "outputId": "57ea6c44-0dcc-4119-cca2-5c84423250b1"
      },
      "outputs": [
        {
          "output_type": "stream",
          "name": "stdout",
          "text": [
            "La probabilidad de encontrar un programador que gane un sueldo mayor a la media, dado que alcanzó el nivel secundario, es de  25.954198473282442  %\n"
          ]
        }
      ],
      "source": [
        "a = df_final[df_final[\"profile_studies_level\"] == \"Secundario\"][s_neto]\n",
        "b = a[a > df_final[s_neto].mean()]\n",
        "print(\"La probabilidad de encontrar un programador que gane un sueldo mayor a la media, dado que alcanzó el nivel secundario, es de \", \n",
        "      str(len(b)/len(df_final[df_final[\"profile_studies_level\"] == \"Secundario\"])*100), \" %\")"
      ]
    },
    {
      "cell_type": "markdown",
      "source": [
        "Dicho de otra manera, entre los programadores que alcanzaron solo el nivel secundario, solo el 26 % recibe un salario mayor a la media."
      ],
      "metadata": {
        "id": "7YhITT_Kcvf5"
      }
    },
    {
      "cell_type": "code",
      "execution_count": 31,
      "metadata": {
        "scrolled": true,
        "colab": {
          "base_uri": "https://localhost:8080/",
          "height": 417
        },
        "id": "4hWctFY2v7zC",
        "outputId": "7b21f05e-9c2b-4637-c695-6ce4df478dcd"
      },
      "outputs": [
        {
          "output_type": "execute_result",
          "data": {
            "text/plain": [
              "([0, 1, 2, 3, 4, 5, 6], <a list of 7 Text major ticklabel objects>)"
            ]
          },
          "metadata": {},
          "execution_count": 31
        },
        {
          "output_type": "display_data",
          "data": {
            "text/plain": [
              "<Figure size 432x288 with 1 Axes>"
            ],
            "image/png": "[encoded data removed]"
          },
          "metadata": {
            "needs_background": "light"
          }
        }
      ],
      "source": [
        "# Graficamos un histograma para identificar las subppoblaciones más numerosas\n",
        "sns.histplot(x=df_final[\"profile_studies_level\"])\n",
        "plt.xticks(rotation=90)"
      ]
    },
    {
      "cell_type": "code",
      "execution_count": 32,
      "metadata": {
        "id": "YK2kLfbwv7zC"
      },
      "outputs": [],
      "source": [
        "# Graficamos "
      ]
    },
    {
      "cell_type": "markdown",
      "metadata": {
        "id": "u8wgYxNiqVpE"
      },
      "source": [
        "## d) Densidad Conjunta condicional\n",
        "\n",
        "La densidad conjunta condicional, permite calcular la probabilidad conjunta de dos eventos, dado que ya ha sucedido un tercer evento. \n",
        "\n",
        "Para el caso de nuestra base de datos, analizaremos...\n",
        "\n",
        "Elija dos variables numéricas y una categórica. \n",
        "Estudie la dispersión (scatterplot) de las dos variables discriminando en color por la variable categórica (ayuda: hue en seaborn)\n"
      ]
    },
    {
      "cell_type": "markdown",
      "metadata": {
        "id": "urR5kvZwv7zD"
      },
      "source": [
        "# Bibliografía:\n",
        "\n",
        "- Resultados de la Encuesta de sueldos 2020. Link: https://sysarmy.com/blog/posts/resultados-de-la-encuesta-de-sueldos-2020-2/\n",
        "\n",
        "- Canasta Básica Total Diciembre 2020. Fuente: INDEC (https://www.indec.gob.ar/ftp/cuadros/sociedad/serie_cba_cbt.xls)"
      ]
    },
    {
      "cell_type": "markdown",
      "metadata": {
        "id": "z7wKm0bzv7zD"
      },
      "source": [
        "# Apéndice:"
      ]
    },
    {
      "cell_type": "markdown",
      "metadata": {
        "id": "LMCzVpf4v7zD"
      },
      "source": [
        "Análisis de contratos Part time:\n",
        "    Dado que en una pregunta consideramos el concepto \"Part time\" como parte de la respuesta, analizamos la variable Tipo de contrato (\"work_contract_type\") que contempla \"Part time\" como una de las opciones de respuesta."
      ]
    },
    {
      "cell_type": "code",
      "execution_count": 33,
      "metadata": {
        "scrolled": true,
        "colab": {
          "base_uri": "https://localhost:8080/",
          "height": 509
        },
        "id": "yZJ014UVv7zD",
        "outputId": "0145d722-f01c-4238-cba2-418932e35c08"
      },
      "outputs": [
        {
          "output_type": "stream",
          "name": "stdout",
          "text": [
            "['Full-Time' 'Freelance' 'Part-Time'\n",
            " 'Tercerizado (trabajo a través de consultora o agencia)'\n",
            " 'Remoto (empresa de otro país)']\n"
          ]
        },
        {
          "output_type": "execute_result",
          "data": {
            "text/plain": [
              "count       302.000000\n",
              "mean      45053.783728\n",
              "std       53500.762773\n",
              "min           9.000000\n",
              "25%       25000.000000\n",
              "50%       37648.500000\n",
              "75%       53825.000000\n",
              "max      836400.000000\n",
              "Name: salary_monthly_NETO, dtype: float64"
            ]
          },
          "metadata": {},
          "execution_count": 33
        },
        {
          "output_type": "display_data",
          "data": {
            "text/plain": [
              "<Figure size 432x288 with 1 Axes>"
            ],
            "image/png": "[encoded data removed]"
          },
          "metadata": {
            "needs_background": "light"
          }
        }
      ],
      "source": [
        "print(df_orig['work_contract_type'].unique())\n",
        "part_time = df_orig[df_orig['work_contract_type'] == 'Part-Time']\n",
        "plt.hist(part_time[s_neto], bins=15, range =[0,85000])\n",
        "plt.xlabel(\"Salario mensual neto ($ARS)\")\n",
        "plt.ylabel(\"Frecuencia\")\n",
        "part_time[s_neto].describe()\n"
      ]
    },
    {
      "cell_type": "markdown",
      "metadata": {
        "id": "mO1kaFdkv7zD"
      },
      "source": [
        "Como se esperaba, los programadores Part time, son parte de los trabajadores que cobran salarios por debajo de la media. No obstante, consideramos que no es una fuente de información generalizable a la población, ya que la opción Part time se encuentra comprendida en una pregunta donde las opciones no son comparables en términos de tiempo de dedicación al trabajo. Por ejemplo, Trabajo remoto no es comparable con Part time. Además, los trabajadores Part time representan un porción muy pequeña de los encuestados (302 de 6095). Por ello, consideramos como recomendación, la reformulación de esta pregunta para futuras encuestas, a fin de permitir la comparación entre trabajadores Full time y Part time."
      ]
    }
  ],
  "metadata": {
    "colab": {
      "collapsed_sections": [],
      "name": "BorradorPráctico1.ipynb",
      "provenance": [],
      "include_colab_link": true
    },
    "kernelspec": {
      "display_name": "Python 3 (ipykernel)",
      "language": "python",
      "name": "python3"
    },
    "language_info": {
      "codemirror_mode": {
        "name": "ipython",
        "version": 3
      },
      "file_extension": ".py",
      "mimetype": "text/x-python",
      "name": "python",
      "nbconvert_exporter": "python",
      "pygments_lexer": "ipython3",
      "version": "3.9.7"
    }
  },
  "nbformat": 4,
  "nbformat_minor": 0
}